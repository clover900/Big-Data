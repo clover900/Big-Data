{
 "cells": [
  {
   "cell_type": "code",
   "execution_count": 1,
   "metadata": {
    "_cell_guid": "b1076dfc-b9ad-4769-8c92-a6c4dae69d19",
    "_uuid": "8f2839f25d086af736a60e9eeb907d3b93b6e0e5"
   },
   "outputs": [
    {
     "name": "stdout",
     "output_type": "stream",
     "text": [
      "/kaggle/input/porto-seguro-safe-driver-prediction/train.csv\n",
      "/kaggle/input/porto-seguro-safe-driver-prediction/test.csv\n",
      "/kaggle/input/porto-seguro-safe-driver-prediction/sample_submission.csv\n"
     ]
    }
   ],
   "source": [
    "# This Python 3 environment comes with many helpful analytics libraries installed\n",
    "# It is defined by the kaggle/python docker image: https://github.com/kaggle/docker-python\n",
    "# For example, here's several helpful packages to load in \n",
    "\n",
    "import numpy as np # linear algebra\n",
    "import pandas as pd # data processing, CSV file I/O (e.g. pd.read_csv)\n",
    "\n",
    "# Input data files are available in the \"../input/\" directory.\n",
    "# For example, running this (by clicking run or pressing Shift+Enter) will list all files under the input directory\n",
    "\n",
    "import os\n",
    "for dirname, _, filenames in os.walk('/kaggle/input'):\n",
    "    for filename in filenames:\n",
    "        print(os.path.join(dirname, filename))\n",
    "\n",
    "# Any results you write to the current directory are saved as output."
   ]
  },
  {
   "cell_type": "code",
   "execution_count": 2,
   "metadata": {
    "_cell_guid": "79c7e3d0-c299-4dcb-8224-4455121ee9b0",
    "_uuid": "d629ff2d2480ee46fbb7e2d37f6b5fab8052498a"
   },
   "outputs": [
    {
     "data": {
      "text/html": [
       "        <script type=\"text/javascript\">\n",
       "        window.PlotlyConfig = {MathJaxConfig: 'local'};\n",
       "        if (window.MathJax) {MathJax.Hub.Config({SVG: {font: \"STIX-Web\"}});}\n",
       "        if (typeof require !== 'undefined') {\n",
       "        require.undef(\"plotly\");\n",
       "        requirejs.config({\n",
       "            paths: {\n",
       "                'plotly': ['https://cdn.plot.ly/plotly-latest.min']\n",
       "            }\n",
       "        });\n",
       "        require(['plotly'], function(Plotly) {\n",
       "            window._Plotly = Plotly;\n",
       "        });\n",
       "        }\n",
       "        </script>\n",
       "        "
      ]
     },
     "metadata": {},
     "output_type": "display_data"
    }
   ],
   "source": [
    "import pandas as pd\n",
    "import numpy as np\n",
    "import seaborn as sns\n",
    "import matplotlib.pyplot as plt\n",
    "%matplotlib inline\n",
    "import plotly.offline as py\n",
    "py.init_notebook_mode(connected=True)\n",
    "import plotly.graph_objs as go\n",
    "import plotly.tools as tls\n",
    "import warnings\n",
    "from collections import Counter\n",
    "from sklearn.feature_selection import mutual_info_classif\n",
    "warnings.filterwarnings('ignore')"
   ]
  },
  {
   "cell_type": "code",
   "execution_count": 3,
   "metadata": {},
   "outputs": [
    {
     "data": {
      "text/html": [
       "<div>\n",
       "<style scoped>\n",
       "    .dataframe tbody tr th:only-of-type {\n",
       "        vertical-align: middle;\n",
       "    }\n",
       "\n",
       "    .dataframe tbody tr th {\n",
       "        vertical-align: top;\n",
       "    }\n",
       "\n",
       "    .dataframe thead th {\n",
       "        text-align: right;\n",
       "    }\n",
       "</style>\n",
       "<table border=\"1\" class=\"dataframe\">\n",
       "  <thead>\n",
       "    <tr style=\"text-align: right;\">\n",
       "      <th></th>\n",
       "      <th>id</th>\n",
       "      <th>target</th>\n",
       "      <th>ps_ind_01</th>\n",
       "      <th>ps_ind_02_cat</th>\n",
       "      <th>ps_ind_03</th>\n",
       "      <th>ps_ind_04_cat</th>\n",
       "      <th>ps_ind_05_cat</th>\n",
       "      <th>ps_ind_06_bin</th>\n",
       "      <th>ps_ind_07_bin</th>\n",
       "      <th>ps_ind_08_bin</th>\n",
       "      <th>...</th>\n",
       "      <th>ps_calc_11</th>\n",
       "      <th>ps_calc_12</th>\n",
       "      <th>ps_calc_13</th>\n",
       "      <th>ps_calc_14</th>\n",
       "      <th>ps_calc_15_bin</th>\n",
       "      <th>ps_calc_16_bin</th>\n",
       "      <th>ps_calc_17_bin</th>\n",
       "      <th>ps_calc_18_bin</th>\n",
       "      <th>ps_calc_19_bin</th>\n",
       "      <th>ps_calc_20_bin</th>\n",
       "    </tr>\n",
       "  </thead>\n",
       "  <tbody>\n",
       "    <tr>\n",
       "      <th>0</th>\n",
       "      <td>7</td>\n",
       "      <td>0</td>\n",
       "      <td>2</td>\n",
       "      <td>2</td>\n",
       "      <td>5</td>\n",
       "      <td>1</td>\n",
       "      <td>0</td>\n",
       "      <td>0</td>\n",
       "      <td>1</td>\n",
       "      <td>0</td>\n",
       "      <td>...</td>\n",
       "      <td>9</td>\n",
       "      <td>1</td>\n",
       "      <td>5</td>\n",
       "      <td>8</td>\n",
       "      <td>0</td>\n",
       "      <td>1</td>\n",
       "      <td>1</td>\n",
       "      <td>0</td>\n",
       "      <td>0</td>\n",
       "      <td>1</td>\n",
       "    </tr>\n",
       "    <tr>\n",
       "      <th>1</th>\n",
       "      <td>9</td>\n",
       "      <td>0</td>\n",
       "      <td>1</td>\n",
       "      <td>1</td>\n",
       "      <td>7</td>\n",
       "      <td>0</td>\n",
       "      <td>0</td>\n",
       "      <td>0</td>\n",
       "      <td>0</td>\n",
       "      <td>1</td>\n",
       "      <td>...</td>\n",
       "      <td>3</td>\n",
       "      <td>1</td>\n",
       "      <td>1</td>\n",
       "      <td>9</td>\n",
       "      <td>0</td>\n",
       "      <td>1</td>\n",
       "      <td>1</td>\n",
       "      <td>0</td>\n",
       "      <td>1</td>\n",
       "      <td>0</td>\n",
       "    </tr>\n",
       "    <tr>\n",
       "      <th>2</th>\n",
       "      <td>13</td>\n",
       "      <td>0</td>\n",
       "      <td>5</td>\n",
       "      <td>4</td>\n",
       "      <td>9</td>\n",
       "      <td>1</td>\n",
       "      <td>0</td>\n",
       "      <td>0</td>\n",
       "      <td>0</td>\n",
       "      <td>1</td>\n",
       "      <td>...</td>\n",
       "      <td>4</td>\n",
       "      <td>2</td>\n",
       "      <td>7</td>\n",
       "      <td>7</td>\n",
       "      <td>0</td>\n",
       "      <td>1</td>\n",
       "      <td>1</td>\n",
       "      <td>0</td>\n",
       "      <td>1</td>\n",
       "      <td>0</td>\n",
       "    </tr>\n",
       "    <tr>\n",
       "      <th>3</th>\n",
       "      <td>16</td>\n",
       "      <td>0</td>\n",
       "      <td>0</td>\n",
       "      <td>1</td>\n",
       "      <td>2</td>\n",
       "      <td>0</td>\n",
       "      <td>0</td>\n",
       "      <td>1</td>\n",
       "      <td>0</td>\n",
       "      <td>0</td>\n",
       "      <td>...</td>\n",
       "      <td>2</td>\n",
       "      <td>2</td>\n",
       "      <td>4</td>\n",
       "      <td>9</td>\n",
       "      <td>0</td>\n",
       "      <td>0</td>\n",
       "      <td>0</td>\n",
       "      <td>0</td>\n",
       "      <td>0</td>\n",
       "      <td>0</td>\n",
       "    </tr>\n",
       "    <tr>\n",
       "      <th>4</th>\n",
       "      <td>17</td>\n",
       "      <td>0</td>\n",
       "      <td>0</td>\n",
       "      <td>2</td>\n",
       "      <td>0</td>\n",
       "      <td>1</td>\n",
       "      <td>0</td>\n",
       "      <td>1</td>\n",
       "      <td>0</td>\n",
       "      <td>0</td>\n",
       "      <td>...</td>\n",
       "      <td>3</td>\n",
       "      <td>1</td>\n",
       "      <td>1</td>\n",
       "      <td>3</td>\n",
       "      <td>0</td>\n",
       "      <td>0</td>\n",
       "      <td>0</td>\n",
       "      <td>1</td>\n",
       "      <td>1</td>\n",
       "      <td>0</td>\n",
       "    </tr>\n",
       "  </tbody>\n",
       "</table>\n",
       "<p>5 rows × 59 columns</p>\n",
       "</div>"
      ],
      "text/plain": [
       "   id  target  ps_ind_01  ps_ind_02_cat  ps_ind_03  ps_ind_04_cat  \\\n",
       "0   7       0          2              2          5              1   \n",
       "1   9       0          1              1          7              0   \n",
       "2  13       0          5              4          9              1   \n",
       "3  16       0          0              1          2              0   \n",
       "4  17       0          0              2          0              1   \n",
       "\n",
       "   ps_ind_05_cat  ps_ind_06_bin  ps_ind_07_bin  ps_ind_08_bin  ...  \\\n",
       "0              0              0              1              0  ...   \n",
       "1              0              0              0              1  ...   \n",
       "2              0              0              0              1  ...   \n",
       "3              0              1              0              0  ...   \n",
       "4              0              1              0              0  ...   \n",
       "\n",
       "   ps_calc_11  ps_calc_12  ps_calc_13  ps_calc_14  ps_calc_15_bin  \\\n",
       "0           9           1           5           8               0   \n",
       "1           3           1           1           9               0   \n",
       "2           4           2           7           7               0   \n",
       "3           2           2           4           9               0   \n",
       "4           3           1           1           3               0   \n",
       "\n",
       "   ps_calc_16_bin  ps_calc_17_bin  ps_calc_18_bin  ps_calc_19_bin  \\\n",
       "0               1               1               0               0   \n",
       "1               1               1               0               1   \n",
       "2               1               1               0               1   \n",
       "3               0               0               0               0   \n",
       "4               0               0               1               1   \n",
       "\n",
       "   ps_calc_20_bin  \n",
       "0               1  \n",
       "1               0  \n",
       "2               0  \n",
       "3               0  \n",
       "4               0  \n",
       "\n",
       "[5 rows x 59 columns]"
      ]
     },
     "execution_count": 3,
     "metadata": {},
     "output_type": "execute_result"
    }
   ],
   "source": [
    "train = pd.read_csv(\"/kaggle/input/porto-seguro-safe-driver-prediction/train.csv\")\n",
    "train.head()"
   ]
  },
  {
   "cell_type": "code",
   "execution_count": 4,
   "metadata": {},
   "outputs": [
    {
     "name": "stdout",
     "output_type": "stream",
     "text": [
      "The train dataset contains 595212 rows and 59 columns\n"
     ]
    }
   ],
   "source": [
    "rows = train.shape[0]\n",
    "columns = train.shape[1]\n",
    "print(\"The train dataset contains {0} rows and {1} columns\".format(rows, columns))"
   ]
  },
  {
   "cell_type": "code",
   "execution_count": 5,
   "metadata": {},
   "outputs": [
    {
     "data": {
      "text/plain": [
       "False"
      ]
     },
     "execution_count": 5,
     "metadata": {},
     "output_type": "execute_result"
    }
   ],
   "source": [
    "train.isnull().any().any()"
   ]
  },
  {
   "cell_type": "code",
   "execution_count": 6,
   "metadata": {},
   "outputs": [],
   "source": [
    "train_copy = train\n",
    "train_copy = train_copy.replace(-1, np.NaN)"
   ]
  },
  {
   "cell_type": "code",
   "execution_count": 7,
   "metadata": {},
   "outputs": [
    {
     "data": {
      "text/plain": [
       "<matplotlib.axes._subplots.AxesSubplot at 0x7f6bd9946320>"
      ]
     },
     "execution_count": 7,
     "metadata": {},
     "output_type": "execute_result"
    },
    {
     "data": {
      "image/png": "[encoded data removed]",
      "text/plain": [
       "<Figure size 1440x1008 with 2 Axes>"
      ]
     },
     "metadata": {
      "needs_background": "light"
     },
     "output_type": "display_data"
    }
   ],
   "source": [
    "import missingno as msno\n",
    "\n",
    "msno.matrix(df=train_copy.iloc[:,2:39], figsize=(20, 14), color=(0.42, 0.1, 0.05))"
   ]
  },
  {
   "cell_type": "code",
   "execution_count": 8,
   "metadata": {},
   "outputs": [
    {
     "data": {
      "application/vnd.plotly.v1+json": {
       "config": {
        "linkText": "Export to plot.ly",
        "plotlyServerURL": "https://plot.ly",
        "showLink": false
       },
       "data": [
        {
         "text": "Distribution of target variable",
         "type": "bar",
         "x": [
          0,
          1
         ],
         "y": [
          573518,
          21694
         ]
        }
       ],
       "layout": {
        "template": {
         "data": {
          "bar": [
           {
            "error_x": {
             "color": "#2a3f5f"
            },
            "error_y": {
             "color": "#2a3f5f"
            },
            "marker": {
             "line": {
              "color": "#E5ECF6",
              "width": 0.5
             }
            },
            "type": "bar"
           }
          ],
          "barpolar": [
           {
            "marker": {
             "line": {
              "color": "#E5ECF6",
              "width": 0.5
             }
            },
            "type": "barpolar"
           }
          ],
          "carpet": [
           {
            "aaxis": {
             "endlinecolor": "#2a3f5f",
             "gridcolor": "white",
             "linecolor": "white",
             "minorgridcolor": "white",
             "startlinecolor": "#2a3f5f"
            },
            "baxis": {
             "endlinecolor": "#2a3f5f",
             "gridcolor": "white",
             "linecolor": "white",
             "minorgridcolor": "white",
             "startlinecolor": "#2a3f5f"
            },
            "type": "carpet"
           }
          ],
          "choropleth": [
           {
            "colorbar": {
             "outlinewidth": 0,
             "ticks": ""
            },
            "type": "choropleth"
           }
          ],
          "contour": [
           {
            "colorbar": {
             "outlinewidth": 0,
             "ticks": ""
            },
            "colorscale": [
             [
              0.0,
              "#0d0887"
             ],
             [
              0.1111111111111111,
              "#46039f"
             ],
             [
              0.2222222222222222,
              "#7201a8"
             ],
             [
              0.3333333333333333,
              "#9c179e"
             ],
             [
              0.4444444444444444,
              "#bd3786"
             ],
             [
              0.5555555555555556,
              "#d8576b"
             ],
             [
              0.6666666666666666,
              "#ed7953"
             ],
             [
              0.7777777777777778,
              "#fb9f3a"
             ],
             [
              0.8888888888888888,
              "#fdca26"
             ],
             [
              1.0,
              "#f0f921"
             ]
            ],
            "type": "contour"
           }
          ],
          "contourcarpet": [
           {
            "colorbar": {
             "outlinewidth": 0,
             "ticks": ""
            },
            "type": "contourcarpet"
           }
          ],
          "heatmap": [
           {
            "colorbar": {
             "outlinewidth": 0,
             "ticks": ""
            },
            "colorscale": [
             [
              0.0,
              "#0d0887"
             ],
             [
              0.1111111111111111,
              "#46039f"
             ],
             [
              0.2222222222222222,
              "#7201a8"
             ],
             [
              0.3333333333333333,
              "#9c179e"
             ],
             [
              0.4444444444444444,
              "#bd3786"
             ],
             [
              0.5555555555555556,
              "#d8576b"
             ],
             [
              0.6666666666666666,
              "#ed7953"
             ],
             [
              0.7777777777777778,
              "#fb9f3a"
             ],
             [
              0.8888888888888888,
              "#fdca26"
             ],
             [
              1.0,
              "#f0f921"
             ]
            ],
            "type": "heatmap"
           }
          ],
          "heatmapgl": [
           {
            "colorbar": {
             "outlinewidth": 0,
             "ticks": ""
            },
            "colorscale": [
             [
              0.0,
              "#0d0887"
             ],
             [
              0.1111111111111111,
              "#46039f"
             ],
             [
              0.2222222222222222,
              "#7201a8"
             ],
             [
              0.3333333333333333,
              "#9c179e"
             ],
             [
              0.4444444444444444,
              "#bd3786"
             ],
             [
              0.5555555555555556,
              "#d8576b"
             ],
             [
              0.6666666666666666,
              "#ed7953"
             ],
             [
              0.7777777777777778,
              "#fb9f3a"
             ],
             [
              0.8888888888888888,
              "#fdca26"
             ],
             [
              1.0,
              "#f0f921"
             ]
            ],
            "type": "heatmapgl"
           }
          ],
          "histogram": [
           {
            "marker": {
             "colorbar": {
              "outlinewidth": 0,
              "ticks": ""
             }
            },
            "type": "histogram"
           }
          ],
          "histogram2d": [
           {
            "colorbar": {
             "outlinewidth": 0,
             "ticks": ""
            },
            "colorscale": [
             [
              0.0,
              "#0d0887"
             ],
             [
              0.1111111111111111,
              "#46039f"
             ],
             [
              0.2222222222222222,
              "#7201a8"
             ],
             [
              0.3333333333333333,
              "#9c179e"
             ],
             [
              0.4444444444444444,
              "#bd3786"
             ],
             [
              0.5555555555555556,
              "#d8576b"
             ],
             [
              0.6666666666666666,
              "#ed7953"
             ],
             [
              0.7777777777777778,
              "#fb9f3a"
             ],
             [
              0.8888888888888888,
              "#fdca26"
             ],
             [
              1.0,
              "#f0f921"
             ]
            ],
            "type": "histogram2d"
           }
          ],
          "histogram2dcontour": [
           {
            "colorbar": {
             "outlinewidth": 0,
             "ticks": ""
            },
            "colorscale": [
             [
              0.0,
              "#0d0887"
             ],
             [
              0.1111111111111111,
              "#46039f"
             ],
             [
              0.2222222222222222,
              "#7201a8"
             ],
             [
              0.3333333333333333,
              "#9c179e"
             ],
             [
              0.4444444444444444,
              "#bd3786"
             ],
             [
              0.5555555555555556,
              "#d8576b"
             ],
             [
              0.6666666666666666,
              "#ed7953"
             ],
             [
              0.7777777777777778,
              "#fb9f3a"
             ],
             [
              0.8888888888888888,
              "#fdca26"
             ],
             [
              1.0,
              "#f0f921"
             ]
            ],
            "type": "histogram2dcontour"
           }
          ],
          "mesh3d": [
           {
            "colorbar": {
             "outlinewidth": 0,
             "ticks": ""
            },
            "type": "mesh3d"
           }
          ],
          "parcoords": [
           {
            "line": {
             "colorbar": {
              "outlinewidth": 0,
              "ticks": ""
             }
            },
            "type": "parcoords"
           }
          ],
          "pie": [
           {
            "automargin": true,
            "type": "pie"
           }
          ],
          "scatter": [
           {
            "marker": {
             "colorbar": {
              "outlinewidth": 0,
              "ticks": ""
             }
            },
            "type": "scatter"
           }
          ],
          "scatter3d": [
           {
            "line": {
             "colorbar": {
              "outlinewidth": 0,
              "ticks": ""
             }
            },
            "marker": {
             "colorbar": {
              "outlinewidth": 0,
              "ticks": ""
             }
            },
            "type": "scatter3d"
           }
          ],
          "scattercarpet": [
           {
            "marker": {
             "colorbar": {
              "outlinewidth": 0,
              "ticks": ""
             }
            },
            "type": "scattercarpet"
           }
          ],
          "scattergeo": [
           {
            "marker": {
             "colorbar": {
              "outlinewidth": 0,
              "ticks": ""
             }
            },
            "type": "scattergeo"
           }
          ],
          "scattergl": [
           {
            "marker": {
             "colorbar": {
              "outlinewidth": 0,
              "ticks": ""
             }
            },
            "type": "scattergl"
           }
          ],
          "scattermapbox": [
           {
            "marker": {
             "colorbar": {
              "outlinewidth": 0,
              "ticks": ""
             }
            },
            "type": "scattermapbox"
           }
          ],
          "scatterpolar": [
           {
            "marker": {
             "colorbar": {
              "outlinewidth": 0,
              "ticks": ""
             }
            },
            "type": "scatterpolar"
           }
          ],
          "scatterpolargl": [
           {
            "marker": {
             "colorbar": {
              "outlinewidth": 0,
              "ticks": ""
             }
            },
            "type": "scatterpolargl"
           }
          ],
          "scatterternary": [
           {
            "marker": {
             "colorbar": {
              "outlinewidth": 0,
              "ticks": ""
             }
            },
            "type": "scatterternary"
           }
          ],
          "surface": [
           {
            "colorbar": {
             "outlinewidth": 0,
             "ticks": ""
            },
            "colorscale": [
             [
              0.0,
              "#0d0887"
             ],
             [
              0.1111111111111111,
              "#46039f"
             ],
             [
              0.2222222222222222,
              "#7201a8"
             ],
             [
              0.3333333333333333,
              "#9c179e"
             ],
             [
              0.4444444444444444,
              "#bd3786"
             ],
             [
              0.5555555555555556,
              "#d8576b"
             ],
             [
              0.6666666666666666,
              "#ed7953"
             ],
             [
              0.7777777777777778,
              "#fb9f3a"
             ],
             [
              0.8888888888888888,
              "#fdca26"
             ],
             [
              1.0,
              "#f0f921"
             ]
            ],
            "type": "surface"
           }
          ],
          "table": [
           {
            "cells": {
             "fill": {
              "color": "#EBF0F8"
             },
             "line": {
              "color": "white"
             }
            },
            "header": {
             "fill": {
              "color": "#C8D4E3"
             },
             "line": {
              "color": "white"
             }
            },
            "type": "table"
           }
          ]
         },
         "layout": {
          "annotationdefaults": {
           "arrowcolor": "#2a3f5f",
           "arrowhead": 0,
           "arrowwidth": 1
          },
          "coloraxis": {
           "colorbar": {
            "outlinewidth": 0,
            "ticks": ""
           }
          },
          "colorscale": {
           "diverging": [
            [
             0,
             "#8e0152"
            ],
            [
             0.1,
             "#c51b7d"
            ],
            [
             0.2,
             "#de77ae"
            ],
            [
             0.3,
             "#f1b6da"
            ],
            [
             0.4,
             "#fde0ef"
            ],
            [
             0.5,
             "#f7f7f7"
            ],
            [
             0.6,
             "#e6f5d0"
            ],
            [
             0.7,
             "#b8e186"
            ],
            [
             0.8,
             "#7fbc41"
            ],
            [
             0.9,
             "#4d9221"
            ],
            [
             1,
             "#276419"
            ]
           ],
           "sequential": [
            [
             0.0,
             "#0d0887"
            ],
            [
             0.1111111111111111,
             "#46039f"
            ],
            [
             0.2222222222222222,
             "#7201a8"
            ],
            [
             0.3333333333333333,
             "#9c179e"
            ],
            [
             0.4444444444444444,
             "#bd3786"
            ],
            [
             0.5555555555555556,
             "#d8576b"
            ],
            [
             0.6666666666666666,
             "#ed7953"
            ],
            [
             0.7777777777777778,
             "#fb9f3a"
            ],
            [
             0.8888888888888888,
             "#fdca26"
            ],
            [
             1.0,
             "#f0f921"
            ]
           ],
           "sequentialminus": [
            [
             0.0,
             "#0d0887"
            ],
            [
             0.1111111111111111,
             "#46039f"
            ],
            [
             0.2222222222222222,
             "#7201a8"
            ],
            [
             0.3333333333333333,
             "#9c179e"
            ],
            [
             0.4444444444444444,
             "#bd3786"
            ],
            [
             0.5555555555555556,
             "#d8576b"
            ],
            [
             0.6666666666666666,
             "#ed7953"
            ],
            [
             0.7777777777777778,
             "#fb9f3a"
            ],
            [
             0.8888888888888888,
             "#fdca26"
            ],
            [
             1.0,
             "#f0f921"
            ]
           ]
          },
          "colorway": [
           "#636efa",
           "#EF553B",
           "#00cc96",
           "#ab63fa",
           "#FFA15A",
           "#19d3f3",
           "#FF6692",
           "#B6E880",
           "#FF97FF",
           "#FECB52"
          ],
          "font": {
           "color": "#2a3f5f"
          },
          "geo": {
           "bgcolor": "white",
           "lakecolor": "white",
           "landcolor": "#E5ECF6",
           "showlakes": true,
           "showland": true,
           "subunitcolor": "white"
          },
          "hoverlabel": {
           "align": "left"
          },
          "hovermode": "closest",
          "mapbox": {
           "style": "light"
          },
          "paper_bgcolor": "white",
          "plot_bgcolor": "#E5ECF6",
          "polar": {
           "angularaxis": {
            "gridcolor": "white",
            "linecolor": "white",
            "ticks": ""
           },
           "bgcolor": "#E5ECF6",
           "radialaxis": {
            "gridcolor": "white",
            "linecolor": "white",
            "ticks": ""
           }
          },
          "scene": {
           "xaxis": {
            "backgroundcolor": "#E5ECF6",
            "gridcolor": "white",
            "gridwidth": 2,
            "linecolor": "white",
            "showbackground": true,
            "ticks": "",
            "zerolinecolor": "white"
           },
           "yaxis": {
            "backgroundcolor": "#E5ECF6",
            "gridcolor": "white",
            "gridwidth": 2,
            "linecolor": "white",
            "showbackground": true,
            "ticks": "",
            "zerolinecolor": "white"
           },
           "zaxis": {
            "backgroundcolor": "#E5ECF6",
            "gridcolor": "white",
            "gridwidth": 2,
            "linecolor": "white",
            "showbackground": true,
            "ticks": "",
            "zerolinecolor": "white"
           }
          },
          "shapedefaults": {
           "line": {
            "color": "#2a3f5f"
           }
          },
          "ternary": {
           "aaxis": {
            "gridcolor": "white",
            "linecolor": "white",
            "ticks": ""
           },
           "baxis": {
            "gridcolor": "white",
            "linecolor": "white",
            "ticks": ""
           },
           "bgcolor": "#E5ECF6",
           "caxis": {
            "gridcolor": "white",
            "linecolor": "white",
            "ticks": ""
           }
          },
          "title": {
           "x": 0.05
          },
          "xaxis": {
           "automargin": true,
           "gridcolor": "white",
           "linecolor": "white",
           "ticks": "",
           "title": {
            "standoff": 15
           },
           "zerolinecolor": "white",
           "zerolinewidth": 2
          },
          "yaxis": {
           "automargin": true,
           "gridcolor": "white",
           "linecolor": "white",
           "ticks": "",
           "title": {
            "standoff": 15
           },
           "zerolinecolor": "white",
           "zerolinewidth": 2
          }
         }
        },
        "title": {
         "text": "Target variable distribution"
        }
       }
      },
      "text/html": [
       "<div>\n",
       "        \n",
       "        \n",
       "            <div id=\"2053c20b-ca53-4285-96dd-41694f721b78\" class=\"plotly-graph-div\" style=\"height:525px; width:100%;\"></div>\n",
       "            <script type=\"text/javascript\">\n",
       "                require([\"plotly\"], function(Plotly) {\n",
       "                    window.PLOTLYENV=window.PLOTLYENV || {};\n",
       "                    \n",
       "                if (document.getElementById(\"2053c20b-ca53-4285-96dd-41694f721b78\")) {\n",
       "                    Plotly.newPlot(\n",
       "                        '2053c20b-ca53-4285-96dd-41694f721b78',\n",
       "                        [{\"text\": \"Distribution of target variable\", \"type\": \"bar\", \"x\": [0, 1], \"y\": [573518, 21694]}],\n",
       "                        {\"template\": {\"data\": {\"bar\": [{\"error_x\": {\"color\": \"#2a3f5f\"}, \"error_y\": {\"color\": \"#2a3f5f\"}, \"marker\": {\"line\": {\"color\": \"#E5ECF6\", \"width\": 0.5}}, \"type\": \"bar\"}], \"barpolar\": [{\"marker\": {\"line\": {\"color\": \"#E5ECF6\", \"width\": 0.5}}, \"type\": \"barpolar\"}], \"carpet\": [{\"aaxis\": {\"endlinecolor\": \"#2a3f5f\", \"gridcolor\": \"white\", \"linecolor\": \"white\", \"minorgridcolor\": \"white\", \"startlinecolor\": \"#2a3f5f\"}, \"baxis\": {\"endlinecolor\": \"#2a3f5f\", \"gridcolor\": \"white\", \"linecolor\": \"white\", \"minorgridcolor\": \"white\", \"startlinecolor\": \"#2a3f5f\"}, \"type\": \"carpet\"}], \"choropleth\": [{\"colorbar\": {\"outlinewidth\": 0, \"ticks\": \"\"}, \"type\": \"choropleth\"}], \"contour\": [{\"colorbar\": {\"outlinewidth\": 0, \"ticks\": \"\"}, \"colorscale\": [[0.0, \"#0d0887\"], [0.1111111111111111, \"#46039f\"], [0.2222222222222222, \"#7201a8\"], [0.3333333333333333, \"#9c179e\"], [0.4444444444444444, \"#bd3786\"], [0.5555555555555556, \"#d8576b\"], [0.6666666666666666, \"#ed7953\"], [0.7777777777777778, \"#fb9f3a\"], [0.8888888888888888, \"#fdca26\"], [1.0, \"#f0f921\"]], \"type\": \"contour\"}], \"contourcarpet\": [{\"colorbar\": {\"outlinewidth\": 0, \"ticks\": \"\"}, \"type\": \"contourcarpet\"}], \"heatmap\": [{\"colorbar\": {\"outlinewidth\": 0, \"ticks\": \"\"}, \"colorscale\": [[0.0, \"#0d0887\"], [0.1111111111111111, \"#46039f\"], [0.2222222222222222, \"#7201a8\"], [0.3333333333333333, \"#9c179e\"], [0.4444444444444444, \"#bd3786\"], [0.5555555555555556, \"#d8576b\"], [0.6666666666666666, \"#ed7953\"], [0.7777777777777778, \"#fb9f3a\"], [0.8888888888888888, \"#fdca26\"], [1.0, \"#f0f921\"]], \"type\": \"heatmap\"}], \"heatmapgl\": [{\"colorbar\": {\"outlinewidth\": 0, \"ticks\": \"\"}, \"colorscale\": [[0.0, \"#0d0887\"], [0.1111111111111111, \"#46039f\"], [0.2222222222222222, \"#7201a8\"], [0.3333333333333333, \"#9c179e\"], [0.4444444444444444, \"#bd3786\"], [0.5555555555555556, \"#d8576b\"], [0.6666666666666666, \"#ed7953\"], [0.7777777777777778, \"#fb9f3a\"], [0.8888888888888888, \"#fdca26\"], [1.0, \"#f0f921\"]], \"type\": \"heatmapgl\"}], \"histogram\": [{\"marker\": {\"colorbar\": {\"outlinewidth\": 0, \"ticks\": \"\"}}, \"type\": \"histogram\"}], \"histogram2d\": [{\"colorbar\": {\"outlinewidth\": 0, \"ticks\": \"\"}, \"colorscale\": [[0.0, \"#0d0887\"], [0.1111111111111111, \"#46039f\"], [0.2222222222222222, \"#7201a8\"], [0.3333333333333333, \"#9c179e\"], [0.4444444444444444, \"#bd3786\"], [0.5555555555555556, \"#d8576b\"], [0.6666666666666666, \"#ed7953\"], [0.7777777777777778, \"#fb9f3a\"], [0.8888888888888888, \"#fdca26\"], [1.0, \"#f0f921\"]], \"type\": \"histogram2d\"}], \"histogram2dcontour\": [{\"colorbar\": {\"outlinewidth\": 0, \"ticks\": \"\"}, \"colorscale\": [[0.0, \"#0d0887\"], [0.1111111111111111, \"#46039f\"], [0.2222222222222222, \"#7201a8\"], [0.3333333333333333, \"#9c179e\"], [0.4444444444444444, \"#bd3786\"], [0.5555555555555556, \"#d8576b\"], [0.6666666666666666, \"#ed7953\"], [0.7777777777777778, \"#fb9f3a\"], [0.8888888888888888, \"#fdca26\"], [1.0, \"#f0f921\"]], \"type\": \"histogram2dcontour\"}], \"mesh3d\": [{\"colorbar\": {\"outlinewidth\": 0, \"ticks\": \"\"}, \"type\": \"mesh3d\"}], \"parcoords\": [{\"line\": {\"colorbar\": {\"outlinewidth\": 0, \"ticks\": \"\"}}, \"type\": \"parcoords\"}], \"pie\": [{\"automargin\": true, \"type\": \"pie\"}], \"scatter\": [{\"marker\": {\"colorbar\": {\"outlinewidth\": 0, \"ticks\": \"\"}}, \"type\": \"scatter\"}], \"scatter3d\": [{\"line\": {\"colorbar\": {\"outlinewidth\": 0, \"ticks\": \"\"}}, \"marker\": {\"colorbar\": {\"outlinewidth\": 0, \"ticks\": \"\"}}, \"type\": \"scatter3d\"}], \"scattercarpet\": [{\"marker\": {\"colorbar\": {\"outlinewidth\": 0, \"ticks\": \"\"}}, \"type\": \"scattercarpet\"}], \"scattergeo\": [{\"marker\": {\"colorbar\": {\"outlinewidth\": 0, \"ticks\": \"\"}}, \"type\": \"scattergeo\"}], \"scattergl\": [{\"marker\": {\"colorbar\": {\"outlinewidth\": 0, \"ticks\": \"\"}}, \"type\": \"scattergl\"}], \"scattermapbox\": [{\"marker\": {\"colorbar\": {\"outlinewidth\": 0, \"ticks\": \"\"}}, \"type\": \"scattermapbox\"}], \"scatterpolar\": [{\"marker\": {\"colorbar\": {\"outlinewidth\": 0, \"ticks\": \"\"}}, \"type\": \"scatterpolar\"}], \"scatterpolargl\": [{\"marker\": {\"colorbar\": {\"outlinewidth\": 0, \"ticks\": \"\"}}, \"type\": \"scatterpolargl\"}], \"scatterternary\": [{\"marker\": {\"colorbar\": {\"outlinewidth\": 0, \"ticks\": \"\"}}, \"type\": \"scatterternary\"}], \"surface\": [{\"colorbar\": {\"outlinewidth\": 0, \"ticks\": \"\"}, \"colorscale\": [[0.0, \"#0d0887\"], [0.1111111111111111, \"#46039f\"], [0.2222222222222222, \"#7201a8\"], [0.3333333333333333, \"#9c179e\"], [0.4444444444444444, \"#bd3786\"], [0.5555555555555556, \"#d8576b\"], [0.6666666666666666, \"#ed7953\"], [0.7777777777777778, \"#fb9f3a\"], [0.8888888888888888, \"#fdca26\"], [1.0, \"#f0f921\"]], \"type\": \"surface\"}], \"table\": [{\"cells\": {\"fill\": {\"color\": \"#EBF0F8\"}, \"line\": {\"color\": \"white\"}}, \"header\": {\"fill\": {\"color\": \"#C8D4E3\"}, \"line\": {\"color\": \"white\"}}, \"type\": \"table\"}]}, \"layout\": {\"annotationdefaults\": {\"arrowcolor\": \"#2a3f5f\", \"arrowhead\": 0, \"arrowwidth\": 1}, \"coloraxis\": {\"colorbar\": {\"outlinewidth\": 0, \"ticks\": \"\"}}, \"colorscale\": {\"diverging\": [[0, \"#8e0152\"], [0.1, \"#c51b7d\"], [0.2, \"#de77ae\"], [0.3, \"#f1b6da\"], [0.4, \"#fde0ef\"], [0.5, \"#f7f7f7\"], [0.6, \"#e6f5d0\"], [0.7, \"#b8e186\"], [0.8, \"#7fbc41\"], [0.9, \"#4d9221\"], [1, \"#276419\"]], \"sequential\": [[0.0, \"#0d0887\"], [0.1111111111111111, \"#46039f\"], [0.2222222222222222, \"#7201a8\"], [0.3333333333333333, \"#9c179e\"], [0.4444444444444444, \"#bd3786\"], [0.5555555555555556, \"#d8576b\"], [0.6666666666666666, \"#ed7953\"], [0.7777777777777778, \"#fb9f3a\"], [0.8888888888888888, \"#fdca26\"], [1.0, \"#f0f921\"]], \"sequentialminus\": [[0.0, \"#0d0887\"], [0.1111111111111111, \"#46039f\"], [0.2222222222222222, \"#7201a8\"], [0.3333333333333333, \"#9c179e\"], [0.4444444444444444, \"#bd3786\"], [0.5555555555555556, \"#d8576b\"], [0.6666666666666666, \"#ed7953\"], [0.7777777777777778, \"#fb9f3a\"], [0.8888888888888888, \"#fdca26\"], [1.0, \"#f0f921\"]]}, \"colorway\": [\"#636efa\", \"#EF553B\", \"#00cc96\", \"#ab63fa\", \"#FFA15A\", \"#19d3f3\", \"#FF6692\", \"#B6E880\", \"#FF97FF\", \"#FECB52\"], \"font\": {\"color\": \"#2a3f5f\"}, \"geo\": {\"bgcolor\": \"white\", \"lakecolor\": \"white\", \"landcolor\": \"#E5ECF6\", \"showlakes\": true, \"showland\": true, \"subunitcolor\": \"white\"}, \"hoverlabel\": {\"align\": \"left\"}, \"hovermode\": \"closest\", \"mapbox\": {\"style\": \"light\"}, \"paper_bgcolor\": \"white\", \"plot_bgcolor\": \"#E5ECF6\", \"polar\": {\"angularaxis\": {\"gridcolor\": \"white\", \"linecolor\": \"white\", \"ticks\": \"\"}, \"bgcolor\": \"#E5ECF6\", \"radialaxis\": {\"gridcolor\": \"white\", \"linecolor\": \"white\", \"ticks\": \"\"}}, \"scene\": {\"xaxis\": {\"backgroundcolor\": \"#E5ECF6\", \"gridcolor\": \"white\", \"gridwidth\": 2, \"linecolor\": \"white\", \"showbackground\": true, \"ticks\": \"\", \"zerolinecolor\": \"white\"}, \"yaxis\": {\"backgroundcolor\": \"#E5ECF6\", \"gridcolor\": \"white\", \"gridwidth\": 2, \"linecolor\": \"white\", \"showbackground\": true, \"ticks\": \"\", \"zerolinecolor\": \"white\"}, \"zaxis\": {\"backgroundcolor\": \"#E5ECF6\", \"gridcolor\": \"white\", \"gridwidth\": 2, \"linecolor\": \"white\", \"showbackground\": true, \"ticks\": \"\", \"zerolinecolor\": \"white\"}}, \"shapedefaults\": {\"line\": {\"color\": \"#2a3f5f\"}}, \"ternary\": {\"aaxis\": {\"gridcolor\": \"white\", \"linecolor\": \"white\", \"ticks\": \"\"}, \"baxis\": {\"gridcolor\": \"white\", \"linecolor\": \"white\", \"ticks\": \"\"}, \"bgcolor\": \"#E5ECF6\", \"caxis\": {\"gridcolor\": \"white\", \"linecolor\": \"white\", \"ticks\": \"\"}}, \"title\": {\"x\": 0.05}, \"xaxis\": {\"automargin\": true, \"gridcolor\": \"white\", \"linecolor\": \"white\", \"ticks\": \"\", \"title\": {\"standoff\": 15}, \"zerolinecolor\": \"white\", \"zerolinewidth\": 2}, \"yaxis\": {\"automargin\": true, \"gridcolor\": \"white\", \"linecolor\": \"white\", \"ticks\": \"\", \"title\": {\"standoff\": 15}, \"zerolinecolor\": \"white\", \"zerolinewidth\": 2}}}, \"title\": {\"text\": \"Target variable distribution\"}},\n",
       "                        {\"responsive\": true}\n",
       "                    ).then(function(){\n",
       "                            \n",
       "var gd = document.getElementById('2053c20b-ca53-4285-96dd-41694f721b78');\n",
       "var x = new MutationObserver(function (mutations, observer) {{\n",
       "        var display = window.getComputedStyle(gd).display;\n",
       "        if (!display || display === 'none') {{\n",
       "            console.log([gd, 'removed!']);\n",
       "            Plotly.purge(gd);\n",
       "            observer.disconnect();\n",
       "        }}\n",
       "}});\n",
       "\n",
       "// Listen for the removal of the full notebook cells\n",
       "var notebookContainer = gd.closest('#notebook-container');\n",
       "if (notebookContainer) {{\n",
       "    x.observe(notebookContainer, {childList: true});\n",
       "}}\n",
       "\n",
       "// Listen for the clearing of the current output cell\n",
       "var outputEl = gd.closest('.output');\n",
       "if (outputEl) {{\n",
       "    x.observe(outputEl, {childList: true});\n",
       "}}\n",
       "\n",
       "                        })\n",
       "                };\n",
       "                });\n",
       "            </script>\n",
       "        </div>"
      ]
     },
     "metadata": {},
     "output_type": "display_data"
    }
   ],
   "source": [
    "data = [go.Bar(\n",
    "            x=train[\"target\"].value_counts().index.values,\n",
    "            y=train[\"target\"].value_counts().values,\n",
    "            text='Distribution of target variable')]\n",
    "\n",
    "layout = go.Layout(title = 'Target variable distribution')\n",
    "\n",
    "fig = go.Figure(data=data, layout=layout)\n",
    "\n",
    "py.iplot(fig, filename='basic-bar')"
   ]
  },
  {
   "cell_type": "code",
   "execution_count": 9,
   "metadata": {},
   "outputs": [
    {
     "data": {
      "text/plain": [
       "Counter({dtype('int64'): 49, dtype('float64'): 10})"
      ]
     },
     "execution_count": 9,
     "metadata": {},
     "output_type": "execute_result"
    }
   ],
   "source": [
    "Counter(train.dtypes.values)"
   ]
  },
  {
   "cell_type": "code",
   "execution_count": 10,
   "metadata": {},
   "outputs": [],
   "source": [
    "train_float = train.select_dtypes(include = ['float64'])\n",
    "train_int = train.select_dtypes(include = ['int64'])"
   ]
  },
  {
   "cell_type": "code",
   "execution_count": 11,
   "metadata": {},
   "outputs": [
    {
     "data": {
      "text/plain": [
       "<matplotlib.axes._subplots.AxesSubplot at 0x7f6bd82f12b0>"
      ]
     },
     "execution_count": 11,
     "metadata": {},
     "output_type": "execute_result"
    },
    {
     "data": {
      "image/png": "[encoded data removed]",
      "text/plain": [
       "<Figure size 1152x864 with 2 Axes>"
      ]
     },
     "metadata": {
      "needs_background": "light"
     },
     "output_type": "display_data"
    }
   ],
   "source": [
    "colormap = plt.cm.magma\n",
    "plt.figure(figsize=(16,12))\n",
    "plt.title('Pearson correlation of continuous features', y=1.05, size=15)\n",
    "sns.heatmap(train_float.corr(), linewidths=0.1, vmax=1.0, square=True,\n",
    "            cmap=colormap, linecolor='white', annot=True)"
   ]
  },
  {
   "cell_type": "code",
   "execution_count": 12,
   "metadata": {},
   "outputs": [
    {
     "data": {
      "text/plain": [
       "<matplotlib.axes._subplots.AxesSubplot at 0x7f6bd359f160>"
      ]
     },
     "execution_count": 12,
     "metadata": {},
     "output_type": "execute_result"
    },
    {
     "data": {
      "image/png": "[encoded data removed]",
      "text/plain": [
       "<Figure size 1512x1152 with 2 Axes>"
      ]
     },
     "metadata": {
      "needs_background": "light"
     },
     "output_type": "display_data"
    }
   ],
   "source": [
    "\n",
    "colormap = plt.cm.magma\n",
    "plt.figure(figsize=(21,16))\n",
    "plt.title('Pearson correlation of categorical features', y=1.05, size=15)\n",
    "sns.heatmap(train_int.corr(),linewidths=0.1,vmax=1.0, square=True, cmap=colormap, linecolor='white', annot=False)"
   ]
  },
  {
   "cell_type": "code",
   "execution_count": 13,
   "metadata": {},
   "outputs": [
    {
     "data": {
      "application/vnd.plotly.v1+json": {
       "config": {
        "linkText": "Export to plot.ly",
        "plotlyServerURL": "https://plot.ly",
        "showLink": false
       },
       "data": [
        {
         "colorscale": [
          [
           0.0,
           "#440154"
          ],
          [
           0.1111111111111111,
           "#482878"
          ],
          [
           0.2222222222222222,
           "#3e4989"
          ],
          [
           0.3333333333333333,
           "#31688e"
          ],
          [
           0.4444444444444444,
           "#26828e"
          ],
          [
           0.5555555555555556,
           "#1f9e89"
          ],
          [
           0.6666666666666666,
           "#35b779"
          ],
          [
           0.7777777777777778,
           "#6ece58"
          ],
          [
           0.8888888888888888,
           "#b5de2b"
          ],
          [
           1.0,
           "#fde725"
          ]
         ],
         "opacity": 1.0,
         "reversescale": false,
         "type": "heatmap",
         "x": [
          "id",
          "target",
          "ps_ind_01",
          "ps_ind_02_cat",
          "ps_ind_03",
          "ps_ind_04_cat",
          "ps_ind_05_cat",
          "ps_ind_06_bin",
          "ps_ind_07_bin",
          "ps_ind_08_bin",
          "ps_ind_09_bin",
          "ps_ind_10_bin",
          "ps_ind_11_bin",
          "ps_ind_12_bin",
          "ps_ind_13_bin",
          "ps_ind_14",
          "ps_ind_15",
          "ps_ind_16_bin",
          "ps_ind_17_bin",
          "ps_ind_18_bin",
          "ps_car_01_cat",
          "ps_car_02_cat",
          "ps_car_03_cat",
          "ps_car_04_cat",
          "ps_car_05_cat",
          "ps_car_06_cat",
          "ps_car_07_cat",
          "ps_car_08_cat",
          "ps_car_09_cat",
          "ps_car_10_cat",
          "ps_car_11_cat",
          "ps_car_11",
          "ps_calc_04",
          "ps_calc_05",
          "ps_calc_06",
          "ps_calc_07",
          "ps_calc_08",
          "ps_calc_09",
          "ps_calc_10",
          "ps_calc_11",
          "ps_calc_12",
          "ps_calc_13",
          "ps_calc_14",
          "ps_calc_15_bin",
          "ps_calc_16_bin",
          "ps_calc_17_bin",
          "ps_calc_18_bin",
          "ps_calc_19_bin",
          "ps_calc_20_bin"
         ],
         "y": [
          "id",
          "target",
          "ps_ind_01",
          "ps_ind_02_cat",
          "ps_ind_03",
          "ps_ind_04_cat",
          "ps_ind_05_cat",
          "ps_ind_06_bin",
          "ps_ind_07_bin",
          "ps_ind_08_bin",
          "ps_ind_09_bin",
          "ps_ind_10_bin",
          "ps_ind_11_bin",
          "ps_ind_12_bin",
          "ps_ind_13_bin",
          "ps_ind_14",
          "ps_ind_15",
          "ps_ind_16_bin",
          "ps_ind_17_bin",
          "ps_ind_18_bin",
          "ps_car_01_cat",
          "ps_car_02_cat",
          "ps_car_03_cat",
          "ps_car_04_cat",
          "ps_car_05_cat",
          "ps_car_06_cat",
          "ps_car_07_cat",
          "ps_car_08_cat",
          "ps_car_09_cat",
          "ps_car_10_cat",
          "ps_car_11_cat",
          "ps_car_11",
          "ps_calc_04",
          "ps_calc_05",
          "ps_calc_06",
          "ps_calc_07",
          "ps_calc_08",
          "ps_calc_09",
          "ps_calc_10",
          "ps_calc_11",
          "ps_calc_12",
          "ps_calc_13",
          "ps_calc_14",
          "ps_calc_15_bin",
          "ps_calc_16_bin",
          "ps_calc_17_bin",
          "ps_calc_18_bin",
          "ps_calc_19_bin",
          "ps_calc_20_bin"
         ],
         "z": [
          [
           1.0,
           -0.0001884755338279302,
           0.0008258854725652894,
           0.0016461276514635084,
           -0.001307412555708147,
           0.00016792048870128184,
           2.1710319686573285e-05,
           -9.329673376855398e-05,
           0.0024732074669943606,
           -0.00047893199093413047,
           -0.002207988997677067,
           -0.0012612850576022075,
           -0.001209804426148668,
           -0.00017701120227953454,
           -0.0017178219451433232,
           -0.0011293527970817141,
           -0.0019349923253051936,
           -0.0005004384418756588,
           0.0013438936799815473,
           0.0008157280242234267,
           -0.001052384043273799,
           -0.00040334494636219437,
           0.00035446093727700055,
           0.0023098896739948355,
           -0.00084973643195865,
           -0.0010096893760912734,
           -0.00295558180936417,
           0.0007475961383047262,
           0.0004940853380194146,
           -0.0009282837448446624,
           0.0020474413080678725,
           0.0026413932462384655,
           0.0036383179611819377,
           -0.000591590850083563,
           0.0009574769937712452,
           0.0007882447910606476,
           0.000835612847691242,
           0.0005176341988708713,
           0.000980533554013502,
           -0.0012488250196405976,
           -0.001093454653076123,
           -0.0001570102363974875,
           0.001609423824816161,
           -0.0012272973917402156,
           -0.001412005900504181,
           -0.0012665829156906327,
           -0.001387012489517146,
           0.000194224949511712,
           -0.0012665168671981402
          ],
          [
           -0.0001884755338279302,
           1.0,
           0.01857025865764426,
           0.004533831368523311,
           0.008359590302704629,
           0.009360445255726135,
           0.029164946850682903,
           -0.03401686970386084,
           0.034218074514472306,
           0.013146978438781246,
           -0.008236815985514567,
           0.0018147796965638588,
           0.0020281711723608956,
           0.0078103084434938295,
           0.0024602908319258606,
           0.0074428309648139415,
           -0.02150622168788817,
           -0.027778075788648455,
           0.03705260633561922,
           0.004555455715168839,
           0.016255693742772012,
           -0.03153359612438814,
           0.03240097069460356,
           0.03289987493999408,
           0.020754434133130183,
           0.011536659955756626,
           -0.036395222587461,
           -0.02034193348577494,
           0.005322494909285372,
           0.0010382993212153732,
           0.006128798326761823,
           -0.0012133568962230331,
           3.2720455107159456e-05,
           0.0007708801365361789,
           8.182225978205306e-05,
           -0.00010347690485265882,
           -0.0010058548384214974,
           0.0007189675843657573,
           0.0010608340444808466,
           0.0003714373948919784,
           -0.001132585398131543,
           -0.0004464645318106672,
           0.0013622753431332209,
           -0.0004904242506649142,
           0.0006238280115069002,
           -0.00017012817366195574,
           0.0005524351996219551,
           -0.001743831954662157,
           -0.001072228427533944
          ],
          [
           0.0008258854725652894,
           0.01857025865764426,
           1.0,
           -0.001793132914078911,
           0.22340759383098746,
           0.06664546508381464,
           0.01482256120132161,
           -0.27745768415781097,
           0.005699693657942732,
           0.18858311700205918,
           0.1627999861869906,
           0.001847228909831448,
           -0.016726587843611262,
           -0.02340598033757039,
           -0.008775500240686976,
           -0.02497119706380611,
           0.12213672531024436,
           0.0368956637484447,
           0.10125709413318262,
           -0.11222626697639439,
           -0.05612096023089955,
           -0.11698664679144183,
           0.04375596050033502,
           0.07904155054810319,
           0.21300928032997266,
           0.07019202187349194,
           -0.0006393452905840409,
           0.1381116289003837,
           -0.10258232980370965,
           0.010793696829685654,
           0.008187861301748726,
           0.008251527554781795,
           -0.0009430787753174504,
           -0.001171189955575937,
           0.00014683213520095265,
           -0.0006583998180269789,
           0.0029928067889180153,
           -8.533923304049915e-05,
           -0.0013449818796936771,
           -0.0012629092646156163,
           0.0015206567146518381,
           0.00019895341092282697,
           -0.0008910685014914849,
           -0.00039679021243222155,
           -1.1545248109605945e-05,
           -0.0008675973201972937,
           -0.0015035875469076693,
           -0.00016221628124577943,
           -0.0014640083176247888
          ],
          [
           0.0016461276514635084,
           0.004533831368523311,
           -0.001793132914078911,
           1.0,
           -0.06118914649597863,
           0.14710969879184774,
           -0.014859825528566654,
           -0.12565283345797085,
           0.016398444130520974,
           0.030944960292261715,
           0.11007582271780689,
           -0.0007443279033738822,
           0.0007716519259193071,
           -0.004615510735825621,
           -0.0011867308079097534,
           -0.003649390892299846,
           -0.0038542040298718537,
           0.012682148590449879,
           -0.018727145555809944,
           -0.0003739401590504564,
           0.0021485024537578157,
           0.04523308396695259,
           -0.002531720281610417,
           -0.07218977632989752,
           -0.008406520927757209,
           -0.01730091230640416,
           -0.011780550384929915,
           0.001525760478627604,
           0.00943453402178943,
           0.011401456422593695,
           0.014955195806662906,
           0.019948833190352715,
           -0.002111048732799757,
           -0.0015478301217391854,
           8.548689230307831e-05,
           -0.00017173251468897293,
           -0.0027117639544371125,
           0.0003556758097243229,
           -2.542520349513617e-05,
           3.793867444728029e-05,
           -0.0008836458794253027,
           -0.0008928474834440371,
           -0.0005185257387844355,
           -0.0001091639435269205,
           0.0009195635201592935,
           0.0005472321892402385,
           0.0008240709263796172,
           0.00036682948961575137,
           -0.0020700765230627083
          ],
          [
           -0.001307412555708147,
           0.008359590302704629,
           0.22340759383098746,
           -0.06118914649597863,
           1.0,
           -0.0958555686935466,
           0.05325005441452378,
           -0.04515789199484218,
           -0.06036790395745832,
           0.014036610712139238,
           0.11130640018592014,
           0.00686512319064189,
           -0.00398647923236278,
           0.0016976891777431033,
           0.00392862651390925,
           0.0019895460604970206,
           0.17044861491716903,
           -0.01825125801540498,
           0.027691181225201148,
           0.0013157749639202364,
           -0.028519891228882308,
           -0.04490674148704961,
           0.09565776668555685,
           0.07298961054261868,
           0.14359654865912472,
           0.008021293226172437,
           0.05633693325150142,
           0.003607155114386827,
           -0.013205469282530264,
           -0.008560954021673296,
           -0.02596590172891641,
           -0.05935778461180635,
           0.0007029223319995609,
           -0.00124483981613212,
           0.0023614979575671243,
           0.0015325306198654468,
           0.0012666649599134556,
           -0.0015441777405850244,
           0.00023028733837444532,
           -0.00271554188115075,
           -0.002352333367000353,
           0.00013288787890914573,
           0.00020474960687044948,
           0.00013443276941903844,
           -0.0007442327813956861,
           0.00015773156327487207,
           -0.00021792732130881942,
           -0.0008816797556254782,
           -0.0037094085792932193
          ],
          [
           0.00016792048870128184,
           0.009360445255726135,
           0.06664546508381464,
           0.14710969879184774,
           -0.0958555686935466,
           1.0,
           0.013052691401685955,
           -0.29773660464866397,
           0.30494937833484964,
           0.044978473326504606,
           -0.011441657815300007,
           0.0007887076973342341,
           0.0010183114528846745,
           -0.0012169376250840901,
           -0.0008934939930194587,
           -0.0006905936003636214,
           0.07707144391349827,
           0.017497056768276353,
           0.007830396023942783,
           -0.02579748587369274,
           0.029379371951352606,
           0.0031621098779806996,
           0.02274437639904159,
           -0.045361298018711534,
           0.06339932427169784,
           0.025323615321091824,
           0.06465523285489345,
           -0.008147548468074901,
           -0.041983012536472374,
           0.023010432834079733,
           -0.0006146254081137504,
           0.07348633332465844,
           0.0008255181087068532,
           0.001027798873083514,
           0.0026258399586337597,
           -0.0001507383234412961,
           -0.0027755450296178133,
           0.0004865698877561841,
           0.00012727421795228578,
           -0.00200083123856293,
           -0.0008139493139849512,
           0.0002834052581424088,
           0.001564549638218458,
           0.0027346762054485775,
           0.0022953462039966353,
           0.0007734421027461945,
           0.000915879223084782,
           -0.0019656334704269167,
           0.0012439383819380263
          ],
          [
           2.1710319686573285e-05,
           0.029164946850682903,
           0.01482256120132161,
           -0.014859825528566654,
           0.05325005441452378,
           0.013052691401685955,
           1.0,
           0.009618800838401737,
           -0.01038218866727748,
           0.004880747623625458,
           -0.0050687312021216535,
           0.0017424754145380756,
           -0.0006363666372225003,
           -0.001831240440538545,
           0.001312873260557115,
           -0.001012831348804875,
           0.012326335746017493,
           0.0043148996980777975,
           0.0071627770677436566,
           -0.008252314414825627,
           -0.03621285304074287,
           0.012878919847975364,
           -0.011398778782566992,
           -0.010873195216195189,
           -0.006561608549998125,
           -0.007229963205387081,
           0.05377652521318424,
           -0.002083953743306598,
           -0.008333774284880439,
           0.0021680744466516886,
           -0.002249565476054419,
           0.0010755447570798893,
           0.0012916973382696244,
           -0.0006420444921119534,
           -0.00024941758434079725,
           -0.001902390027468809,
           -0.00014490361613121914,
           -0.0008217959389396053,
           -0.0010698729509133489,
           -0.0015247002980410744,
           0.0009753755080666246,
           0.001549156967180905,
           0.002170835212999189,
           0.001548047451239712,
           -0.00036823623935244105,
           0.00015309117899222943,
           3.168678414767965e-05,
           0.0002764781762421012,
           0.0002786905470474071
          ],
          [
           -9.329673376855398e-05,
           -0.03401686970386084,
           -0.27745768415781097,
           -0.12565283345797085,
           -0.04515789199484218,
           -0.29773660464866397,
           0.009618800838401737,
           1.0,
           -0.47400904185283216,
           -0.35683833274499904,
           -0.38434514013863447,
           -0.008977535013184641,
           -0.0052293822490551735,
           -0.017498505238517773,
           -0.008390064166735468,
           -0.018333861999796107,
           0.01640620515432804,
           0.02835208353232434,
           -0.03712107367514967,
           -0.011750963576165853,
           -0.07554574375144933,
           0.13638274599329003,
           -0.0757231021809835,
           -0.18701667626451934,
           -0.16489012332400702,
           -0.05988730879735985,
           0.03899368073091141,
           0.038313070317179294,
           0.099183937638165,
           -0.04105681120470314,
           -0.03129622770642452,
           0.01961761811640833,
           -0.00040897151757199367,
           -0.0005006935696638386,
           -0.0014131826801872418,
           -0.0015526558607684004,
           -0.0011636516201245283,
           -0.001955110116000671,
           -0.0011970978269571638,
           0.0008220026165339009,
           0.001346527577785583,
           -0.0013011186998572416,
           0.0003039329025924058,
           0.0020878603119107173,
           -0.00038145116468386327,
           -1.2555595169838768e-06,
           -0.0007593038072440595,
           0.002790733141215928,
           0.00020310560101518386
          ],
          [
           0.0024732074669943606,
           0.034218074514472306,
           0.005699693657942732,
           0.016398444130520974,
           -0.06036790395745832,
           0.30494937833484964,
           -0.01038218866727748,
           -0.47400904185283216,
           1.0,
           -0.2604376422092236,
           -0.2805134227700197,
           0.010739652662638518,
           0.010118980387081193,
           0.036619156406925375,
           0.012124758822620494,
           0.035572641614898405,
           -0.12072867940666913,
           -0.07232059014963113,
           0.020776151947280146,
           0.07656187216216323,
           0.062063867997878226,
           -0.16260101236029972,
           0.09648343943328785,
           0.19970161209070955,
           0.09210731694577427,
           0.021012550690436286,
           -0.06470797501899186,
           -0.12382519653732582,
           -0.0592293173217555,
           0.030556162897083114,
           0.047940110791782294,
           0.06745692509792364,
           0.0004704805518046129,
           -0.00020263779193736855,
           0.0022574679719620087,
           -0.0007715341800703232,
           -0.0014167211446850028,
           0.003103402535564952,
           0.002764372088590574,
           -0.00044764134499224433,
           -0.0010438535583232992,
           0.0005412369024745282,
           0.0016655249364696076,
           0.0005749746503442117,
           0.0012197619159613055,
           -0.0005167363145738323,
           0.00018148010908247355,
           -0.0013611791678408936,
           -0.0009608000950871937
          ],
          [
           -0.00047893199093413047,
           0.013146978438781246,
           0.18858311700205918,
           0.030944960292261715,
           0.014036610712139238,
           0.044978473326504606,
           0.004880747623625458,
           -0.35683833274499904,
           -0.2604376422092236,
           1.0,
           -0.21117306476218525,
           0.006489106788144344,
           0.010041261161326986,
           0.012254073500305164,
           0.007898322664295397,
           0.015413123032131852,
           0.052775574174329334,
           0.005854905555417932,
           0.03603562289282283,
           -0.0332725446539966,
           0.0009741110543648791,
           -0.029988616804819478,
           0.038462429631455776,
           0.08495716267129813,
           0.0638887460719928,
           0.06337312462413468,
           -0.01097624237397961,
           0.04279226748766709,
           -0.010920062706508004,
           0.025327537974607683,
           0.04137147693432778,
           -0.0821933687301021,
           -0.0008862921614354109,
           0.0006032890364083318,
           0.0012489817846119459,
           0.0015137952726550774,
           0.0008268945510498403,
           -0.0011713719830313445,
           -0.0010929434068323218,
           -0.0006318117597199733,
           -0.0012414424693481063,
           -0.0004320285599224442,
           -0.0019591595357223396,
           -0.0027823010069090493,
           -0.002047724572786132,
           -0.0005794594623620968,
           -6.765604151978188e-05,
           -0.0009190393767054746,
           0.0009953591808335657
          ],
          [
           -0.002207988997677067,
           -0.008236815985514567,
           0.1627999861869906,
           0.11007582271780689,
           0.11130640018592014,
           -0.011441657815300007,
           -0.0050687312021216535,
           -0.38434514013863447,
           -0.2805134227700197,
           -0.21117306476218525,
           1.0,
           -0.006972868230101217,
           -0.014372442368727069,
           -0.030857775582384717,
           -0.010612127908362868,
           -0.031640265270961615,
           0.06486960724135384,
           0.040109224305151514,
           -0.011023469836607316,
           -0.03963118000019327,
           0.02426410263543389,
           0.03995547974881677,
           -0.049943633728993575,
           -0.07038654070728184,
           0.0428761334865544,
           -0.008708840542991274,
           0.034202576735929344,
           0.05031732944402148,
           -0.047699761095759824,
           -0.00687141523928333,
           -0.053983464789145515,
           -0.02222383963395428,
           0.0008295720883816524,
           0.0002826974574501988,
           -0.001951994888267138,
           0.0013778111002170964,
           0.0022687777239796653,
           8.414159278212709e-05,
           -0.000562446653686342,
           7.181830788460824e-05,
           0.000663667813310181,
           0.001439010593754627,
           -0.0003887243839006073,
           -0.0006211068335357588,
           0.001058856885756094,
           0.001134864056114266,
           0.0008151460825746571,
           -0.0011026523735723538,
           -0.00012315711435414317
          ],
          [
           -0.0012612850576022075,
           0.0018147796965638588,
           0.001847228909831448,
           -0.0007443279033738822,
           0.00686512319064189,
           0.0007887076973342341,
           0.0017424754145380756,
           -0.008977535013184641,
           0.010739652662638518,
           0.006489106788144344,
           -0.006972868230101217,
           1.0,
           0.06483734787198987,
           0.09799846252882818,
           0.08141549712845543,
           0.26621523092435156,
           -0.022122320890474497,
           -0.024021375653602368,
           0.005366401619311756,
           0.027264135678598093,
           0.007989028500661119,
           -0.015804418556154817,
           0.024833271794178498,
           0.016566215782012134,
           0.015251836567212886,
           0.004487183793846699,
           -0.01780425859352495,
           -0.0036596207024356705,
           0.0082664409564888,
           0.0007083813828478605,
           0.005909491658760697,
           0.0025262371890126868,
           3.100019801835291e-05,
           0.00132886951241507,
           -0.002677298661133378,
           0.0012737060249125552,
           0.0014216349339335546,
           0.002842382982084886,
           -0.0003671698201875837,
           -0.0023492443946713077,
           0.0013666102034156126,
           0.001968875596109247,
           0.00023239812552867627,
           -0.0032329018832894796,
           0.0010115230415397082,
           0.0003451145587065771,
           0.00023955239726392255,
           0.0015546541592415916,
           -0.003389818864803641
          ],
          [
           -0.001209804426148668,
           0.0020281711723608956,
           -0.016726587843611262,
           0.0007716519259193071,
           -0.00398647923236278,
           0.0010183114528846745,
           -0.0006363666372225003,
           -0.0052293822490551735,
           0.010118980387081193,
           0.010041261161326986,
           -0.014372442368727069,
           0.06483734787198987,
           1.0,
           0.2500763818629762,
           0.17943219033525157,
           0.5649029739355256,
           -0.06125127547361095,
           -0.054007422664833216,
           0.0035177531682825296,
           0.06901728994364945,
           0.00420489207220886,
           -0.002474353574956624,
           0.04610459759760149,
           0.008594505962550932,
           0.0307826237520869,
           0.002257300699842321,
           -0.016299801093062935,
           -0.004473578533978509,
           0.021168527983262284,
           -0.0018207469444587751,
           0.005671365912134987,
           0.0011542083055981621,
           -0.0011960063936701931,
           -0.00011120385630700709,
           0.000910829501761915,
           -0.0017878545885394827,
           0.0009946385801952449,
           0.000675129501667861,
           0.0010608594409819694,
           0.00018449154616471063,
           -0.0006120933976180955,
           0.0003040675893245571,
           -0.0007858590549958653,
           -0.0006590162500335249,
           0.0014178496831814482,
           0.001064120894248575,
           -0.001101599223895727,
           -0.00124072852428391,
           0.00040941255000637877
          ],
          [
           -0.00017701120227953454,
           0.0078103084434938295,
           -0.02340598033757039,
           -0.004615510735825621,
           0.0016976891777431033,
           -0.0012169376250840901,
           -0.001831240440538545,
           -0.017498505238517773,
           0.036619156406925375,
           0.012254073500305164,
           -0.030857775582384717,
           0.09799846252882818,
           0.2500763818629762,
           1.0,
           0.15172760153654272,
           0.8901272526593912,
           -0.11699521962430298,
           -0.09944135106518237,
           0.025180581169260943,
           0.10928667412452821,
           0.016351323808795618,
           -0.01722907241500742,
           0.12076679710040544,
           0.027940354431812538,
           0.07047807765139365,
           0.004409331864039473,
           -0.03441622647011792,
           -0.01332335407020998,
           0.044120564246464954,
           -0.00508592585110611,
           0.011473568431568767,
           0.0044405123227909795,
           -0.0010630051163120823,
           0.00018512789955040158,
           0.000516936925499091,
           0.0017231519792317055,
           0.003783782111830129,
           -0.0020161776675509664,
           0.0019267518147433878,
           0.000128960121691486,
           0.0008132382695546607,
           0.0005585972004795325,
           -0.0005013388256705757,
           -0.0016324069179437177,
           0.0017539182011076183,
           0.0013843957990028455,
           -0.0013589599814370088,
           -0.0017793822878312809,
           0.0031663201946097188
          ],
          [
           -0.0017178219451433232,
           0.0024602908319258606,
           -0.008775500240686976,
           -0.0011867308079097534,
           0.00392862651390925,
           -0.0008934939930194587,
           0.001312873260557115,
           -0.008390064166735468,
           0.012124758822620494,
           0.007898322664295397,
           -0.010612127908362868,
           0.08141549712845543,
           0.17943219033525157,
           0.15172760153654272,
           1.0,
           0.42639988362844805,
           -0.04048585112766336,
           -0.04068044208767216,
           0.00413612566413535,
           0.05082310409175068,
           0.0058146031738485985,
           -0.008441249274929168,
           0.037718276042184064,
           0.014655985827309276,
           0.023471106794058203,
           0.0016058356563016126,
           -0.015614273025725687,
           -0.005009607474459792,
           0.014756941996748466,
           0.0002595796322974466,
           0.004531083396469404,
           0.001234069029952286,
           0.000349284365188583,
           -0.00041568351088625216,
           -0.002162688802186935,
           0.00041364798436141313,
           0.0027903312033983317,
           -0.002330326502147568,
           0.0009485297239861148,
           -0.00018583926200984541,
           -0.0014181281398796739,
           -0.0021253852767337436,
           0.000874525058532212,
           0.0004916403631603665,
           0.0015699943019584597,
           -0.0029176616014148344,
           -0.00011712544370401624,
           0.002079286759947947,
           -0.0009808134646822802
          ],
          [
           -0.0011293527970817141,
           0.0074428309648139415,
           -0.02497119706380611,
           -0.003649390892299846,
           0.0019895460604970206,
           -0.0006905936003636214,
           -0.001012831348804875,
           -0.018333861999796107,
           0.035572641614898405,
           0.015413123032131852,
           -0.031640265270961615,
           0.26621523092435156,
           0.5649029739355256,
           0.8901272526593912,
           0.42639988362844805,
           1.0,
           -0.12154712140254384,
           -0.10623968986022739,
           0.022033337010334265,
           0.12147762405356627,
           0.01636312986800329,
           -0.018287753550452278,
           0.11926866345591323,
           0.029994631058017605,
           0.07131983388449886,
           0.005136795765268227,
           -0.037805432776002824,
           -0.013304549299903993,
           0.045080438776404094,
           -0.00427251057208424,
           0.012513326139589956,
           0.004418449708888241,
           -0.0011022975070728342,
           0.00020541688400103905,
           -0.00024164533876208473,
           0.0010228747040311582,
           0.004077353989599591,
           -0.0014427896242121033,
           0.001975748285360836,
           -0.00024326970061660326,
           0.00028409101359149397,
           0.00030681115009076137,
           -0.00038714133380647196,
           -0.0018207206855969129,
           0.0023183867020431506,
           0.0007408167748194556,
           -0.0013771848219751998,
           -0.0010118034751274217,
           0.0017825538619501557
          ],
          [
           -0.0019349923253051936,
           -0.02150622168788817,
           0.12213672531024436,
           -0.0038542040298718537,
           0.17044861491716903,
           0.07707144391349827,
           0.012326335746017493,
           0.01640620515432804,
           -0.12072867940666913,
           0.052775574174329334,
           0.06486960724135384,
           -0.022122320890474497,
           -0.06125127547361095,
           -0.11699521962430298,
           -0.04048585112766336,
           -0.12154712140254384,
           1.0,
           0.31244950310309133,
           -0.021884130311825453,
           -0.45168940997349744,
           0.025690451286087948,
           0.008990106374832978,
           0.06539839780067339,
           -0.04714742710106486,
           0.05151699052707461,
           0.0008576242267381677,
           0.05970332843123464,
           0.016783815050086203,
           0.03787983280932669,
           0.016128999534988916,
           -0.014094740994882985,
           0.022999695061961943,
           0.0015836127234392147,
           0.0008742837980310804,
           3.349415158297259e-05,
           0.0017213970445760945,
           -0.0013086573803460292,
           -0.0009849673818394845,
           -0.001278705955536801,
           -0.0019515651504133746,
           -0.0012626527588479603,
           -0.0009216867411593551,
           0.001348343378809588,
           0.0007020649300910482,
           -0.0019153659560989628,
           0.0011762611405289737,
           -0.0013255253293460454,
           0.0017437917830280592,
           -0.002039514522085841
          ],
          [
           -0.0005004384418756588,
           -0.027778075788648455,
           0.0368956637484447,
           0.012682148590449879,
           -0.01825125801540498,
           0.017497056768276353,
           0.0043148996980777975,
           0.02835208353232434,
           -0.07232059014963113,
           0.005854905555417932,
           0.040109224305151514,
           -0.024021375653602368,
           -0.054007422664833216,
           -0.09944135106518237,
           -0.04068044208767216,
           -0.10623968986022739,
           0.31244950310309133,
           1.0,
           -0.518076359741285,
           -0.5942654327440993,
           0.000449328751059964,
           0.030264159750268645,
           -0.04949269493981059,
           -0.0444324580159051,
           -0.05824884239145419,
           -0.016400415460973417,
           0.043830004289338316,
           0.030265908254077416,
           0.01587326196247508,
           0.006596901955514019,
           -0.009989048367195774,
           0.02108927713966739,
           -0.00015427566393635717,
           0.0013615649246268365,
           -0.00035490506837888684,
           0.001070181079297779,
           -0.0019205651214990803,
           -0.00042738389508255336,
           -0.0009309516956589041,
           -0.0005474330902532191,
           0.0004788567902211824,
           -0.001205708134776814,
           -0.00016701443375272682,
           0.0009289338594358783,
           -0.0004946092252117053,
           -0.000432323026065295,
           9.269330911144216e-05,
           0.0003020462737266211,
           0.0015192075604170449
          ],
          [
           0.0013438936799815473,
           0.03705260633561922,
           0.10125709413318262,
           -0.018727145555809944,
           0.027691181225201148,
           0.007830396023942783,
           0.0071627770677436566,
           -0.03712107367514967,
           0.020776151947280146,
           0.03603562289282283,
           -0.011023469836607316,
           0.005366401619311756,
           0.0035177531682825296,
           0.025180581169260943,
           0.00413612566413535,
           0.022033337010334265,
           -0.021884130311825453,
           -0.518076359741285,
           1.0,
           -0.15802098729280864,
           0.05887565361580717,
           -0.056259584636480064,
           0.13732818747730724,
           0.04455001980419051,
           0.06773302596256506,
           0.03406713268871457,
           -0.04366212443162395,
           -0.008200216193650531,
           0.07609946186560423,
           -0.008669005786151814,
           0.007732623493329746,
           0.008827122880153667,
           0.0006707357574975719,
           -0.0028267070319113923,
           -0.0003381879933766814,
           -0.0007815553133858121,
           -0.0006022847453995306,
           0.0005913211470264439,
           -0.0006993075561927059,
           -0.0010905132359777818,
           -0.0008502466566857318,
           0.0004287804389088475,
           0.0007460892730801729,
           -0.0015898973721007975,
           -0.00021109233161309543,
           -0.00024213748444542482,
           4.6684570859090036e-05,
           -0.0007755225209437762,
           -0.001922700612823545
          ],
          [
           0.0008157280242234267,
           0.004555455715168839,
           -0.11222626697639439,
           -0.0003739401590504564,
           0.0013157749639202364,
           -0.02579748587369274,
           -0.008252314414825627,
           -0.011750963576165853,
           0.07656187216216323,
           -0.0332725446539966,
           -0.03963118000019327,
           0.027264135678598093,
           0.06901728994364945,
           0.10928667412452821,
           0.05082310409175068,
           0.12147762405356627,
           -0.45168940997349744,
           -0.5942654327440993,
           -0.15802098729280864,
           1.0,
           -0.04596757669571928,
           0.006388259993701623,
           -0.04107945685222684,
           0.01874803822746782,
           -0.0032120688606149563,
           -0.007200395427375478,
           -0.017357635513035166,
           -0.027826551074698964,
           -0.044733473917266287,
           -0.0032419402785540067,
           0.004609844546406041,
           -0.02613502452125402,
           -0.0009732616497497807,
           -0.00019562794460521515,
           0.00112460665677965,
           -2.5850049554269232e-05,
           0.0018345907179065724,
           0.00011597648018706348,
           0.001364003682972567,
           0.002110541450550706,
           0.0015743622718238873,
           0.001992229747677625,
           -0.0012387502669966627,
           -0.0003786053015293986,
           -8.221784185795778e-05,
           6.434466220910609e-05,
           7.039774776981445e-05,
           -0.0007859433395374316,
           0.0007240485980813013
          ],
          [
           -0.001052384043273799,
           0.016255693742772012,
           -0.05612096023089955,
           0.0021485024537578157,
           -0.028519891228882308,
           0.029379371951352606,
           -0.03621285304074287,
           -0.07554574375144933,
           0.062063867997878226,
           0.0009741110543648791,
           0.02426410263543389,
           0.007989028500661119,
           0.00420489207220886,
           0.016351323808795618,
           0.0058146031738485985,
           0.01636312986800329,
           0.025690451286087948,
           0.000449328751059964,
           0.05887565361580717,
           -0.04596757669571928,
           1.0,
           -0.15273263052044012,
           0.13805458898618223,
           0.06773239330277737,
           -0.14725757311169388,
           0.053325867473472545,
           0.0010712044261032311,
           -0.05954768418602595,
           0.27290021926410896,
           0.006355097797647655,
           0.010497666747213601,
           0.11092050571941496,
           0.00039543039170881464,
           -0.0012297197856073099,
           -0.0012509298116358631,
           -0.0006230035403729546,
           -0.0012070736414709006,
           4.220234506691699e-05,
           0.0014431604443369938,
           -0.000424762989918691,
           -0.0007933308500330998,
           0.000874041787844258,
           6.956699438872142e-05,
           0.0009652394539110704,
           -0.0010678795853342811,
           0.00040245516164774366,
           0.00036411366709582037,
           0.0005198560815128955,
           -0.0005613985985721448
          ],
          [
           -0.00040334494636219437,
           -0.03153359612438814,
           -0.11698664679144183,
           0.04523308396695259,
           -0.04490674148704961,
           0.0031621098779806996,
           0.012878919847975364,
           0.13638274599329003,
           -0.16260101236029972,
           -0.029988616804819478,
           0.03995547974881677,
           -0.015804418556154817,
           -0.002474353574956624,
           -0.01722907241500742,
           -0.008441249274929168,
           -0.018287753550452278,
           0.008990106374832978,
           0.030264159750268645,
           -0.056259584636480064,
           0.006388259993701623,
           -0.15273263052044012,
           1.0,
           -0.11109462485616893,
           -0.2736723688881489,
           -0.09208322478196956,
           -0.2530888928054079,
           0.1036323807876717,
           0.03604366860445445,
           -0.012977575535633435,
           -0.019088186796391026,
           -0.0009649638104181517,
           -0.09014365639857143,
           0.0002867006915949548,
           0.00043965375966513123,
           -0.0018349663534579933,
           -4.280683979573788e-05,
           0.0006850633714510455,
           -0.000550905926126556,
           -0.0005988402310763257,
           -0.0008341968657928113,
           0.0020520906048542373,
           0.0012427813649333558,
           -9.926418773546323e-05,
           -1.4807280233576659e-05,
           -0.0029475272140405545,
           -0.0010775834899766639,
           -0.0011509779965204415,
           -0.001429640835512592,
           0.0009304624944877255
          ],
          [
           0.00035446093727700055,
           0.03240097069460356,
           0.04375596050033502,
           -0.002531720281610417,
           0.09565776668555685,
           0.02274437639904159,
           -0.011398778782566992,
           -0.0757231021809835,
           0.09648343943328785,
           0.038462429631455776,
           -0.049943633728993575,
           0.024833271794178498,
           0.04610459759760149,
           0.12076679710040544,
           0.037718276042184064,
           0.11926866345591323,
           0.06539839780067339,
           -0.04949269493981059,
           0.13732818747730724,
           -0.04107945685222684,
           0.13805458898618223,
           -0.11109462485616893,
           1.0,
           0.09719274174914587,
           0.4897894274053439,
           0.033058292204594435,
           -0.1483385551520009,
           -0.24866229809205825,
           0.2724071564131674,
           0.014220105244686419,
           0.015778200128490922,
           0.08254922005024012,
           -0.000450980327821047,
           -0.0003693202386875692,
           0.00043014794862466366,
           0.0030706678434798806,
           0.002117997853312401,
           0.0003282253752524446,
           0.0012104089806011973,
           -0.00269470005989668,
           -0.0025958807152281094,
           0.0008592066483023355,
           0.0012823032623196055,
           -0.0004809622024813614,
           -0.0009000091122368687,
           -0.002190087708031245,
           -0.0013022430575888766,
           -0.0004145085958394142,
           0.0014224541267759635
          ],
          [
           0.0023098896739948355,
           0.03289987493999408,
           0.07904155054810319,
           -0.07218977632989752,
           0.07298961054261868,
           -0.045361298018711534,
           -0.010873195216195189,
           -0.18701667626451934,
           0.19970161209070955,
           0.08495716267129813,
           -0.07038654070728184,
           0.016566215782012134,
           0.008594505962550932,
           0.027940354431812538,
           0.014655985827309276,
           0.029994631058017605,
           -0.04714742710106486,
           -0.0444324580159051,
           0.04455001980419051,
           0.01874803822746782,
           0.06773239330277737,
           -0.2736723688881489,
           0.09719274174914587,
           1.0,
           0.1410031337622068,
           0.19401461615484175,
           -0.183374259152252,
           -0.051065725258464985,
           -0.03940529174779886,
           0.0007206109590385716,
           0.07044614846860035,
           -0.05732607898195978,
           0.0009314839836599153,
           0.001538790476113695,
           0.0008717001182058602,
           0.0002434918758893953,
           0.001215931309404982,
           -0.0003188249939400298,
           0.0014737778917999933,
           0.001198066784989914,
           0.0017213100008985833,
           0.00042311633950505554,
           -0.0023388274799089463,
           0.0013882598831542084,
           0.0005797271724829382,
           0.0006342039000379585,
           0.00012764466562672762,
           -0.00032009578405131915,
           -0.00053019163375622
          ],
          [
           -0.00084973643195865,
           0.020754434133130183,
           0.21300928032997266,
           -0.008406520927757209,
           0.14359654865912472,
           0.06339932427169784,
           -0.006561608549998125,
           -0.16489012332400702,
           0.09210731694577427,
           0.0638887460719928,
           0.0428761334865544,
           0.015251836567212886,
           0.0307826237520869,
           0.07047807765139365,
           0.023471106794058203,
           0.07131983388449886,
           0.05151699052707461,
           -0.05824884239145419,
           0.06773302596256506,
           -0.0032120688606149563,
           -0.14725757311169388,
           -0.09208322478196956,
           0.4897894274053439,
           0.1410031337622068,
           1.0,
           0.06106827662381854,
           -0.08375675814608785,
           -0.03980901941417688,
           -0.3277505348256675,
           0.023489698077017843,
           0.0381054143876413,
           -0.0767854717936134,
           -0.0016589918561338293,
           0.0004514638239356366,
           0.00041283967270271094,
           0.00044122781336206713,
           0.0016640401043901052,
           4.603530801234207e-05,
           -0.0016082481209494677,
           -0.0017017001612216404,
           -0.00035882930966736403,
           0.001321626001389105,
           0.0018638072930969062,
           -0.0014997038236184486,
           0.00139594731436232,
           -0.002814554153502601,
           -0.0008849150440545439,
           -0.002417940157122881,
           0.00014994127387365765
          ],
          [
           -0.0010096893760912734,
           0.011536659955756626,
           0.07019202187349194,
           -0.01730091230640416,
           0.008021293226172437,
           0.025323615321091824,
           -0.007229963205387081,
           -0.05988730879735985,
           0.021012550690436286,
           0.06337312462413468,
           -0.008708840542991274,
           0.004487183793846699,
           0.002257300699842321,
           0.004409331864039473,
           0.0016058356563016126,
           0.005136795765268227,
           0.0008576242267381677,
           -0.016400415460973417,
           0.03406713268871457,
           -0.007200395427375478,
           0.053325867473472545,
           -0.2530888928054079,
           0.033058292204594435,
           0.19401461615484175,
           0.06106827662381854,
           1.0,
           -0.02611622835394703,
           -0.014611818480575921,
           0.003325569073897102,
           -0.0032214358762925454,
           0.02538467026238111,
           -0.030801632989532358,
           0.0008598200601962254,
           0.0015746128524585397,
           0.001110347739389373,
           -4.896531776978866e-05,
           0.000492169558831998,
           0.0025789004953264303,
           -0.0008241917715083076,
           0.0011949560411547635,
           0.0004671486827749187,
           -0.002020251572004944,
           0.0008061524226712274,
           0.0006898033823445376,
           0.0012045255571446942,
           0.0001356500415879047,
           3.477554141470786e-05,
           -0.0023403993866320757,
           -0.0005226832895847189
          ],
          [
           -0.00295558180936417,
           -0.036395222587461,
           -0.0006393452905840409,
           -0.011780550384929915,
           0.05633693325150142,
           0.06465523285489345,
           0.05377652521318424,
           0.03899368073091141,
           -0.06470797501899186,
           -0.01097624237397961,
           0.034202576735929344,
           -0.01780425859352495,
           -0.016299801093062935,
           -0.03441622647011792,
           -0.015614273025725687,
           -0.037805432776002824,
           0.05970332843123464,
           0.043830004289338316,
           -0.04366212443162395,
           -0.017357635513035166,
           0.0010712044261032311,
           0.1036323807876717,
           -0.1483385551520009,
           -0.183374259152252,
           -0.08375675814608785,
           -0.02611622835394703,
           1.0,
           0.06452922604309512,
           -0.03960711477236637,
           0.004429101557904253,
           -0.07832725913606242,
           0.05573757109216421,
           0.00014317246994072214,
           -0.0017662455375439797,
           0.0013053744161633154,
           -9.291203883074261e-05,
           0.0005499792456064279,
           -0.0014661881547110298,
           -0.0012697210457009727,
           0.0005028118507510407,
           0.00013697915328396657,
           0.0014953290730628222,
           0.0002951428704439685,
           -0.0004381102787243475,
           -0.0012544219061968792,
           0.0005855222178376709,
           0.000347062418778766,
           0.0017796446920539488,
           -0.0023689086360798224
          ],
          [
           0.0007475961383047262,
           -0.02034193348577494,
           0.1381116289003837,
           0.001525760478627604,
           0.003607155114386827,
           -0.008147548468074901,
           -0.002083953743306598,
           0.038313070317179294,
           -0.12382519653732582,
           0.04279226748766709,
           0.05031732944402148,
           -0.0036596207024356705,
           -0.004473578533978509,
           -0.01332335407020998,
           -0.005009607474459792,
           -0.013304549299903993,
           0.016783815050086203,
           0.030265908254077416,
           -0.008200216193650531,
           -0.027826551074698964,
           -0.05954768418602595,
           0.03604366860445445,
           -0.24866229809205825,
           -0.051065725258464985,
           -0.03980901941417688,
           -0.014611818480575921,
           0.06452922604309512,
           1.0,
           -0.01629853642416807,
           -0.03125167998577641,
           0.034364928649397726,
           -0.03852390264191782,
           -0.0013407294190586774,
           -0.0005443907527116243,
           -0.0014563424458583912,
           -0.001442507108885116,
           2.676247359561589e-05,
           -0.0005307547879870581,
           -0.002119260300436358,
           0.0015842335640298033,
           0.000638302219296517,
           0.0003935211621883242,
           -0.001169026770712067,
           -0.0010101875324775706,
           0.0020955546330849594,
           0.0013782617361940024,
           -0.0010009801233439057,
           0.00037910847774778465,
           0.0002479460755591218
          ],
          [
           0.0004940853380194146,
           0.005322494909285372,
           -0.10258232980370965,
           0.00943453402178943,
           -0.013205469282530264,
           -0.041983012536472374,
           -0.008333774284880439,
           0.099183937638165,
           -0.0592293173217555,
           -0.010920062706508004,
           -0.047699761095759824,
           0.0082664409564888,
           0.021168527983262284,
           0.044120564246464954,
           0.014756941996748466,
           0.045080438776404094,
           0.03787983280932669,
           0.01587326196247508,
           0.07609946186560423,
           -0.044733473917266287,
           0.27290021926410896,
           -0.012977575535633435,
           0.2724071564131674,
           -0.03940529174779886,
           -0.3277505348256675,
           0.003325569073897102,
           -0.03960711477236637,
           -0.01629853642416807,
           1.0,
           -0.023541068642755618,
           -0.011188268526013793,
           0.118969444214404,
           0.0010399053973848705,
           0.000742380142943102,
           -0.0017702971365083872,
           0.0020812179822042184,
           -0.0016920322564709222,
           -0.0012319557421306066,
           0.0012705153842219139,
           -0.0011916824704620293,
           -0.0004672662506184927,
           -0.0004903231499656013,
           -0.0010919839975814492,
           0.000952177846428389,
           -0.0010595306612630993,
           -0.0005462931019548912,
           0.0016412416111247852,
           0.0012730291759388826,
           0.0005456450862334286
          ],
          [
           -0.0009282837448446624,
           0.0010382993212153732,
           0.010793696829685654,
           0.011401456422593695,
           -0.008560954021673296,
           0.023010432834079733,
           0.0021680744466516886,
           -0.04105681120470314,
           0.030556162897083114,
           0.025327537974607683,
           -0.00687141523928333,
           0.0007083813828478605,
           -0.0018207469444587751,
           -0.00508592585110611,
           0.0002595796322974466,
           -0.00427251057208424,
           0.016128999534988916,
           0.006596901955514019,
           -0.008669005786151814,
           -0.0032419402785540067,
           0.006355097797647655,
           -0.019088186796391026,
           0.014220105244686419,
           0.0007206109590385716,
           0.023489698077017843,
           -0.0032214358762925454,
           0.004429101557904253,
           -0.03125167998577641,
           -0.023541068642755618,
           1.0,
           0.003492611977831433,
           0.013412995647701325,
           -0.002204188680200555,
           -0.00016428189498661694,
           -0.001631419908690513,
           3.3458338844367305e-06,
           0.0029077892163720284,
           -0.001411527341611807,
           -0.0015616995757277976,
           0.0018166596896549963,
           0.0024027112854067625,
           0.002988088024274986,
           -0.00035930506367805635,
           -0.0008346704499219239,
           0.0010212393206456634,
           -0.0005117859571067839,
           0.0007416018344199372,
           -0.0005855613681766773,
           0.00023838942052386116
          ],
          [
           0.0020474413080678725,
           0.006128798326761823,
           0.008187861301748726,
           0.014955195806662906,
           -0.02596590172891641,
           -0.0006146254081137504,
           -0.002249565476054419,
           -0.03129622770642452,
           0.047940110791782294,
           0.04137147693432778,
           -0.053983464789145515,
           0.005909491658760697,
           0.005671365912134987,
           0.011473568431568767,
           0.004531083396469404,
           0.012513326139589956,
           -0.014094740994882985,
           -0.009989048367195774,
           0.007732623493329746,
           0.004609844546406041,
           0.010497666747213601,
           -0.0009649638104181517,
           0.015778200128490922,
           0.07044614846860035,
           0.0381054143876413,
           0.02538467026238111,
           -0.07832725913606242,
           0.034364928649397726,
           -0.011188268526013793,
           0.003492611977831433,
           1.0,
           -0.04976970779855611,
           0.00021324227842270724,
           -0.00018470178610462078,
           -0.0010305527324257996,
           0.0016531383200823716,
           -7.104884064449972e-05,
           0.0016651672130237483,
           0.0016610534717776443,
           1.1254065435562394e-05,
           -0.00035862222351277064,
           -0.0005780266596425775,
           0.0002478062054980295,
           -0.0011744468682810259,
           0.0020541819917873332,
           0.002919214150520812,
           -0.0004828954298334654,
           -0.0003423887666790013,
           0.0015132572839375348
          ],
          [
           0.0026413932462384655,
           -0.0012133568962230331,
           0.008251527554781795,
           0.019948833190352715,
           -0.05935778461180635,
           0.07348633332465844,
           0.0010755447570798893,
           0.01961761811640833,
           0.06745692509792364,
           -0.0821933687301021,
           -0.02222383963395428,
           0.0025262371890126868,
           0.0011542083055981621,
           0.0044405123227909795,
           0.001234069029952286,
           0.004418449708888241,
           0.022999695061961943,
           0.02108927713966739,
           0.008827122880153667,
           -0.02613502452125402,
           0.11092050571941496,
           -0.09014365639857143,
           0.08254922005024012,
           -0.05732607898195978,
           -0.0767854717936134,
           -0.030801632989532358,
           0.05573757109216421,
           -0.03852390264191782,
           0.118969444214404,
           0.013412995647701325,
           -0.04976970779855611,
           1.0,
           0.00022496945278697157,
           0.002458872518493415,
           -0.00025111560741128023,
           -0.00033023183208716355,
           -0.002458276048011217,
           -0.0005101365289592108,
           -0.0005672563408703436,
           -0.0012063305466676276,
           -0.0011809019951352032,
           0.0011334652327924433,
           0.0009449124419327732,
           -0.0007033351603314765,
           0.0005081330268081704,
           -9.260927347531911e-05,
           0.0009303397770724628,
           0.0022312615376931856,
           0.001280038558317193
          ],
          [
           0.0036383179611819377,
           3.2720455107159456e-05,
           -0.0009430787753174504,
           -0.002111048732799757,
           0.0007029223319995609,
           0.0008255181087068532,
           0.0012916973382696244,
           -0.00040897151757199367,
           0.0004704805518046129,
           -0.0008862921614354109,
           0.0008295720883816524,
           3.100019801835291e-05,
           -0.0011960063936701931,
           -0.0010630051163120823,
           0.000349284365188583,
           -0.0011022975070728342,
           0.0015836127234392147,
           -0.00015427566393635717,
           0.0006707357574975719,
           -0.0009732616497497807,
           0.00039543039170881464,
           0.0002867006915949548,
           -0.000450980327821047,
           0.0009314839836599153,
           -0.0016589918561338293,
           0.0008598200601962254,
           0.00014317246994072214,
           -0.0013407294190586774,
           0.0010399053973848705,
           -0.002204188680200555,
           0.00021324227842270724,
           0.00022496945278697157,
           1.0,
           0.0006326671086399827,
           -0.001845321076100575,
           0.0014451241140297699,
           -0.0018465549286891013,
           -3.835483364034827e-05,
           5.835324671095237e-08,
           0.0002445677454272767,
           0.0009784493310648255,
           -0.0002146281556930457,
           0.00117956060847678,
           0.00017189271200305397,
           -0.0008738127601117421,
           0.001185636849081176,
           0.0011092144691689856,
           0.000901670355747475,
           0.00014614969739956845
          ],
          [
           -0.000591590850083563,
           0.0007708801365361789,
           -0.001171189955575937,
           -0.0015478301217391854,
           -0.00124483981613212,
           0.001027798873083514,
           -0.0006420444921119534,
           -0.0005006935696638386,
           -0.00020263779193736855,
           0.0006032890364083318,
           0.0002826974574501988,
           0.00132886951241507,
           -0.00011120385630700709,
           0.00018512789955040158,
           -0.00041568351088625216,
           0.00020541688400103905,
           0.0008742837980310804,
           0.0013615649246268365,
           -0.0028267070319113923,
           -0.00019562794460521515,
           -0.0012297197856073099,
           0.00043965375966513123,
           -0.0003693202386875692,
           0.001538790476113695,
           0.0004514638239356366,
           0.0015746128524585397,
           -0.0017662455375439797,
           -0.0005443907527116243,
           0.000742380142943102,
           -0.00016428189498661694,
           -0.00018470178610462078,
           0.002458872518493415,
           0.0006326671086399827,
           1.0,
           -0.0013940213742305763,
           -0.0022117543279146354,
           -0.0017921422616933762,
           0.0011537560131783223,
           -0.00023581508931659273,
           0.0003868027238659907,
           -0.00021170094528748975,
           0.00027033313992228127,
           -0.0009686463055696605,
           7.896468850695335e-05,
           -0.0009427509379683803,
           -0.0009852664395485322,
           -0.0004058525742853213,
           0.00026514988456799834,
           0.0014943221390327365
          ],
          [
           0.0009574769937712452,
           8.182225978205306e-05,
           0.00014683213520095265,
           8.548689230307831e-05,
           0.0023614979575671243,
           0.0026258399586337597,
           -0.00024941758434079725,
           -0.0014131826801872418,
           0.0022574679719620087,
           0.0012489817846119459,
           -0.001951994888267138,
           -0.002677298661133378,
           0.000910829501761915,
           0.000516936925499091,
           -0.002162688802186935,
           -0.00024164533876208473,
           3.349415158297259e-05,
           -0.00035490506837888684,
           -0.0003381879933766814,
           0.00112460665677965,
           -0.0012509298116358631,
           -0.0018349663534579933,
           0.00043014794862466366,
           0.0008717001182058602,
           0.00041283967270271094,
           0.001110347739389373,
           0.0013053744161633154,
           -0.0014563424458583912,
           -0.0017702971365083872,
           -0.001631419908690513,
           -0.0010305527324257996,
           -0.00025111560741128023,
           -0.001845321076100575,
           -0.0013940213742305763,
           1.0,
           -7.531912940734491e-05,
           -0.000603379531705,
           0.0017095886432559589,
           -0.0015344104636153145,
           -0.0005749585705785949,
           0.000606879888333531,
           0.0009738384019131947,
           -0.0008696868262338701,
           0.0006305110709976015,
           0.00013999232688450294,
           0.0003201823342879596,
           0.0020048012309444117,
           0.001185020358563465,
           0.0008642753852542953
          ],
          [
           0.0007882447910606476,
           -0.00010347690485265882,
           -0.0006583998180269789,
           -0.00017173251468897293,
           0.0015325306198654468,
           -0.0001507383234412961,
           -0.001902390027468809,
           -0.0015526558607684004,
           -0.0007715341800703232,
           0.0015137952726550774,
           0.0013778111002170964,
           0.0012737060249125552,
           -0.0017878545885394827,
           0.0017231519792317055,
           0.00041364798436141313,
           0.0010228747040311582,
           0.0017213970445760945,
           0.001070181079297779,
           -0.0007815553133858121,
           -2.5850049554269232e-05,
           -0.0006230035403729546,
           -4.280683979573788e-05,
           0.0030706678434798806,
           0.0002434918758893953,
           0.00044122781336206713,
           -4.896531776978866e-05,
           -9.291203883074261e-05,
           -0.001442507108885116,
           0.0020812179822042184,
           3.3458338844367305e-06,
           0.0016531383200823716,
           -0.00033023183208716355,
           0.0014451241140297699,
           -0.0022117543279146354,
           -7.531912940734491e-05,
           1.0,
           -0.0020846240440268154,
           0.0007561854950527445,
           -0.0005302751847792106,
           -0.000109373544385609,
           -0.0003886932499626191,
           -0.0005993891804409392,
           0.0019081420282555934,
           9.66314589151136e-05,
           -0.0014105868897924454,
           -0.00032686988563508396,
           -0.000310732441279906,
           -0.0011828498563564512,
           0.0003942514216198142
          ],
          [
           0.000835612847691242,
           -0.0010058548384214974,
           0.0029928067889180153,
           -0.0027117639544371125,
           0.0012666649599134556,
           -0.0027755450296178133,
           -0.00014490361613121914,
           -0.0011636516201245283,
           -0.0014167211446850028,
           0.0008268945510498403,
           0.0022687777239796653,
           0.0014216349339335546,
           0.0009946385801952449,
           0.003783782111830129,
           0.0027903312033983317,
           0.004077353989599591,
           -0.0013086573803460292,
           -0.0019205651214990803,
           -0.0006022847453995306,
           0.0018345907179065724,
           -0.0012070736414709006,
           0.0006850633714510455,
           0.002117997853312401,
           0.001215931309404982,
           0.0016640401043901052,
           0.000492169558831998,
           0.0005499792456064279,
           2.676247359561589e-05,
           -0.0016920322564709222,
           0.0029077892163720284,
           -7.104884064449972e-05,
           -0.002458276048011217,
           -0.0018465549286891013,
           -0.0017921422616933762,
           -0.000603379531705,
           -0.0020846240440268154,
           1.0,
           1.3082467918402714e-05,
           -0.0026656686262395567,
           0.0020156141257426648,
           0.00010930539163713192,
           -0.00030400026812217183,
           -0.00017056886241993742,
           -0.0002656538804042417,
           0.0021334585339106765,
           -0.0005416628791647894,
           0.00020163232378358275,
           0.0007846466422700149,
           -0.0007678417278624516
          ],
          [
           0.0005176341988708713,
           0.0007189675843657573,
           -8.533923304049915e-05,
           0.0003556758097243229,
           -0.0015441777405850244,
           0.0004865698877561841,
           -0.0008217959389396053,
           -0.001955110116000671,
           0.003103402535564952,
           -0.0011713719830313445,
           8.414159278212709e-05,
           0.002842382982084886,
           0.000675129501667861,
           -0.0020161776675509664,
           -0.002330326502147568,
           -0.0014427896242121033,
           -0.0009849673818394845,
           -0.00042738389508255336,
           0.0005913211470264439,
           0.00011597648018706348,
           4.220234506691699e-05,
           -0.000550905926126556,
           0.0003282253752524446,
           -0.0003188249939400298,
           4.603530801234207e-05,
           0.0025789004953264303,
           -0.0014661881547110298,
           -0.0005307547879870581,
           -0.0012319557421306066,
           -0.001411527341611807,
           0.0016651672130237483,
           -0.0005101365289592108,
           -3.835483364034827e-05,
           0.0011537560131783223,
           0.0017095886432559589,
           0.0007561854950527445,
           1.3082467918402714e-05,
           1.0,
           -0.00018191557849777222,
           -0.0008978648417142639,
           -0.0014087261304180096,
           -0.0006296039665146222,
           -6.618237838867407e-05,
           0.0009232509440599372,
           -0.0012912698712836317,
           -0.0008141216438988966,
           -0.0010941080196215514,
           0.00044405455709760463,
           6.652856730185543e-05
          ],
          [
           0.000980533554013502,
           0.0010608340444808466,
           -0.0013449818796936771,
           -2.542520349513617e-05,
           0.00023028733837444532,
           0.00012727421795228578,
           -0.0010698729509133489,
           -0.0011970978269571638,
           0.002764372088590574,
           -0.0010929434068323218,
           -0.000562446653686342,
           -0.0003671698201875837,
           0.0010608594409819694,
           0.0019267518147433878,
           0.0009485297239861148,
           0.001975748285360836,
           -0.001278705955536801,
           -0.0009309516956589041,
           -0.0006993075561927059,
           0.001364003682972567,
           0.0014431604443369938,
           -0.0005988402310763257,
           0.0012104089806011973,
           0.0014737778917999933,
           -0.0016082481209494677,
           -0.0008241917715083076,
           -0.0012697210457009727,
           -0.002119260300436358,
           0.0012705153842219139,
           -0.0015616995757277976,
           0.0016610534717776443,
           -0.0005672563408703436,
           5.835324671095237e-08,
           -0.00023581508931659273,
           -0.0015344104636153145,
           -0.0005302751847792106,
           -0.0026656686262395567,
           -0.00018191557849777222,
           1.0,
           0.0003942191139418012,
           0.002086146473402573,
           0.0012790179252307097,
           0.0012524127188466114,
           -0.000320651928570128,
           0.0004215258544216297,
           0.0003662380118533422,
           -0.0016175662068499998,
           -0.001302425409368721,
           -0.0003357342939004014
          ],
          [
           -0.0012488250196405976,
           0.0003714373948919784,
           -0.0012629092646156163,
           3.793867444728029e-05,
           -0.00271554188115075,
           -0.00200083123856293,
           -0.0015247002980410744,
           0.0008220026165339009,
           -0.00044764134499224433,
           -0.0006318117597199733,
           7.181830788460824e-05,
           -0.0023492443946713077,
           0.00018449154616471063,
           0.000128960121691486,
           -0.00018583926200984541,
           -0.00024326970061660326,
           -0.0019515651504133746,
           -0.0005474330902532191,
           -0.0010905132359777818,
           0.002110541450550706,
           -0.000424762989918691,
           -0.0008341968657928113,
           -0.00269470005989668,
           0.001198066784989914,
           -0.0017017001612216404,
           0.0011949560411547635,
           0.0005028118507510407,
           0.0015842335640298033,
           -0.0011916824704620293,
           0.0018166596896549963,
           1.1254065435562394e-05,
           -0.0012063305466676276,
           0.0002445677454272767,
           0.0003868027238659907,
           -0.0005749585705785949,
           -0.000109373544385609,
           0.0020156141257426648,
           -0.0008978648417142639,
           0.0003942191139418012,
           1.0,
           0.0010363096506155862,
           0.0037022935032958253,
           0.0004796006799332971,
           0.0008337638553326855,
           0.0008795353242804832,
           -0.0012352831533996144,
           -0.0009601810727459596,
           -0.0013765088764562936,
           -0.00016434196923935577
          ],
          [
           -0.001093454653076123,
           -0.001132585398131543,
           0.0015206567146518381,
           -0.0008836458794253027,
           -0.002352333367000353,
           -0.0008139493139849512,
           0.0009753755080666246,
           0.001346527577785583,
           -0.0010438535583232992,
           -0.0012414424693481063,
           0.000663667813310181,
           0.0013666102034156126,
           -0.0006120933976180955,
           0.0008132382695546607,
           -0.0014181281398796739,
           0.00028409101359149397,
           -0.0012626527588479603,
           0.0004788567902211824,
           -0.0008502466566857318,
           0.0015743622718238873,
           -0.0007933308500330998,
           0.0020520906048542373,
           -0.0025958807152281094,
           0.0017213100008985833,
           -0.00035882930966736403,
           0.0004671486827749187,
           0.00013697915328396657,
           0.000638302219296517,
           -0.0004672662506184927,
           0.0024027112854067625,
           -0.00035862222351277064,
           -0.0011809019951352032,
           0.0009784493310648255,
           -0.00021170094528748975,
           0.000606879888333531,
           -0.0003886932499626191,
           0.00010930539163713192,
           -0.0014087261304180096,
           0.002086146473402573,
           0.0010363096506155862,
           1.0,
           -0.0003000642782002261,
           0.0009804412238627175,
           0.001557011818479619,
           -0.0009128274758420327,
           0.003564590448088198,
           8.383414231091086e-05,
           0.0010213745943376575,
           -0.0005819389857332146
          ],
          [
           -0.0001570102363974875,
           -0.0004464645318106672,
           0.00019895341092282697,
           -0.0008928474834440371,
           0.00013288787890914573,
           0.0002834052581424088,
           0.001549156967180905,
           -0.0013011186998572416,
           0.0005412369024745282,
           -0.0004320285599224442,
           0.001439010593754627,
           0.001968875596109247,
           0.0003040675893245571,
           0.0005585972004795325,
           -0.0021253852767337436,
           0.00030681115009076137,
           -0.0009216867411593551,
           -0.001205708134776814,
           0.0004287804389088475,
           0.001992229747677625,
           0.000874041787844258,
           0.0012427813649333558,
           0.0008592066483023355,
           0.00042311633950505554,
           0.001321626001389105,
           -0.002020251572004944,
           0.0014953290730628222,
           0.0003935211621883242,
           -0.0004903231499656013,
           0.002988088024274986,
           -0.0005780266596425775,
           0.0011334652327924433,
           -0.0002146281556930457,
           0.00027033313992228127,
           0.0009738384019131947,
           -0.0005993891804409392,
           -0.00030400026812217183,
           -0.0006296039665146222,
           0.0012790179252307097,
           0.0037022935032958253,
           -0.0003000642782002261,
           1.0,
           -0.0023253997103740774,
           0.0007633285228824644,
           0.0026328685607104572,
           -0.0007822956678385264,
           0.0005639452300613327,
           0.001945194513251351,
           -0.0016489428988126732
          ],
          [
           0.001609423824816161,
           0.0013622753431332209,
           -0.0008910685014914849,
           -0.0005185257387844355,
           0.00020474960687044948,
           0.001564549638218458,
           0.002170835212999189,
           0.0003039329025924058,
           0.0016655249364696076,
           -0.0019591595357223396,
           -0.0003887243839006073,
           0.00023239812552867627,
           -0.0007858590549958653,
           -0.0005013388256705757,
           0.000874525058532212,
           -0.00038714133380647196,
           0.001348343378809588,
           -0.00016701443375272682,
           0.0007460892730801729,
           -0.0012387502669966627,
           6.956699438872142e-05,
           -9.926418773546323e-05,
           0.0012823032623196055,
           -0.0023388274799089463,
           0.0018638072930969062,
           0.0008061524226712274,
           0.0002951428704439685,
           -0.001169026770712067,
           -0.0010919839975814492,
           -0.00035930506367805635,
           0.0002478062054980295,
           0.0009449124419327732,
           0.00117956060847678,
           -0.0009686463055696605,
           -0.0008696868262338701,
           0.0019081420282555934,
           -0.00017056886241993742,
           -6.618237838867407e-05,
           0.0012524127188466114,
           0.0004796006799332971,
           0.0009804412238627175,
           -0.0023253997103740774,
           1.0,
           0.001713387982019009,
           0.0001985459429239033,
           -0.001287343165204052,
           -0.0010625487660089186,
           -7.567114607875704e-05,
           -0.00047695089701282217
          ],
          [
           -0.0012272973917402156,
           -0.0004904242506649142,
           -0.00039679021243222155,
           -0.0001091639435269205,
           0.00013443276941903844,
           0.0027346762054485775,
           0.001548047451239712,
           0.0020878603119107173,
           0.0005749746503442117,
           -0.0027823010069090493,
           -0.0006211068335357588,
           -0.0032329018832894796,
           -0.0006590162500335249,
           -0.0016324069179437177,
           0.0004916403631603665,
           -0.0018207206855969129,
           0.0007020649300910482,
           0.0009289338594358783,
           -0.0015898973721007975,
           -0.0003786053015293986,
           0.0009652394539110704,
           -1.4807280233576659e-05,
           -0.0004809622024813614,
           0.0013882598831542084,
           -0.0014997038236184486,
           0.0006898033823445376,
           -0.0004381102787243475,
           -0.0010101875324775706,
           0.000952177846428389,
           -0.0008346704499219239,
           -0.0011744468682810259,
           -0.0007033351603314765,
           0.00017189271200305397,
           7.896468850695335e-05,
           0.0006305110709976015,
           9.66314589151136e-05,
           -0.0002656538804042417,
           0.0009232509440599372,
           -0.000320651928570128,
           0.0008337638553326855,
           0.001557011818479619,
           0.0007633285228824644,
           0.001713387982019009,
           1.0,
           0.0003847799596396189,
           0.0010284195630817046,
           -0.0008488737176605966,
           0.0008350357428633705,
           0.0028691848832764094
          ],
          [
           -0.001412005900504181,
           0.0006238280115069002,
           -1.1545248109605945e-05,
           0.0009195635201592935,
           -0.0007442327813956861,
           0.0022953462039966353,
           -0.00036823623935244105,
           -0.00038145116468386327,
           0.0012197619159613055,
           -0.002047724572786132,
           0.001058856885756094,
           0.0010115230415397082,
           0.0014178496831814482,
           0.0017539182011076183,
           0.0015699943019584597,
           0.0023183867020431506,
           -0.0019153659560989628,
           -0.0004946092252117053,
           -0.00021109233161309543,
           -8.221784185795778e-05,
           -0.0010678795853342811,
           -0.0029475272140405545,
           -0.0009000091122368687,
           0.0005797271724829382,
           0.00139594731436232,
           0.0012045255571446942,
           -0.0012544219061968792,
           0.0020955546330849594,
           -0.0010595306612630993,
           0.0010212393206456634,
           0.0020541819917873332,
           0.0005081330268081704,
           -0.0008738127601117421,
           -0.0009427509379683803,
           0.00013999232688450294,
           -0.0014105868897924454,
           0.0021334585339106765,
           -0.0012912698712836317,
           0.0004215258544216297,
           0.0008795353242804832,
           -0.0009128274758420327,
           0.0026328685607104572,
           0.0001985459429239033,
           0.0003847799596396189,
           1.0,
           -0.001670131862574578,
           0.0007356946834361805,
           7.729719133492816e-05,
           -8.498697276262237e-05
          ],
          [
           -0.0012665829156906327,
           -0.00017012817366195574,
           -0.0008675973201972937,
           0.0005472321892402385,
           0.00015773156327487207,
           0.0007734421027461945,
           0.00015309117899222943,
           -1.2555595169838768e-06,
           -0.0005167363145738323,
           -0.0005794594623620968,
           0.001134864056114266,
           0.0003451145587065771,
           0.001064120894248575,
           0.0013843957990028455,
           -0.0029176616014148344,
           0.0007408167748194556,
           0.0011762611405289737,
           -0.000432323026065295,
           -0.00024213748444542482,
           6.434466220910609e-05,
           0.00040245516164774366,
           -0.0010775834899766639,
           -0.002190087708031245,
           0.0006342039000379585,
           -0.002814554153502601,
           0.0001356500415879047,
           0.0005855222178376709,
           0.0013782617361940024,
           -0.0005462931019548912,
           -0.0005117859571067839,
           0.002919214150520812,
           -9.260927347531911e-05,
           0.001185636849081176,
           -0.0009852664395485322,
           0.0003201823342879596,
           -0.00032686988563508396,
           -0.0005416628791647894,
           -0.0008141216438988966,
           0.0003662380118533422,
           -0.0012352831533996144,
           0.003564590448088198,
           -0.0007822956678385264,
           -0.001287343165204052,
           0.0010284195630817046,
           -0.001670131862574578,
           1.0,
           -0.0008263242941722559,
           0.0004502193158231304,
           0.0009660833743344259
          ],
          [
           -0.001387012489517146,
           0.0005524351996219551,
           -0.0015035875469076693,
           0.0008240709263796172,
           -0.00021792732130881942,
           0.000915879223084782,
           3.168678414767965e-05,
           -0.0007593038072440595,
           0.00018148010908247355,
           -6.765604151978188e-05,
           0.0008151460825746571,
           0.00023955239726392255,
           -0.001101599223895727,
           -0.0013589599814370088,
           -0.00011712544370401624,
           -0.0013771848219751998,
           -0.0013255253293460454,
           9.269330911144216e-05,
           4.6684570859090036e-05,
           7.039774776981445e-05,
           0.00036411366709582037,
           -0.0011509779965204415,
           -0.0013022430575888766,
           0.00012764466562672762,
           -0.0008849150440545439,
           3.477554141470786e-05,
           0.000347062418778766,
           -0.0010009801233439057,
           0.0016412416111247852,
           0.0007416018344199372,
           -0.0004828954298334654,
           0.0009303397770724628,
           0.0011092144691689856,
           -0.0004058525742853213,
           0.0020048012309444117,
           -0.000310732441279906,
           0.00020163232378358275,
           -0.0010941080196215514,
           -0.0016175662068499998,
           -0.0009601810727459596,
           8.383414231091086e-05,
           0.0005639452300613327,
           -0.0010625487660089186,
           -0.0008488737176605966,
           0.0007356946834361805,
           -0.0008263242941722559,
           1.0,
           -0.000256999749002091,
           0.0005221041491465297
          ],
          [
           0.000194224949511712,
           -0.001743831954662157,
           -0.00016221628124577943,
           0.00036682948961575137,
           -0.0008816797556254782,
           -0.0019656334704269167,
           0.0002764781762421012,
           0.002790733141215928,
           -0.0013611791678408936,
           -0.0009190393767054746,
           -0.0011026523735723538,
           0.0015546541592415916,
           -0.00124072852428391,
           -0.0017793822878312809,
           0.002079286759947947,
           -0.0010118034751274217,
           0.0017437917830280592,
           0.0003020462737266211,
           -0.0007755225209437762,
           -0.0007859433395374316,
           0.0005198560815128955,
           -0.001429640835512592,
           -0.0004145085958394142,
           -0.00032009578405131915,
           -0.002417940157122881,
           -0.0023403993866320757,
           0.0017796446920539488,
           0.00037910847774778465,
           0.0012730291759388826,
           -0.0005855613681766773,
           -0.0003423887666790013,
           0.0022312615376931856,
           0.000901670355747475,
           0.00026514988456799834,
           0.001185020358563465,
           -0.0011828498563564512,
           0.0007846466422700149,
           0.00044405455709760463,
           -0.001302425409368721,
           -0.0013765088764562936,
           0.0010213745943376575,
           0.001945194513251351,
           -7.567114607875704e-05,
           0.0008350357428633705,
           7.729719133492816e-05,
           0.0004502193158231304,
           -0.000256999749002091,
           1.0,
           3.090079145197546e-05
          ],
          [
           -0.0012665168671981402,
           -0.001072228427533944,
           -0.0014640083176247888,
           -0.0020700765230627083,
           -0.0037094085792932193,
           0.0012439383819380263,
           0.0002786905470474071,
           0.00020310560101518386,
           -0.0009608000950871937,
           0.0009953591808335657,
           -0.00012315711435414317,
           -0.003389818864803641,
           0.00040941255000637877,
           0.0031663201946097188,
           -0.0009808134646822802,
           0.0017825538619501557,
           -0.002039514522085841,
           0.0015192075604170449,
           -0.001922700612823545,
           0.0007240485980813013,
           -0.0005613985985721448,
           0.0009304624944877255,
           0.0014224541267759635,
           -0.00053019163375622,
           0.00014994127387365765,
           -0.0005226832895847189,
           -0.0023689086360798224,
           0.0002479460755591218,
           0.0005456450862334286,
           0.00023838942052386116,
           0.0015132572839375348,
           0.001280038558317193,
           0.00014614969739956845,
           0.0014943221390327365,
           0.0008642753852542953,
           0.0003942514216198142,
           -0.0007678417278624516,
           6.652856730185543e-05,
           -0.0003357342939004014,
           -0.00016434196923935577,
           -0.0005819389857332146,
           -0.0016489428988126732,
           -0.00047695089701282217,
           0.0028691848832764094,
           -8.498697276262237e-05,
           0.0009660833743344259,
           0.0005221041491465297,
           3.090079145197546e-05,
           1.0
          ]
         ]
        }
       ],
       "layout": {
        "height": 700,
        "template": {
         "data": {
          "bar": [
           {
            "error_x": {
             "color": "#2a3f5f"
            },
            "error_y": {
             "color": "#2a3f5f"
            },
            "marker": {
             "line": {
              "color": "#E5ECF6",
              "width": 0.5
             }
            },
            "type": "bar"
           }
          ],
          "barpolar": [
           {
            "marker": {
             "line": {
              "color": "#E5ECF6",
              "width": 0.5
             }
            },
            "type": "barpolar"
           }
          ],
          "carpet": [
           {
            "aaxis": {
             "endlinecolor": "#2a3f5f",
             "gridcolor": "white",
             "linecolor": "white",
             "minorgridcolor": "white",
             "startlinecolor": "#2a3f5f"
            },
            "baxis": {
             "endlinecolor": "#2a3f5f",
             "gridcolor": "white",
             "linecolor": "white",
             "minorgridcolor": "white",
             "startlinecolor": "#2a3f5f"
            },
            "type": "carpet"
           }
          ],
          "choropleth": [
           {
            "colorbar": {
             "outlinewidth": 0,
             "ticks": ""
            },
            "type": "choropleth"
           }
          ],
          "contour": [
           {
            "colorbar": {
             "outlinewidth": 0,
             "ticks": ""
            },
            "colorscale": [
             [
              0.0,
              "#0d0887"
             ],
             [
              0.1111111111111111,
              "#46039f"
             ],
             [
              0.2222222222222222,
              "#7201a8"
             ],
             [
              0.3333333333333333,
              "#9c179e"
             ],
             [
              0.4444444444444444,
              "#bd3786"
             ],
             [
              0.5555555555555556,
              "#d8576b"
             ],
             [
              0.6666666666666666,
              "#ed7953"
             ],
             [
              0.7777777777777778,
              "#fb9f3a"
             ],
             [
              0.8888888888888888,
              "#fdca26"
             ],
             [
              1.0,
              "#f0f921"
             ]
            ],
            "type": "contour"
           }
          ],
          "contourcarpet": [
           {
            "colorbar": {
             "outlinewidth": 0,
             "ticks": ""
            },
            "type": "contourcarpet"
           }
          ],
          "heatmap": [
           {
            "colorbar": {
             "outlinewidth": 0,
             "ticks": ""
            },
            "colorscale": [
             [
              0.0,
              "#0d0887"
             ],
             [
              0.1111111111111111,
              "#46039f"
             ],
             [
              0.2222222222222222,
              "#7201a8"
             ],
             [
              0.3333333333333333,
              "#9c179e"
             ],
             [
              0.4444444444444444,
              "#bd3786"
             ],
             [
              0.5555555555555556,
              "#d8576b"
             ],
             [
              0.6666666666666666,
              "#ed7953"
             ],
             [
              0.7777777777777778,
              "#fb9f3a"
             ],
             [
              0.8888888888888888,
              "#fdca26"
             ],
             [
              1.0,
              "#f0f921"
             ]
            ],
            "type": "heatmap"
           }
          ],
          "heatmapgl": [
           {
            "colorbar": {
             "outlinewidth": 0,
             "ticks": ""
            },
            "colorscale": [
             [
              0.0,
              "#0d0887"
             ],
             [
              0.1111111111111111,
              "#46039f"
             ],
             [
              0.2222222222222222,
              "#7201a8"
             ],
             [
              0.3333333333333333,
              "#9c179e"
             ],
             [
              0.4444444444444444,
              "#bd3786"
             ],
             [
              0.5555555555555556,
              "#d8576b"
             ],
             [
              0.6666666666666666,
              "#ed7953"
             ],
             [
              0.7777777777777778,
              "#fb9f3a"
             ],
             [
              0.8888888888888888,
              "#fdca26"
             ],
             [
              1.0,
              "#f0f921"
             ]
            ],
            "type": "heatmapgl"
           }
          ],
          "histogram": [
           {
            "marker": {
             "colorbar": {
              "outlinewidth": 0,
              "ticks": ""
             }
            },
            "type": "histogram"
           }
          ],
          "histogram2d": [
           {
            "colorbar": {
             "outlinewidth": 0,
             "ticks": ""
            },
            "colorscale": [
             [
              0.0,
              "#0d0887"
             ],
             [
              0.1111111111111111,
              "#46039f"
             ],
             [
              0.2222222222222222,
              "#7201a8"
             ],
             [
              0.3333333333333333,
              "#9c179e"
             ],
             [
              0.4444444444444444,
              "#bd3786"
             ],
             [
              0.5555555555555556,
              "#d8576b"
             ],
             [
              0.6666666666666666,
              "#ed7953"
             ],
             [
              0.7777777777777778,
              "#fb9f3a"
             ],
             [
              0.8888888888888888,
              "#fdca26"
             ],
             [
              1.0,
              "#f0f921"
             ]
            ],
            "type": "histogram2d"
           }
          ],
          "histogram2dcontour": [
           {
            "colorbar": {
             "outlinewidth": 0,
             "ticks": ""
            },
            "colorscale": [
             [
              0.0,
              "#0d0887"
             ],
             [
              0.1111111111111111,
              "#46039f"
             ],
             [
              0.2222222222222222,
              "#7201a8"
             ],
             [
              0.3333333333333333,
              "#9c179e"
             ],
             [
              0.4444444444444444,
              "#bd3786"
             ],
             [
              0.5555555555555556,
              "#d8576b"
             ],
             [
              0.6666666666666666,
              "#ed7953"
             ],
             [
              0.7777777777777778,
              "#fb9f3a"
             ],
             [
              0.8888888888888888,
              "#fdca26"
             ],
             [
              1.0,
              "#f0f921"
             ]
            ],
            "type": "histogram2dcontour"
           }
          ],
          "mesh3d": [
           {
            "colorbar": {
             "outlinewidth": 0,
             "ticks": ""
            },
            "type": "mesh3d"
           }
          ],
          "parcoords": [
           {
            "line": {
             "colorbar": {
              "outlinewidth": 0,
              "ticks": ""
             }
            },
            "type": "parcoords"
           }
          ],
          "pie": [
           {
            "automargin": true,
            "type": "pie"
           }
          ],
          "scatter": [
           {
            "marker": {
             "colorbar": {
              "outlinewidth": 0,
              "ticks": ""
             }
            },
            "type": "scatter"
           }
          ],
          "scatter3d": [
           {
            "line": {
             "colorbar": {
              "outlinewidth": 0,
              "ticks": ""
             }
            },
            "marker": {
             "colorbar": {
              "outlinewidth": 0,
              "ticks": ""
             }
            },
            "type": "scatter3d"
           }
          ],
          "scattercarpet": [
           {
            "marker": {
             "colorbar": {
              "outlinewidth": 0,
              "ticks": ""
             }
            },
            "type": "scattercarpet"
           }
          ],
          "scattergeo": [
           {
            "marker": {
             "colorbar": {
              "outlinewidth": 0,
              "ticks": ""
             }
            },
            "type": "scattergeo"
           }
          ],
          "scattergl": [
           {
            "marker": {
             "colorbar": {
              "outlinewidth": 0,
              "ticks": ""
             }
            },
            "type": "scattergl"
           }
          ],
          "scattermapbox": [
           {
            "marker": {
             "colorbar": {
              "outlinewidth": 0,
              "ticks": ""
             }
            },
            "type": "scattermapbox"
           }
          ],
          "scatterpolar": [
           {
            "marker": {
             "colorbar": {
              "outlinewidth": 0,
              "ticks": ""
             }
            },
            "type": "scatterpolar"
           }
          ],
          "scatterpolargl": [
           {
            "marker": {
             "colorbar": {
              "outlinewidth": 0,
              "ticks": ""
             }
            },
            "type": "scatterpolargl"
           }
          ],
          "scatterternary": [
           {
            "marker": {
             "colorbar": {
              "outlinewidth": 0,
              "ticks": ""
             }
            },
            "type": "scatterternary"
           }
          ],
          "surface": [
           {
            "colorbar": {
             "outlinewidth": 0,
             "ticks": ""
            },
            "colorscale": [
             [
              0.0,
              "#0d0887"
             ],
             [
              0.1111111111111111,
              "#46039f"
             ],
             [
              0.2222222222222222,
              "#7201a8"
             ],
             [
              0.3333333333333333,
              "#9c179e"
             ],
             [
              0.4444444444444444,
              "#bd3786"
             ],
             [
              0.5555555555555556,
              "#d8576b"
             ],
             [
              0.6666666666666666,
              "#ed7953"
             ],
             [
              0.7777777777777778,
              "#fb9f3a"
             ],
             [
              0.8888888888888888,
              "#fdca26"
             ],
             [
              1.0,
              "#f0f921"
             ]
            ],
            "type": "surface"
           }
          ],
          "table": [
           {
            "cells": {
             "fill": {
              "color": "#EBF0F8"
             },
             "line": {
              "color": "white"
             }
            },
            "header": {
             "fill": {
              "color": "#C8D4E3"
             },
             "line": {
              "color": "white"
             }
            },
            "type": "table"
           }
          ]
         },
         "layout": {
          "annotationdefaults": {
           "arrowcolor": "#2a3f5f",
           "arrowhead": 0,
           "arrowwidth": 1
          },
          "coloraxis": {
           "colorbar": {
            "outlinewidth": 0,
            "ticks": ""
           }
          },
          "colorscale": {
           "diverging": [
            [
             0,
             "#8e0152"
            ],
            [
             0.1,
             "#c51b7d"
            ],
            [
             0.2,
             "#de77ae"
            ],
            [
             0.3,
             "#f1b6da"
            ],
            [
             0.4,
             "#fde0ef"
            ],
            [
             0.5,
             "#f7f7f7"
            ],
            [
             0.6,
             "#e6f5d0"
            ],
            [
             0.7,
             "#b8e186"
            ],
            [
             0.8,
             "#7fbc41"
            ],
            [
             0.9,
             "#4d9221"
            ],
            [
             1,
             "#276419"
            ]
           ],
           "sequential": [
            [
             0.0,
             "#0d0887"
            ],
            [
             0.1111111111111111,
             "#46039f"
            ],
            [
             0.2222222222222222,
             "#7201a8"
            ],
            [
             0.3333333333333333,
             "#9c179e"
            ],
            [
             0.4444444444444444,
             "#bd3786"
            ],
            [
             0.5555555555555556,
             "#d8576b"
            ],
            [
             0.6666666666666666,
             "#ed7953"
            ],
            [
             0.7777777777777778,
             "#fb9f3a"
            ],
            [
             0.8888888888888888,
             "#fdca26"
            ],
            [
             1.0,
             "#f0f921"
            ]
           ],
           "sequentialminus": [
            [
             0.0,
             "#0d0887"
            ],
            [
             0.1111111111111111,
             "#46039f"
            ],
            [
             0.2222222222222222,
             "#7201a8"
            ],
            [
             0.3333333333333333,
             "#9c179e"
            ],
            [
             0.4444444444444444,
             "#bd3786"
            ],
            [
             0.5555555555555556,
             "#d8576b"
            ],
            [
             0.6666666666666666,
             "#ed7953"
            ],
            [
             0.7777777777777778,
             "#fb9f3a"
            ],
            [
             0.8888888888888888,
             "#fdca26"
            ],
            [
             1.0,
             "#f0f921"
            ]
           ]
          },
          "colorway": [
           "#636efa",
           "#EF553B",
           "#00cc96",
           "#ab63fa",
           "#FFA15A",
           "#19d3f3",
           "#FF6692",
           "#B6E880",
           "#FF97FF",
           "#FECB52"
          ],
          "font": {
           "color": "#2a3f5f"
          },
          "geo": {
           "bgcolor": "white",
           "lakecolor": "white",
           "landcolor": "#E5ECF6",
           "showlakes": true,
           "showland": true,
           "subunitcolor": "white"
          },
          "hoverlabel": {
           "align": "left"
          },
          "hovermode": "closest",
          "mapbox": {
           "style": "light"
          },
          "paper_bgcolor": "white",
          "plot_bgcolor": "#E5ECF6",
          "polar": {
           "angularaxis": {
            "gridcolor": "white",
            "linecolor": "white",
            "ticks": ""
           },
           "bgcolor": "#E5ECF6",
           "radialaxis": {
            "gridcolor": "white",
            "linecolor": "white",
            "ticks": ""
           }
          },
          "scene": {
           "xaxis": {
            "backgroundcolor": "#E5ECF6",
            "gridcolor": "white",
            "gridwidth": 2,
            "linecolor": "white",
            "showbackground": true,
            "ticks": "",
            "zerolinecolor": "white"
           },
           "yaxis": {
            "backgroundcolor": "#E5ECF6",
            "gridcolor": "white",
            "gridwidth": 2,
            "linecolor": "white",
            "showbackground": true,
            "ticks": "",
            "zerolinecolor": "white"
           },
           "zaxis": {
            "backgroundcolor": "#E5ECF6",
            "gridcolor": "white",
            "gridwidth": 2,
            "linecolor": "white",
            "showbackground": true,
            "ticks": "",
            "zerolinecolor": "white"
           }
          },
          "shapedefaults": {
           "line": {
            "color": "#2a3f5f"
           }
          },
          "ternary": {
           "aaxis": {
            "gridcolor": "white",
            "linecolor": "white",
            "ticks": ""
           },
           "baxis": {
            "gridcolor": "white",
            "linecolor": "white",
            "ticks": ""
           },
           "bgcolor": "#E5ECF6",
           "caxis": {
            "gridcolor": "white",
            "linecolor": "white",
            "ticks": ""
           }
          },
          "title": {
           "x": 0.05
          },
          "xaxis": {
           "automargin": true,
           "gridcolor": "white",
           "linecolor": "white",
           "ticks": "",
           "title": {
            "standoff": 15
           },
           "zerolinecolor": "white",
           "zerolinewidth": 2
          },
          "yaxis": {
           "automargin": true,
           "gridcolor": "white",
           "linecolor": "white",
           "ticks": "",
           "title": {
            "standoff": 15
           },
           "zerolinecolor": "white",
           "zerolinewidth": 2
          }
         }
        },
        "title": {
         "text": "Pearson Correlation of Integer-type features"
        },
        "width": 900,
        "xaxis": {
         "nticks": 36,
         "ticks": ""
        },
        "yaxis": {
         "ticks": ""
        }
       }
      },
      "text/html": [
       "<div>\n",
       "        \n",
       "        \n",
       "            <div id=\"b0fb8ce6-abf3-480f-a188-6f6523cfdb4c\" class=\"plotly-graph-div\" style=\"height:700px; width:900px;\"></div>\n",
       "            <script type=\"text/javascript\">\n",
       "                require([\"plotly\"], function(Plotly) {\n",
       "                    window.PLOTLYENV=window.PLOTLYENV || {};\n",
       "                    \n",
       "                if (document.getElementById(\"b0fb8ce6-abf3-480f-a188-6f6523cfdb4c\")) {\n",
       "                    Plotly.newPlot(\n",
       "                        'b0fb8ce6-abf3-480f-a188-6f6523cfdb4c',\n",
       "                        [{\"colorscale\": [[0.0, \"#440154\"], [0.1111111111111111, \"#482878\"], [0.2222222222222222, \"#3e4989\"], [0.3333333333333333, \"#31688e\"], [0.4444444444444444, \"#26828e\"], [0.5555555555555556, \"#1f9e89\"], [0.6666666666666666, \"#35b779\"], [0.7777777777777778, \"#6ece58\"], [0.8888888888888888, \"#b5de2b\"], [1.0, \"#fde725\"]], \"opacity\": 1.0, \"reversescale\": false, \"type\": \"heatmap\", \"x\": [\"id\", \"target\", \"ps_ind_01\", \"ps_ind_02_cat\", \"ps_ind_03\", \"ps_ind_04_cat\", \"ps_ind_05_cat\", \"ps_ind_06_bin\", \"ps_ind_07_bin\", \"ps_ind_08_bin\", \"ps_ind_09_bin\", \"ps_ind_10_bin\", \"ps_ind_11_bin\", \"ps_ind_12_bin\", \"ps_ind_13_bin\", \"ps_ind_14\", \"ps_ind_15\", \"ps_ind_16_bin\", \"ps_ind_17_bin\", \"ps_ind_18_bin\", \"ps_car_01_cat\", \"ps_car_02_cat\", \"ps_car_03_cat\", \"ps_car_04_cat\", \"ps_car_05_cat\", \"ps_car_06_cat\", \"ps_car_07_cat\", \"ps_car_08_cat\", \"ps_car_09_cat\", \"ps_car_10_cat\", \"ps_car_11_cat\", \"ps_car_11\", \"ps_calc_04\", \"ps_calc_05\", \"ps_calc_06\", \"ps_calc_07\", \"ps_calc_08\", \"ps_calc_09\", \"ps_calc_10\", \"ps_calc_11\", \"ps_calc_12\", \"ps_calc_13\", \"ps_calc_14\", \"ps_calc_15_bin\", \"ps_calc_16_bin\", \"ps_calc_17_bin\", \"ps_calc_18_bin\", \"ps_calc_19_bin\", \"ps_calc_20_bin\"], \"y\": [\"id\", \"target\", \"ps_ind_01\", \"ps_ind_02_cat\", \"ps_ind_03\", \"ps_ind_04_cat\", \"ps_ind_05_cat\", \"ps_ind_06_bin\", \"ps_ind_07_bin\", \"ps_ind_08_bin\", \"ps_ind_09_bin\", \"ps_ind_10_bin\", \"ps_ind_11_bin\", \"ps_ind_12_bin\", \"ps_ind_13_bin\", \"ps_ind_14\", \"ps_ind_15\", \"ps_ind_16_bin\", \"ps_ind_17_bin\", \"ps_ind_18_bin\", \"ps_car_01_cat\", \"ps_car_02_cat\", \"ps_car_03_cat\", \"ps_car_04_cat\", \"ps_car_05_cat\", \"ps_car_06_cat\", \"ps_car_07_cat\", \"ps_car_08_cat\", \"ps_car_09_cat\", \"ps_car_10_cat\", \"ps_car_11_cat\", \"ps_car_11\", \"ps_calc_04\", \"ps_calc_05\", \"ps_calc_06\", \"ps_calc_07\", \"ps_calc_08\", \"ps_calc_09\", \"ps_calc_10\", \"ps_calc_11\", \"ps_calc_12\", \"ps_calc_13\", \"ps_calc_14\", \"ps_calc_15_bin\", \"ps_calc_16_bin\", \"ps_calc_17_bin\", \"ps_calc_18_bin\", \"ps_calc_19_bin\", \"ps_calc_20_bin\"], \"z\": [[1.0, -0.0001884755338279302, 0.0008258854725652894, 0.0016461276514635084, -0.001307412555708147, 0.00016792048870128184, 2.1710319686573285e-05, -9.329673376855398e-05, 0.0024732074669943606, -0.00047893199093413047, -0.002207988997677067, -0.0012612850576022075, -0.001209804426148668, -0.00017701120227953454, -0.0017178219451433232, -0.0011293527970817141, -0.0019349923253051936, -0.0005004384418756588, 0.0013438936799815473, 0.0008157280242234267, -0.001052384043273799, -0.00040334494636219437, 0.00035446093727700055, 0.0023098896739948355, -0.00084973643195865, -0.0010096893760912734, -0.00295558180936417, 0.0007475961383047262, 0.0004940853380194146, -0.0009282837448446624, 0.0020474413080678725, 0.0026413932462384655, 0.0036383179611819377, -0.000591590850083563, 0.0009574769937712452, 0.0007882447910606476, 0.000835612847691242, 0.0005176341988708713, 0.000980533554013502, -0.0012488250196405976, -0.001093454653076123, -0.0001570102363974875, 0.001609423824816161, -0.0012272973917402156, -0.001412005900504181, -0.0012665829156906327, -0.001387012489517146, 0.000194224949511712, -0.0012665168671981402], [-0.0001884755338279302, 1.0, 0.01857025865764426, 0.004533831368523311, 0.008359590302704629, 0.009360445255726135, 0.029164946850682903, -0.03401686970386084, 0.034218074514472306, 0.013146978438781246, -0.008236815985514567, 0.0018147796965638588, 0.0020281711723608956, 0.0078103084434938295, 0.0024602908319258606, 0.0074428309648139415, -0.02150622168788817, -0.027778075788648455, 0.03705260633561922, 0.004555455715168839, 0.016255693742772012, -0.03153359612438814, 0.03240097069460356, 0.03289987493999408, 0.020754434133130183, 0.011536659955756626, -0.036395222587461, -0.02034193348577494, 0.005322494909285372, 0.0010382993212153732, 0.006128798326761823, -0.0012133568962230331, 3.2720455107159456e-05, 0.0007708801365361789, 8.182225978205306e-05, -0.00010347690485265882, -0.0010058548384214974, 0.0007189675843657573, 0.0010608340444808466, 0.0003714373948919784, -0.001132585398131543, -0.0004464645318106672, 0.0013622753431332209, -0.0004904242506649142, 0.0006238280115069002, -0.00017012817366195574, 0.0005524351996219551, -0.001743831954662157, -0.001072228427533944], [0.0008258854725652894, 0.01857025865764426, 1.0, -0.001793132914078911, 0.22340759383098746, 0.06664546508381464, 0.01482256120132161, -0.27745768415781097, 0.005699693657942732, 0.18858311700205918, 0.1627999861869906, 0.001847228909831448, -0.016726587843611262, -0.02340598033757039, -0.008775500240686976, -0.02497119706380611, 0.12213672531024436, 0.0368956637484447, 0.10125709413318262, -0.11222626697639439, -0.05612096023089955, -0.11698664679144183, 0.04375596050033502, 0.07904155054810319, 0.21300928032997266, 0.07019202187349194, -0.0006393452905840409, 0.1381116289003837, -0.10258232980370965, 0.010793696829685654, 0.008187861301748726, 0.008251527554781795, -0.0009430787753174504, -0.001171189955575937, 0.00014683213520095265, -0.0006583998180269789, 0.0029928067889180153, -8.533923304049915e-05, -0.0013449818796936771, -0.0012629092646156163, 0.0015206567146518381, 0.00019895341092282697, -0.0008910685014914849, -0.00039679021243222155, -1.1545248109605945e-05, -0.0008675973201972937, -0.0015035875469076693, -0.00016221628124577943, -0.0014640083176247888], [0.0016461276514635084, 0.004533831368523311, -0.001793132914078911, 1.0, -0.06118914649597863, 0.14710969879184774, -0.014859825528566654, -0.12565283345797085, 0.016398444130520974, 0.030944960292261715, 0.11007582271780689, -0.0007443279033738822, 0.0007716519259193071, -0.004615510735825621, -0.0011867308079097534, -0.003649390892299846, -0.0038542040298718537, 0.012682148590449879, -0.018727145555809944, -0.0003739401590504564, 0.0021485024537578157, 0.04523308396695259, -0.002531720281610417, -0.07218977632989752, -0.008406520927757209, -0.01730091230640416, -0.011780550384929915, 0.001525760478627604, 0.00943453402178943, 0.011401456422593695, 0.014955195806662906, 0.019948833190352715, -0.002111048732799757, -0.0015478301217391854, 8.548689230307831e-05, -0.00017173251468897293, -0.0027117639544371125, 0.0003556758097243229, -2.542520349513617e-05, 3.793867444728029e-05, -0.0008836458794253027, -0.0008928474834440371, -0.0005185257387844355, -0.0001091639435269205, 0.0009195635201592935, 0.0005472321892402385, 0.0008240709263796172, 0.00036682948961575137, -0.0020700765230627083], [-0.001307412555708147, 0.008359590302704629, 0.22340759383098746, -0.06118914649597863, 1.0, -0.0958555686935466, 0.05325005441452378, -0.04515789199484218, -0.06036790395745832, 0.014036610712139238, 0.11130640018592014, 0.00686512319064189, -0.00398647923236278, 0.0016976891777431033, 0.00392862651390925, 0.0019895460604970206, 0.17044861491716903, -0.01825125801540498, 0.027691181225201148, 0.0013157749639202364, -0.028519891228882308, -0.04490674148704961, 0.09565776668555685, 0.07298961054261868, 0.14359654865912472, 0.008021293226172437, 0.05633693325150142, 0.003607155114386827, -0.013205469282530264, -0.008560954021673296, -0.02596590172891641, -0.05935778461180635, 0.0007029223319995609, -0.00124483981613212, 0.0023614979575671243, 0.0015325306198654468, 0.0012666649599134556, -0.0015441777405850244, 0.00023028733837444532, -0.00271554188115075, -0.002352333367000353, 0.00013288787890914573, 0.00020474960687044948, 0.00013443276941903844, -0.0007442327813956861, 0.00015773156327487207, -0.00021792732130881942, -0.0008816797556254782, -0.0037094085792932193], [0.00016792048870128184, 0.009360445255726135, 0.06664546508381464, 0.14710969879184774, -0.0958555686935466, 1.0, 0.013052691401685955, -0.29773660464866397, 0.30494937833484964, 0.044978473326504606, -0.011441657815300007, 0.0007887076973342341, 0.0010183114528846745, -0.0012169376250840901, -0.0008934939930194587, -0.0006905936003636214, 0.07707144391349827, 0.017497056768276353, 0.007830396023942783, -0.02579748587369274, 0.029379371951352606, 0.0031621098779806996, 0.02274437639904159, -0.045361298018711534, 0.06339932427169784, 0.025323615321091824, 0.06465523285489345, -0.008147548468074901, -0.041983012536472374, 0.023010432834079733, -0.0006146254081137504, 0.07348633332465844, 0.0008255181087068532, 0.001027798873083514, 0.0026258399586337597, -0.0001507383234412961, -0.0027755450296178133, 0.0004865698877561841, 0.00012727421795228578, -0.00200083123856293, -0.0008139493139849512, 0.0002834052581424088, 0.001564549638218458, 0.0027346762054485775, 0.0022953462039966353, 0.0007734421027461945, 0.000915879223084782, -0.0019656334704269167, 0.0012439383819380263], [2.1710319686573285e-05, 0.029164946850682903, 0.01482256120132161, -0.014859825528566654, 0.05325005441452378, 0.013052691401685955, 1.0, 0.009618800838401737, -0.01038218866727748, 0.004880747623625458, -0.0050687312021216535, 0.0017424754145380756, -0.0006363666372225003, -0.001831240440538545, 0.001312873260557115, -0.001012831348804875, 0.012326335746017493, 0.0043148996980777975, 0.0071627770677436566, -0.008252314414825627, -0.03621285304074287, 0.012878919847975364, -0.011398778782566992, -0.010873195216195189, -0.006561608549998125, -0.007229963205387081, 0.05377652521318424, -0.002083953743306598, -0.008333774284880439, 0.0021680744466516886, -0.002249565476054419, 0.0010755447570798893, 0.0012916973382696244, -0.0006420444921119534, -0.00024941758434079725, -0.001902390027468809, -0.00014490361613121914, -0.0008217959389396053, -0.0010698729509133489, -0.0015247002980410744, 0.0009753755080666246, 0.001549156967180905, 0.002170835212999189, 0.001548047451239712, -0.00036823623935244105, 0.00015309117899222943, 3.168678414767965e-05, 0.0002764781762421012, 0.0002786905470474071], [-9.329673376855398e-05, -0.03401686970386084, -0.27745768415781097, -0.12565283345797085, -0.04515789199484218, -0.29773660464866397, 0.009618800838401737, 1.0, -0.47400904185283216, -0.35683833274499904, -0.38434514013863447, -0.008977535013184641, -0.0052293822490551735, -0.017498505238517773, -0.008390064166735468, -0.018333861999796107, 0.01640620515432804, 0.02835208353232434, -0.03712107367514967, -0.011750963576165853, -0.07554574375144933, 0.13638274599329003, -0.0757231021809835, -0.18701667626451934, -0.16489012332400702, -0.05988730879735985, 0.03899368073091141, 0.038313070317179294, 0.099183937638165, -0.04105681120470314, -0.03129622770642452, 0.01961761811640833, -0.00040897151757199367, -0.0005006935696638386, -0.0014131826801872418, -0.0015526558607684004, -0.0011636516201245283, -0.001955110116000671, -0.0011970978269571638, 0.0008220026165339009, 0.001346527577785583, -0.0013011186998572416, 0.0003039329025924058, 0.0020878603119107173, -0.00038145116468386327, -1.2555595169838768e-06, -0.0007593038072440595, 0.002790733141215928, 0.00020310560101518386], [0.0024732074669943606, 0.034218074514472306, 0.005699693657942732, 0.016398444130520974, -0.06036790395745832, 0.30494937833484964, -0.01038218866727748, -0.47400904185283216, 1.0, -0.2604376422092236, -0.2805134227700197, 0.010739652662638518, 0.010118980387081193, 0.036619156406925375, 0.012124758822620494, 0.035572641614898405, -0.12072867940666913, -0.07232059014963113, 0.020776151947280146, 0.07656187216216323, 0.062063867997878226, -0.16260101236029972, 0.09648343943328785, 0.19970161209070955, 0.09210731694577427, 0.021012550690436286, -0.06470797501899186, -0.12382519653732582, -0.0592293173217555, 0.030556162897083114, 0.047940110791782294, 0.06745692509792364, 0.0004704805518046129, -0.00020263779193736855, 0.0022574679719620087, -0.0007715341800703232, -0.0014167211446850028, 0.003103402535564952, 0.002764372088590574, -0.00044764134499224433, -0.0010438535583232992, 0.0005412369024745282, 0.0016655249364696076, 0.0005749746503442117, 0.0012197619159613055, -0.0005167363145738323, 0.00018148010908247355, -0.0013611791678408936, -0.0009608000950871937], [-0.00047893199093413047, 0.013146978438781246, 0.18858311700205918, 0.030944960292261715, 0.014036610712139238, 0.044978473326504606, 0.004880747623625458, -0.35683833274499904, -0.2604376422092236, 1.0, -0.21117306476218525, 0.006489106788144344, 0.010041261161326986, 0.012254073500305164, 0.007898322664295397, 0.015413123032131852, 0.052775574174329334, 0.005854905555417932, 0.03603562289282283, -0.0332725446539966, 0.0009741110543648791, -0.029988616804819478, 0.038462429631455776, 0.08495716267129813, 0.0638887460719928, 0.06337312462413468, -0.01097624237397961, 0.04279226748766709, -0.010920062706508004, 0.025327537974607683, 0.04137147693432778, -0.0821933687301021, -0.0008862921614354109, 0.0006032890364083318, 0.0012489817846119459, 0.0015137952726550774, 0.0008268945510498403, -0.0011713719830313445, -0.0010929434068323218, -0.0006318117597199733, -0.0012414424693481063, -0.0004320285599224442, -0.0019591595357223396, -0.0027823010069090493, -0.002047724572786132, -0.0005794594623620968, -6.765604151978188e-05, -0.0009190393767054746, 0.0009953591808335657], [-0.002207988997677067, -0.008236815985514567, 0.1627999861869906, 0.11007582271780689, 0.11130640018592014, -0.011441657815300007, -0.0050687312021216535, -0.38434514013863447, -0.2805134227700197, -0.21117306476218525, 1.0, -0.006972868230101217, -0.014372442368727069, -0.030857775582384717, -0.010612127908362868, -0.031640265270961615, 0.06486960724135384, 0.040109224305151514, -0.011023469836607316, -0.03963118000019327, 0.02426410263543389, 0.03995547974881677, -0.049943633728993575, -0.07038654070728184, 0.0428761334865544, -0.008708840542991274, 0.034202576735929344, 0.05031732944402148, -0.047699761095759824, -0.00687141523928333, -0.053983464789145515, -0.02222383963395428, 0.0008295720883816524, 0.0002826974574501988, -0.001951994888267138, 0.0013778111002170964, 0.0022687777239796653, 8.414159278212709e-05, -0.000562446653686342, 7.181830788460824e-05, 0.000663667813310181, 0.001439010593754627, -0.0003887243839006073, -0.0006211068335357588, 0.001058856885756094, 0.001134864056114266, 0.0008151460825746571, -0.0011026523735723538, -0.00012315711435414317], [-0.0012612850576022075, 0.0018147796965638588, 0.001847228909831448, -0.0007443279033738822, 0.00686512319064189, 0.0007887076973342341, 0.0017424754145380756, -0.008977535013184641, 0.010739652662638518, 0.006489106788144344, -0.006972868230101217, 1.0, 0.06483734787198987, 0.09799846252882818, 0.08141549712845543, 0.26621523092435156, -0.022122320890474497, -0.024021375653602368, 0.005366401619311756, 0.027264135678598093, 0.007989028500661119, -0.015804418556154817, 0.024833271794178498, 0.016566215782012134, 0.015251836567212886, 0.004487183793846699, -0.01780425859352495, -0.0036596207024356705, 0.0082664409564888, 0.0007083813828478605, 0.005909491658760697, 0.0025262371890126868, 3.100019801835291e-05, 0.00132886951241507, -0.002677298661133378, 0.0012737060249125552, 0.0014216349339335546, 0.002842382982084886, -0.0003671698201875837, -0.0023492443946713077, 0.0013666102034156126, 0.001968875596109247, 0.00023239812552867627, -0.0032329018832894796, 0.0010115230415397082, 0.0003451145587065771, 0.00023955239726392255, 0.0015546541592415916, -0.003389818864803641], [-0.001209804426148668, 0.0020281711723608956, -0.016726587843611262, 0.0007716519259193071, -0.00398647923236278, 0.0010183114528846745, -0.0006363666372225003, -0.0052293822490551735, 0.010118980387081193, 0.010041261161326986, -0.014372442368727069, 0.06483734787198987, 1.0, 0.2500763818629762, 0.17943219033525157, 0.5649029739355256, -0.06125127547361095, -0.054007422664833216, 0.0035177531682825296, 0.06901728994364945, 0.00420489207220886, -0.002474353574956624, 0.04610459759760149, 0.008594505962550932, 0.0307826237520869, 0.002257300699842321, -0.016299801093062935, -0.004473578533978509, 0.021168527983262284, -0.0018207469444587751, 0.005671365912134987, 0.0011542083055981621, -0.0011960063936701931, -0.00011120385630700709, 0.000910829501761915, -0.0017878545885394827, 0.0009946385801952449, 0.000675129501667861, 0.0010608594409819694, 0.00018449154616471063, -0.0006120933976180955, 0.0003040675893245571, -0.0007858590549958653, -0.0006590162500335249, 0.0014178496831814482, 0.001064120894248575, -0.001101599223895727, -0.00124072852428391, 0.00040941255000637877], [-0.00017701120227953454, 0.0078103084434938295, -0.02340598033757039, -0.004615510735825621, 0.0016976891777431033, -0.0012169376250840901, -0.001831240440538545, -0.017498505238517773, 0.036619156406925375, 0.012254073500305164, -0.030857775582384717, 0.09799846252882818, 0.2500763818629762, 1.0, 0.15172760153654272, 0.8901272526593912, -0.11699521962430298, -0.09944135106518237, 0.025180581169260943, 0.10928667412452821, 0.016351323808795618, -0.01722907241500742, 0.12076679710040544, 0.027940354431812538, 0.07047807765139365, 0.004409331864039473, -0.03441622647011792, -0.01332335407020998, 0.044120564246464954, -0.00508592585110611, 0.011473568431568767, 0.0044405123227909795, -0.0010630051163120823, 0.00018512789955040158, 0.000516936925499091, 0.0017231519792317055, 0.003783782111830129, -0.0020161776675509664, 0.0019267518147433878, 0.000128960121691486, 0.0008132382695546607, 0.0005585972004795325, -0.0005013388256705757, -0.0016324069179437177, 0.0017539182011076183, 0.0013843957990028455, -0.0013589599814370088, -0.0017793822878312809, 0.0031663201946097188], [-0.0017178219451433232, 0.0024602908319258606, -0.008775500240686976, -0.0011867308079097534, 0.00392862651390925, -0.0008934939930194587, 0.001312873260557115, -0.008390064166735468, 0.012124758822620494, 0.007898322664295397, -0.010612127908362868, 0.08141549712845543, 0.17943219033525157, 0.15172760153654272, 1.0, 0.42639988362844805, -0.04048585112766336, -0.04068044208767216, 0.00413612566413535, 0.05082310409175068, 0.0058146031738485985, -0.008441249274929168, 0.037718276042184064, 0.014655985827309276, 0.023471106794058203, 0.0016058356563016126, -0.015614273025725687, -0.005009607474459792, 0.014756941996748466, 0.0002595796322974466, 0.004531083396469404, 0.001234069029952286, 0.000349284365188583, -0.00041568351088625216, -0.002162688802186935, 0.00041364798436141313, 0.0027903312033983317, -0.002330326502147568, 0.0009485297239861148, -0.00018583926200984541, -0.0014181281398796739, -0.0021253852767337436, 0.000874525058532212, 0.0004916403631603665, 0.0015699943019584597, -0.0029176616014148344, -0.00011712544370401624, 0.002079286759947947, -0.0009808134646822802], [-0.0011293527970817141, 0.0074428309648139415, -0.02497119706380611, -0.003649390892299846, 0.0019895460604970206, -0.0006905936003636214, -0.001012831348804875, -0.018333861999796107, 0.035572641614898405, 0.015413123032131852, -0.031640265270961615, 0.26621523092435156, 0.5649029739355256, 0.8901272526593912, 0.42639988362844805, 1.0, -0.12154712140254384, -0.10623968986022739, 0.022033337010334265, 0.12147762405356627, 0.01636312986800329, -0.018287753550452278, 0.11926866345591323, 0.029994631058017605, 0.07131983388449886, 0.005136795765268227, -0.037805432776002824, -0.013304549299903993, 0.045080438776404094, -0.00427251057208424, 0.012513326139589956, 0.004418449708888241, -0.0011022975070728342, 0.00020541688400103905, -0.00024164533876208473, 0.0010228747040311582, 0.004077353989599591, -0.0014427896242121033, 0.001975748285360836, -0.00024326970061660326, 0.00028409101359149397, 0.00030681115009076137, -0.00038714133380647196, -0.0018207206855969129, 0.0023183867020431506, 0.0007408167748194556, -0.0013771848219751998, -0.0010118034751274217, 0.0017825538619501557], [-0.0019349923253051936, -0.02150622168788817, 0.12213672531024436, -0.0038542040298718537, 0.17044861491716903, 0.07707144391349827, 0.012326335746017493, 0.01640620515432804, -0.12072867940666913, 0.052775574174329334, 0.06486960724135384, -0.022122320890474497, -0.06125127547361095, -0.11699521962430298, -0.04048585112766336, -0.12154712140254384, 1.0, 0.31244950310309133, -0.021884130311825453, -0.45168940997349744, 0.025690451286087948, 0.008990106374832978, 0.06539839780067339, -0.04714742710106486, 0.05151699052707461, 0.0008576242267381677, 0.05970332843123464, 0.016783815050086203, 0.03787983280932669, 0.016128999534988916, -0.014094740994882985, 0.022999695061961943, 0.0015836127234392147, 0.0008742837980310804, 3.349415158297259e-05, 0.0017213970445760945, -0.0013086573803460292, -0.0009849673818394845, -0.001278705955536801, -0.0019515651504133746, -0.0012626527588479603, -0.0009216867411593551, 0.001348343378809588, 0.0007020649300910482, -0.0019153659560989628, 0.0011762611405289737, -0.0013255253293460454, 0.0017437917830280592, -0.002039514522085841], [-0.0005004384418756588, -0.027778075788648455, 0.0368956637484447, 0.012682148590449879, -0.01825125801540498, 0.017497056768276353, 0.0043148996980777975, 0.02835208353232434, -0.07232059014963113, 0.005854905555417932, 0.040109224305151514, -0.024021375653602368, -0.054007422664833216, -0.09944135106518237, -0.04068044208767216, -0.10623968986022739, 0.31244950310309133, 1.0, -0.518076359741285, -0.5942654327440993, 0.000449328751059964, 0.030264159750268645, -0.04949269493981059, -0.0444324580159051, -0.05824884239145419, -0.016400415460973417, 0.043830004289338316, 0.030265908254077416, 0.01587326196247508, 0.006596901955514019, -0.009989048367195774, 0.02108927713966739, -0.00015427566393635717, 0.0013615649246268365, -0.00035490506837888684, 0.001070181079297779, -0.0019205651214990803, -0.00042738389508255336, -0.0009309516956589041, -0.0005474330902532191, 0.0004788567902211824, -0.001205708134776814, -0.00016701443375272682, 0.0009289338594358783, -0.0004946092252117053, -0.000432323026065295, 9.269330911144216e-05, 0.0003020462737266211, 0.0015192075604170449], [0.0013438936799815473, 0.03705260633561922, 0.10125709413318262, -0.018727145555809944, 0.027691181225201148, 0.007830396023942783, 0.0071627770677436566, -0.03712107367514967, 0.020776151947280146, 0.03603562289282283, -0.011023469836607316, 0.005366401619311756, 0.0035177531682825296, 0.025180581169260943, 0.00413612566413535, 0.022033337010334265, -0.021884130311825453, -0.518076359741285, 1.0, -0.15802098729280864, 0.05887565361580717, -0.056259584636480064, 0.13732818747730724, 0.04455001980419051, 0.06773302596256506, 0.03406713268871457, -0.04366212443162395, -0.008200216193650531, 0.07609946186560423, -0.008669005786151814, 0.007732623493329746, 0.008827122880153667, 0.0006707357574975719, -0.0028267070319113923, -0.0003381879933766814, -0.0007815553133858121, -0.0006022847453995306, 0.0005913211470264439, -0.0006993075561927059, -0.0010905132359777818, -0.0008502466566857318, 0.0004287804389088475, 0.0007460892730801729, -0.0015898973721007975, -0.00021109233161309543, -0.00024213748444542482, 4.6684570859090036e-05, -0.0007755225209437762, -0.001922700612823545], [0.0008157280242234267, 0.004555455715168839, -0.11222626697639439, -0.0003739401590504564, 0.0013157749639202364, -0.02579748587369274, -0.008252314414825627, -0.011750963576165853, 0.07656187216216323, -0.0332725446539966, -0.03963118000019327, 0.027264135678598093, 0.06901728994364945, 0.10928667412452821, 0.05082310409175068, 0.12147762405356627, -0.45168940997349744, -0.5942654327440993, -0.15802098729280864, 1.0, -0.04596757669571928, 0.006388259993701623, -0.04107945685222684, 0.01874803822746782, -0.0032120688606149563, -0.007200395427375478, -0.017357635513035166, -0.027826551074698964, -0.044733473917266287, -0.0032419402785540067, 0.004609844546406041, -0.02613502452125402, -0.0009732616497497807, -0.00019562794460521515, 0.00112460665677965, -2.5850049554269232e-05, 0.0018345907179065724, 0.00011597648018706348, 0.001364003682972567, 0.002110541450550706, 0.0015743622718238873, 0.001992229747677625, -0.0012387502669966627, -0.0003786053015293986, -8.221784185795778e-05, 6.434466220910609e-05, 7.039774776981445e-05, -0.0007859433395374316, 0.0007240485980813013], [-0.001052384043273799, 0.016255693742772012, -0.05612096023089955, 0.0021485024537578157, -0.028519891228882308, 0.029379371951352606, -0.03621285304074287, -0.07554574375144933, 0.062063867997878226, 0.0009741110543648791, 0.02426410263543389, 0.007989028500661119, 0.00420489207220886, 0.016351323808795618, 0.0058146031738485985, 0.01636312986800329, 0.025690451286087948, 0.000449328751059964, 0.05887565361580717, -0.04596757669571928, 1.0, -0.15273263052044012, 0.13805458898618223, 0.06773239330277737, -0.14725757311169388, 0.053325867473472545, 0.0010712044261032311, -0.05954768418602595, 0.27290021926410896, 0.006355097797647655, 0.010497666747213601, 0.11092050571941496, 0.00039543039170881464, -0.0012297197856073099, -0.0012509298116358631, -0.0006230035403729546, -0.0012070736414709006, 4.220234506691699e-05, 0.0014431604443369938, -0.000424762989918691, -0.0007933308500330998, 0.000874041787844258, 6.956699438872142e-05, 0.0009652394539110704, -0.0010678795853342811, 0.00040245516164774366, 0.00036411366709582037, 0.0005198560815128955, -0.0005613985985721448], [-0.00040334494636219437, -0.03153359612438814, -0.11698664679144183, 0.04523308396695259, -0.04490674148704961, 0.0031621098779806996, 0.012878919847975364, 0.13638274599329003, -0.16260101236029972, -0.029988616804819478, 0.03995547974881677, -0.015804418556154817, -0.002474353574956624, -0.01722907241500742, -0.008441249274929168, -0.018287753550452278, 0.008990106374832978, 0.030264159750268645, -0.056259584636480064, 0.006388259993701623, -0.15273263052044012, 1.0, -0.11109462485616893, -0.2736723688881489, -0.09208322478196956, -0.2530888928054079, 0.1036323807876717, 0.03604366860445445, -0.012977575535633435, -0.019088186796391026, -0.0009649638104181517, -0.09014365639857143, 0.0002867006915949548, 0.00043965375966513123, -0.0018349663534579933, -4.280683979573788e-05, 0.0006850633714510455, -0.000550905926126556, -0.0005988402310763257, -0.0008341968657928113, 0.0020520906048542373, 0.0012427813649333558, -9.926418773546323e-05, -1.4807280233576659e-05, -0.0029475272140405545, -0.0010775834899766639, -0.0011509779965204415, -0.001429640835512592, 0.0009304624944877255], [0.00035446093727700055, 0.03240097069460356, 0.04375596050033502, -0.002531720281610417, 0.09565776668555685, 0.02274437639904159, -0.011398778782566992, -0.0757231021809835, 0.09648343943328785, 0.038462429631455776, -0.049943633728993575, 0.024833271794178498, 0.04610459759760149, 0.12076679710040544, 0.037718276042184064, 0.11926866345591323, 0.06539839780067339, -0.04949269493981059, 0.13732818747730724, -0.04107945685222684, 0.13805458898618223, -0.11109462485616893, 1.0, 0.09719274174914587, 0.4897894274053439, 0.033058292204594435, -0.1483385551520009, -0.24866229809205825, 0.2724071564131674, 0.014220105244686419, 0.015778200128490922, 0.08254922005024012, -0.000450980327821047, -0.0003693202386875692, 0.00043014794862466366, 0.0030706678434798806, 0.002117997853312401, 0.0003282253752524446, 0.0012104089806011973, -0.00269470005989668, -0.0025958807152281094, 0.0008592066483023355, 0.0012823032623196055, -0.0004809622024813614, -0.0009000091122368687, -0.002190087708031245, -0.0013022430575888766, -0.0004145085958394142, 0.0014224541267759635], [0.0023098896739948355, 0.03289987493999408, 0.07904155054810319, -0.07218977632989752, 0.07298961054261868, -0.045361298018711534, -0.010873195216195189, -0.18701667626451934, 0.19970161209070955, 0.08495716267129813, -0.07038654070728184, 0.016566215782012134, 0.008594505962550932, 0.027940354431812538, 0.014655985827309276, 0.029994631058017605, -0.04714742710106486, -0.0444324580159051, 0.04455001980419051, 0.01874803822746782, 0.06773239330277737, -0.2736723688881489, 0.09719274174914587, 1.0, 0.1410031337622068, 0.19401461615484175, -0.183374259152252, -0.051065725258464985, -0.03940529174779886, 0.0007206109590385716, 0.07044614846860035, -0.05732607898195978, 0.0009314839836599153, 0.001538790476113695, 0.0008717001182058602, 0.0002434918758893953, 0.001215931309404982, -0.0003188249939400298, 0.0014737778917999933, 0.001198066784989914, 0.0017213100008985833, 0.00042311633950505554, -0.0023388274799089463, 0.0013882598831542084, 0.0005797271724829382, 0.0006342039000379585, 0.00012764466562672762, -0.00032009578405131915, -0.00053019163375622], [-0.00084973643195865, 0.020754434133130183, 0.21300928032997266, -0.008406520927757209, 0.14359654865912472, 0.06339932427169784, -0.006561608549998125, -0.16489012332400702, 0.09210731694577427, 0.0638887460719928, 0.0428761334865544, 0.015251836567212886, 0.0307826237520869, 0.07047807765139365, 0.023471106794058203, 0.07131983388449886, 0.05151699052707461, -0.05824884239145419, 0.06773302596256506, -0.0032120688606149563, -0.14725757311169388, -0.09208322478196956, 0.4897894274053439, 0.1410031337622068, 1.0, 0.06106827662381854, -0.08375675814608785, -0.03980901941417688, -0.3277505348256675, 0.023489698077017843, 0.0381054143876413, -0.0767854717936134, -0.0016589918561338293, 0.0004514638239356366, 0.00041283967270271094, 0.00044122781336206713, 0.0016640401043901052, 4.603530801234207e-05, -0.0016082481209494677, -0.0017017001612216404, -0.00035882930966736403, 0.001321626001389105, 0.0018638072930969062, -0.0014997038236184486, 0.00139594731436232, -0.002814554153502601, -0.0008849150440545439, -0.002417940157122881, 0.00014994127387365765], [-0.0010096893760912734, 0.011536659955756626, 0.07019202187349194, -0.01730091230640416, 0.008021293226172437, 0.025323615321091824, -0.007229963205387081, -0.05988730879735985, 0.021012550690436286, 0.06337312462413468, -0.008708840542991274, 0.004487183793846699, 0.002257300699842321, 0.004409331864039473, 0.0016058356563016126, 0.005136795765268227, 0.0008576242267381677, -0.016400415460973417, 0.03406713268871457, -0.007200395427375478, 0.053325867473472545, -0.2530888928054079, 0.033058292204594435, 0.19401461615484175, 0.06106827662381854, 1.0, -0.02611622835394703, -0.014611818480575921, 0.003325569073897102, -0.0032214358762925454, 0.02538467026238111, -0.030801632989532358, 0.0008598200601962254, 0.0015746128524585397, 0.001110347739389373, -4.896531776978866e-05, 0.000492169558831998, 0.0025789004953264303, -0.0008241917715083076, 0.0011949560411547635, 0.0004671486827749187, -0.002020251572004944, 0.0008061524226712274, 0.0006898033823445376, 0.0012045255571446942, 0.0001356500415879047, 3.477554141470786e-05, -0.0023403993866320757, -0.0005226832895847189], [-0.00295558180936417, -0.036395222587461, -0.0006393452905840409, -0.011780550384929915, 0.05633693325150142, 0.06465523285489345, 0.05377652521318424, 0.03899368073091141, -0.06470797501899186, -0.01097624237397961, 0.034202576735929344, -0.01780425859352495, -0.016299801093062935, -0.03441622647011792, -0.015614273025725687, -0.037805432776002824, 0.05970332843123464, 0.043830004289338316, -0.04366212443162395, -0.017357635513035166, 0.0010712044261032311, 0.1036323807876717, -0.1483385551520009, -0.183374259152252, -0.08375675814608785, -0.02611622835394703, 1.0, 0.06452922604309512, -0.03960711477236637, 0.004429101557904253, -0.07832725913606242, 0.05573757109216421, 0.00014317246994072214, -0.0017662455375439797, 0.0013053744161633154, -9.291203883074261e-05, 0.0005499792456064279, -0.0014661881547110298, -0.0012697210457009727, 0.0005028118507510407, 0.00013697915328396657, 0.0014953290730628222, 0.0002951428704439685, -0.0004381102787243475, -0.0012544219061968792, 0.0005855222178376709, 0.000347062418778766, 0.0017796446920539488, -0.0023689086360798224], [0.0007475961383047262, -0.02034193348577494, 0.1381116289003837, 0.001525760478627604, 0.003607155114386827, -0.008147548468074901, -0.002083953743306598, 0.038313070317179294, -0.12382519653732582, 0.04279226748766709, 0.05031732944402148, -0.0036596207024356705, -0.004473578533978509, -0.01332335407020998, -0.005009607474459792, -0.013304549299903993, 0.016783815050086203, 0.030265908254077416, -0.008200216193650531, -0.027826551074698964, -0.05954768418602595, 0.03604366860445445, -0.24866229809205825, -0.051065725258464985, -0.03980901941417688, -0.014611818480575921, 0.06452922604309512, 1.0, -0.01629853642416807, -0.03125167998577641, 0.034364928649397726, -0.03852390264191782, -0.0013407294190586774, -0.0005443907527116243, -0.0014563424458583912, -0.001442507108885116, 2.676247359561589e-05, -0.0005307547879870581, -0.002119260300436358, 0.0015842335640298033, 0.000638302219296517, 0.0003935211621883242, -0.001169026770712067, -0.0010101875324775706, 0.0020955546330849594, 0.0013782617361940024, -0.0010009801233439057, 0.00037910847774778465, 0.0002479460755591218], [0.0004940853380194146, 0.005322494909285372, -0.10258232980370965, 0.00943453402178943, -0.013205469282530264, -0.041983012536472374, -0.008333774284880439, 0.099183937638165, -0.0592293173217555, -0.010920062706508004, -0.047699761095759824, 0.0082664409564888, 0.021168527983262284, 0.044120564246464954, 0.014756941996748466, 0.045080438776404094, 0.03787983280932669, 0.01587326196247508, 0.07609946186560423, -0.044733473917266287, 0.27290021926410896, -0.012977575535633435, 0.2724071564131674, -0.03940529174779886, -0.3277505348256675, 0.003325569073897102, -0.03960711477236637, -0.01629853642416807, 1.0, -0.023541068642755618, -0.011188268526013793, 0.118969444214404, 0.0010399053973848705, 0.000742380142943102, -0.0017702971365083872, 0.0020812179822042184, -0.0016920322564709222, -0.0012319557421306066, 0.0012705153842219139, -0.0011916824704620293, -0.0004672662506184927, -0.0004903231499656013, -0.0010919839975814492, 0.000952177846428389, -0.0010595306612630993, -0.0005462931019548912, 0.0016412416111247852, 0.0012730291759388826, 0.0005456450862334286], [-0.0009282837448446624, 0.0010382993212153732, 0.010793696829685654, 0.011401456422593695, -0.008560954021673296, 0.023010432834079733, 0.0021680744466516886, -0.04105681120470314, 0.030556162897083114, 0.025327537974607683, -0.00687141523928333, 0.0007083813828478605, -0.0018207469444587751, -0.00508592585110611, 0.0002595796322974466, -0.00427251057208424, 0.016128999534988916, 0.006596901955514019, -0.008669005786151814, -0.0032419402785540067, 0.006355097797647655, -0.019088186796391026, 0.014220105244686419, 0.0007206109590385716, 0.023489698077017843, -0.0032214358762925454, 0.004429101557904253, -0.03125167998577641, -0.023541068642755618, 1.0, 0.003492611977831433, 0.013412995647701325, -0.002204188680200555, -0.00016428189498661694, -0.001631419908690513, 3.3458338844367305e-06, 0.0029077892163720284, -0.001411527341611807, -0.0015616995757277976, 0.0018166596896549963, 0.0024027112854067625, 0.002988088024274986, -0.00035930506367805635, -0.0008346704499219239, 0.0010212393206456634, -0.0005117859571067839, 0.0007416018344199372, -0.0005855613681766773, 0.00023838942052386116], [0.0020474413080678725, 0.006128798326761823, 0.008187861301748726, 0.014955195806662906, -0.02596590172891641, -0.0006146254081137504, -0.002249565476054419, -0.03129622770642452, 0.047940110791782294, 0.04137147693432778, -0.053983464789145515, 0.005909491658760697, 0.005671365912134987, 0.011473568431568767, 0.004531083396469404, 0.012513326139589956, -0.014094740994882985, -0.009989048367195774, 0.007732623493329746, 0.004609844546406041, 0.010497666747213601, -0.0009649638104181517, 0.015778200128490922, 0.07044614846860035, 0.0381054143876413, 0.02538467026238111, -0.07832725913606242, 0.034364928649397726, -0.011188268526013793, 0.003492611977831433, 1.0, -0.04976970779855611, 0.00021324227842270724, -0.00018470178610462078, -0.0010305527324257996, 0.0016531383200823716, -7.104884064449972e-05, 0.0016651672130237483, 0.0016610534717776443, 1.1254065435562394e-05, -0.00035862222351277064, -0.0005780266596425775, 0.0002478062054980295, -0.0011744468682810259, 0.0020541819917873332, 0.002919214150520812, -0.0004828954298334654, -0.0003423887666790013, 0.0015132572839375348], [0.0026413932462384655, -0.0012133568962230331, 0.008251527554781795, 0.019948833190352715, -0.05935778461180635, 0.07348633332465844, 0.0010755447570798893, 0.01961761811640833, 0.06745692509792364, -0.0821933687301021, -0.02222383963395428, 0.0025262371890126868, 0.0011542083055981621, 0.0044405123227909795, 0.001234069029952286, 0.004418449708888241, 0.022999695061961943, 0.02108927713966739, 0.008827122880153667, -0.02613502452125402, 0.11092050571941496, -0.09014365639857143, 0.08254922005024012, -0.05732607898195978, -0.0767854717936134, -0.030801632989532358, 0.05573757109216421, -0.03852390264191782, 0.118969444214404, 0.013412995647701325, -0.04976970779855611, 1.0, 0.00022496945278697157, 0.002458872518493415, -0.00025111560741128023, -0.00033023183208716355, -0.002458276048011217, -0.0005101365289592108, -0.0005672563408703436, -0.0012063305466676276, -0.0011809019951352032, 0.0011334652327924433, 0.0009449124419327732, -0.0007033351603314765, 0.0005081330268081704, -9.260927347531911e-05, 0.0009303397770724628, 0.0022312615376931856, 0.001280038558317193], [0.0036383179611819377, 3.2720455107159456e-05, -0.0009430787753174504, -0.002111048732799757, 0.0007029223319995609, 0.0008255181087068532, 0.0012916973382696244, -0.00040897151757199367, 0.0004704805518046129, -0.0008862921614354109, 0.0008295720883816524, 3.100019801835291e-05, -0.0011960063936701931, -0.0010630051163120823, 0.000349284365188583, -0.0011022975070728342, 0.0015836127234392147, -0.00015427566393635717, 0.0006707357574975719, -0.0009732616497497807, 0.00039543039170881464, 0.0002867006915949548, -0.000450980327821047, 0.0009314839836599153, -0.0016589918561338293, 0.0008598200601962254, 0.00014317246994072214, -0.0013407294190586774, 0.0010399053973848705, -0.002204188680200555, 0.00021324227842270724, 0.00022496945278697157, 1.0, 0.0006326671086399827, -0.001845321076100575, 0.0014451241140297699, -0.0018465549286891013, -3.835483364034827e-05, 5.835324671095237e-08, 0.0002445677454272767, 0.0009784493310648255, -0.0002146281556930457, 0.00117956060847678, 0.00017189271200305397, -0.0008738127601117421, 0.001185636849081176, 0.0011092144691689856, 0.000901670355747475, 0.00014614969739956845], [-0.000591590850083563, 0.0007708801365361789, -0.001171189955575937, -0.0015478301217391854, -0.00124483981613212, 0.001027798873083514, -0.0006420444921119534, -0.0005006935696638386, -0.00020263779193736855, 0.0006032890364083318, 0.0002826974574501988, 0.00132886951241507, -0.00011120385630700709, 0.00018512789955040158, -0.00041568351088625216, 0.00020541688400103905, 0.0008742837980310804, 0.0013615649246268365, -0.0028267070319113923, -0.00019562794460521515, -0.0012297197856073099, 0.00043965375966513123, -0.0003693202386875692, 0.001538790476113695, 0.0004514638239356366, 0.0015746128524585397, -0.0017662455375439797, -0.0005443907527116243, 0.000742380142943102, -0.00016428189498661694, -0.00018470178610462078, 0.002458872518493415, 0.0006326671086399827, 1.0, -0.0013940213742305763, -0.0022117543279146354, -0.0017921422616933762, 0.0011537560131783223, -0.00023581508931659273, 0.0003868027238659907, -0.00021170094528748975, 0.00027033313992228127, -0.0009686463055696605, 7.896468850695335e-05, -0.0009427509379683803, -0.0009852664395485322, -0.0004058525742853213, 0.00026514988456799834, 0.0014943221390327365], [0.0009574769937712452, 8.182225978205306e-05, 0.00014683213520095265, 8.548689230307831e-05, 0.0023614979575671243, 0.0026258399586337597, -0.00024941758434079725, -0.0014131826801872418, 0.0022574679719620087, 0.0012489817846119459, -0.001951994888267138, -0.002677298661133378, 0.000910829501761915, 0.000516936925499091, -0.002162688802186935, -0.00024164533876208473, 3.349415158297259e-05, -0.00035490506837888684, -0.0003381879933766814, 0.00112460665677965, -0.0012509298116358631, -0.0018349663534579933, 0.00043014794862466366, 0.0008717001182058602, 0.00041283967270271094, 0.001110347739389373, 0.0013053744161633154, -0.0014563424458583912, -0.0017702971365083872, -0.001631419908690513, -0.0010305527324257996, -0.00025111560741128023, -0.001845321076100575, -0.0013940213742305763, 1.0, -7.531912940734491e-05, -0.000603379531705, 0.0017095886432559589, -0.0015344104636153145, -0.0005749585705785949, 0.000606879888333531, 0.0009738384019131947, -0.0008696868262338701, 0.0006305110709976015, 0.00013999232688450294, 0.0003201823342879596, 0.0020048012309444117, 0.001185020358563465, 0.0008642753852542953], [0.0007882447910606476, -0.00010347690485265882, -0.0006583998180269789, -0.00017173251468897293, 0.0015325306198654468, -0.0001507383234412961, -0.001902390027468809, -0.0015526558607684004, -0.0007715341800703232, 0.0015137952726550774, 0.0013778111002170964, 0.0012737060249125552, -0.0017878545885394827, 0.0017231519792317055, 0.00041364798436141313, 0.0010228747040311582, 0.0017213970445760945, 0.001070181079297779, -0.0007815553133858121, -2.5850049554269232e-05, -0.0006230035403729546, -4.280683979573788e-05, 0.0030706678434798806, 0.0002434918758893953, 0.00044122781336206713, -4.896531776978866e-05, -9.291203883074261e-05, -0.001442507108885116, 0.0020812179822042184, 3.3458338844367305e-06, 0.0016531383200823716, -0.00033023183208716355, 0.0014451241140297699, -0.0022117543279146354, -7.531912940734491e-05, 1.0, -0.0020846240440268154, 0.0007561854950527445, -0.0005302751847792106, -0.000109373544385609, -0.0003886932499626191, -0.0005993891804409392, 0.0019081420282555934, 9.66314589151136e-05, -0.0014105868897924454, -0.00032686988563508396, -0.000310732441279906, -0.0011828498563564512, 0.0003942514216198142], [0.000835612847691242, -0.0010058548384214974, 0.0029928067889180153, -0.0027117639544371125, 0.0012666649599134556, -0.0027755450296178133, -0.00014490361613121914, -0.0011636516201245283, -0.0014167211446850028, 0.0008268945510498403, 0.0022687777239796653, 0.0014216349339335546, 0.0009946385801952449, 0.003783782111830129, 0.0027903312033983317, 0.004077353989599591, -0.0013086573803460292, -0.0019205651214990803, -0.0006022847453995306, 0.0018345907179065724, -0.0012070736414709006, 0.0006850633714510455, 0.002117997853312401, 0.001215931309404982, 0.0016640401043901052, 0.000492169558831998, 0.0005499792456064279, 2.676247359561589e-05, -0.0016920322564709222, 0.0029077892163720284, -7.104884064449972e-05, -0.002458276048011217, -0.0018465549286891013, -0.0017921422616933762, -0.000603379531705, -0.0020846240440268154, 1.0, 1.3082467918402714e-05, -0.0026656686262395567, 0.0020156141257426648, 0.00010930539163713192, -0.00030400026812217183, -0.00017056886241993742, -0.0002656538804042417, 0.0021334585339106765, -0.0005416628791647894, 0.00020163232378358275, 0.0007846466422700149, -0.0007678417278624516], [0.0005176341988708713, 0.0007189675843657573, -8.533923304049915e-05, 0.0003556758097243229, -0.0015441777405850244, 0.0004865698877561841, -0.0008217959389396053, -0.001955110116000671, 0.003103402535564952, -0.0011713719830313445, 8.414159278212709e-05, 0.002842382982084886, 0.000675129501667861, -0.0020161776675509664, -0.002330326502147568, -0.0014427896242121033, -0.0009849673818394845, -0.00042738389508255336, 0.0005913211470264439, 0.00011597648018706348, 4.220234506691699e-05, -0.000550905926126556, 0.0003282253752524446, -0.0003188249939400298, 4.603530801234207e-05, 0.0025789004953264303, -0.0014661881547110298, -0.0005307547879870581, -0.0012319557421306066, -0.001411527341611807, 0.0016651672130237483, -0.0005101365289592108, -3.835483364034827e-05, 0.0011537560131783223, 0.0017095886432559589, 0.0007561854950527445, 1.3082467918402714e-05, 1.0, -0.00018191557849777222, -0.0008978648417142639, -0.0014087261304180096, -0.0006296039665146222, -6.618237838867407e-05, 0.0009232509440599372, -0.0012912698712836317, -0.0008141216438988966, -0.0010941080196215514, 0.00044405455709760463, 6.652856730185543e-05], [0.000980533554013502, 0.0010608340444808466, -0.0013449818796936771, -2.542520349513617e-05, 0.00023028733837444532, 0.00012727421795228578, -0.0010698729509133489, -0.0011970978269571638, 0.002764372088590574, -0.0010929434068323218, -0.000562446653686342, -0.0003671698201875837, 0.0010608594409819694, 0.0019267518147433878, 0.0009485297239861148, 0.001975748285360836, -0.001278705955536801, -0.0009309516956589041, -0.0006993075561927059, 0.001364003682972567, 0.0014431604443369938, -0.0005988402310763257, 0.0012104089806011973, 0.0014737778917999933, -0.0016082481209494677, -0.0008241917715083076, -0.0012697210457009727, -0.002119260300436358, 0.0012705153842219139, -0.0015616995757277976, 0.0016610534717776443, -0.0005672563408703436, 5.835324671095237e-08, -0.00023581508931659273, -0.0015344104636153145, -0.0005302751847792106, -0.0026656686262395567, -0.00018191557849777222, 1.0, 0.0003942191139418012, 0.002086146473402573, 0.0012790179252307097, 0.0012524127188466114, -0.000320651928570128, 0.0004215258544216297, 0.0003662380118533422, -0.0016175662068499998, -0.001302425409368721, -0.0003357342939004014], [-0.0012488250196405976, 0.0003714373948919784, -0.0012629092646156163, 3.793867444728029e-05, -0.00271554188115075, -0.00200083123856293, -0.0015247002980410744, 0.0008220026165339009, -0.00044764134499224433, -0.0006318117597199733, 7.181830788460824e-05, -0.0023492443946713077, 0.00018449154616471063, 0.000128960121691486, -0.00018583926200984541, -0.00024326970061660326, -0.0019515651504133746, -0.0005474330902532191, -0.0010905132359777818, 0.002110541450550706, -0.000424762989918691, -0.0008341968657928113, -0.00269470005989668, 0.001198066784989914, -0.0017017001612216404, 0.0011949560411547635, 0.0005028118507510407, 0.0015842335640298033, -0.0011916824704620293, 0.0018166596896549963, 1.1254065435562394e-05, -0.0012063305466676276, 0.0002445677454272767, 0.0003868027238659907, -0.0005749585705785949, -0.000109373544385609, 0.0020156141257426648, -0.0008978648417142639, 0.0003942191139418012, 1.0, 0.0010363096506155862, 0.0037022935032958253, 0.0004796006799332971, 0.0008337638553326855, 0.0008795353242804832, -0.0012352831533996144, -0.0009601810727459596, -0.0013765088764562936, -0.00016434196923935577], [-0.001093454653076123, -0.001132585398131543, 0.0015206567146518381, -0.0008836458794253027, -0.002352333367000353, -0.0008139493139849512, 0.0009753755080666246, 0.001346527577785583, -0.0010438535583232992, -0.0012414424693481063, 0.000663667813310181, 0.0013666102034156126, -0.0006120933976180955, 0.0008132382695546607, -0.0014181281398796739, 0.00028409101359149397, -0.0012626527588479603, 0.0004788567902211824, -0.0008502466566857318, 0.0015743622718238873, -0.0007933308500330998, 0.0020520906048542373, -0.0025958807152281094, 0.0017213100008985833, -0.00035882930966736403, 0.0004671486827749187, 0.00013697915328396657, 0.000638302219296517, -0.0004672662506184927, 0.0024027112854067625, -0.00035862222351277064, -0.0011809019951352032, 0.0009784493310648255, -0.00021170094528748975, 0.000606879888333531, -0.0003886932499626191, 0.00010930539163713192, -0.0014087261304180096, 0.002086146473402573, 0.0010363096506155862, 1.0, -0.0003000642782002261, 0.0009804412238627175, 0.001557011818479619, -0.0009128274758420327, 0.003564590448088198, 8.383414231091086e-05, 0.0010213745943376575, -0.0005819389857332146], [-0.0001570102363974875, -0.0004464645318106672, 0.00019895341092282697, -0.0008928474834440371, 0.00013288787890914573, 0.0002834052581424088, 0.001549156967180905, -0.0013011186998572416, 0.0005412369024745282, -0.0004320285599224442, 0.001439010593754627, 0.001968875596109247, 0.0003040675893245571, 0.0005585972004795325, -0.0021253852767337436, 0.00030681115009076137, -0.0009216867411593551, -0.001205708134776814, 0.0004287804389088475, 0.001992229747677625, 0.000874041787844258, 0.0012427813649333558, 0.0008592066483023355, 0.00042311633950505554, 0.001321626001389105, -0.002020251572004944, 0.0014953290730628222, 0.0003935211621883242, -0.0004903231499656013, 0.002988088024274986, -0.0005780266596425775, 0.0011334652327924433, -0.0002146281556930457, 0.00027033313992228127, 0.0009738384019131947, -0.0005993891804409392, -0.00030400026812217183, -0.0006296039665146222, 0.0012790179252307097, 0.0037022935032958253, -0.0003000642782002261, 1.0, -0.0023253997103740774, 0.0007633285228824644, 0.0026328685607104572, -0.0007822956678385264, 0.0005639452300613327, 0.001945194513251351, -0.0016489428988126732], [0.001609423824816161, 0.0013622753431332209, -0.0008910685014914849, -0.0005185257387844355, 0.00020474960687044948, 0.001564549638218458, 0.002170835212999189, 0.0003039329025924058, 0.0016655249364696076, -0.0019591595357223396, -0.0003887243839006073, 0.00023239812552867627, -0.0007858590549958653, -0.0005013388256705757, 0.000874525058532212, -0.00038714133380647196, 0.001348343378809588, -0.00016701443375272682, 0.0007460892730801729, -0.0012387502669966627, 6.956699438872142e-05, -9.926418773546323e-05, 0.0012823032623196055, -0.0023388274799089463, 0.0018638072930969062, 0.0008061524226712274, 0.0002951428704439685, -0.001169026770712067, -0.0010919839975814492, -0.00035930506367805635, 0.0002478062054980295, 0.0009449124419327732, 0.00117956060847678, -0.0009686463055696605, -0.0008696868262338701, 0.0019081420282555934, -0.00017056886241993742, -6.618237838867407e-05, 0.0012524127188466114, 0.0004796006799332971, 0.0009804412238627175, -0.0023253997103740774, 1.0, 0.001713387982019009, 0.0001985459429239033, -0.001287343165204052, -0.0010625487660089186, -7.567114607875704e-05, -0.00047695089701282217], [-0.0012272973917402156, -0.0004904242506649142, -0.00039679021243222155, -0.0001091639435269205, 0.00013443276941903844, 0.0027346762054485775, 0.001548047451239712, 0.0020878603119107173, 0.0005749746503442117, -0.0027823010069090493, -0.0006211068335357588, -0.0032329018832894796, -0.0006590162500335249, -0.0016324069179437177, 0.0004916403631603665, -0.0018207206855969129, 0.0007020649300910482, 0.0009289338594358783, -0.0015898973721007975, -0.0003786053015293986, 0.0009652394539110704, -1.4807280233576659e-05, -0.0004809622024813614, 0.0013882598831542084, -0.0014997038236184486, 0.0006898033823445376, -0.0004381102787243475, -0.0010101875324775706, 0.000952177846428389, -0.0008346704499219239, -0.0011744468682810259, -0.0007033351603314765, 0.00017189271200305397, 7.896468850695335e-05, 0.0006305110709976015, 9.66314589151136e-05, -0.0002656538804042417, 0.0009232509440599372, -0.000320651928570128, 0.0008337638553326855, 0.001557011818479619, 0.0007633285228824644, 0.001713387982019009, 1.0, 0.0003847799596396189, 0.0010284195630817046, -0.0008488737176605966, 0.0008350357428633705, 0.0028691848832764094], [-0.001412005900504181, 0.0006238280115069002, -1.1545248109605945e-05, 0.0009195635201592935, -0.0007442327813956861, 0.0022953462039966353, -0.00036823623935244105, -0.00038145116468386327, 0.0012197619159613055, -0.002047724572786132, 0.001058856885756094, 0.0010115230415397082, 0.0014178496831814482, 0.0017539182011076183, 0.0015699943019584597, 0.0023183867020431506, -0.0019153659560989628, -0.0004946092252117053, -0.00021109233161309543, -8.221784185795778e-05, -0.0010678795853342811, -0.0029475272140405545, -0.0009000091122368687, 0.0005797271724829382, 0.00139594731436232, 0.0012045255571446942, -0.0012544219061968792, 0.0020955546330849594, -0.0010595306612630993, 0.0010212393206456634, 0.0020541819917873332, 0.0005081330268081704, -0.0008738127601117421, -0.0009427509379683803, 0.00013999232688450294, -0.0014105868897924454, 0.0021334585339106765, -0.0012912698712836317, 0.0004215258544216297, 0.0008795353242804832, -0.0009128274758420327, 0.0026328685607104572, 0.0001985459429239033, 0.0003847799596396189, 1.0, -0.001670131862574578, 0.0007356946834361805, 7.729719133492816e-05, -8.498697276262237e-05], [-0.0012665829156906327, -0.00017012817366195574, -0.0008675973201972937, 0.0005472321892402385, 0.00015773156327487207, 0.0007734421027461945, 0.00015309117899222943, -1.2555595169838768e-06, -0.0005167363145738323, -0.0005794594623620968, 0.001134864056114266, 0.0003451145587065771, 0.001064120894248575, 0.0013843957990028455, -0.0029176616014148344, 0.0007408167748194556, 0.0011762611405289737, -0.000432323026065295, -0.00024213748444542482, 6.434466220910609e-05, 0.00040245516164774366, -0.0010775834899766639, -0.002190087708031245, 0.0006342039000379585, -0.002814554153502601, 0.0001356500415879047, 0.0005855222178376709, 0.0013782617361940024, -0.0005462931019548912, -0.0005117859571067839, 0.002919214150520812, -9.260927347531911e-05, 0.001185636849081176, -0.0009852664395485322, 0.0003201823342879596, -0.00032686988563508396, -0.0005416628791647894, -0.0008141216438988966, 0.0003662380118533422, -0.0012352831533996144, 0.003564590448088198, -0.0007822956678385264, -0.001287343165204052, 0.0010284195630817046, -0.001670131862574578, 1.0, -0.0008263242941722559, 0.0004502193158231304, 0.0009660833743344259], [-0.001387012489517146, 0.0005524351996219551, -0.0015035875469076693, 0.0008240709263796172, -0.00021792732130881942, 0.000915879223084782, 3.168678414767965e-05, -0.0007593038072440595, 0.00018148010908247355, -6.765604151978188e-05, 0.0008151460825746571, 0.00023955239726392255, -0.001101599223895727, -0.0013589599814370088, -0.00011712544370401624, -0.0013771848219751998, -0.0013255253293460454, 9.269330911144216e-05, 4.6684570859090036e-05, 7.039774776981445e-05, 0.00036411366709582037, -0.0011509779965204415, -0.0013022430575888766, 0.00012764466562672762, -0.0008849150440545439, 3.477554141470786e-05, 0.000347062418778766, -0.0010009801233439057, 0.0016412416111247852, 0.0007416018344199372, -0.0004828954298334654, 0.0009303397770724628, 0.0011092144691689856, -0.0004058525742853213, 0.0020048012309444117, -0.000310732441279906, 0.00020163232378358275, -0.0010941080196215514, -0.0016175662068499998, -0.0009601810727459596, 8.383414231091086e-05, 0.0005639452300613327, -0.0010625487660089186, -0.0008488737176605966, 0.0007356946834361805, -0.0008263242941722559, 1.0, -0.000256999749002091, 0.0005221041491465297], [0.000194224949511712, -0.001743831954662157, -0.00016221628124577943, 0.00036682948961575137, -0.0008816797556254782, -0.0019656334704269167, 0.0002764781762421012, 0.002790733141215928, -0.0013611791678408936, -0.0009190393767054746, -0.0011026523735723538, 0.0015546541592415916, -0.00124072852428391, -0.0017793822878312809, 0.002079286759947947, -0.0010118034751274217, 0.0017437917830280592, 0.0003020462737266211, -0.0007755225209437762, -0.0007859433395374316, 0.0005198560815128955, -0.001429640835512592, -0.0004145085958394142, -0.00032009578405131915, -0.002417940157122881, -0.0023403993866320757, 0.0017796446920539488, 0.00037910847774778465, 0.0012730291759388826, -0.0005855613681766773, -0.0003423887666790013, 0.0022312615376931856, 0.000901670355747475, 0.00026514988456799834, 0.001185020358563465, -0.0011828498563564512, 0.0007846466422700149, 0.00044405455709760463, -0.001302425409368721, -0.0013765088764562936, 0.0010213745943376575, 0.001945194513251351, -7.567114607875704e-05, 0.0008350357428633705, 7.729719133492816e-05, 0.0004502193158231304, -0.000256999749002091, 1.0, 3.090079145197546e-05], [-0.0012665168671981402, -0.001072228427533944, -0.0014640083176247888, -0.0020700765230627083, -0.0037094085792932193, 0.0012439383819380263, 0.0002786905470474071, 0.00020310560101518386, -0.0009608000950871937, 0.0009953591808335657, -0.00012315711435414317, -0.003389818864803641, 0.00040941255000637877, 0.0031663201946097188, -0.0009808134646822802, 0.0017825538619501557, -0.002039514522085841, 0.0015192075604170449, -0.001922700612823545, 0.0007240485980813013, -0.0005613985985721448, 0.0009304624944877255, 0.0014224541267759635, -0.00053019163375622, 0.00014994127387365765, -0.0005226832895847189, -0.0023689086360798224, 0.0002479460755591218, 0.0005456450862334286, 0.00023838942052386116, 0.0015132572839375348, 0.001280038558317193, 0.00014614969739956845, 0.0014943221390327365, 0.0008642753852542953, 0.0003942514216198142, -0.0007678417278624516, 6.652856730185543e-05, -0.0003357342939004014, -0.00016434196923935577, -0.0005819389857332146, -0.0016489428988126732, -0.00047695089701282217, 0.0028691848832764094, -8.498697276262237e-05, 0.0009660833743344259, 0.0005221041491465297, 3.090079145197546e-05, 1.0]]}],\n",
       "                        {\"height\": 700, \"template\": {\"data\": {\"bar\": [{\"error_x\": {\"color\": \"#2a3f5f\"}, \"error_y\": {\"color\": \"#2a3f5f\"}, \"marker\": {\"line\": {\"color\": \"#E5ECF6\", \"width\": 0.5}}, \"type\": \"bar\"}], \"barpolar\": [{\"marker\": {\"line\": {\"color\": \"#E5ECF6\", \"width\": 0.5}}, \"type\": \"barpolar\"}], \"carpet\": [{\"aaxis\": {\"endlinecolor\": \"#2a3f5f\", \"gridcolor\": \"white\", \"linecolor\": \"white\", \"minorgridcolor\": \"white\", \"startlinecolor\": \"#2a3f5f\"}, \"baxis\": {\"endlinecolor\": \"#2a3f5f\", \"gridcolor\": \"white\", \"linecolor\": \"white\", \"minorgridcolor\": \"white\", \"startlinecolor\": \"#2a3f5f\"}, \"type\": \"carpet\"}], \"choropleth\": [{\"colorbar\": {\"outlinewidth\": 0, \"ticks\": \"\"}, \"type\": \"choropleth\"}], \"contour\": [{\"colorbar\": {\"outlinewidth\": 0, \"ticks\": \"\"}, \"colorscale\": [[0.0, \"#0d0887\"], [0.1111111111111111, \"#46039f\"], [0.2222222222222222, \"#7201a8\"], [0.3333333333333333, \"#9c179e\"], [0.4444444444444444, \"#bd3786\"], [0.5555555555555556, \"#d8576b\"], [0.6666666666666666, \"#ed7953\"], [0.7777777777777778, \"#fb9f3a\"], [0.8888888888888888, \"#fdca26\"], [1.0, \"#f0f921\"]], \"type\": \"contour\"}], \"contourcarpet\": [{\"colorbar\": {\"outlinewidth\": 0, \"ticks\": \"\"}, \"type\": \"contourcarpet\"}], \"heatmap\": [{\"colorbar\": {\"outlinewidth\": 0, \"ticks\": \"\"}, \"colorscale\": [[0.0, \"#0d0887\"], [0.1111111111111111, \"#46039f\"], [0.2222222222222222, \"#7201a8\"], [0.3333333333333333, \"#9c179e\"], [0.4444444444444444, \"#bd3786\"], [0.5555555555555556, \"#d8576b\"], [0.6666666666666666, \"#ed7953\"], [0.7777777777777778, \"#fb9f3a\"], [0.8888888888888888, \"#fdca26\"], [1.0, \"#f0f921\"]], \"type\": \"heatmap\"}], \"heatmapgl\": [{\"colorbar\": {\"outlinewidth\": 0, \"ticks\": \"\"}, \"colorscale\": [[0.0, \"#0d0887\"], [0.1111111111111111, \"#46039f\"], [0.2222222222222222, \"#7201a8\"], [0.3333333333333333, \"#9c179e\"], [0.4444444444444444, \"#bd3786\"], [0.5555555555555556, \"#d8576b\"], [0.6666666666666666, \"#ed7953\"], [0.7777777777777778, \"#fb9f3a\"], [0.8888888888888888, \"#fdca26\"], [1.0, \"#f0f921\"]], \"type\": \"heatmapgl\"}], \"histogram\": [{\"marker\": {\"colorbar\": {\"outlinewidth\": 0, \"ticks\": \"\"}}, \"type\": \"histogram\"}], \"histogram2d\": [{\"colorbar\": {\"outlinewidth\": 0, \"ticks\": \"\"}, \"colorscale\": [[0.0, \"#0d0887\"], [0.1111111111111111, \"#46039f\"], [0.2222222222222222, \"#7201a8\"], [0.3333333333333333, \"#9c179e\"], [0.4444444444444444, \"#bd3786\"], [0.5555555555555556, \"#d8576b\"], [0.6666666666666666, \"#ed7953\"], [0.7777777777777778, \"#fb9f3a\"], [0.8888888888888888, \"#fdca26\"], [1.0, \"#f0f921\"]], \"type\": \"histogram2d\"}], \"histogram2dcontour\": [{\"colorbar\": {\"outlinewidth\": 0, \"ticks\": \"\"}, \"colorscale\": [[0.0, \"#0d0887\"], [0.1111111111111111, \"#46039f\"], [0.2222222222222222, \"#7201a8\"], [0.3333333333333333, \"#9c179e\"], [0.4444444444444444, \"#bd3786\"], [0.5555555555555556, \"#d8576b\"], [0.6666666666666666, \"#ed7953\"], [0.7777777777777778, \"#fb9f3a\"], [0.8888888888888888, \"#fdca26\"], [1.0, \"#f0f921\"]], \"type\": \"histogram2dcontour\"}], \"mesh3d\": [{\"colorbar\": {\"outlinewidth\": 0, \"ticks\": \"\"}, \"type\": \"mesh3d\"}], \"parcoords\": [{\"line\": {\"colorbar\": {\"outlinewidth\": 0, \"ticks\": \"\"}}, \"type\": \"parcoords\"}], \"pie\": [{\"automargin\": true, \"type\": \"pie\"}], \"scatter\": [{\"marker\": {\"colorbar\": {\"outlinewidth\": 0, \"ticks\": \"\"}}, \"type\": \"scatter\"}], \"scatter3d\": [{\"line\": {\"colorbar\": {\"outlinewidth\": 0, \"ticks\": \"\"}}, \"marker\": {\"colorbar\": {\"outlinewidth\": 0, \"ticks\": \"\"}}, \"type\": \"scatter3d\"}], \"scattercarpet\": [{\"marker\": {\"colorbar\": {\"outlinewidth\": 0, \"ticks\": \"\"}}, \"type\": \"scattercarpet\"}], \"scattergeo\": [{\"marker\": {\"colorbar\": {\"outlinewidth\": 0, \"ticks\": \"\"}}, \"type\": \"scattergeo\"}], \"scattergl\": [{\"marker\": {\"colorbar\": {\"outlinewidth\": 0, \"ticks\": \"\"}}, \"type\": \"scattergl\"}], \"scattermapbox\": [{\"marker\": {\"colorbar\": {\"outlinewidth\": 0, \"ticks\": \"\"}}, \"type\": \"scattermapbox\"}], \"scatterpolar\": [{\"marker\": {\"colorbar\": {\"outlinewidth\": 0, \"ticks\": \"\"}}, \"type\": \"scatterpolar\"}], \"scatterpolargl\": [{\"marker\": {\"colorbar\": {\"outlinewidth\": 0, \"ticks\": \"\"}}, \"type\": \"scatterpolargl\"}], \"scatterternary\": [{\"marker\": {\"colorbar\": {\"outlinewidth\": 0, \"ticks\": \"\"}}, \"type\": \"scatterternary\"}], \"surface\": [{\"colorbar\": {\"outlinewidth\": 0, \"ticks\": \"\"}, \"colorscale\": [[0.0, \"#0d0887\"], [0.1111111111111111, \"#46039f\"], [0.2222222222222222, \"#7201a8\"], [0.3333333333333333, \"#9c179e\"], [0.4444444444444444, \"#bd3786\"], [0.5555555555555556, \"#d8576b\"], [0.6666666666666666, \"#ed7953\"], [0.7777777777777778, \"#fb9f3a\"], [0.8888888888888888, \"#fdca26\"], [1.0, \"#f0f921\"]], \"type\": \"surface\"}], \"table\": [{\"cells\": {\"fill\": {\"color\": \"#EBF0F8\"}, \"line\": {\"color\": \"white\"}}, \"header\": {\"fill\": {\"color\": \"#C8D4E3\"}, \"line\": {\"color\": \"white\"}}, \"type\": \"table\"}]}, \"layout\": {\"annotationdefaults\": {\"arrowcolor\": \"#2a3f5f\", \"arrowhead\": 0, \"arrowwidth\": 1}, \"coloraxis\": {\"colorbar\": {\"outlinewidth\": 0, \"ticks\": \"\"}}, \"colorscale\": {\"diverging\": [[0, \"#8e0152\"], [0.1, \"#c51b7d\"], [0.2, \"#de77ae\"], [0.3, \"#f1b6da\"], [0.4, \"#fde0ef\"], [0.5, \"#f7f7f7\"], [0.6, \"#e6f5d0\"], [0.7, \"#b8e186\"], [0.8, \"#7fbc41\"], [0.9, \"#4d9221\"], [1, \"#276419\"]], \"sequential\": [[0.0, \"#0d0887\"], [0.1111111111111111, \"#46039f\"], [0.2222222222222222, \"#7201a8\"], [0.3333333333333333, \"#9c179e\"], [0.4444444444444444, \"#bd3786\"], [0.5555555555555556, \"#d8576b\"], [0.6666666666666666, \"#ed7953\"], [0.7777777777777778, \"#fb9f3a\"], [0.8888888888888888, \"#fdca26\"], [1.0, \"#f0f921\"]], \"sequentialminus\": [[0.0, \"#0d0887\"], [0.1111111111111111, \"#46039f\"], [0.2222222222222222, \"#7201a8\"], [0.3333333333333333, \"#9c179e\"], [0.4444444444444444, \"#bd3786\"], [0.5555555555555556, \"#d8576b\"], [0.6666666666666666, \"#ed7953\"], [0.7777777777777778, \"#fb9f3a\"], [0.8888888888888888, \"#fdca26\"], [1.0, \"#f0f921\"]]}, \"colorway\": [\"#636efa\", \"#EF553B\", \"#00cc96\", \"#ab63fa\", \"#FFA15A\", \"#19d3f3\", \"#FF6692\", \"#B6E880\", \"#FF97FF\", \"#FECB52\"], \"font\": {\"color\": \"#2a3f5f\"}, \"geo\": {\"bgcolor\": \"white\", \"lakecolor\": \"white\", \"landcolor\": \"#E5ECF6\", \"showlakes\": true, \"showland\": true, \"subunitcolor\": \"white\"}, \"hoverlabel\": {\"align\": \"left\"}, \"hovermode\": \"closest\", \"mapbox\": {\"style\": \"light\"}, \"paper_bgcolor\": \"white\", \"plot_bgcolor\": \"#E5ECF6\", \"polar\": {\"angularaxis\": {\"gridcolor\": \"white\", \"linecolor\": \"white\", \"ticks\": \"\"}, \"bgcolor\": \"#E5ECF6\", \"radialaxis\": {\"gridcolor\": \"white\", \"linecolor\": \"white\", \"ticks\": \"\"}}, \"scene\": {\"xaxis\": {\"backgroundcolor\": \"#E5ECF6\", \"gridcolor\": \"white\", \"gridwidth\": 2, \"linecolor\": \"white\", \"showbackground\": true, \"ticks\": \"\", \"zerolinecolor\": \"white\"}, \"yaxis\": {\"backgroundcolor\": \"#E5ECF6\", \"gridcolor\": \"white\", \"gridwidth\": 2, \"linecolor\": \"white\", \"showbackground\": true, \"ticks\": \"\", \"zerolinecolor\": \"white\"}, \"zaxis\": {\"backgroundcolor\": \"#E5ECF6\", \"gridcolor\": \"white\", \"gridwidth\": 2, \"linecolor\": \"white\", \"showbackground\": true, \"ticks\": \"\", \"zerolinecolor\": \"white\"}}, \"shapedefaults\": {\"line\": {\"color\": \"#2a3f5f\"}}, \"ternary\": {\"aaxis\": {\"gridcolor\": \"white\", \"linecolor\": \"white\", \"ticks\": \"\"}, \"baxis\": {\"gridcolor\": \"white\", \"linecolor\": \"white\", \"ticks\": \"\"}, \"bgcolor\": \"#E5ECF6\", \"caxis\": {\"gridcolor\": \"white\", \"linecolor\": \"white\", \"ticks\": \"\"}}, \"title\": {\"x\": 0.05}, \"xaxis\": {\"automargin\": true, \"gridcolor\": \"white\", \"linecolor\": \"white\", \"ticks\": \"\", \"title\": {\"standoff\": 15}, \"zerolinecolor\": \"white\", \"zerolinewidth\": 2}, \"yaxis\": {\"automargin\": true, \"gridcolor\": \"white\", \"linecolor\": \"white\", \"ticks\": \"\", \"title\": {\"standoff\": 15}, \"zerolinecolor\": \"white\", \"zerolinewidth\": 2}}}, \"title\": {\"text\": \"Pearson Correlation of Integer-type features\"}, \"width\": 900, \"xaxis\": {\"nticks\": 36, \"ticks\": \"\"}, \"yaxis\": {\"ticks\": \"\"}},\n",
       "                        {\"responsive\": true}\n",
       "                    ).then(function(){\n",
       "                            \n",
       "var gd = document.getElementById('b0fb8ce6-abf3-480f-a188-6f6523cfdb4c');\n",
       "var x = new MutationObserver(function (mutations, observer) {{\n",
       "        var display = window.getComputedStyle(gd).display;\n",
       "        if (!display || display === 'none') {{\n",
       "            console.log([gd, 'removed!']);\n",
       "            Plotly.purge(gd);\n",
       "            observer.disconnect();\n",
       "        }}\n",
       "}});\n",
       "\n",
       "// Listen for the removal of the full notebook cells\n",
       "var notebookContainer = gd.closest('#notebook-container');\n",
       "if (notebookContainer) {{\n",
       "    x.observe(notebookContainer, {childList: true});\n",
       "}}\n",
       "\n",
       "// Listen for the clearing of the current output cell\n",
       "var outputEl = gd.closest('.output');\n",
       "if (outputEl) {{\n",
       "    x.observe(outputEl, {childList: true});\n",
       "}}\n",
       "\n",
       "                        })\n",
       "                };\n",
       "                });\n",
       "            </script>\n",
       "        </div>"
      ]
     },
     "metadata": {},
     "output_type": "display_data"
    }
   ],
   "source": [
    "data = [\n",
    "    go.Heatmap(\n",
    "        z=train_int.corr().values, \n",
    "        x=train_int.columns.values,\n",
    "        y=train_int.columns.values,\n",
    "        colorscale='Viridis',\n",
    "        reversescale=False,\n",
    "        opacity=1.0)]\n",
    "\n",
    "layout = go.Layout(\n",
    "    title = 'Pearson Correlation of Integer-type features',\n",
    "    xaxis=dict(ticks='', nticks=36),\n",
    "    yaxis=dict(ticks=''),\n",
    "    width=900, height = 700)\n",
    "\n",
    "fig=go.Figure(data=data, layout=layout)\n",
    "py.iplot(fig, filename='labelled-heatmap')"
   ]
  },
  {
   "cell_type": "code",
   "execution_count": 14,
   "metadata": {},
   "outputs": [
    {
     "data": {
      "application/vnd.plotly.v1+json": {
       "config": {
        "linkText": "Export to plot.ly",
        "plotlyServerURL": "https://plot.ly",
        "showLink": false
       },
       "data": [
        {
         "colorscale": [
          [
           0.0,
           "#440154"
          ],
          [
           0.1111111111111111,
           "#482878"
          ],
          [
           0.2222222222222222,
           "#3e4989"
          ],
          [
           0.3333333333333333,
           "#31688e"
          ],
          [
           0.4444444444444444,
           "#26828e"
          ],
          [
           0.5555555555555556,
           "#1f9e89"
          ],
          [
           0.6666666666666666,
           "#35b779"
          ],
          [
           0.7777777777777778,
           "#6ece58"
          ],
          [
           0.8888888888888888,
           "#b5de2b"
          ],
          [
           1.0,
           "#fde725"
          ]
         ],
         "opacity": 1.0,
         "reversescale": false,
         "type": "heatmap",
         "x": [
          "ps_reg_01",
          "ps_reg_02",
          "ps_reg_03",
          "ps_car_12",
          "ps_car_13",
          "ps_car_14",
          "ps_car_15",
          "ps_calc_01",
          "ps_calc_02",
          "ps_calc_03"
         ],
         "y": [
          "ps_reg_01",
          "ps_reg_02",
          "ps_reg_03",
          "ps_car_12",
          "ps_car_13",
          "ps_car_14",
          "ps_car_15",
          "ps_calc_01",
          "ps_calc_02",
          "ps_calc_03"
         ],
         "z": [
          [
           1.0,
           0.47102706970003355,
           0.6370345334689439,
           0.018802163992240873,
           0.027097332675295224,
           0.012703956205458425,
           0.002764523307205702,
           -0.0008913096088880116,
           0.0021944369073186097,
           -0.0015381674281423087
          ],
          [
           0.47102706970003355,
           1.0,
           0.5164571870209411,
           0.17141577677467867,
           0.19431602128933323,
           0.004147129522126511,
           0.054510431054316806,
           0.001346934846572804,
           -0.0007702025529741213,
           2.2238677956617257e-05
          ],
          [
           0.6370345334689439,
           0.5164571870209411,
           1.0,
           0.08257845165928565,
           0.09941515095190967,
           0.006271377046971609,
           0.022930433336835417,
           -0.0014843862916804399,
           0.002147095174306244,
           -0.0004013973730361958
          ],
          [
           0.018802163992240873,
           0.17141577677467867,
           0.08257845165928565,
           1.0,
           0.6717202565229554,
           0.012395405826362633,
           0.049882050453473784,
           -0.0007000926453862521,
           -0.0004268804124417914,
           0.00017170019457652907
          ],
          [
           0.027097332675295224,
           0.19431602128933323,
           0.09941515095190967,
           0.6717202565229554,
           1.0,
           -0.03730957532308523,
           0.5295185559167169,
           0.00015748103227473823,
           3.994389894591031e-05,
           -0.00019953330199343504
          ],
          [
           0.012703956205458425,
           0.004147129522126511,
           0.006271377046971609,
           0.012395405826362633,
           -0.03730957532308523,
           1.0,
           -0.033060263097950744,
           -0.0011914849446145214,
           0.0012169450177811705,
           0.00043267511935599307
          ],
          [
           0.002764523307205702,
           0.054510431054316806,
           0.022930433336835417,
           0.049882050453473784,
           0.5295185559167169,
           -0.033060263097950744,
           1.0,
           0.0003435576850778193,
           -0.0002516306440417137,
           -0.0010425327140505308
          ],
          [
           -0.0008913096088880116,
           0.001346934846572804,
           -0.0014843862916804399,
           -0.0007000926453862521,
           0.00015748103227473823,
           -0.0011914849446145214,
           0.0003435576850778193,
           1.0,
           -0.002418400505808286,
           0.0005263738781031558
          ],
          [
           0.0021944369073186097,
           -0.0007702025529741213,
           0.002147095174306244,
           -0.0004268804124417914,
           3.994389894591031e-05,
           0.0012169450177811705,
           -0.0002516306440417137,
           -0.002418400505808286,
           1.0,
           0.0029476584887376573
          ],
          [
           -0.0015381674281423087,
           2.2238677956617257e-05,
           -0.0004013973730361958,
           0.00017170019457652907,
           -0.00019953330199343504,
           0.00043267511935599307,
           -0.0010425327140505308,
           0.0005263738781031558,
           0.0029476584887376573,
           1.0
          ]
         ]
        }
       ],
       "layout": {
        "height": 700,
        "template": {
         "data": {
          "bar": [
           {
            "error_x": {
             "color": "#2a3f5f"
            },
            "error_y": {
             "color": "#2a3f5f"
            },
            "marker": {
             "line": {
              "color": "#E5ECF6",
              "width": 0.5
             }
            },
            "type": "bar"
           }
          ],
          "barpolar": [
           {
            "marker": {
             "line": {
              "color": "#E5ECF6",
              "width": 0.5
             }
            },
            "type": "barpolar"
           }
          ],
          "carpet": [
           {
            "aaxis": {
             "endlinecolor": "#2a3f5f",
             "gridcolor": "white",
             "linecolor": "white",
             "minorgridcolor": "white",
             "startlinecolor": "#2a3f5f"
            },
            "baxis": {
             "endlinecolor": "#2a3f5f",
             "gridcolor": "white",
             "linecolor": "white",
             "minorgridcolor": "white",
             "startlinecolor": "#2a3f5f"
            },
            "type": "carpet"
           }
          ],
          "choropleth": [
           {
            "colorbar": {
             "outlinewidth": 0,
             "ticks": ""
            },
            "type": "choropleth"
           }
          ],
          "contour": [
           {
            "colorbar": {
             "outlinewidth": 0,
             "ticks": ""
            },
            "colorscale": [
             [
              0.0,
              "#0d0887"
             ],
             [
              0.1111111111111111,
              "#46039f"
             ],
             [
              0.2222222222222222,
              "#7201a8"
             ],
             [
              0.3333333333333333,
              "#9c179e"
             ],
             [
              0.4444444444444444,
              "#bd3786"
             ],
             [
              0.5555555555555556,
              "#d8576b"
             ],
             [
              0.6666666666666666,
              "#ed7953"
             ],
             [
              0.7777777777777778,
              "#fb9f3a"
             ],
             [
              0.8888888888888888,
              "#fdca26"
             ],
             [
              1.0,
              "#f0f921"
             ]
            ],
            "type": "contour"
           }
          ],
          "contourcarpet": [
           {
            "colorbar": {
             "outlinewidth": 0,
             "ticks": ""
            },
            "type": "contourcarpet"
           }
          ],
          "heatmap": [
           {
            "colorbar": {
             "outlinewidth": 0,
             "ticks": ""
            },
            "colorscale": [
             [
              0.0,
              "#0d0887"
             ],
             [
              0.1111111111111111,
              "#46039f"
             ],
             [
              0.2222222222222222,
              "#7201a8"
             ],
             [
              0.3333333333333333,
              "#9c179e"
             ],
             [
              0.4444444444444444,
              "#bd3786"
             ],
             [
              0.5555555555555556,
              "#d8576b"
             ],
             [
              0.6666666666666666,
              "#ed7953"
             ],
             [
              0.7777777777777778,
              "#fb9f3a"
             ],
             [
              0.8888888888888888,
              "#fdca26"
             ],
             [
              1.0,
              "#f0f921"
             ]
            ],
            "type": "heatmap"
           }
          ],
          "heatmapgl": [
           {
            "colorbar": {
             "outlinewidth": 0,
             "ticks": ""
            },
            "colorscale": [
             [
              0.0,
              "#0d0887"
             ],
             [
              0.1111111111111111,
              "#46039f"
             ],
             [
              0.2222222222222222,
              "#7201a8"
             ],
             [
              0.3333333333333333,
              "#9c179e"
             ],
             [
              0.4444444444444444,
              "#bd3786"
             ],
             [
              0.5555555555555556,
              "#d8576b"
             ],
             [
              0.6666666666666666,
              "#ed7953"
             ],
             [
              0.7777777777777778,
              "#fb9f3a"
             ],
             [
              0.8888888888888888,
              "#fdca26"
             ],
             [
              1.0,
              "#f0f921"
             ]
            ],
            "type": "heatmapgl"
           }
          ],
          "histogram": [
           {
            "marker": {
             "colorbar": {
              "outlinewidth": 0,
              "ticks": ""
             }
            },
            "type": "histogram"
           }
          ],
          "histogram2d": [
           {
            "colorbar": {
             "outlinewidth": 0,
             "ticks": ""
            },
            "colorscale": [
             [
              0.0,
              "#0d0887"
             ],
             [
              0.1111111111111111,
              "#46039f"
             ],
             [
              0.2222222222222222,
              "#7201a8"
             ],
             [
              0.3333333333333333,
              "#9c179e"
             ],
             [
              0.4444444444444444,
              "#bd3786"
             ],
             [
              0.5555555555555556,
              "#d8576b"
             ],
             [
              0.6666666666666666,
              "#ed7953"
             ],
             [
              0.7777777777777778,
              "#fb9f3a"
             ],
             [
              0.8888888888888888,
              "#fdca26"
             ],
             [
              1.0,
              "#f0f921"
             ]
            ],
            "type": "histogram2d"
           }
          ],
          "histogram2dcontour": [
           {
            "colorbar": {
             "outlinewidth": 0,
             "ticks": ""
            },
            "colorscale": [
             [
              0.0,
              "#0d0887"
             ],
             [
              0.1111111111111111,
              "#46039f"
             ],
             [
              0.2222222222222222,
              "#7201a8"
             ],
             [
              0.3333333333333333,
              "#9c179e"
             ],
             [
              0.4444444444444444,
              "#bd3786"
             ],
             [
              0.5555555555555556,
              "#d8576b"
             ],
             [
              0.6666666666666666,
              "#ed7953"
             ],
             [
              0.7777777777777778,
              "#fb9f3a"
             ],
             [
              0.8888888888888888,
              "#fdca26"
             ],
             [
              1.0,
              "#f0f921"
             ]
            ],
            "type": "histogram2dcontour"
           }
          ],
          "mesh3d": [
           {
            "colorbar": {
             "outlinewidth": 0,
             "ticks": ""
            },
            "type": "mesh3d"
           }
          ],
          "parcoords": [
           {
            "line": {
             "colorbar": {
              "outlinewidth": 0,
              "ticks": ""
             }
            },
            "type": "parcoords"
           }
          ],
          "pie": [
           {
            "automargin": true,
            "type": "pie"
           }
          ],
          "scatter": [
           {
            "marker": {
             "colorbar": {
              "outlinewidth": 0,
              "ticks": ""
             }
            },
            "type": "scatter"
           }
          ],
          "scatter3d": [
           {
            "line": {
             "colorbar": {
              "outlinewidth": 0,
              "ticks": ""
             }
            },
            "marker": {
             "colorbar": {
              "outlinewidth": 0,
              "ticks": ""
             }
            },
            "type": "scatter3d"
           }
          ],
          "scattercarpet": [
           {
            "marker": {
             "colorbar": {
              "outlinewidth": 0,
              "ticks": ""
             }
            },
            "type": "scattercarpet"
           }
          ],
          "scattergeo": [
           {
            "marker": {
             "colorbar": {
              "outlinewidth": 0,
              "ticks": ""
             }
            },
            "type": "scattergeo"
           }
          ],
          "scattergl": [
           {
            "marker": {
             "colorbar": {
              "outlinewidth": 0,
              "ticks": ""
             }
            },
            "type": "scattergl"
           }
          ],
          "scattermapbox": [
           {
            "marker": {
             "colorbar": {
              "outlinewidth": 0,
              "ticks": ""
             }
            },
            "type": "scattermapbox"
           }
          ],
          "scatterpolar": [
           {
            "marker": {
             "colorbar": {
              "outlinewidth": 0,
              "ticks": ""
             }
            },
            "type": "scatterpolar"
           }
          ],
          "scatterpolargl": [
           {
            "marker": {
             "colorbar": {
              "outlinewidth": 0,
              "ticks": ""
             }
            },
            "type": "scatterpolargl"
           }
          ],
          "scatterternary": [
           {
            "marker": {
             "colorbar": {
              "outlinewidth": 0,
              "ticks": ""
             }
            },
            "type": "scatterternary"
           }
          ],
          "surface": [
           {
            "colorbar": {
             "outlinewidth": 0,
             "ticks": ""
            },
            "colorscale": [
             [
              0.0,
              "#0d0887"
             ],
             [
              0.1111111111111111,
              "#46039f"
             ],
             [
              0.2222222222222222,
              "#7201a8"
             ],
             [
              0.3333333333333333,
              "#9c179e"
             ],
             [
              0.4444444444444444,
              "#bd3786"
             ],
             [
              0.5555555555555556,
              "#d8576b"
             ],
             [
              0.6666666666666666,
              "#ed7953"
             ],
             [
              0.7777777777777778,
              "#fb9f3a"
             ],
             [
              0.8888888888888888,
              "#fdca26"
             ],
             [
              1.0,
              "#f0f921"
             ]
            ],
            "type": "surface"
           }
          ],
          "table": [
           {
            "cells": {
             "fill": {
              "color": "#EBF0F8"
             },
             "line": {
              "color": "white"
             }
            },
            "header": {
             "fill": {
              "color": "#C8D4E3"
             },
             "line": {
              "color": "white"
             }
            },
            "type": "table"
           }
          ]
         },
         "layout": {
          "annotationdefaults": {
           "arrowcolor": "#2a3f5f",
           "arrowhead": 0,
           "arrowwidth": 1
          },
          "coloraxis": {
           "colorbar": {
            "outlinewidth": 0,
            "ticks": ""
           }
          },
          "colorscale": {
           "diverging": [
            [
             0,
             "#8e0152"
            ],
            [
             0.1,
             "#c51b7d"
            ],
            [
             0.2,
             "#de77ae"
            ],
            [
             0.3,
             "#f1b6da"
            ],
            [
             0.4,
             "#fde0ef"
            ],
            [
             0.5,
             "#f7f7f7"
            ],
            [
             0.6,
             "#e6f5d0"
            ],
            [
             0.7,
             "#b8e186"
            ],
            [
             0.8,
             "#7fbc41"
            ],
            [
             0.9,
             "#4d9221"
            ],
            [
             1,
             "#276419"
            ]
           ],
           "sequential": [
            [
             0.0,
             "#0d0887"
            ],
            [
             0.1111111111111111,
             "#46039f"
            ],
            [
             0.2222222222222222,
             "#7201a8"
            ],
            [
             0.3333333333333333,
             "#9c179e"
            ],
            [
             0.4444444444444444,
             "#bd3786"
            ],
            [
             0.5555555555555556,
             "#d8576b"
            ],
            [
             0.6666666666666666,
             "#ed7953"
            ],
            [
             0.7777777777777778,
             "#fb9f3a"
            ],
            [
             0.8888888888888888,
             "#fdca26"
            ],
            [
             1.0,
             "#f0f921"
            ]
           ],
           "sequentialminus": [
            [
             0.0,
             "#0d0887"
            ],
            [
             0.1111111111111111,
             "#46039f"
            ],
            [
             0.2222222222222222,
             "#7201a8"
            ],
            [
             0.3333333333333333,
             "#9c179e"
            ],
            [
             0.4444444444444444,
             "#bd3786"
            ],
            [
             0.5555555555555556,
             "#d8576b"
            ],
            [
             0.6666666666666666,
             "#ed7953"
            ],
            [
             0.7777777777777778,
             "#fb9f3a"
            ],
            [
             0.8888888888888888,
             "#fdca26"
            ],
            [
             1.0,
             "#f0f921"
            ]
           ]
          },
          "colorway": [
           "#636efa",
           "#EF553B",
           "#00cc96",
           "#ab63fa",
           "#FFA15A",
           "#19d3f3",
           "#FF6692",
           "#B6E880",
           "#FF97FF",
           "#FECB52"
          ],
          "font": {
           "color": "#2a3f5f"
          },
          "geo": {
           "bgcolor": "white",
           "lakecolor": "white",
           "landcolor": "#E5ECF6",
           "showlakes": true,
           "showland": true,
           "subunitcolor": "white"
          },
          "hoverlabel": {
           "align": "left"
          },
          "hovermode": "closest",
          "mapbox": {
           "style": "light"
          },
          "paper_bgcolor": "white",
          "plot_bgcolor": "#E5ECF6",
          "polar": {
           "angularaxis": {
            "gridcolor": "white",
            "linecolor": "white",
            "ticks": ""
           },
           "bgcolor": "#E5ECF6",
           "radialaxis": {
            "gridcolor": "white",
            "linecolor": "white",
            "ticks": ""
           }
          },
          "scene": {
           "xaxis": {
            "backgroundcolor": "#E5ECF6",
            "gridcolor": "white",
            "gridwidth": 2,
            "linecolor": "white",
            "showbackground": true,
            "ticks": "",
            "zerolinecolor": "white"
           },
           "yaxis": {
            "backgroundcolor": "#E5ECF6",
            "gridcolor": "white",
            "gridwidth": 2,
            "linecolor": "white",
            "showbackground": true,
            "ticks": "",
            "zerolinecolor": "white"
           },
           "zaxis": {
            "backgroundcolor": "#E5ECF6",
            "gridcolor": "white",
            "gridwidth": 2,
            "linecolor": "white",
            "showbackground": true,
            "ticks": "",
            "zerolinecolor": "white"
           }
          },
          "shapedefaults": {
           "line": {
            "color": "#2a3f5f"
           }
          },
          "ternary": {
           "aaxis": {
            "gridcolor": "white",
            "linecolor": "white",
            "ticks": ""
           },
           "baxis": {
            "gridcolor": "white",
            "linecolor": "white",
            "ticks": ""
           },
           "bgcolor": "#E5ECF6",
           "caxis": {
            "gridcolor": "white",
            "linecolor": "white",
            "ticks": ""
           }
          },
          "title": {
           "x": 0.05
          },
          "xaxis": {
           "automargin": true,
           "gridcolor": "white",
           "linecolor": "white",
           "ticks": "",
           "title": {
            "standoff": 15
           },
           "zerolinecolor": "white",
           "zerolinewidth": 2
          },
          "yaxis": {
           "automargin": true,
           "gridcolor": "white",
           "linecolor": "white",
           "ticks": "",
           "title": {
            "standoff": 15
           },
           "zerolinecolor": "white",
           "zerolinewidth": 2
          }
         }
        },
        "title": {
         "text": "Pearson Correlation of Float-type features"
        },
        "width": 900,
        "xaxis": {
         "nticks": 36,
         "ticks": ""
        },
        "yaxis": {
         "ticks": ""
        }
       }
      },
      "text/html": [
       "<div>\n",
       "        \n",
       "        \n",
       "            <div id=\"7c6bf7ff-6742-48d7-a799-389de4790733\" class=\"plotly-graph-div\" style=\"height:700px; width:900px;\"></div>\n",
       "            <script type=\"text/javascript\">\n",
       "                require([\"plotly\"], function(Plotly) {\n",
       "                    window.PLOTLYENV=window.PLOTLYENV || {};\n",
       "                    \n",
       "                if (document.getElementById(\"7c6bf7ff-6742-48d7-a799-389de4790733\")) {\n",
       "                    Plotly.newPlot(\n",
       "                        '7c6bf7ff-6742-48d7-a799-389de4790733',\n",
       "                        [{\"colorscale\": [[0.0, \"#440154\"], [0.1111111111111111, \"#482878\"], [0.2222222222222222, \"#3e4989\"], [0.3333333333333333, \"#31688e\"], [0.4444444444444444, \"#26828e\"], [0.5555555555555556, \"#1f9e89\"], [0.6666666666666666, \"#35b779\"], [0.7777777777777778, \"#6ece58\"], [0.8888888888888888, \"#b5de2b\"], [1.0, \"#fde725\"]], \"opacity\": 1.0, \"reversescale\": false, \"type\": \"heatmap\", \"x\": [\"ps_reg_01\", \"ps_reg_02\", \"ps_reg_03\", \"ps_car_12\", \"ps_car_13\", \"ps_car_14\", \"ps_car_15\", \"ps_calc_01\", \"ps_calc_02\", \"ps_calc_03\"], \"y\": [\"ps_reg_01\", \"ps_reg_02\", \"ps_reg_03\", \"ps_car_12\", \"ps_car_13\", \"ps_car_14\", \"ps_car_15\", \"ps_calc_01\", \"ps_calc_02\", \"ps_calc_03\"], \"z\": [[1.0, 0.47102706970003355, 0.6370345334689439, 0.018802163992240873, 0.027097332675295224, 0.012703956205458425, 0.002764523307205702, -0.0008913096088880116, 0.0021944369073186097, -0.0015381674281423087], [0.47102706970003355, 1.0, 0.5164571870209411, 0.17141577677467867, 0.19431602128933323, 0.004147129522126511, 0.054510431054316806, 0.001346934846572804, -0.0007702025529741213, 2.2238677956617257e-05], [0.6370345334689439, 0.5164571870209411, 1.0, 0.08257845165928565, 0.09941515095190967, 0.006271377046971609, 0.022930433336835417, -0.0014843862916804399, 0.002147095174306244, -0.0004013973730361958], [0.018802163992240873, 0.17141577677467867, 0.08257845165928565, 1.0, 0.6717202565229554, 0.012395405826362633, 0.049882050453473784, -0.0007000926453862521, -0.0004268804124417914, 0.00017170019457652907], [0.027097332675295224, 0.19431602128933323, 0.09941515095190967, 0.6717202565229554, 1.0, -0.03730957532308523, 0.5295185559167169, 0.00015748103227473823, 3.994389894591031e-05, -0.00019953330199343504], [0.012703956205458425, 0.004147129522126511, 0.006271377046971609, 0.012395405826362633, -0.03730957532308523, 1.0, -0.033060263097950744, -0.0011914849446145214, 0.0012169450177811705, 0.00043267511935599307], [0.002764523307205702, 0.054510431054316806, 0.022930433336835417, 0.049882050453473784, 0.5295185559167169, -0.033060263097950744, 1.0, 0.0003435576850778193, -0.0002516306440417137, -0.0010425327140505308], [-0.0008913096088880116, 0.001346934846572804, -0.0014843862916804399, -0.0007000926453862521, 0.00015748103227473823, -0.0011914849446145214, 0.0003435576850778193, 1.0, -0.002418400505808286, 0.0005263738781031558], [0.0021944369073186097, -0.0007702025529741213, 0.002147095174306244, -0.0004268804124417914, 3.994389894591031e-05, 0.0012169450177811705, -0.0002516306440417137, -0.002418400505808286, 1.0, 0.0029476584887376573], [-0.0015381674281423087, 2.2238677956617257e-05, -0.0004013973730361958, 0.00017170019457652907, -0.00019953330199343504, 0.00043267511935599307, -0.0010425327140505308, 0.0005263738781031558, 0.0029476584887376573, 1.0]]}],\n",
       "                        {\"height\": 700, \"template\": {\"data\": {\"bar\": [{\"error_x\": {\"color\": \"#2a3f5f\"}, \"error_y\": {\"color\": \"#2a3f5f\"}, \"marker\": {\"line\": {\"color\": \"#E5ECF6\", \"width\": 0.5}}, \"type\": \"bar\"}], \"barpolar\": [{\"marker\": {\"line\": {\"color\": \"#E5ECF6\", \"width\": 0.5}}, \"type\": \"barpolar\"}], \"carpet\": [{\"aaxis\": {\"endlinecolor\": \"#2a3f5f\", \"gridcolor\": \"white\", \"linecolor\": \"white\", \"minorgridcolor\": \"white\", \"startlinecolor\": \"#2a3f5f\"}, \"baxis\": {\"endlinecolor\": \"#2a3f5f\", \"gridcolor\": \"white\", \"linecolor\": \"white\", \"minorgridcolor\": \"white\", \"startlinecolor\": \"#2a3f5f\"}, \"type\": \"carpet\"}], \"choropleth\": [{\"colorbar\": {\"outlinewidth\": 0, \"ticks\": \"\"}, \"type\": \"choropleth\"}], \"contour\": [{\"colorbar\": {\"outlinewidth\": 0, \"ticks\": \"\"}, \"colorscale\": [[0.0, \"#0d0887\"], [0.1111111111111111, \"#46039f\"], [0.2222222222222222, \"#7201a8\"], [0.3333333333333333, \"#9c179e\"], [0.4444444444444444, \"#bd3786\"], [0.5555555555555556, \"#d8576b\"], [0.6666666666666666, \"#ed7953\"], [0.7777777777777778, \"#fb9f3a\"], [0.8888888888888888, \"#fdca26\"], [1.0, \"#f0f921\"]], \"type\": \"contour\"}], \"contourcarpet\": [{\"colorbar\": {\"outlinewidth\": 0, \"ticks\": \"\"}, \"type\": \"contourcarpet\"}], \"heatmap\": [{\"colorbar\": {\"outlinewidth\": 0, \"ticks\": \"\"}, \"colorscale\": [[0.0, \"#0d0887\"], [0.1111111111111111, \"#46039f\"], [0.2222222222222222, \"#7201a8\"], [0.3333333333333333, \"#9c179e\"], [0.4444444444444444, \"#bd3786\"], [0.5555555555555556, \"#d8576b\"], [0.6666666666666666, \"#ed7953\"], [0.7777777777777778, \"#fb9f3a\"], [0.8888888888888888, \"#fdca26\"], [1.0, \"#f0f921\"]], \"type\": \"heatmap\"}], \"heatmapgl\": [{\"colorbar\": {\"outlinewidth\": 0, \"ticks\": \"\"}, \"colorscale\": [[0.0, \"#0d0887\"], [0.1111111111111111, \"#46039f\"], [0.2222222222222222, \"#7201a8\"], [0.3333333333333333, \"#9c179e\"], [0.4444444444444444, \"#bd3786\"], [0.5555555555555556, \"#d8576b\"], [0.6666666666666666, \"#ed7953\"], [0.7777777777777778, \"#fb9f3a\"], [0.8888888888888888, \"#fdca26\"], [1.0, \"#f0f921\"]], \"type\": \"heatmapgl\"}], \"histogram\": [{\"marker\": {\"colorbar\": {\"outlinewidth\": 0, \"ticks\": \"\"}}, \"type\": \"histogram\"}], \"histogram2d\": [{\"colorbar\": {\"outlinewidth\": 0, \"ticks\": \"\"}, \"colorscale\": [[0.0, \"#0d0887\"], [0.1111111111111111, \"#46039f\"], [0.2222222222222222, \"#7201a8\"], [0.3333333333333333, \"#9c179e\"], [0.4444444444444444, \"#bd3786\"], [0.5555555555555556, \"#d8576b\"], [0.6666666666666666, \"#ed7953\"], [0.7777777777777778, \"#fb9f3a\"], [0.8888888888888888, \"#fdca26\"], [1.0, \"#f0f921\"]], \"type\": \"histogram2d\"}], \"histogram2dcontour\": [{\"colorbar\": {\"outlinewidth\": 0, \"ticks\": \"\"}, \"colorscale\": [[0.0, \"#0d0887\"], [0.1111111111111111, \"#46039f\"], [0.2222222222222222, \"#7201a8\"], [0.3333333333333333, \"#9c179e\"], [0.4444444444444444, \"#bd3786\"], [0.5555555555555556, \"#d8576b\"], [0.6666666666666666, \"#ed7953\"], [0.7777777777777778, \"#fb9f3a\"], [0.8888888888888888, \"#fdca26\"], [1.0, \"#f0f921\"]], \"type\": \"histogram2dcontour\"}], \"mesh3d\": [{\"colorbar\": {\"outlinewidth\": 0, \"ticks\": \"\"}, \"type\": \"mesh3d\"}], \"parcoords\": [{\"line\": {\"colorbar\": {\"outlinewidth\": 0, \"ticks\": \"\"}}, \"type\": \"parcoords\"}], \"pie\": [{\"automargin\": true, \"type\": \"pie\"}], \"scatter\": [{\"marker\": {\"colorbar\": {\"outlinewidth\": 0, \"ticks\": \"\"}}, \"type\": \"scatter\"}], \"scatter3d\": [{\"line\": {\"colorbar\": {\"outlinewidth\": 0, \"ticks\": \"\"}}, \"marker\": {\"colorbar\": {\"outlinewidth\": 0, \"ticks\": \"\"}}, \"type\": \"scatter3d\"}], \"scattercarpet\": [{\"marker\": {\"colorbar\": {\"outlinewidth\": 0, \"ticks\": \"\"}}, \"type\": \"scattercarpet\"}], \"scattergeo\": [{\"marker\": {\"colorbar\": {\"outlinewidth\": 0, \"ticks\": \"\"}}, \"type\": \"scattergeo\"}], \"scattergl\": [{\"marker\": {\"colorbar\": {\"outlinewidth\": 0, \"ticks\": \"\"}}, \"type\": \"scattergl\"}], \"scattermapbox\": [{\"marker\": {\"colorbar\": {\"outlinewidth\": 0, \"ticks\": \"\"}}, \"type\": \"scattermapbox\"}], \"scatterpolar\": [{\"marker\": {\"colorbar\": {\"outlinewidth\": 0, \"ticks\": \"\"}}, \"type\": \"scatterpolar\"}], \"scatterpolargl\": [{\"marker\": {\"colorbar\": {\"outlinewidth\": 0, \"ticks\": \"\"}}, \"type\": \"scatterpolargl\"}], \"scatterternary\": [{\"marker\": {\"colorbar\": {\"outlinewidth\": 0, \"ticks\": \"\"}}, \"type\": \"scatterternary\"}], \"surface\": [{\"colorbar\": {\"outlinewidth\": 0, \"ticks\": \"\"}, \"colorscale\": [[0.0, \"#0d0887\"], [0.1111111111111111, \"#46039f\"], [0.2222222222222222, \"#7201a8\"], [0.3333333333333333, \"#9c179e\"], [0.4444444444444444, \"#bd3786\"], [0.5555555555555556, \"#d8576b\"], [0.6666666666666666, \"#ed7953\"], [0.7777777777777778, \"#fb9f3a\"], [0.8888888888888888, \"#fdca26\"], [1.0, \"#f0f921\"]], \"type\": \"surface\"}], \"table\": [{\"cells\": {\"fill\": {\"color\": \"#EBF0F8\"}, \"line\": {\"color\": \"white\"}}, \"header\": {\"fill\": {\"color\": \"#C8D4E3\"}, \"line\": {\"color\": \"white\"}}, \"type\": \"table\"}]}, \"layout\": {\"annotationdefaults\": {\"arrowcolor\": \"#2a3f5f\", \"arrowhead\": 0, \"arrowwidth\": 1}, \"coloraxis\": {\"colorbar\": {\"outlinewidth\": 0, \"ticks\": \"\"}}, \"colorscale\": {\"diverging\": [[0, \"#8e0152\"], [0.1, \"#c51b7d\"], [0.2, \"#de77ae\"], [0.3, \"#f1b6da\"], [0.4, \"#fde0ef\"], [0.5, \"#f7f7f7\"], [0.6, \"#e6f5d0\"], [0.7, \"#b8e186\"], [0.8, \"#7fbc41\"], [0.9, \"#4d9221\"], [1, \"#276419\"]], \"sequential\": [[0.0, \"#0d0887\"], [0.1111111111111111, \"#46039f\"], [0.2222222222222222, \"#7201a8\"], [0.3333333333333333, \"#9c179e\"], [0.4444444444444444, \"#bd3786\"], [0.5555555555555556, \"#d8576b\"], [0.6666666666666666, \"#ed7953\"], [0.7777777777777778, \"#fb9f3a\"], [0.8888888888888888, \"#fdca26\"], [1.0, \"#f0f921\"]], \"sequentialminus\": [[0.0, \"#0d0887\"], [0.1111111111111111, \"#46039f\"], [0.2222222222222222, \"#7201a8\"], [0.3333333333333333, \"#9c179e\"], [0.4444444444444444, \"#bd3786\"], [0.5555555555555556, \"#d8576b\"], [0.6666666666666666, \"#ed7953\"], [0.7777777777777778, \"#fb9f3a\"], [0.8888888888888888, \"#fdca26\"], [1.0, \"#f0f921\"]]}, \"colorway\": [\"#636efa\", \"#EF553B\", \"#00cc96\", \"#ab63fa\", \"#FFA15A\", \"#19d3f3\", \"#FF6692\", \"#B6E880\", \"#FF97FF\", \"#FECB52\"], \"font\": {\"color\": \"#2a3f5f\"}, \"geo\": {\"bgcolor\": \"white\", \"lakecolor\": \"white\", \"landcolor\": \"#E5ECF6\", \"showlakes\": true, \"showland\": true, \"subunitcolor\": \"white\"}, \"hoverlabel\": {\"align\": \"left\"}, \"hovermode\": \"closest\", \"mapbox\": {\"style\": \"light\"}, \"paper_bgcolor\": \"white\", \"plot_bgcolor\": \"#E5ECF6\", \"polar\": {\"angularaxis\": {\"gridcolor\": \"white\", \"linecolor\": \"white\", \"ticks\": \"\"}, \"bgcolor\": \"#E5ECF6\", \"radialaxis\": {\"gridcolor\": \"white\", \"linecolor\": \"white\", \"ticks\": \"\"}}, \"scene\": {\"xaxis\": {\"backgroundcolor\": \"#E5ECF6\", \"gridcolor\": \"white\", \"gridwidth\": 2, \"linecolor\": \"white\", \"showbackground\": true, \"ticks\": \"\", \"zerolinecolor\": \"white\"}, \"yaxis\": {\"backgroundcolor\": \"#E5ECF6\", \"gridcolor\": \"white\", \"gridwidth\": 2, \"linecolor\": \"white\", \"showbackground\": true, \"ticks\": \"\", \"zerolinecolor\": \"white\"}, \"zaxis\": {\"backgroundcolor\": \"#E5ECF6\", \"gridcolor\": \"white\", \"gridwidth\": 2, \"linecolor\": \"white\", \"showbackground\": true, \"ticks\": \"\", \"zerolinecolor\": \"white\"}}, \"shapedefaults\": {\"line\": {\"color\": \"#2a3f5f\"}}, \"ternary\": {\"aaxis\": {\"gridcolor\": \"white\", \"linecolor\": \"white\", \"ticks\": \"\"}, \"baxis\": {\"gridcolor\": \"white\", \"linecolor\": \"white\", \"ticks\": \"\"}, \"bgcolor\": \"#E5ECF6\", \"caxis\": {\"gridcolor\": \"white\", \"linecolor\": \"white\", \"ticks\": \"\"}}, \"title\": {\"x\": 0.05}, \"xaxis\": {\"automargin\": true, \"gridcolor\": \"white\", \"linecolor\": \"white\", \"ticks\": \"\", \"title\": {\"standoff\": 15}, \"zerolinecolor\": \"white\", \"zerolinewidth\": 2}, \"yaxis\": {\"automargin\": true, \"gridcolor\": \"white\", \"linecolor\": \"white\", \"ticks\": \"\", \"title\": {\"standoff\": 15}, \"zerolinecolor\": \"white\", \"zerolinewidth\": 2}}}, \"title\": {\"text\": \"Pearson Correlation of Float-type features\"}, \"width\": 900, \"xaxis\": {\"nticks\": 36, \"ticks\": \"\"}, \"yaxis\": {\"ticks\": \"\"}},\n",
       "                        {\"responsive\": true}\n",
       "                    ).then(function(){\n",
       "                            \n",
       "var gd = document.getElementById('7c6bf7ff-6742-48d7-a799-389de4790733');\n",
       "var x = new MutationObserver(function (mutations, observer) {{\n",
       "        var display = window.getComputedStyle(gd).display;\n",
       "        if (!display || display === 'none') {{\n",
       "            console.log([gd, 'removed!']);\n",
       "            Plotly.purge(gd);\n",
       "            observer.disconnect();\n",
       "        }}\n",
       "}});\n",
       "\n",
       "// Listen for the removal of the full notebook cells\n",
       "var notebookContainer = gd.closest('#notebook-container');\n",
       "if (notebookContainer) {{\n",
       "    x.observe(notebookContainer, {childList: true});\n",
       "}}\n",
       "\n",
       "// Listen for the clearing of the current output cell\n",
       "var outputEl = gd.closest('.output');\n",
       "if (outputEl) {{\n",
       "    x.observe(outputEl, {childList: true});\n",
       "}}\n",
       "\n",
       "                        })\n",
       "                };\n",
       "                });\n",
       "            </script>\n",
       "        </div>"
      ]
     },
     "metadata": {},
     "output_type": "display_data"
    }
   ],
   "source": [
    "data = [\n",
    "    go.Heatmap(\n",
    "        z= train_float.corr().values,\n",
    "        x=train_float.columns.values,\n",
    "        y=train_float.columns.values,\n",
    "        colorscale='Viridis',\n",
    "        reversescale = False,\n",
    "        opacity = 1.0 )\n",
    "]\n",
    "\n",
    "layout = go.Layout(\n",
    "    title='Pearson Correlation of Float-type features',\n",
    "    xaxis = dict(ticks='', nticks=36),\n",
    "    yaxis = dict(ticks='' ),\n",
    "    width = 900, height = 700)\n",
    "\n",
    "fig = go.Figure(data=data, layout=layout)\n",
    "py.iplot(fig, filename='labelled-heatmap')"
   ]
  },
  {
   "cell_type": "code",
   "execution_count": 15,
   "metadata": {},
   "outputs": [
    {
     "name": "stdout",
     "output_type": "stream",
     "text": [
      "[0.01402035 0.00431986 0.0055185  0.00778454 0.00157233 0.00197537\n",
      " 0.01226    0.00553038 0.00545101 0.00562139]\n"
     ]
    }
   ],
   "source": [
    "mf = mutual_info_classif(train_float.values, train.target.values, n_neighbors=3, random_state=17)\n",
    "print(mf)"
   ]
  },
  {
   "cell_type": "code",
   "execution_count": 16,
   "metadata": {},
   "outputs": [],
   "source": [
    "bin_col = [col for col in train.columns if '_bin' in col]\n",
    "zero_list  = []\n",
    "one_list = []\n",
    "for col in bin_col:\n",
    "    zero_list.append((train[col]==0).sum())\n",
    "    one_list.append((train[col]==1).sum())\n",
    "    \n",
    "    "
   ]
  },
  {
   "cell_type": "code",
   "execution_count": 17,
   "metadata": {},
   "outputs": [
    {
     "data": {
      "application/vnd.plotly.v1+json": {
       "config": {
        "linkText": "Export to plot.ly",
        "plotlyServerURL": "https://plot.ly",
        "showLink": false
       },
       "data": [
        {
         "name": "Zero count",
         "type": "bar",
         "x": [
          "ps_ind_06_bin",
          "ps_ind_07_bin",
          "ps_ind_08_bin",
          "ps_ind_09_bin",
          "ps_ind_10_bin",
          "ps_ind_11_bin",
          "ps_ind_12_bin",
          "ps_ind_13_bin",
          "ps_ind_16_bin",
          "ps_ind_17_bin",
          "ps_ind_18_bin",
          "ps_calc_15_bin",
          "ps_calc_16_bin",
          "ps_calc_17_bin",
          "ps_calc_18_bin",
          "ps_calc_19_bin",
          "ps_calc_20_bin"
         ],
         "y": [
          360852,
          442223,
          497644,
          484917,
          594990,
          594205,
          589594,
          594648,
          201882,
          523143,
          503879,
          522342,
          221514,
          265356,
          424278,
          387469,
          503955
         ]
        },
        {
         "name": "One count",
         "type": "bar",
         "x": [
          "ps_ind_06_bin",
          "ps_ind_07_bin",
          "ps_ind_08_bin",
          "ps_ind_09_bin",
          "ps_ind_10_bin",
          "ps_ind_11_bin",
          "ps_ind_12_bin",
          "ps_ind_13_bin",
          "ps_ind_16_bin",
          "ps_ind_17_bin",
          "ps_ind_18_bin",
          "ps_calc_15_bin",
          "ps_calc_16_bin",
          "ps_calc_17_bin",
          "ps_calc_18_bin",
          "ps_calc_19_bin",
          "ps_calc_20_bin"
         ],
         "y": [
          234360,
          152989,
          97568,
          110295,
          222,
          1007,
          5618,
          564,
          393330,
          72069,
          91333,
          72870,
          373698,
          329856,
          170934,
          207743,
          91257
         ]
        }
       ],
       "layout": {
        "barmode": "stack",
        "template": {
         "data": {
          "bar": [
           {
            "error_x": {
             "color": "#2a3f5f"
            },
            "error_y": {
             "color": "#2a3f5f"
            },
            "marker": {
             "line": {
              "color": "#E5ECF6",
              "width": 0.5
             }
            },
            "type": "bar"
           }
          ],
          "barpolar": [
           {
            "marker": {
             "line": {
              "color": "#E5ECF6",
              "width": 0.5
             }
            },
            "type": "barpolar"
           }
          ],
          "carpet": [
           {
            "aaxis": {
             "endlinecolor": "#2a3f5f",
             "gridcolor": "white",
             "linecolor": "white",
             "minorgridcolor": "white",
             "startlinecolor": "#2a3f5f"
            },
            "baxis": {
             "endlinecolor": "#2a3f5f",
             "gridcolor": "white",
             "linecolor": "white",
             "minorgridcolor": "white",
             "startlinecolor": "#2a3f5f"
            },
            "type": "carpet"
           }
          ],
          "choropleth": [
           {
            "colorbar": {
             "outlinewidth": 0,
             "ticks": ""
            },
            "type": "choropleth"
           }
          ],
          "contour": [
           {
            "colorbar": {
             "outlinewidth": 0,
             "ticks": ""
            },
            "colorscale": [
             [
              0.0,
              "#0d0887"
             ],
             [
              0.1111111111111111,
              "#46039f"
             ],
             [
              0.2222222222222222,
              "#7201a8"
             ],
             [
              0.3333333333333333,
              "#9c179e"
             ],
             [
              0.4444444444444444,
              "#bd3786"
             ],
             [
              0.5555555555555556,
              "#d8576b"
             ],
             [
              0.6666666666666666,
              "#ed7953"
             ],
             [
              0.7777777777777778,
              "#fb9f3a"
             ],
             [
              0.8888888888888888,
              "#fdca26"
             ],
             [
              1.0,
              "#f0f921"
             ]
            ],
            "type": "contour"
           }
          ],
          "contourcarpet": [
           {
            "colorbar": {
             "outlinewidth": 0,
             "ticks": ""
            },
            "type": "contourcarpet"
           }
          ],
          "heatmap": [
           {
            "colorbar": {
             "outlinewidth": 0,
             "ticks": ""
            },
            "colorscale": [
             [
              0.0,
              "#0d0887"
             ],
             [
              0.1111111111111111,
              "#46039f"
             ],
             [
              0.2222222222222222,
              "#7201a8"
             ],
             [
              0.3333333333333333,
              "#9c179e"
             ],
             [
              0.4444444444444444,
              "#bd3786"
             ],
             [
              0.5555555555555556,
              "#d8576b"
             ],
             [
              0.6666666666666666,
              "#ed7953"
             ],
             [
              0.7777777777777778,
              "#fb9f3a"
             ],
             [
              0.8888888888888888,
              "#fdca26"
             ],
             [
              1.0,
              "#f0f921"
             ]
            ],
            "type": "heatmap"
           }
          ],
          "heatmapgl": [
           {
            "colorbar": {
             "outlinewidth": 0,
             "ticks": ""
            },
            "colorscale": [
             [
              0.0,
              "#0d0887"
             ],
             [
              0.1111111111111111,
              "#46039f"
             ],
             [
              0.2222222222222222,
              "#7201a8"
             ],
             [
              0.3333333333333333,
              "#9c179e"
             ],
             [
              0.4444444444444444,
              "#bd3786"
             ],
             [
              0.5555555555555556,
              "#d8576b"
             ],
             [
              0.6666666666666666,
              "#ed7953"
             ],
             [
              0.7777777777777778,
              "#fb9f3a"
             ],
             [
              0.8888888888888888,
              "#fdca26"
             ],
             [
              1.0,
              "#f0f921"
             ]
            ],
            "type": "heatmapgl"
           }
          ],
          "histogram": [
           {
            "marker": {
             "colorbar": {
              "outlinewidth": 0,
              "ticks": ""
             }
            },
            "type": "histogram"
           }
          ],
          "histogram2d": [
           {
            "colorbar": {
             "outlinewidth": 0,
             "ticks": ""
            },
            "colorscale": [
             [
              0.0,
              "#0d0887"
             ],
             [
              0.1111111111111111,
              "#46039f"
             ],
             [
              0.2222222222222222,
              "#7201a8"
             ],
             [
              0.3333333333333333,
              "#9c179e"
             ],
             [
              0.4444444444444444,
              "#bd3786"
             ],
             [
              0.5555555555555556,
              "#d8576b"
             ],
             [
              0.6666666666666666,
              "#ed7953"
             ],
             [
              0.7777777777777778,
              "#fb9f3a"
             ],
             [
              0.8888888888888888,
              "#fdca26"
             ],
             [
              1.0,
              "#f0f921"
             ]
            ],
            "type": "histogram2d"
           }
          ],
          "histogram2dcontour": [
           {
            "colorbar": {
             "outlinewidth": 0,
             "ticks": ""
            },
            "colorscale": [
             [
              0.0,
              "#0d0887"
             ],
             [
              0.1111111111111111,
              "#46039f"
             ],
             [
              0.2222222222222222,
              "#7201a8"
             ],
             [
              0.3333333333333333,
              "#9c179e"
             ],
             [
              0.4444444444444444,
              "#bd3786"
             ],
             [
              0.5555555555555556,
              "#d8576b"
             ],
             [
              0.6666666666666666,
              "#ed7953"
             ],
             [
              0.7777777777777778,
              "#fb9f3a"
             ],
             [
              0.8888888888888888,
              "#fdca26"
             ],
             [
              1.0,
              "#f0f921"
             ]
            ],
            "type": "histogram2dcontour"
           }
          ],
          "mesh3d": [
           {
            "colorbar": {
             "outlinewidth": 0,
             "ticks": ""
            },
            "type": "mesh3d"
           }
          ],
          "parcoords": [
           {
            "line": {
             "colorbar": {
              "outlinewidth": 0,
              "ticks": ""
             }
            },
            "type": "parcoords"
           }
          ],
          "pie": [
           {
            "automargin": true,
            "type": "pie"
           }
          ],
          "scatter": [
           {
            "marker": {
             "colorbar": {
              "outlinewidth": 0,
              "ticks": ""
             }
            },
            "type": "scatter"
           }
          ],
          "scatter3d": [
           {
            "line": {
             "colorbar": {
              "outlinewidth": 0,
              "ticks": ""
             }
            },
            "marker": {
             "colorbar": {
              "outlinewidth": 0,
              "ticks": ""
             }
            },
            "type": "scatter3d"
           }
          ],
          "scattercarpet": [
           {
            "marker": {
             "colorbar": {
              "outlinewidth": 0,
              "ticks": ""
             }
            },
            "type": "scattercarpet"
           }
          ],
          "scattergeo": [
           {
            "marker": {
             "colorbar": {
              "outlinewidth": 0,
              "ticks": ""
             }
            },
            "type": "scattergeo"
           }
          ],
          "scattergl": [
           {
            "marker": {
             "colorbar": {
              "outlinewidth": 0,
              "ticks": ""
             }
            },
            "type": "scattergl"
           }
          ],
          "scattermapbox": [
           {
            "marker": {
             "colorbar": {
              "outlinewidth": 0,
              "ticks": ""
             }
            },
            "type": "scattermapbox"
           }
          ],
          "scatterpolar": [
           {
            "marker": {
             "colorbar": {
              "outlinewidth": 0,
              "ticks": ""
             }
            },
            "type": "scatterpolar"
           }
          ],
          "scatterpolargl": [
           {
            "marker": {
             "colorbar": {
              "outlinewidth": 0,
              "ticks": ""
             }
            },
            "type": "scatterpolargl"
           }
          ],
          "scatterternary": [
           {
            "marker": {
             "colorbar": {
              "outlinewidth": 0,
              "ticks": ""
             }
            },
            "type": "scatterternary"
           }
          ],
          "surface": [
           {
            "colorbar": {
             "outlinewidth": 0,
             "ticks": ""
            },
            "colorscale": [
             [
              0.0,
              "#0d0887"
             ],
             [
              0.1111111111111111,
              "#46039f"
             ],
             [
              0.2222222222222222,
              "#7201a8"
             ],
             [
              0.3333333333333333,
              "#9c179e"
             ],
             [
              0.4444444444444444,
              "#bd3786"
             ],
             [
              0.5555555555555556,
              "#d8576b"
             ],
             [
              0.6666666666666666,
              "#ed7953"
             ],
             [
              0.7777777777777778,
              "#fb9f3a"
             ],
             [
              0.8888888888888888,
              "#fdca26"
             ],
             [
              1.0,
              "#f0f921"
             ]
            ],
            "type": "surface"
           }
          ],
          "table": [
           {
            "cells": {
             "fill": {
              "color": "#EBF0F8"
             },
             "line": {
              "color": "white"
             }
            },
            "header": {
             "fill": {
              "color": "#C8D4E3"
             },
             "line": {
              "color": "white"
             }
            },
            "type": "table"
           }
          ]
         },
         "layout": {
          "annotationdefaults": {
           "arrowcolor": "#2a3f5f",
           "arrowhead": 0,
           "arrowwidth": 1
          },
          "coloraxis": {
           "colorbar": {
            "outlinewidth": 0,
            "ticks": ""
           }
          },
          "colorscale": {
           "diverging": [
            [
             0,
             "#8e0152"
            ],
            [
             0.1,
             "#c51b7d"
            ],
            [
             0.2,
             "#de77ae"
            ],
            [
             0.3,
             "#f1b6da"
            ],
            [
             0.4,
             "#fde0ef"
            ],
            [
             0.5,
             "#f7f7f7"
            ],
            [
             0.6,
             "#e6f5d0"
            ],
            [
             0.7,
             "#b8e186"
            ],
            [
             0.8,
             "#7fbc41"
            ],
            [
             0.9,
             "#4d9221"
            ],
            [
             1,
             "#276419"
            ]
           ],
           "sequential": [
            [
             0.0,
             "#0d0887"
            ],
            [
             0.1111111111111111,
             "#46039f"
            ],
            [
             0.2222222222222222,
             "#7201a8"
            ],
            [
             0.3333333333333333,
             "#9c179e"
            ],
            [
             0.4444444444444444,
             "#bd3786"
            ],
            [
             0.5555555555555556,
             "#d8576b"
            ],
            [
             0.6666666666666666,
             "#ed7953"
            ],
            [
             0.7777777777777778,
             "#fb9f3a"
            ],
            [
             0.8888888888888888,
             "#fdca26"
            ],
            [
             1.0,
             "#f0f921"
            ]
           ],
           "sequentialminus": [
            [
             0.0,
             "#0d0887"
            ],
            [
             0.1111111111111111,
             "#46039f"
            ],
            [
             0.2222222222222222,
             "#7201a8"
            ],
            [
             0.3333333333333333,
             "#9c179e"
            ],
            [
             0.4444444444444444,
             "#bd3786"
            ],
            [
             0.5555555555555556,
             "#d8576b"
            ],
            [
             0.6666666666666666,
             "#ed7953"
            ],
            [
             0.7777777777777778,
             "#fb9f3a"
            ],
            [
             0.8888888888888888,
             "#fdca26"
            ],
            [
             1.0,
             "#f0f921"
            ]
           ]
          },
          "colorway": [
           "#636efa",
           "#EF553B",
           "#00cc96",
           "#ab63fa",
           "#FFA15A",
           "#19d3f3",
           "#FF6692",
           "#B6E880",
           "#FF97FF",
           "#FECB52"
          ],
          "font": {
           "color": "#2a3f5f"
          },
          "geo": {
           "bgcolor": "white",
           "lakecolor": "white",
           "landcolor": "#E5ECF6",
           "showlakes": true,
           "showland": true,
           "subunitcolor": "white"
          },
          "hoverlabel": {
           "align": "left"
          },
          "hovermode": "closest",
          "mapbox": {
           "style": "light"
          },
          "paper_bgcolor": "white",
          "plot_bgcolor": "#E5ECF6",
          "polar": {
           "angularaxis": {
            "gridcolor": "white",
            "linecolor": "white",
            "ticks": ""
           },
           "bgcolor": "#E5ECF6",
           "radialaxis": {
            "gridcolor": "white",
            "linecolor": "white",
            "ticks": ""
           }
          },
          "scene": {
           "xaxis": {
            "backgroundcolor": "#E5ECF6",
            "gridcolor": "white",
            "gridwidth": 2,
            "linecolor": "white",
            "showbackground": true,
            "ticks": "",
            "zerolinecolor": "white"
           },
           "yaxis": {
            "backgroundcolor": "#E5ECF6",
            "gridcolor": "white",
            "gridwidth": 2,
            "linecolor": "white",
            "showbackground": true,
            "ticks": "",
            "zerolinecolor": "white"
           },
           "zaxis": {
            "backgroundcolor": "#E5ECF6",
            "gridcolor": "white",
            "gridwidth": 2,
            "linecolor": "white",
            "showbackground": true,
            "ticks": "",
            "zerolinecolor": "white"
           }
          },
          "shapedefaults": {
           "line": {
            "color": "#2a3f5f"
           }
          },
          "ternary": {
           "aaxis": {
            "gridcolor": "white",
            "linecolor": "white",
            "ticks": ""
           },
           "baxis": {
            "gridcolor": "white",
            "linecolor": "white",
            "ticks": ""
           },
           "bgcolor": "#E5ECF6",
           "caxis": {
            "gridcolor": "white",
            "linecolor": "white",
            "ticks": ""
           }
          },
          "title": {
           "x": 0.05
          },
          "xaxis": {
           "automargin": true,
           "gridcolor": "white",
           "linecolor": "white",
           "ticks": "",
           "title": {
            "standoff": 15
           },
           "zerolinecolor": "white",
           "zerolinewidth": 2
          },
          "yaxis": {
           "automargin": true,
           "gridcolor": "white",
           "linecolor": "white",
           "ticks": "",
           "title": {
            "standoff": 15
           },
           "zerolinecolor": "white",
           "zerolinewidth": 2
          }
         }
        },
        "title": {
         "text": "Count of 1 and 0 in binary variables"
        }
       }
      },
      "text/html": [
       "<div>\n",
       "        \n",
       "        \n",
       "            <div id=\"b800bbf7-c0b3-4606-ad83-7a3bb0922994\" class=\"plotly-graph-div\" style=\"height:525px; width:100%;\"></div>\n",
       "            <script type=\"text/javascript\">\n",
       "                require([\"plotly\"], function(Plotly) {\n",
       "                    window.PLOTLYENV=window.PLOTLYENV || {};\n",
       "                    \n",
       "                if (document.getElementById(\"b800bbf7-c0b3-4606-ad83-7a3bb0922994\")) {\n",
       "                    Plotly.newPlot(\n",
       "                        'b800bbf7-c0b3-4606-ad83-7a3bb0922994',\n",
       "                        [{\"name\": \"Zero count\", \"type\": \"bar\", \"x\": [\"ps_ind_06_bin\", \"ps_ind_07_bin\", \"ps_ind_08_bin\", \"ps_ind_09_bin\", \"ps_ind_10_bin\", \"ps_ind_11_bin\", \"ps_ind_12_bin\", \"ps_ind_13_bin\", \"ps_ind_16_bin\", \"ps_ind_17_bin\", \"ps_ind_18_bin\", \"ps_calc_15_bin\", \"ps_calc_16_bin\", \"ps_calc_17_bin\", \"ps_calc_18_bin\", \"ps_calc_19_bin\", \"ps_calc_20_bin\"], \"y\": [360852, 442223, 497644, 484917, 594990, 594205, 589594, 594648, 201882, 523143, 503879, 522342, 221514, 265356, 424278, 387469, 503955]}, {\"name\": \"One count\", \"type\": \"bar\", \"x\": [\"ps_ind_06_bin\", \"ps_ind_07_bin\", \"ps_ind_08_bin\", \"ps_ind_09_bin\", \"ps_ind_10_bin\", \"ps_ind_11_bin\", \"ps_ind_12_bin\", \"ps_ind_13_bin\", \"ps_ind_16_bin\", \"ps_ind_17_bin\", \"ps_ind_18_bin\", \"ps_calc_15_bin\", \"ps_calc_16_bin\", \"ps_calc_17_bin\", \"ps_calc_18_bin\", \"ps_calc_19_bin\", \"ps_calc_20_bin\"], \"y\": [234360, 152989, 97568, 110295, 222, 1007, 5618, 564, 393330, 72069, 91333, 72870, 373698, 329856, 170934, 207743, 91257]}],\n",
       "                        {\"barmode\": \"stack\", \"template\": {\"data\": {\"bar\": [{\"error_x\": {\"color\": \"#2a3f5f\"}, \"error_y\": {\"color\": \"#2a3f5f\"}, \"marker\": {\"line\": {\"color\": \"#E5ECF6\", \"width\": 0.5}}, \"type\": \"bar\"}], \"barpolar\": [{\"marker\": {\"line\": {\"color\": \"#E5ECF6\", \"width\": 0.5}}, \"type\": \"barpolar\"}], \"carpet\": [{\"aaxis\": {\"endlinecolor\": \"#2a3f5f\", \"gridcolor\": \"white\", \"linecolor\": \"white\", \"minorgridcolor\": \"white\", \"startlinecolor\": \"#2a3f5f\"}, \"baxis\": {\"endlinecolor\": \"#2a3f5f\", \"gridcolor\": \"white\", \"linecolor\": \"white\", \"minorgridcolor\": \"white\", \"startlinecolor\": \"#2a3f5f\"}, \"type\": \"carpet\"}], \"choropleth\": [{\"colorbar\": {\"outlinewidth\": 0, \"ticks\": \"\"}, \"type\": \"choropleth\"}], \"contour\": [{\"colorbar\": {\"outlinewidth\": 0, \"ticks\": \"\"}, \"colorscale\": [[0.0, \"#0d0887\"], [0.1111111111111111, \"#46039f\"], [0.2222222222222222, \"#7201a8\"], [0.3333333333333333, \"#9c179e\"], [0.4444444444444444, \"#bd3786\"], [0.5555555555555556, \"#d8576b\"], [0.6666666666666666, \"#ed7953\"], [0.7777777777777778, \"#fb9f3a\"], [0.8888888888888888, \"#fdca26\"], [1.0, \"#f0f921\"]], \"type\": \"contour\"}], \"contourcarpet\": [{\"colorbar\": {\"outlinewidth\": 0, \"ticks\": \"\"}, \"type\": \"contourcarpet\"}], \"heatmap\": [{\"colorbar\": {\"outlinewidth\": 0, \"ticks\": \"\"}, \"colorscale\": [[0.0, \"#0d0887\"], [0.1111111111111111, \"#46039f\"], [0.2222222222222222, \"#7201a8\"], [0.3333333333333333, \"#9c179e\"], [0.4444444444444444, \"#bd3786\"], [0.5555555555555556, \"#d8576b\"], [0.6666666666666666, \"#ed7953\"], [0.7777777777777778, \"#fb9f3a\"], [0.8888888888888888, \"#fdca26\"], [1.0, \"#f0f921\"]], \"type\": \"heatmap\"}], \"heatmapgl\": [{\"colorbar\": {\"outlinewidth\": 0, \"ticks\": \"\"}, \"colorscale\": [[0.0, \"#0d0887\"], [0.1111111111111111, \"#46039f\"], [0.2222222222222222, \"#7201a8\"], [0.3333333333333333, \"#9c179e\"], [0.4444444444444444, \"#bd3786\"], [0.5555555555555556, \"#d8576b\"], [0.6666666666666666, \"#ed7953\"], [0.7777777777777778, \"#fb9f3a\"], [0.8888888888888888, \"#fdca26\"], [1.0, \"#f0f921\"]], \"type\": \"heatmapgl\"}], \"histogram\": [{\"marker\": {\"colorbar\": {\"outlinewidth\": 0, \"ticks\": \"\"}}, \"type\": \"histogram\"}], \"histogram2d\": [{\"colorbar\": {\"outlinewidth\": 0, \"ticks\": \"\"}, \"colorscale\": [[0.0, \"#0d0887\"], [0.1111111111111111, \"#46039f\"], [0.2222222222222222, \"#7201a8\"], [0.3333333333333333, \"#9c179e\"], [0.4444444444444444, \"#bd3786\"], [0.5555555555555556, \"#d8576b\"], [0.6666666666666666, \"#ed7953\"], [0.7777777777777778, \"#fb9f3a\"], [0.8888888888888888, \"#fdca26\"], [1.0, \"#f0f921\"]], \"type\": \"histogram2d\"}], \"histogram2dcontour\": [{\"colorbar\": {\"outlinewidth\": 0, \"ticks\": \"\"}, \"colorscale\": [[0.0, \"#0d0887\"], [0.1111111111111111, \"#46039f\"], [0.2222222222222222, \"#7201a8\"], [0.3333333333333333, \"#9c179e\"], [0.4444444444444444, \"#bd3786\"], [0.5555555555555556, \"#d8576b\"], [0.6666666666666666, \"#ed7953\"], [0.7777777777777778, \"#fb9f3a\"], [0.8888888888888888, \"#fdca26\"], [1.0, \"#f0f921\"]], \"type\": \"histogram2dcontour\"}], \"mesh3d\": [{\"colorbar\": {\"outlinewidth\": 0, \"ticks\": \"\"}, \"type\": \"mesh3d\"}], \"parcoords\": [{\"line\": {\"colorbar\": {\"outlinewidth\": 0, \"ticks\": \"\"}}, \"type\": \"parcoords\"}], \"pie\": [{\"automargin\": true, \"type\": \"pie\"}], \"scatter\": [{\"marker\": {\"colorbar\": {\"outlinewidth\": 0, \"ticks\": \"\"}}, \"type\": \"scatter\"}], \"scatter3d\": [{\"line\": {\"colorbar\": {\"outlinewidth\": 0, \"ticks\": \"\"}}, \"marker\": {\"colorbar\": {\"outlinewidth\": 0, \"ticks\": \"\"}}, \"type\": \"scatter3d\"}], \"scattercarpet\": [{\"marker\": {\"colorbar\": {\"outlinewidth\": 0, \"ticks\": \"\"}}, \"type\": \"scattercarpet\"}], \"scattergeo\": [{\"marker\": {\"colorbar\": {\"outlinewidth\": 0, \"ticks\": \"\"}}, \"type\": \"scattergeo\"}], \"scattergl\": [{\"marker\": {\"colorbar\": {\"outlinewidth\": 0, \"ticks\": \"\"}}, \"type\": \"scattergl\"}], \"scattermapbox\": [{\"marker\": {\"colorbar\": {\"outlinewidth\": 0, \"ticks\": \"\"}}, \"type\": \"scattermapbox\"}], \"scatterpolar\": [{\"marker\": {\"colorbar\": {\"outlinewidth\": 0, \"ticks\": \"\"}}, \"type\": \"scatterpolar\"}], \"scatterpolargl\": [{\"marker\": {\"colorbar\": {\"outlinewidth\": 0, \"ticks\": \"\"}}, \"type\": \"scatterpolargl\"}], \"scatterternary\": [{\"marker\": {\"colorbar\": {\"outlinewidth\": 0, \"ticks\": \"\"}}, \"type\": \"scatterternary\"}], \"surface\": [{\"colorbar\": {\"outlinewidth\": 0, \"ticks\": \"\"}, \"colorscale\": [[0.0, \"#0d0887\"], [0.1111111111111111, \"#46039f\"], [0.2222222222222222, \"#7201a8\"], [0.3333333333333333, \"#9c179e\"], [0.4444444444444444, \"#bd3786\"], [0.5555555555555556, \"#d8576b\"], [0.6666666666666666, \"#ed7953\"], [0.7777777777777778, \"#fb9f3a\"], [0.8888888888888888, \"#fdca26\"], [1.0, \"#f0f921\"]], \"type\": \"surface\"}], \"table\": [{\"cells\": {\"fill\": {\"color\": \"#EBF0F8\"}, \"line\": {\"color\": \"white\"}}, \"header\": {\"fill\": {\"color\": \"#C8D4E3\"}, \"line\": {\"color\": \"white\"}}, \"type\": \"table\"}]}, \"layout\": {\"annotationdefaults\": {\"arrowcolor\": \"#2a3f5f\", \"arrowhead\": 0, \"arrowwidth\": 1}, \"coloraxis\": {\"colorbar\": {\"outlinewidth\": 0, \"ticks\": \"\"}}, \"colorscale\": {\"diverging\": [[0, \"#8e0152\"], [0.1, \"#c51b7d\"], [0.2, \"#de77ae\"], [0.3, \"#f1b6da\"], [0.4, \"#fde0ef\"], [0.5, \"#f7f7f7\"], [0.6, \"#e6f5d0\"], [0.7, \"#b8e186\"], [0.8, \"#7fbc41\"], [0.9, \"#4d9221\"], [1, \"#276419\"]], \"sequential\": [[0.0, \"#0d0887\"], [0.1111111111111111, \"#46039f\"], [0.2222222222222222, \"#7201a8\"], [0.3333333333333333, \"#9c179e\"], [0.4444444444444444, \"#bd3786\"], [0.5555555555555556, \"#d8576b\"], [0.6666666666666666, \"#ed7953\"], [0.7777777777777778, \"#fb9f3a\"], [0.8888888888888888, \"#fdca26\"], [1.0, \"#f0f921\"]], \"sequentialminus\": [[0.0, \"#0d0887\"], [0.1111111111111111, \"#46039f\"], [0.2222222222222222, \"#7201a8\"], [0.3333333333333333, \"#9c179e\"], [0.4444444444444444, \"#bd3786\"], [0.5555555555555556, \"#d8576b\"], [0.6666666666666666, \"#ed7953\"], [0.7777777777777778, \"#fb9f3a\"], [0.8888888888888888, \"#fdca26\"], [1.0, \"#f0f921\"]]}, \"colorway\": [\"#636efa\", \"#EF553B\", \"#00cc96\", \"#ab63fa\", \"#FFA15A\", \"#19d3f3\", \"#FF6692\", \"#B6E880\", \"#FF97FF\", \"#FECB52\"], \"font\": {\"color\": \"#2a3f5f\"}, \"geo\": {\"bgcolor\": \"white\", \"lakecolor\": \"white\", \"landcolor\": \"#E5ECF6\", \"showlakes\": true, \"showland\": true, \"subunitcolor\": \"white\"}, \"hoverlabel\": {\"align\": \"left\"}, \"hovermode\": \"closest\", \"mapbox\": {\"style\": \"light\"}, \"paper_bgcolor\": \"white\", \"plot_bgcolor\": \"#E5ECF6\", \"polar\": {\"angularaxis\": {\"gridcolor\": \"white\", \"linecolor\": \"white\", \"ticks\": \"\"}, \"bgcolor\": \"#E5ECF6\", \"radialaxis\": {\"gridcolor\": \"white\", \"linecolor\": \"white\", \"ticks\": \"\"}}, \"scene\": {\"xaxis\": {\"backgroundcolor\": \"#E5ECF6\", \"gridcolor\": \"white\", \"gridwidth\": 2, \"linecolor\": \"white\", \"showbackground\": true, \"ticks\": \"\", \"zerolinecolor\": \"white\"}, \"yaxis\": {\"backgroundcolor\": \"#E5ECF6\", \"gridcolor\": \"white\", \"gridwidth\": 2, \"linecolor\": \"white\", \"showbackground\": true, \"ticks\": \"\", \"zerolinecolor\": \"white\"}, \"zaxis\": {\"backgroundcolor\": \"#E5ECF6\", \"gridcolor\": \"white\", \"gridwidth\": 2, \"linecolor\": \"white\", \"showbackground\": true, \"ticks\": \"\", \"zerolinecolor\": \"white\"}}, \"shapedefaults\": {\"line\": {\"color\": \"#2a3f5f\"}}, \"ternary\": {\"aaxis\": {\"gridcolor\": \"white\", \"linecolor\": \"white\", \"ticks\": \"\"}, \"baxis\": {\"gridcolor\": \"white\", \"linecolor\": \"white\", \"ticks\": \"\"}, \"bgcolor\": \"#E5ECF6\", \"caxis\": {\"gridcolor\": \"white\", \"linecolor\": \"white\", \"ticks\": \"\"}}, \"title\": {\"x\": 0.05}, \"xaxis\": {\"automargin\": true, \"gridcolor\": \"white\", \"linecolor\": \"white\", \"ticks\": \"\", \"title\": {\"standoff\": 15}, \"zerolinecolor\": \"white\", \"zerolinewidth\": 2}, \"yaxis\": {\"automargin\": true, \"gridcolor\": \"white\", \"linecolor\": \"white\", \"ticks\": \"\", \"title\": {\"standoff\": 15}, \"zerolinecolor\": \"white\", \"zerolinewidth\": 2}}}, \"title\": {\"text\": \"Count of 1 and 0 in binary variables\"}},\n",
       "                        {\"responsive\": true}\n",
       "                    ).then(function(){\n",
       "                            \n",
       "var gd = document.getElementById('b800bbf7-c0b3-4606-ad83-7a3bb0922994');\n",
       "var x = new MutationObserver(function (mutations, observer) {{\n",
       "        var display = window.getComputedStyle(gd).display;\n",
       "        if (!display || display === 'none') {{\n",
       "            console.log([gd, 'removed!']);\n",
       "            Plotly.purge(gd);\n",
       "            observer.disconnect();\n",
       "        }}\n",
       "}});\n",
       "\n",
       "// Listen for the removal of the full notebook cells\n",
       "var notebookContainer = gd.closest('#notebook-container');\n",
       "if (notebookContainer) {{\n",
       "    x.observe(notebookContainer, {childList: true});\n",
       "}}\n",
       "\n",
       "// Listen for the clearing of the current output cell\n",
       "var outputEl = gd.closest('.output');\n",
       "if (outputEl) {{\n",
       "    x.observe(outputEl, {childList: true});\n",
       "}}\n",
       "\n",
       "                        })\n",
       "                };\n",
       "                });\n",
       "            </script>\n",
       "        </div>"
      ]
     },
     "metadata": {},
     "output_type": "display_data"
    }
   ],
   "source": [
    "trace1 = go.Bar(\n",
    "    x=bin_col,\n",
    "    y=zero_list,\n",
    "    name='Zero count')\n",
    "\n",
    "trace2 = go.Bar(\n",
    "    x=bin_col,\n",
    "    y=one_list,\n",
    "    name='One count')\n",
    "\n",
    "data=[trace1, trace2]\n",
    "layout=go.Layout(\n",
    "    barmode='stack', \n",
    "    title='Count of 1 and 0 in binary variables')\n",
    "\n",
    "fig=go.Figure(data=data, layout=layout)\n",
    "py.iplot(fig, filename='stacked-bar')"
   ]
  },
  {
   "cell_type": "code",
   "execution_count": 18,
   "metadata": {},
   "outputs": [
    {
     "name": "stdout",
     "output_type": "stream",
     "text": [
      "------Training Done----------\n"
     ]
    }
   ],
   "source": [
    "from sklearn.ensemble import RandomForestClassifier\n",
    "rf = RandomForestClassifier(n_estimators=150, max_depth=8, min_samples_leaf=4, \n",
    "                            max_features=0.2, n_jobs=-1, random_state=0)\n",
    "rf.fit(train.drop(['id', 'target'], axis=1), train.target)\n",
    "features = train.drop(['id', 'target'], axis=1).columns.values\n",
    "print(\"------Training Done----------\")"
   ]
  },
  {
   "cell_type": "code",
   "execution_count": 19,
   "metadata": {},
   "outputs": [
    {
     "data": {
      "application/vnd.plotly.v1+json": {
       "config": {
        "linkText": "Export to plot.ly",
        "plotlyServerURL": "https://plot.ly",
        "showLink": false
       },
       "data": [
        {
         "marker": {
          "color": [
           0.01686434542269142,
           0.011053805247045436,
           0.036219170535060755,
           0.019470566624956092,
           0.07861381065229754,
           0.019871398042689628,
           0.02209323746126317,
           0.004198705181889577,
           0.003607748989459628,
           0.0003743181308508165,
           0.000658587568488969,
           0.0013468714834950239,
           0.0006631273358967262,
           0.002396248137555366,
           0.02559893166563769,
           0.013920353817181067,
           0.056972129046208644,
           0.002157913151265299,
           0.016475991648979886,
           0.038131333126062074,
           0.07169756523163816,
           0.025542700975322873,
           0.009404375939580238,
           0.02143813341563879,
           0.028014375170701815,
           0.006161484578645829,
           0.013635548698960633,
           0.031616018789628386,
           0.0033942424985942323,
           0.00931835490969756,
           0.001989572452739753,
           0.0169000533930654,
           0.006131305051533334,
           0.026575212817247448,
           0.12972589668605977,
           0.027730687462900114,
           0.018552997743760267,
           0.012009756930235212,
           0.012160372455969666,
           0.011576231652990453,
           0.008128745850432492,
           0.010594230122584794,
           0.00859806923363534,
           0.011555325103106582,
           0.01014094472565096,
           0.00976021723144253,
           0.019068010059436213,
           0.015948843121933284,
           0.010077793671110571,
           0.011709915331607012,
           0.01718398425858274,
           0.001870133874931154,
           0.002257450267841548,
           0.002469687345810993,
           0.0024558305914006385,
           0.0026302488825493274,
           0.0012870902040590282
          ],
          "colorscale": [
           [
            0.0,
            "rgb(12,51,131)"
           ],
           [
            0.25,
            "rgb(10,136,186)"
           ],
           [
            0.5,
            "rgb(242,211,56)"
           ],
           [
            0.75,
            "rgb(242,143,56)"
           ],
           [
            1.0,
            "rgb(217,30,30)"
           ]
          ],
          "showscale": true,
          "size": 13,
          "sizemode": "diameter",
          "sizeref": 1
         },
         "mode": "markers",
         "text": [
          "ps_ind_01",
          "ps_ind_02_cat",
          "ps_ind_03",
          "ps_ind_04_cat",
          "ps_ind_05_cat",
          "ps_ind_06_bin",
          "ps_ind_07_bin",
          "ps_ind_08_bin",
          "ps_ind_09_bin",
          "ps_ind_10_bin",
          "ps_ind_11_bin",
          "ps_ind_12_bin",
          "ps_ind_13_bin",
          "ps_ind_14",
          "ps_ind_15",
          "ps_ind_16_bin",
          "ps_ind_17_bin",
          "ps_ind_18_bin",
          "ps_reg_01",
          "ps_reg_02",
          "ps_reg_03",
          "ps_car_01_cat",
          "ps_car_02_cat",
          "ps_car_03_cat",
          "ps_car_04_cat",
          "ps_car_05_cat",
          "ps_car_06_cat",
          "ps_car_07_cat",
          "ps_car_08_cat",
          "ps_car_09_cat",
          "ps_car_10_cat",
          "ps_car_11_cat",
          "ps_car_11",
          "ps_car_12",
          "ps_car_13",
          "ps_car_14",
          "ps_car_15",
          "ps_calc_01",
          "ps_calc_02",
          "ps_calc_03",
          "ps_calc_04",
          "ps_calc_05",
          "ps_calc_06",
          "ps_calc_07",
          "ps_calc_08",
          "ps_calc_09",
          "ps_calc_10",
          "ps_calc_11",
          "ps_calc_12",
          "ps_calc_13",
          "ps_calc_14",
          "ps_calc_15_bin",
          "ps_calc_16_bin",
          "ps_calc_17_bin",
          "ps_calc_18_bin",
          "ps_calc_19_bin",
          "ps_calc_20_bin"
         ],
         "type": "scatter",
         "x": [
          "ps_ind_01",
          "ps_ind_02_cat",
          "ps_ind_03",
          "ps_ind_04_cat",
          "ps_ind_05_cat",
          "ps_ind_06_bin",
          "ps_ind_07_bin",
          "ps_ind_08_bin",
          "ps_ind_09_bin",
          "ps_ind_10_bin",
          "ps_ind_11_bin",
          "ps_ind_12_bin",
          "ps_ind_13_bin",
          "ps_ind_14",
          "ps_ind_15",
          "ps_ind_16_bin",
          "ps_ind_17_bin",
          "ps_ind_18_bin",
          "ps_reg_01",
          "ps_reg_02",
          "ps_reg_03",
          "ps_car_01_cat",
          "ps_car_02_cat",
          "ps_car_03_cat",
          "ps_car_04_cat",
          "ps_car_05_cat",
          "ps_car_06_cat",
          "ps_car_07_cat",
          "ps_car_08_cat",
          "ps_car_09_cat",
          "ps_car_10_cat",
          "ps_car_11_cat",
          "ps_car_11",
          "ps_car_12",
          "ps_car_13",
          "ps_car_14",
          "ps_car_15",
          "ps_calc_01",
          "ps_calc_02",
          "ps_calc_03",
          "ps_calc_04",
          "ps_calc_05",
          "ps_calc_06",
          "ps_calc_07",
          "ps_calc_08",
          "ps_calc_09",
          "ps_calc_10",
          "ps_calc_11",
          "ps_calc_12",
          "ps_calc_13",
          "ps_calc_14",
          "ps_calc_15_bin",
          "ps_calc_16_bin",
          "ps_calc_17_bin",
          "ps_calc_18_bin",
          "ps_calc_19_bin",
          "ps_calc_20_bin"
         ],
         "y": [
          0.01686434542269142,
          0.011053805247045436,
          0.036219170535060755,
          0.019470566624956092,
          0.07861381065229754,
          0.019871398042689628,
          0.02209323746126317,
          0.004198705181889577,
          0.003607748989459628,
          0.0003743181308508165,
          0.000658587568488969,
          0.0013468714834950239,
          0.0006631273358967262,
          0.002396248137555366,
          0.02559893166563769,
          0.013920353817181067,
          0.056972129046208644,
          0.002157913151265299,
          0.016475991648979886,
          0.038131333126062074,
          0.07169756523163816,
          0.025542700975322873,
          0.009404375939580238,
          0.02143813341563879,
          0.028014375170701815,
          0.006161484578645829,
          0.013635548698960633,
          0.031616018789628386,
          0.0033942424985942323,
          0.00931835490969756,
          0.001989572452739753,
          0.0169000533930654,
          0.006131305051533334,
          0.026575212817247448,
          0.12972589668605977,
          0.027730687462900114,
          0.018552997743760267,
          0.012009756930235212,
          0.012160372455969666,
          0.011576231652990453,
          0.008128745850432492,
          0.010594230122584794,
          0.00859806923363534,
          0.011555325103106582,
          0.01014094472565096,
          0.00976021723144253,
          0.019068010059436213,
          0.015948843121933284,
          0.010077793671110571,
          0.011709915331607012,
          0.01718398425858274,
          0.001870133874931154,
          0.002257450267841548,
          0.002469687345810993,
          0.0024558305914006385,
          0.0026302488825493274,
          0.0012870902040590282
         ]
        }
       ],
       "layout": {
        "autosize": true,
        "hovermode": "closest",
        "showlegend": false,
        "template": {
         "data": {
          "bar": [
           {
            "error_x": {
             "color": "#2a3f5f"
            },
            "error_y": {
             "color": "#2a3f5f"
            },
            "marker": {
             "line": {
              "color": "#E5ECF6",
              "width": 0.5
             }
            },
            "type": "bar"
           }
          ],
          "barpolar": [
           {
            "marker": {
             "line": {
              "color": "#E5ECF6",
              "width": 0.5
             }
            },
            "type": "barpolar"
           }
          ],
          "carpet": [
           {
            "aaxis": {
             "endlinecolor": "#2a3f5f",
             "gridcolor": "white",
             "linecolor": "white",
             "minorgridcolor": "white",
             "startlinecolor": "#2a3f5f"
            },
            "baxis": {
             "endlinecolor": "#2a3f5f",
             "gridcolor": "white",
             "linecolor": "white",
             "minorgridcolor": "white",
             "startlinecolor": "#2a3f5f"
            },
            "type": "carpet"
           }
          ],
          "choropleth": [
           {
            "colorbar": {
             "outlinewidth": 0,
             "ticks": ""
            },
            "type": "choropleth"
           }
          ],
          "contour": [
           {
            "colorbar": {
             "outlinewidth": 0,
             "ticks": ""
            },
            "colorscale": [
             [
              0.0,
              "#0d0887"
             ],
             [
              0.1111111111111111,
              "#46039f"
             ],
             [
              0.2222222222222222,
              "#7201a8"
             ],
             [
              0.3333333333333333,
              "#9c179e"
             ],
             [
              0.4444444444444444,
              "#bd3786"
             ],
             [
              0.5555555555555556,
              "#d8576b"
             ],
             [
              0.6666666666666666,
              "#ed7953"
             ],
             [
              0.7777777777777778,
              "#fb9f3a"
             ],
             [
              0.8888888888888888,
              "#fdca26"
             ],
             [
              1.0,
              "#f0f921"
             ]
            ],
            "type": "contour"
           }
          ],
          "contourcarpet": [
           {
            "colorbar": {
             "outlinewidth": 0,
             "ticks": ""
            },
            "type": "contourcarpet"
           }
          ],
          "heatmap": [
           {
            "colorbar": {
             "outlinewidth": 0,
             "ticks": ""
            },
            "colorscale": [
             [
              0.0,
              "#0d0887"
             ],
             [
              0.1111111111111111,
              "#46039f"
             ],
             [
              0.2222222222222222,
              "#7201a8"
             ],
             [
              0.3333333333333333,
              "#9c179e"
             ],
             [
              0.4444444444444444,
              "#bd3786"
             ],
             [
              0.5555555555555556,
              "#d8576b"
             ],
             [
              0.6666666666666666,
              "#ed7953"
             ],
             [
              0.7777777777777778,
              "#fb9f3a"
             ],
             [
              0.8888888888888888,
              "#fdca26"
             ],
             [
              1.0,
              "#f0f921"
             ]
            ],
            "type": "heatmap"
           }
          ],
          "heatmapgl": [
           {
            "colorbar": {
             "outlinewidth": 0,
             "ticks": ""
            },
            "colorscale": [
             [
              0.0,
              "#0d0887"
             ],
             [
              0.1111111111111111,
              "#46039f"
             ],
             [
              0.2222222222222222,
              "#7201a8"
             ],
             [
              0.3333333333333333,
              "#9c179e"
             ],
             [
              0.4444444444444444,
              "#bd3786"
             ],
             [
              0.5555555555555556,
              "#d8576b"
             ],
             [
              0.6666666666666666,
              "#ed7953"
             ],
             [
              0.7777777777777778,
              "#fb9f3a"
             ],
             [
              0.8888888888888888,
              "#fdca26"
             ],
             [
              1.0,
              "#f0f921"
             ]
            ],
            "type": "heatmapgl"
           }
          ],
          "histogram": [
           {
            "marker": {
             "colorbar": {
              "outlinewidth": 0,
              "ticks": ""
             }
            },
            "type": "histogram"
           }
          ],
          "histogram2d": [
           {
            "colorbar": {
             "outlinewidth": 0,
             "ticks": ""
            },
            "colorscale": [
             [
              0.0,
              "#0d0887"
             ],
             [
              0.1111111111111111,
              "#46039f"
             ],
             [
              0.2222222222222222,
              "#7201a8"
             ],
             [
              0.3333333333333333,
              "#9c179e"
             ],
             [
              0.4444444444444444,
              "#bd3786"
             ],
             [
              0.5555555555555556,
              "#d8576b"
             ],
             [
              0.6666666666666666,
              "#ed7953"
             ],
             [
              0.7777777777777778,
              "#fb9f3a"
             ],
             [
              0.8888888888888888,
              "#fdca26"
             ],
             [
              1.0,
              "#f0f921"
             ]
            ],
            "type": "histogram2d"
           }
          ],
          "histogram2dcontour": [
           {
            "colorbar": {
             "outlinewidth": 0,
             "ticks": ""
            },
            "colorscale": [
             [
              0.0,
              "#0d0887"
             ],
             [
              0.1111111111111111,
              "#46039f"
             ],
             [
              0.2222222222222222,
              "#7201a8"
             ],
             [
              0.3333333333333333,
              "#9c179e"
             ],
             [
              0.4444444444444444,
              "#bd3786"
             ],
             [
              0.5555555555555556,
              "#d8576b"
             ],
             [
              0.6666666666666666,
              "#ed7953"
             ],
             [
              0.7777777777777778,
              "#fb9f3a"
             ],
             [
              0.8888888888888888,
              "#fdca26"
             ],
             [
              1.0,
              "#f0f921"
             ]
            ],
            "type": "histogram2dcontour"
           }
          ],
          "mesh3d": [
           {
            "colorbar": {
             "outlinewidth": 0,
             "ticks": ""
            },
            "type": "mesh3d"
           }
          ],
          "parcoords": [
           {
            "line": {
             "colorbar": {
              "outlinewidth": 0,
              "ticks": ""
             }
            },
            "type": "parcoords"
           }
          ],
          "pie": [
           {
            "automargin": true,
            "type": "pie"
           }
          ],
          "scatter": [
           {
            "marker": {
             "colorbar": {
              "outlinewidth": 0,
              "ticks": ""
             }
            },
            "type": "scatter"
           }
          ],
          "scatter3d": [
           {
            "line": {
             "colorbar": {
              "outlinewidth": 0,
              "ticks": ""
             }
            },
            "marker": {
             "colorbar": {
              "outlinewidth": 0,
              "ticks": ""
             }
            },
            "type": "scatter3d"
           }
          ],
          "scattercarpet": [
           {
            "marker": {
             "colorbar": {
              "outlinewidth": 0,
              "ticks": ""
             }
            },
            "type": "scattercarpet"
           }
          ],
          "scattergeo": [
           {
            "marker": {
             "colorbar": {
              "outlinewidth": 0,
              "ticks": ""
             }
            },
            "type": "scattergeo"
           }
          ],
          "scattergl": [
           {
            "marker": {
             "colorbar": {
              "outlinewidth": 0,
              "ticks": ""
             }
            },
            "type": "scattergl"
           }
          ],
          "scattermapbox": [
           {
            "marker": {
             "colorbar": {
              "outlinewidth": 0,
              "ticks": ""
             }
            },
            "type": "scattermapbox"
           }
          ],
          "scatterpolar": [
           {
            "marker": {
             "colorbar": {
              "outlinewidth": 0,
              "ticks": ""
             }
            },
            "type": "scatterpolar"
           }
          ],
          "scatterpolargl": [
           {
            "marker": {
             "colorbar": {
              "outlinewidth": 0,
              "ticks": ""
             }
            },
            "type": "scatterpolargl"
           }
          ],
          "scatterternary": [
           {
            "marker": {
             "colorbar": {
              "outlinewidth": 0,
              "ticks": ""
             }
            },
            "type": "scatterternary"
           }
          ],
          "surface": [
           {
            "colorbar": {
             "outlinewidth": 0,
             "ticks": ""
            },
            "colorscale": [
             [
              0.0,
              "#0d0887"
             ],
             [
              0.1111111111111111,
              "#46039f"
             ],
             [
              0.2222222222222222,
              "#7201a8"
             ],
             [
              0.3333333333333333,
              "#9c179e"
             ],
             [
              0.4444444444444444,
              "#bd3786"
             ],
             [
              0.5555555555555556,
              "#d8576b"
             ],
             [
              0.6666666666666666,
              "#ed7953"
             ],
             [
              0.7777777777777778,
              "#fb9f3a"
             ],
             [
              0.8888888888888888,
              "#fdca26"
             ],
             [
              1.0,
              "#f0f921"
             ]
            ],
            "type": "surface"
           }
          ],
          "table": [
           {
            "cells": {
             "fill": {
              "color": "#EBF0F8"
             },
             "line": {
              "color": "white"
             }
            },
            "header": {
             "fill": {
              "color": "#C8D4E3"
             },
             "line": {
              "color": "white"
             }
            },
            "type": "table"
           }
          ]
         },
         "layout": {
          "annotationdefaults": {
           "arrowcolor": "#2a3f5f",
           "arrowhead": 0,
           "arrowwidth": 1
          },
          "coloraxis": {
           "colorbar": {
            "outlinewidth": 0,
            "ticks": ""
           }
          },
          "colorscale": {
           "diverging": [
            [
             0,
             "#8e0152"
            ],
            [
             0.1,
             "#c51b7d"
            ],
            [
             0.2,
             "#de77ae"
            ],
            [
             0.3,
             "#f1b6da"
            ],
            [
             0.4,
             "#fde0ef"
            ],
            [
             0.5,
             "#f7f7f7"
            ],
            [
             0.6,
             "#e6f5d0"
            ],
            [
             0.7,
             "#b8e186"
            ],
            [
             0.8,
             "#7fbc41"
            ],
            [
             0.9,
             "#4d9221"
            ],
            [
             1,
             "#276419"
            ]
           ],
           "sequential": [
            [
             0.0,
             "#0d0887"
            ],
            [
             0.1111111111111111,
             "#46039f"
            ],
            [
             0.2222222222222222,
             "#7201a8"
            ],
            [
             0.3333333333333333,
             "#9c179e"
            ],
            [
             0.4444444444444444,
             "#bd3786"
            ],
            [
             0.5555555555555556,
             "#d8576b"
            ],
            [
             0.6666666666666666,
             "#ed7953"
            ],
            [
             0.7777777777777778,
             "#fb9f3a"
            ],
            [
             0.8888888888888888,
             "#fdca26"
            ],
            [
             1.0,
             "#f0f921"
            ]
           ],
           "sequentialminus": [
            [
             0.0,
             "#0d0887"
            ],
            [
             0.1111111111111111,
             "#46039f"
            ],
            [
             0.2222222222222222,
             "#7201a8"
            ],
            [
             0.3333333333333333,
             "#9c179e"
            ],
            [
             0.4444444444444444,
             "#bd3786"
            ],
            [
             0.5555555555555556,
             "#d8576b"
            ],
            [
             0.6666666666666666,
             "#ed7953"
            ],
            [
             0.7777777777777778,
             "#fb9f3a"
            ],
            [
             0.8888888888888888,
             "#fdca26"
            ],
            [
             1.0,
             "#f0f921"
            ]
           ]
          },
          "colorway": [
           "#636efa",
           "#EF553B",
           "#00cc96",
           "#ab63fa",
           "#FFA15A",
           "#19d3f3",
           "#FF6692",
           "#B6E880",
           "#FF97FF",
           "#FECB52"
          ],
          "font": {
           "color": "#2a3f5f"
          },
          "geo": {
           "bgcolor": "white",
           "lakecolor": "white",
           "landcolor": "#E5ECF6",
           "showlakes": true,
           "showland": true,
           "subunitcolor": "white"
          },
          "hoverlabel": {
           "align": "left"
          },
          "hovermode": "closest",
          "mapbox": {
           "style": "light"
          },
          "paper_bgcolor": "white",
          "plot_bgcolor": "#E5ECF6",
          "polar": {
           "angularaxis": {
            "gridcolor": "white",
            "linecolor": "white",
            "ticks": ""
           },
           "bgcolor": "#E5ECF6",
           "radialaxis": {
            "gridcolor": "white",
            "linecolor": "white",
            "ticks": ""
           }
          },
          "scene": {
           "xaxis": {
            "backgroundcolor": "#E5ECF6",
            "gridcolor": "white",
            "gridwidth": 2,
            "linecolor": "white",
            "showbackground": true,
            "ticks": "",
            "zerolinecolor": "white"
           },
           "yaxis": {
            "backgroundcolor": "#E5ECF6",
            "gridcolor": "white",
            "gridwidth": 2,
            "linecolor": "white",
            "showbackground": true,
            "ticks": "",
            "zerolinecolor": "white"
           },
           "zaxis": {
            "backgroundcolor": "#E5ECF6",
            "gridcolor": "white",
            "gridwidth": 2,
            "linecolor": "white",
            "showbackground": true,
            "ticks": "",
            "zerolinecolor": "white"
           }
          },
          "shapedefaults": {
           "line": {
            "color": "#2a3f5f"
           }
          },
          "ternary": {
           "aaxis": {
            "gridcolor": "white",
            "linecolor": "white",
            "ticks": ""
           },
           "baxis": {
            "gridcolor": "white",
            "linecolor": "white",
            "ticks": ""
           },
           "bgcolor": "#E5ECF6",
           "caxis": {
            "gridcolor": "white",
            "linecolor": "white",
            "ticks": ""
           }
          },
          "title": {
           "x": 0.05
          },
          "xaxis": {
           "automargin": true,
           "gridcolor": "white",
           "linecolor": "white",
           "ticks": "",
           "title": {
            "standoff": 15
           },
           "zerolinecolor": "white",
           "zerolinewidth": 2
          },
          "yaxis": {
           "automargin": true,
           "gridcolor": "white",
           "linecolor": "white",
           "ticks": "",
           "title": {
            "standoff": 15
           },
           "zerolinecolor": "white",
           "zerolinewidth": 2
          }
         }
        },
        "title": {
         "text": "Random Forest Feature Importance"
        },
        "xaxis": {
         "showgrid": false,
         "showline": false,
         "ticklen": 5,
         "zeroline": false
        },
        "yaxis": {
         "gridwidth": 2,
         "showgrid": false,
         "ticklen": 5,
         "title": {
          "text": "Feature Importance"
         },
         "zeroline": false
        }
       }
      },
      "text/html": [
       "<div>\n",
       "        \n",
       "        \n",
       "            <div id=\"7e023f7d-d80c-4f4d-90a9-b02c22884181\" class=\"plotly-graph-div\" style=\"height:525px; width:100%;\"></div>\n",
       "            <script type=\"text/javascript\">\n",
       "                require([\"plotly\"], function(Plotly) {\n",
       "                    window.PLOTLYENV=window.PLOTLYENV || {};\n",
       "                    \n",
       "                if (document.getElementById(\"7e023f7d-d80c-4f4d-90a9-b02c22884181\")) {\n",
       "                    Plotly.newPlot(\n",
       "                        '7e023f7d-d80c-4f4d-90a9-b02c22884181',\n",
       "                        [{\"marker\": {\"color\": [0.01686434542269142, 0.011053805247045436, 0.036219170535060755, 0.019470566624956092, 0.07861381065229754, 0.019871398042689628, 0.02209323746126317, 0.004198705181889577, 0.003607748989459628, 0.0003743181308508165, 0.000658587568488969, 0.0013468714834950239, 0.0006631273358967262, 0.002396248137555366, 0.02559893166563769, 0.013920353817181067, 0.056972129046208644, 0.002157913151265299, 0.016475991648979886, 0.038131333126062074, 0.07169756523163816, 0.025542700975322873, 0.009404375939580238, 0.02143813341563879, 0.028014375170701815, 0.006161484578645829, 0.013635548698960633, 0.031616018789628386, 0.0033942424985942323, 0.00931835490969756, 0.001989572452739753, 0.0169000533930654, 0.006131305051533334, 0.026575212817247448, 0.12972589668605977, 0.027730687462900114, 0.018552997743760267, 0.012009756930235212, 0.012160372455969666, 0.011576231652990453, 0.008128745850432492, 0.010594230122584794, 0.00859806923363534, 0.011555325103106582, 0.01014094472565096, 0.00976021723144253, 0.019068010059436213, 0.015948843121933284, 0.010077793671110571, 0.011709915331607012, 0.01718398425858274, 0.001870133874931154, 0.002257450267841548, 0.002469687345810993, 0.0024558305914006385, 0.0026302488825493274, 0.0012870902040590282], \"colorscale\": [[0.0, \"rgb(12,51,131)\"], [0.25, \"rgb(10,136,186)\"], [0.5, \"rgb(242,211,56)\"], [0.75, \"rgb(242,143,56)\"], [1.0, \"rgb(217,30,30)\"]], \"showscale\": true, \"size\": 13, \"sizemode\": \"diameter\", \"sizeref\": 1}, \"mode\": \"markers\", \"text\": [\"ps_ind_01\", \"ps_ind_02_cat\", \"ps_ind_03\", \"ps_ind_04_cat\", \"ps_ind_05_cat\", \"ps_ind_06_bin\", \"ps_ind_07_bin\", \"ps_ind_08_bin\", \"ps_ind_09_bin\", \"ps_ind_10_bin\", \"ps_ind_11_bin\", \"ps_ind_12_bin\", \"ps_ind_13_bin\", \"ps_ind_14\", \"ps_ind_15\", \"ps_ind_16_bin\", \"ps_ind_17_bin\", \"ps_ind_18_bin\", \"ps_reg_01\", \"ps_reg_02\", \"ps_reg_03\", \"ps_car_01_cat\", \"ps_car_02_cat\", \"ps_car_03_cat\", \"ps_car_04_cat\", \"ps_car_05_cat\", \"ps_car_06_cat\", \"ps_car_07_cat\", \"ps_car_08_cat\", \"ps_car_09_cat\", \"ps_car_10_cat\", \"ps_car_11_cat\", \"ps_car_11\", \"ps_car_12\", \"ps_car_13\", \"ps_car_14\", \"ps_car_15\", \"ps_calc_01\", \"ps_calc_02\", \"ps_calc_03\", \"ps_calc_04\", \"ps_calc_05\", \"ps_calc_06\", \"ps_calc_07\", \"ps_calc_08\", \"ps_calc_09\", \"ps_calc_10\", \"ps_calc_11\", \"ps_calc_12\", \"ps_calc_13\", \"ps_calc_14\", \"ps_calc_15_bin\", \"ps_calc_16_bin\", \"ps_calc_17_bin\", \"ps_calc_18_bin\", \"ps_calc_19_bin\", \"ps_calc_20_bin\"], \"type\": \"scatter\", \"x\": [\"ps_ind_01\", \"ps_ind_02_cat\", \"ps_ind_03\", \"ps_ind_04_cat\", \"ps_ind_05_cat\", \"ps_ind_06_bin\", \"ps_ind_07_bin\", \"ps_ind_08_bin\", \"ps_ind_09_bin\", \"ps_ind_10_bin\", \"ps_ind_11_bin\", \"ps_ind_12_bin\", \"ps_ind_13_bin\", \"ps_ind_14\", \"ps_ind_15\", \"ps_ind_16_bin\", \"ps_ind_17_bin\", \"ps_ind_18_bin\", \"ps_reg_01\", \"ps_reg_02\", \"ps_reg_03\", \"ps_car_01_cat\", \"ps_car_02_cat\", \"ps_car_03_cat\", \"ps_car_04_cat\", \"ps_car_05_cat\", \"ps_car_06_cat\", \"ps_car_07_cat\", \"ps_car_08_cat\", \"ps_car_09_cat\", \"ps_car_10_cat\", \"ps_car_11_cat\", \"ps_car_11\", \"ps_car_12\", \"ps_car_13\", \"ps_car_14\", \"ps_car_15\", \"ps_calc_01\", \"ps_calc_02\", \"ps_calc_03\", \"ps_calc_04\", \"ps_calc_05\", \"ps_calc_06\", \"ps_calc_07\", \"ps_calc_08\", \"ps_calc_09\", \"ps_calc_10\", \"ps_calc_11\", \"ps_calc_12\", \"ps_calc_13\", \"ps_calc_14\", \"ps_calc_15_bin\", \"ps_calc_16_bin\", \"ps_calc_17_bin\", \"ps_calc_18_bin\", \"ps_calc_19_bin\", \"ps_calc_20_bin\"], \"y\": [0.01686434542269142, 0.011053805247045436, 0.036219170535060755, 0.019470566624956092, 0.07861381065229754, 0.019871398042689628, 0.02209323746126317, 0.004198705181889577, 0.003607748989459628, 0.0003743181308508165, 0.000658587568488969, 0.0013468714834950239, 0.0006631273358967262, 0.002396248137555366, 0.02559893166563769, 0.013920353817181067, 0.056972129046208644, 0.002157913151265299, 0.016475991648979886, 0.038131333126062074, 0.07169756523163816, 0.025542700975322873, 0.009404375939580238, 0.02143813341563879, 0.028014375170701815, 0.006161484578645829, 0.013635548698960633, 0.031616018789628386, 0.0033942424985942323, 0.00931835490969756, 0.001989572452739753, 0.0169000533930654, 0.006131305051533334, 0.026575212817247448, 0.12972589668605977, 0.027730687462900114, 0.018552997743760267, 0.012009756930235212, 0.012160372455969666, 0.011576231652990453, 0.008128745850432492, 0.010594230122584794, 0.00859806923363534, 0.011555325103106582, 0.01014094472565096, 0.00976021723144253, 0.019068010059436213, 0.015948843121933284, 0.010077793671110571, 0.011709915331607012, 0.01718398425858274, 0.001870133874931154, 0.002257450267841548, 0.002469687345810993, 0.0024558305914006385, 0.0026302488825493274, 0.0012870902040590282]}],\n",
       "                        {\"autosize\": true, \"hovermode\": \"closest\", \"showlegend\": false, \"template\": {\"data\": {\"bar\": [{\"error_x\": {\"color\": \"#2a3f5f\"}, \"error_y\": {\"color\": \"#2a3f5f\"}, \"marker\": {\"line\": {\"color\": \"#E5ECF6\", \"width\": 0.5}}, \"type\": \"bar\"}], \"barpolar\": [{\"marker\": {\"line\": {\"color\": \"#E5ECF6\", \"width\": 0.5}}, \"type\": \"barpolar\"}], \"carpet\": [{\"aaxis\": {\"endlinecolor\": \"#2a3f5f\", \"gridcolor\": \"white\", \"linecolor\": \"white\", \"minorgridcolor\": \"white\", \"startlinecolor\": \"#2a3f5f\"}, \"baxis\": {\"endlinecolor\": \"#2a3f5f\", \"gridcolor\": \"white\", \"linecolor\": \"white\", \"minorgridcolor\": \"white\", \"startlinecolor\": \"#2a3f5f\"}, \"type\": \"carpet\"}], \"choropleth\": [{\"colorbar\": {\"outlinewidth\": 0, \"ticks\": \"\"}, \"type\": \"choropleth\"}], \"contour\": [{\"colorbar\": {\"outlinewidth\": 0, \"ticks\": \"\"}, \"colorscale\": [[0.0, \"#0d0887\"], [0.1111111111111111, \"#46039f\"], [0.2222222222222222, \"#7201a8\"], [0.3333333333333333, \"#9c179e\"], [0.4444444444444444, \"#bd3786\"], [0.5555555555555556, \"#d8576b\"], [0.6666666666666666, \"#ed7953\"], [0.7777777777777778, \"#fb9f3a\"], [0.8888888888888888, \"#fdca26\"], [1.0, \"#f0f921\"]], \"type\": \"contour\"}], \"contourcarpet\": [{\"colorbar\": {\"outlinewidth\": 0, \"ticks\": \"\"}, \"type\": \"contourcarpet\"}], \"heatmap\": [{\"colorbar\": {\"outlinewidth\": 0, \"ticks\": \"\"}, \"colorscale\": [[0.0, \"#0d0887\"], [0.1111111111111111, \"#46039f\"], [0.2222222222222222, \"#7201a8\"], [0.3333333333333333, \"#9c179e\"], [0.4444444444444444, \"#bd3786\"], [0.5555555555555556, \"#d8576b\"], [0.6666666666666666, \"#ed7953\"], [0.7777777777777778, \"#fb9f3a\"], [0.8888888888888888, \"#fdca26\"], [1.0, \"#f0f921\"]], \"type\": \"heatmap\"}], \"heatmapgl\": [{\"colorbar\": {\"outlinewidth\": 0, \"ticks\": \"\"}, \"colorscale\": [[0.0, \"#0d0887\"], [0.1111111111111111, \"#46039f\"], [0.2222222222222222, \"#7201a8\"], [0.3333333333333333, \"#9c179e\"], [0.4444444444444444, \"#bd3786\"], [0.5555555555555556, \"#d8576b\"], [0.6666666666666666, \"#ed7953\"], [0.7777777777777778, \"#fb9f3a\"], [0.8888888888888888, \"#fdca26\"], [1.0, \"#f0f921\"]], \"type\": \"heatmapgl\"}], \"histogram\": [{\"marker\": {\"colorbar\": {\"outlinewidth\": 0, \"ticks\": \"\"}}, \"type\": \"histogram\"}], \"histogram2d\": [{\"colorbar\": {\"outlinewidth\": 0, \"ticks\": \"\"}, \"colorscale\": [[0.0, \"#0d0887\"], [0.1111111111111111, \"#46039f\"], [0.2222222222222222, \"#7201a8\"], [0.3333333333333333, \"#9c179e\"], [0.4444444444444444, \"#bd3786\"], [0.5555555555555556, \"#d8576b\"], [0.6666666666666666, \"#ed7953\"], [0.7777777777777778, \"#fb9f3a\"], [0.8888888888888888, \"#fdca26\"], [1.0, \"#f0f921\"]], \"type\": \"histogram2d\"}], \"histogram2dcontour\": [{\"colorbar\": {\"outlinewidth\": 0, \"ticks\": \"\"}, \"colorscale\": [[0.0, \"#0d0887\"], [0.1111111111111111, \"#46039f\"], [0.2222222222222222, \"#7201a8\"], [0.3333333333333333, \"#9c179e\"], [0.4444444444444444, \"#bd3786\"], [0.5555555555555556, \"#d8576b\"], [0.6666666666666666, \"#ed7953\"], [0.7777777777777778, \"#fb9f3a\"], [0.8888888888888888, \"#fdca26\"], [1.0, \"#f0f921\"]], \"type\": \"histogram2dcontour\"}], \"mesh3d\": [{\"colorbar\": {\"outlinewidth\": 0, \"ticks\": \"\"}, \"type\": \"mesh3d\"}], \"parcoords\": [{\"line\": {\"colorbar\": {\"outlinewidth\": 0, \"ticks\": \"\"}}, \"type\": \"parcoords\"}], \"pie\": [{\"automargin\": true, \"type\": \"pie\"}], \"scatter\": [{\"marker\": {\"colorbar\": {\"outlinewidth\": 0, \"ticks\": \"\"}}, \"type\": \"scatter\"}], \"scatter3d\": [{\"line\": {\"colorbar\": {\"outlinewidth\": 0, \"ticks\": \"\"}}, \"marker\": {\"colorbar\": {\"outlinewidth\": 0, \"ticks\": \"\"}}, \"type\": \"scatter3d\"}], \"scattercarpet\": [{\"marker\": {\"colorbar\": {\"outlinewidth\": 0, \"ticks\": \"\"}}, \"type\": \"scattercarpet\"}], \"scattergeo\": [{\"marker\": {\"colorbar\": {\"outlinewidth\": 0, \"ticks\": \"\"}}, \"type\": \"scattergeo\"}], \"scattergl\": [{\"marker\": {\"colorbar\": {\"outlinewidth\": 0, \"ticks\": \"\"}}, \"type\": \"scattergl\"}], \"scattermapbox\": [{\"marker\": {\"colorbar\": {\"outlinewidth\": 0, \"ticks\": \"\"}}, \"type\": \"scattermapbox\"}], \"scatterpolar\": [{\"marker\": {\"colorbar\": {\"outlinewidth\": 0, \"ticks\": \"\"}}, \"type\": \"scatterpolar\"}], \"scatterpolargl\": [{\"marker\": {\"colorbar\": {\"outlinewidth\": 0, \"ticks\": \"\"}}, \"type\": \"scatterpolargl\"}], \"scatterternary\": [{\"marker\": {\"colorbar\": {\"outlinewidth\": 0, \"ticks\": \"\"}}, \"type\": \"scatterternary\"}], \"surface\": [{\"colorbar\": {\"outlinewidth\": 0, \"ticks\": \"\"}, \"colorscale\": [[0.0, \"#0d0887\"], [0.1111111111111111, \"#46039f\"], [0.2222222222222222, \"#7201a8\"], [0.3333333333333333, \"#9c179e\"], [0.4444444444444444, \"#bd3786\"], [0.5555555555555556, \"#d8576b\"], [0.6666666666666666, \"#ed7953\"], [0.7777777777777778, \"#fb9f3a\"], [0.8888888888888888, \"#fdca26\"], [1.0, \"#f0f921\"]], \"type\": \"surface\"}], \"table\": [{\"cells\": {\"fill\": {\"color\": \"#EBF0F8\"}, \"line\": {\"color\": \"white\"}}, \"header\": {\"fill\": {\"color\": \"#C8D4E3\"}, \"line\": {\"color\": \"white\"}}, \"type\": \"table\"}]}, \"layout\": {\"annotationdefaults\": {\"arrowcolor\": \"#2a3f5f\", \"arrowhead\": 0, \"arrowwidth\": 1}, \"coloraxis\": {\"colorbar\": {\"outlinewidth\": 0, \"ticks\": \"\"}}, \"colorscale\": {\"diverging\": [[0, \"#8e0152\"], [0.1, \"#c51b7d\"], [0.2, \"#de77ae\"], [0.3, \"#f1b6da\"], [0.4, \"#fde0ef\"], [0.5, \"#f7f7f7\"], [0.6, \"#e6f5d0\"], [0.7, \"#b8e186\"], [0.8, \"#7fbc41\"], [0.9, \"#4d9221\"], [1, \"#276419\"]], \"sequential\": [[0.0, \"#0d0887\"], [0.1111111111111111, \"#46039f\"], [0.2222222222222222, \"#7201a8\"], [0.3333333333333333, \"#9c179e\"], [0.4444444444444444, \"#bd3786\"], [0.5555555555555556, \"#d8576b\"], [0.6666666666666666, \"#ed7953\"], [0.7777777777777778, \"#fb9f3a\"], [0.8888888888888888, \"#fdca26\"], [1.0, \"#f0f921\"]], \"sequentialminus\": [[0.0, \"#0d0887\"], [0.1111111111111111, \"#46039f\"], [0.2222222222222222, \"#7201a8\"], [0.3333333333333333, \"#9c179e\"], [0.4444444444444444, \"#bd3786\"], [0.5555555555555556, \"#d8576b\"], [0.6666666666666666, \"#ed7953\"], [0.7777777777777778, \"#fb9f3a\"], [0.8888888888888888, \"#fdca26\"], [1.0, \"#f0f921\"]]}, \"colorway\": [\"#636efa\", \"#EF553B\", \"#00cc96\", \"#ab63fa\", \"#FFA15A\", \"#19d3f3\", \"#FF6692\", \"#B6E880\", \"#FF97FF\", \"#FECB52\"], \"font\": {\"color\": \"#2a3f5f\"}, \"geo\": {\"bgcolor\": \"white\", \"lakecolor\": \"white\", \"landcolor\": \"#E5ECF6\", \"showlakes\": true, \"showland\": true, \"subunitcolor\": \"white\"}, \"hoverlabel\": {\"align\": \"left\"}, \"hovermode\": \"closest\", \"mapbox\": {\"style\": \"light\"}, \"paper_bgcolor\": \"white\", \"plot_bgcolor\": \"#E5ECF6\", \"polar\": {\"angularaxis\": {\"gridcolor\": \"white\", \"linecolor\": \"white\", \"ticks\": \"\"}, \"bgcolor\": \"#E5ECF6\", \"radialaxis\": {\"gridcolor\": \"white\", \"linecolor\": \"white\", \"ticks\": \"\"}}, \"scene\": {\"xaxis\": {\"backgroundcolor\": \"#E5ECF6\", \"gridcolor\": \"white\", \"gridwidth\": 2, \"linecolor\": \"white\", \"showbackground\": true, \"ticks\": \"\", \"zerolinecolor\": \"white\"}, \"yaxis\": {\"backgroundcolor\": \"#E5ECF6\", \"gridcolor\": \"white\", \"gridwidth\": 2, \"linecolor\": \"white\", \"showbackground\": true, \"ticks\": \"\", \"zerolinecolor\": \"white\"}, \"zaxis\": {\"backgroundcolor\": \"#E5ECF6\", \"gridcolor\": \"white\", \"gridwidth\": 2, \"linecolor\": \"white\", \"showbackground\": true, \"ticks\": \"\", \"zerolinecolor\": \"white\"}}, \"shapedefaults\": {\"line\": {\"color\": \"#2a3f5f\"}}, \"ternary\": {\"aaxis\": {\"gridcolor\": \"white\", \"linecolor\": \"white\", \"ticks\": \"\"}, \"baxis\": {\"gridcolor\": \"white\", \"linecolor\": \"white\", \"ticks\": \"\"}, \"bgcolor\": \"#E5ECF6\", \"caxis\": {\"gridcolor\": \"white\", \"linecolor\": \"white\", \"ticks\": \"\"}}, \"title\": {\"x\": 0.05}, \"xaxis\": {\"automargin\": true, \"gridcolor\": \"white\", \"linecolor\": \"white\", \"ticks\": \"\", \"title\": {\"standoff\": 15}, \"zerolinecolor\": \"white\", \"zerolinewidth\": 2}, \"yaxis\": {\"automargin\": true, \"gridcolor\": \"white\", \"linecolor\": \"white\", \"ticks\": \"\", \"title\": {\"standoff\": 15}, \"zerolinecolor\": \"white\", \"zerolinewidth\": 2}}}, \"title\": {\"text\": \"Random Forest Feature Importance\"}, \"xaxis\": {\"showgrid\": false, \"showline\": false, \"ticklen\": 5, \"zeroline\": false}, \"yaxis\": {\"gridwidth\": 2, \"showgrid\": false, \"ticklen\": 5, \"title\": {\"text\": \"Feature Importance\"}, \"zeroline\": false}},\n",
       "                        {\"responsive\": true}\n",
       "                    ).then(function(){\n",
       "                            \n",
       "var gd = document.getElementById('7e023f7d-d80c-4f4d-90a9-b02c22884181');\n",
       "var x = new MutationObserver(function (mutations, observer) {{\n",
       "        var display = window.getComputedStyle(gd).display;\n",
       "        if (!display || display === 'none') {{\n",
       "            console.log([gd, 'removed!']);\n",
       "            Plotly.purge(gd);\n",
       "            observer.disconnect();\n",
       "        }}\n",
       "}});\n",
       "\n",
       "// Listen for the removal of the full notebook cells\n",
       "var notebookContainer = gd.closest('#notebook-container');\n",
       "if (notebookContainer) {{\n",
       "    x.observe(notebookContainer, {childList: true});\n",
       "}}\n",
       "\n",
       "// Listen for the clearing of the current output cell\n",
       "var outputEl = gd.closest('.output');\n",
       "if (outputEl) {{\n",
       "    x.observe(outputEl, {childList: true});\n",
       "}}\n",
       "\n",
       "                        })\n",
       "                };\n",
       "                });\n",
       "            </script>\n",
       "        </div>"
      ]
     },
     "metadata": {},
     "output_type": "display_data"
    }
   ],
   "source": [
    "trace = go.Scatter(\n",
    "    y=rf.feature_importances_,\n",
    "    x=features,\n",
    "    mode='markers',\n",
    "    marker=dict(\n",
    "        sizemode='diameter',\n",
    "        sizeref=1,\n",
    "        size=13,\n",
    "        color=rf.feature_importances_,\n",
    "        colorscale='Portland',\n",
    "        showscale=True),\n",
    "    text=features)\n",
    "\n",
    "data=[trace]\n",
    "\n",
    "layout = go.Layout(\n",
    "    autosize=True,\n",
    "    title='Random Forest Feature Importance',\n",
    "    hovermode = 'closest',\n",
    "    xaxis=dict(\n",
    "        ticklen=5,\n",
    "        showgrid=False,\n",
    "        zeroline=False,\n",
    "        showline=False),\n",
    "    yaxis=dict(\n",
    "        title='Feature Importance',\n",
    "        showgrid=False,\n",
    "        zeroline=False,\n",
    "        ticklen=5,\n",
    "        gridwidth=2),\n",
    "    showlegend=False)\n",
    "fig=go.Figure(data=data, layout=layout)\n",
    "py.iplot(fig, filename='scatter2010')"
   ]
  },
  {
   "cell_type": "code",
   "execution_count": 20,
   "metadata": {},
   "outputs": [
    {
     "data": {
      "application/vnd.plotly.v1+json": {
       "config": {
        "linkText": "Export to plot.ly",
        "plotlyServerURL": "https://plot.ly",
        "showLink": false
       },
       "data": [
        {
         "marker": {
          "color": [
           0.0003743181308508165,
           0.000658587568488969,
           0.0006631273358967262,
           0.0012870902040590282,
           0.0013468714834950239,
           0.001870133874931154,
           0.001989572452739753,
           0.002157913151265299,
           0.002257450267841548,
           0.002396248137555366,
           0.0024558305914006385,
           0.002469687345810993,
           0.0026302488825493274,
           0.0033942424985942323,
           0.003607748989459628,
           0.004198705181889577,
           0.006131305051533334,
           0.006161484578645829,
           0.008128745850432492,
           0.00859806923363534,
           0.00931835490969756,
           0.009404375939580238,
           0.00976021723144253,
           0.010077793671110571,
           0.01014094472565096,
           0.010594230122584794,
           0.011053805247045436,
           0.011555325103106582,
           0.011576231652990453,
           0.011709915331607012,
           0.012009756930235212,
           0.012160372455969666,
           0.013635548698960633,
           0.013920353817181067,
           0.015948843121933284,
           0.016475991648979886,
           0.01686434542269142,
           0.0169000533930654,
           0.01718398425858274,
           0.018552997743760267,
           0.019068010059436213,
           0.019470566624956092,
           0.019871398042689628,
           0.02143813341563879,
           0.02209323746126317,
           0.025542700975322873,
           0.02559893166563769,
           0.026575212817247448,
           0.027730687462900114,
           0.028014375170701815,
           0.031616018789628386,
           0.036219170535060755,
           0.038131333126062074,
           0.056972129046208644,
           0.07169756523163816,
           0.07861381065229754,
           0.12972589668605977
          ],
          "colorscale": [
           [
            0.0,
            "#440154"
           ],
           [
            0.1111111111111111,
            "#482878"
           ],
           [
            0.2222222222222222,
            "#3e4989"
           ],
           [
            0.3333333333333333,
            "#31688e"
           ],
           [
            0.4444444444444444,
            "#26828e"
           ],
           [
            0.5555555555555556,
            "#1f9e89"
           ],
           [
            0.6666666666666666,
            "#35b779"
           ],
           [
            0.7777777777777778,
            "#6ece58"
           ],
           [
            0.8888888888888888,
            "#b5de2b"
           ],
           [
            1.0,
            "#fde725"
           ]
          ],
          "reversescale": true
         },
         "name": "Random Forest Feature importance",
         "orientation": "h",
         "type": "bar",
         "x": [
          0.0003743181308508165,
          0.000658587568488969,
          0.0006631273358967262,
          0.0012870902040590282,
          0.0013468714834950239,
          0.001870133874931154,
          0.001989572452739753,
          0.002157913151265299,
          0.002257450267841548,
          0.002396248137555366,
          0.0024558305914006385,
          0.002469687345810993,
          0.0026302488825493274,
          0.0033942424985942323,
          0.003607748989459628,
          0.004198705181889577,
          0.006131305051533334,
          0.006161484578645829,
          0.008128745850432492,
          0.00859806923363534,
          0.00931835490969756,
          0.009404375939580238,
          0.00976021723144253,
          0.010077793671110571,
          0.01014094472565096,
          0.010594230122584794,
          0.011053805247045436,
          0.011555325103106582,
          0.011576231652990453,
          0.011709915331607012,
          0.012009756930235212,
          0.012160372455969666,
          0.013635548698960633,
          0.013920353817181067,
          0.015948843121933284,
          0.016475991648979886,
          0.01686434542269142,
          0.0169000533930654,
          0.01718398425858274,
          0.018552997743760267,
          0.019068010059436213,
          0.019470566624956092,
          0.019871398042689628,
          0.02143813341563879,
          0.02209323746126317,
          0.025542700975322873,
          0.02559893166563769,
          0.026575212817247448,
          0.027730687462900114,
          0.028014375170701815,
          0.031616018789628386,
          0.036219170535060755,
          0.038131333126062074,
          0.056972129046208644,
          0.07169756523163816,
          0.07861381065229754,
          0.12972589668605977
         ],
         "y": [
          "ps_ind_10_bin",
          "ps_ind_11_bin",
          "ps_ind_13_bin",
          "ps_calc_20_bin",
          "ps_ind_12_bin",
          "ps_calc_15_bin",
          "ps_car_10_cat",
          "ps_ind_18_bin",
          "ps_calc_16_bin",
          "ps_ind_14",
          "ps_calc_18_bin",
          "ps_calc_17_bin",
          "ps_calc_19_bin",
          "ps_car_08_cat",
          "ps_ind_09_bin",
          "ps_ind_08_bin",
          "ps_car_11",
          "ps_car_05_cat",
          "ps_calc_04",
          "ps_calc_06",
          "ps_car_09_cat",
          "ps_car_02_cat",
          "ps_calc_09",
          "ps_calc_12",
          "ps_calc_08",
          "ps_calc_05",
          "ps_ind_02_cat",
          "ps_calc_07",
          "ps_calc_03",
          "ps_calc_13",
          "ps_calc_01",
          "ps_calc_02",
          "ps_car_06_cat",
          "ps_ind_16_bin",
          "ps_calc_11",
          "ps_reg_01",
          "ps_ind_01",
          "ps_car_11_cat",
          "ps_calc_14",
          "ps_car_15",
          "ps_calc_10",
          "ps_ind_04_cat",
          "ps_ind_06_bin",
          "ps_car_03_cat",
          "ps_ind_07_bin",
          "ps_car_01_cat",
          "ps_ind_15",
          "ps_car_12",
          "ps_car_14",
          "ps_car_04_cat",
          "ps_car_07_cat",
          "ps_ind_03",
          "ps_reg_02",
          "ps_ind_17_bin",
          "ps_reg_03",
          "ps_ind_05_cat",
          "ps_car_13"
         ]
        }
       ],
       "layout": {
        "height": 2000,
        "template": {
         "data": {
          "bar": [
           {
            "error_x": {
             "color": "#2a3f5f"
            },
            "error_y": {
             "color": "#2a3f5f"
            },
            "marker": {
             "line": {
              "color": "#E5ECF6",
              "width": 0.5
             }
            },
            "type": "bar"
           }
          ],
          "barpolar": [
           {
            "marker": {
             "line": {
              "color": "#E5ECF6",
              "width": 0.5
             }
            },
            "type": "barpolar"
           }
          ],
          "carpet": [
           {
            "aaxis": {
             "endlinecolor": "#2a3f5f",
             "gridcolor": "white",
             "linecolor": "white",
             "minorgridcolor": "white",
             "startlinecolor": "#2a3f5f"
            },
            "baxis": {
             "endlinecolor": "#2a3f5f",
             "gridcolor": "white",
             "linecolor": "white",
             "minorgridcolor": "white",
             "startlinecolor": "#2a3f5f"
            },
            "type": "carpet"
           }
          ],
          "choropleth": [
           {
            "colorbar": {
             "outlinewidth": 0,
             "ticks": ""
            },
            "type": "choropleth"
           }
          ],
          "contour": [
           {
            "colorbar": {
             "outlinewidth": 0,
             "ticks": ""
            },
            "colorscale": [
             [
              0.0,
              "#0d0887"
             ],
             [
              0.1111111111111111,
              "#46039f"
             ],
             [
              0.2222222222222222,
              "#7201a8"
             ],
             [
              0.3333333333333333,
              "#9c179e"
             ],
             [
              0.4444444444444444,
              "#bd3786"
             ],
             [
              0.5555555555555556,
              "#d8576b"
             ],
             [
              0.6666666666666666,
              "#ed7953"
             ],
             [
              0.7777777777777778,
              "#fb9f3a"
             ],
             [
              0.8888888888888888,
              "#fdca26"
             ],
             [
              1.0,
              "#f0f921"
             ]
            ],
            "type": "contour"
           }
          ],
          "contourcarpet": [
           {
            "colorbar": {
             "outlinewidth": 0,
             "ticks": ""
            },
            "type": "contourcarpet"
           }
          ],
          "heatmap": [
           {
            "colorbar": {
             "outlinewidth": 0,
             "ticks": ""
            },
            "colorscale": [
             [
              0.0,
              "#0d0887"
             ],
             [
              0.1111111111111111,
              "#46039f"
             ],
             [
              0.2222222222222222,
              "#7201a8"
             ],
             [
              0.3333333333333333,
              "#9c179e"
             ],
             [
              0.4444444444444444,
              "#bd3786"
             ],
             [
              0.5555555555555556,
              "#d8576b"
             ],
             [
              0.6666666666666666,
              "#ed7953"
             ],
             [
              0.7777777777777778,
              "#fb9f3a"
             ],
             [
              0.8888888888888888,
              "#fdca26"
             ],
             [
              1.0,
              "#f0f921"
             ]
            ],
            "type": "heatmap"
           }
          ],
          "heatmapgl": [
           {
            "colorbar": {
             "outlinewidth": 0,
             "ticks": ""
            },
            "colorscale": [
             [
              0.0,
              "#0d0887"
             ],
             [
              0.1111111111111111,
              "#46039f"
             ],
             [
              0.2222222222222222,
              "#7201a8"
             ],
             [
              0.3333333333333333,
              "#9c179e"
             ],
             [
              0.4444444444444444,
              "#bd3786"
             ],
             [
              0.5555555555555556,
              "#d8576b"
             ],
             [
              0.6666666666666666,
              "#ed7953"
             ],
             [
              0.7777777777777778,
              "#fb9f3a"
             ],
             [
              0.8888888888888888,
              "#fdca26"
             ],
             [
              1.0,
              "#f0f921"
             ]
            ],
            "type": "heatmapgl"
           }
          ],
          "histogram": [
           {
            "marker": {
             "colorbar": {
              "outlinewidth": 0,
              "ticks": ""
             }
            },
            "type": "histogram"
           }
          ],
          "histogram2d": [
           {
            "colorbar": {
             "outlinewidth": 0,
             "ticks": ""
            },
            "colorscale": [
             [
              0.0,
              "#0d0887"
             ],
             [
              0.1111111111111111,
              "#46039f"
             ],
             [
              0.2222222222222222,
              "#7201a8"
             ],
             [
              0.3333333333333333,
              "#9c179e"
             ],
             [
              0.4444444444444444,
              "#bd3786"
             ],
             [
              0.5555555555555556,
              "#d8576b"
             ],
             [
              0.6666666666666666,
              "#ed7953"
             ],
             [
              0.7777777777777778,
              "#fb9f3a"
             ],
             [
              0.8888888888888888,
              "#fdca26"
             ],
             [
              1.0,
              "#f0f921"
             ]
            ],
            "type": "histogram2d"
           }
          ],
          "histogram2dcontour": [
           {
            "colorbar": {
             "outlinewidth": 0,
             "ticks": ""
            },
            "colorscale": [
             [
              0.0,
              "#0d0887"
             ],
             [
              0.1111111111111111,
              "#46039f"
             ],
             [
              0.2222222222222222,
              "#7201a8"
             ],
             [
              0.3333333333333333,
              "#9c179e"
             ],
             [
              0.4444444444444444,
              "#bd3786"
             ],
             [
              0.5555555555555556,
              "#d8576b"
             ],
             [
              0.6666666666666666,
              "#ed7953"
             ],
             [
              0.7777777777777778,
              "#fb9f3a"
             ],
             [
              0.8888888888888888,
              "#fdca26"
             ],
             [
              1.0,
              "#f0f921"
             ]
            ],
            "type": "histogram2dcontour"
           }
          ],
          "mesh3d": [
           {
            "colorbar": {
             "outlinewidth": 0,
             "ticks": ""
            },
            "type": "mesh3d"
           }
          ],
          "parcoords": [
           {
            "line": {
             "colorbar": {
              "outlinewidth": 0,
              "ticks": ""
             }
            },
            "type": "parcoords"
           }
          ],
          "pie": [
           {
            "automargin": true,
            "type": "pie"
           }
          ],
          "scatter": [
           {
            "marker": {
             "colorbar": {
              "outlinewidth": 0,
              "ticks": ""
             }
            },
            "type": "scatter"
           }
          ],
          "scatter3d": [
           {
            "line": {
             "colorbar": {
              "outlinewidth": 0,
              "ticks": ""
             }
            },
            "marker": {
             "colorbar": {
              "outlinewidth": 0,
              "ticks": ""
             }
            },
            "type": "scatter3d"
           }
          ],
          "scattercarpet": [
           {
            "marker": {
             "colorbar": {
              "outlinewidth": 0,
              "ticks": ""
             }
            },
            "type": "scattercarpet"
           }
          ],
          "scattergeo": [
           {
            "marker": {
             "colorbar": {
              "outlinewidth": 0,
              "ticks": ""
             }
            },
            "type": "scattergeo"
           }
          ],
          "scattergl": [
           {
            "marker": {
             "colorbar": {
              "outlinewidth": 0,
              "ticks": ""
             }
            },
            "type": "scattergl"
           }
          ],
          "scattermapbox": [
           {
            "marker": {
             "colorbar": {
              "outlinewidth": 0,
              "ticks": ""
             }
            },
            "type": "scattermapbox"
           }
          ],
          "scatterpolar": [
           {
            "marker": {
             "colorbar": {
              "outlinewidth": 0,
              "ticks": ""
             }
            },
            "type": "scatterpolar"
           }
          ],
          "scatterpolargl": [
           {
            "marker": {
             "colorbar": {
              "outlinewidth": 0,
              "ticks": ""
             }
            },
            "type": "scatterpolargl"
           }
          ],
          "scatterternary": [
           {
            "marker": {
             "colorbar": {
              "outlinewidth": 0,
              "ticks": ""
             }
            },
            "type": "scatterternary"
           }
          ],
          "surface": [
           {
            "colorbar": {
             "outlinewidth": 0,
             "ticks": ""
            },
            "colorscale": [
             [
              0.0,
              "#0d0887"
             ],
             [
              0.1111111111111111,
              "#46039f"
             ],
             [
              0.2222222222222222,
              "#7201a8"
             ],
             [
              0.3333333333333333,
              "#9c179e"
             ],
             [
              0.4444444444444444,
              "#bd3786"
             ],
             [
              0.5555555555555556,
              "#d8576b"
             ],
             [
              0.6666666666666666,
              "#ed7953"
             ],
             [
              0.7777777777777778,
              "#fb9f3a"
             ],
             [
              0.8888888888888888,
              "#fdca26"
             ],
             [
              1.0,
              "#f0f921"
             ]
            ],
            "type": "surface"
           }
          ],
          "table": [
           {
            "cells": {
             "fill": {
              "color": "#EBF0F8"
             },
             "line": {
              "color": "white"
             }
            },
            "header": {
             "fill": {
              "color": "#C8D4E3"
             },
             "line": {
              "color": "white"
             }
            },
            "type": "table"
           }
          ]
         },
         "layout": {
          "annotationdefaults": {
           "arrowcolor": "#2a3f5f",
           "arrowhead": 0,
           "arrowwidth": 1
          },
          "coloraxis": {
           "colorbar": {
            "outlinewidth": 0,
            "ticks": ""
           }
          },
          "colorscale": {
           "diverging": [
            [
             0,
             "#8e0152"
            ],
            [
             0.1,
             "#c51b7d"
            ],
            [
             0.2,
             "#de77ae"
            ],
            [
             0.3,
             "#f1b6da"
            ],
            [
             0.4,
             "#fde0ef"
            ],
            [
             0.5,
             "#f7f7f7"
            ],
            [
             0.6,
             "#e6f5d0"
            ],
            [
             0.7,
             "#b8e186"
            ],
            [
             0.8,
             "#7fbc41"
            ],
            [
             0.9,
             "#4d9221"
            ],
            [
             1,
             "#276419"
            ]
           ],
           "sequential": [
            [
             0.0,
             "#0d0887"
            ],
            [
             0.1111111111111111,
             "#46039f"
            ],
            [
             0.2222222222222222,
             "#7201a8"
            ],
            [
             0.3333333333333333,
             "#9c179e"
            ],
            [
             0.4444444444444444,
             "#bd3786"
            ],
            [
             0.5555555555555556,
             "#d8576b"
            ],
            [
             0.6666666666666666,
             "#ed7953"
            ],
            [
             0.7777777777777778,
             "#fb9f3a"
            ],
            [
             0.8888888888888888,
             "#fdca26"
            ],
            [
             1.0,
             "#f0f921"
            ]
           ],
           "sequentialminus": [
            [
             0.0,
             "#0d0887"
            ],
            [
             0.1111111111111111,
             "#46039f"
            ],
            [
             0.2222222222222222,
             "#7201a8"
            ],
            [
             0.3333333333333333,
             "#9c179e"
            ],
            [
             0.4444444444444444,
             "#bd3786"
            ],
            [
             0.5555555555555556,
             "#d8576b"
            ],
            [
             0.6666666666666666,
             "#ed7953"
            ],
            [
             0.7777777777777778,
             "#fb9f3a"
            ],
            [
             0.8888888888888888,
             "#fdca26"
            ],
            [
             1.0,
             "#f0f921"
            ]
           ]
          },
          "colorway": [
           "#636efa",
           "#EF553B",
           "#00cc96",
           "#ab63fa",
           "#FFA15A",
           "#19d3f3",
           "#FF6692",
           "#B6E880",
           "#FF97FF",
           "#FECB52"
          ],
          "font": {
           "color": "#2a3f5f"
          },
          "geo": {
           "bgcolor": "white",
           "lakecolor": "white",
           "landcolor": "#E5ECF6",
           "showlakes": true,
           "showland": true,
           "subunitcolor": "white"
          },
          "hoverlabel": {
           "align": "left"
          },
          "hovermode": "closest",
          "mapbox": {
           "style": "light"
          },
          "paper_bgcolor": "white",
          "plot_bgcolor": "#E5ECF6",
          "polar": {
           "angularaxis": {
            "gridcolor": "white",
            "linecolor": "white",
            "ticks": ""
           },
           "bgcolor": "#E5ECF6",
           "radialaxis": {
            "gridcolor": "white",
            "linecolor": "white",
            "ticks": ""
           }
          },
          "scene": {
           "xaxis": {
            "backgroundcolor": "#E5ECF6",
            "gridcolor": "white",
            "gridwidth": 2,
            "linecolor": "white",
            "showbackground": true,
            "ticks": "",
            "zerolinecolor": "white"
           },
           "yaxis": {
            "backgroundcolor": "#E5ECF6",
            "gridcolor": "white",
            "gridwidth": 2,
            "linecolor": "white",
            "showbackground": true,
            "ticks": "",
            "zerolinecolor": "white"
           },
           "zaxis": {
            "backgroundcolor": "#E5ECF6",
            "gridcolor": "white",
            "gridwidth": 2,
            "linecolor": "white",
            "showbackground": true,
            "ticks": "",
            "zerolinecolor": "white"
           }
          },
          "shapedefaults": {
           "line": {
            "color": "#2a3f5f"
           }
          },
          "ternary": {
           "aaxis": {
            "gridcolor": "white",
            "linecolor": "white",
            "ticks": ""
           },
           "baxis": {
            "gridcolor": "white",
            "linecolor": "white",
            "ticks": ""
           },
           "bgcolor": "#E5ECF6",
           "caxis": {
            "gridcolor": "white",
            "linecolor": "white",
            "ticks": ""
           }
          },
          "title": {
           "x": 0.05
          },
          "xaxis": {
           "automargin": true,
           "gridcolor": "white",
           "linecolor": "white",
           "ticks": "",
           "title": {
            "standoff": 15
           },
           "zerolinecolor": "white",
           "zerolinewidth": 2
          },
          "yaxis": {
           "automargin": true,
           "gridcolor": "white",
           "linecolor": "white",
           "ticks": "",
           "title": {
            "standoff": 15
           },
           "zerolinecolor": "white",
           "zerolinewidth": 2
          }
         }
        },
        "title": {
         "text": "Barplot of Feature importances"
        },
        "width": 900,
        "yaxis": {
         "showgrid": false,
         "showline": false,
         "showticklabels": true
        }
       }
      },
      "text/html": [
       "<div>\n",
       "        \n",
       "        \n",
       "            <div id=\"631b8ea1-ff95-4e3c-96e8-88ac530bdc62\" class=\"plotly-graph-div\" style=\"height:2000px; width:900px;\"></div>\n",
       "            <script type=\"text/javascript\">\n",
       "                require([\"plotly\"], function(Plotly) {\n",
       "                    window.PLOTLYENV=window.PLOTLYENV || {};\n",
       "                    \n",
       "                if (document.getElementById(\"631b8ea1-ff95-4e3c-96e8-88ac530bdc62\")) {\n",
       "                    Plotly.newPlot(\n",
       "                        '631b8ea1-ff95-4e3c-96e8-88ac530bdc62',\n",
       "                        [{\"marker\": {\"color\": [0.0003743181308508165, 0.000658587568488969, 0.0006631273358967262, 0.0012870902040590282, 0.0013468714834950239, 0.001870133874931154, 0.001989572452739753, 0.002157913151265299, 0.002257450267841548, 0.002396248137555366, 0.0024558305914006385, 0.002469687345810993, 0.0026302488825493274, 0.0033942424985942323, 0.003607748989459628, 0.004198705181889577, 0.006131305051533334, 0.006161484578645829, 0.008128745850432492, 0.00859806923363534, 0.00931835490969756, 0.009404375939580238, 0.00976021723144253, 0.010077793671110571, 0.01014094472565096, 0.010594230122584794, 0.011053805247045436, 0.011555325103106582, 0.011576231652990453, 0.011709915331607012, 0.012009756930235212, 0.012160372455969666, 0.013635548698960633, 0.013920353817181067, 0.015948843121933284, 0.016475991648979886, 0.01686434542269142, 0.0169000533930654, 0.01718398425858274, 0.018552997743760267, 0.019068010059436213, 0.019470566624956092, 0.019871398042689628, 0.02143813341563879, 0.02209323746126317, 0.025542700975322873, 0.02559893166563769, 0.026575212817247448, 0.027730687462900114, 0.028014375170701815, 0.031616018789628386, 0.036219170535060755, 0.038131333126062074, 0.056972129046208644, 0.07169756523163816, 0.07861381065229754, 0.12972589668605977], \"colorscale\": [[0.0, \"#440154\"], [0.1111111111111111, \"#482878\"], [0.2222222222222222, \"#3e4989\"], [0.3333333333333333, \"#31688e\"], [0.4444444444444444, \"#26828e\"], [0.5555555555555556, \"#1f9e89\"], [0.6666666666666666, \"#35b779\"], [0.7777777777777778, \"#6ece58\"], [0.8888888888888888, \"#b5de2b\"], [1.0, \"#fde725\"]], \"reversescale\": true}, \"name\": \"Random Forest Feature importance\", \"orientation\": \"h\", \"type\": \"bar\", \"x\": [0.0003743181308508165, 0.000658587568488969, 0.0006631273358967262, 0.0012870902040590282, 0.0013468714834950239, 0.001870133874931154, 0.001989572452739753, 0.002157913151265299, 0.002257450267841548, 0.002396248137555366, 0.0024558305914006385, 0.002469687345810993, 0.0026302488825493274, 0.0033942424985942323, 0.003607748989459628, 0.004198705181889577, 0.006131305051533334, 0.006161484578645829, 0.008128745850432492, 0.00859806923363534, 0.00931835490969756, 0.009404375939580238, 0.00976021723144253, 0.010077793671110571, 0.01014094472565096, 0.010594230122584794, 0.011053805247045436, 0.011555325103106582, 0.011576231652990453, 0.011709915331607012, 0.012009756930235212, 0.012160372455969666, 0.013635548698960633, 0.013920353817181067, 0.015948843121933284, 0.016475991648979886, 0.01686434542269142, 0.0169000533930654, 0.01718398425858274, 0.018552997743760267, 0.019068010059436213, 0.019470566624956092, 0.019871398042689628, 0.02143813341563879, 0.02209323746126317, 0.025542700975322873, 0.02559893166563769, 0.026575212817247448, 0.027730687462900114, 0.028014375170701815, 0.031616018789628386, 0.036219170535060755, 0.038131333126062074, 0.056972129046208644, 0.07169756523163816, 0.07861381065229754, 0.12972589668605977], \"y\": [\"ps_ind_10_bin\", \"ps_ind_11_bin\", \"ps_ind_13_bin\", \"ps_calc_20_bin\", \"ps_ind_12_bin\", \"ps_calc_15_bin\", \"ps_car_10_cat\", \"ps_ind_18_bin\", \"ps_calc_16_bin\", \"ps_ind_14\", \"ps_calc_18_bin\", \"ps_calc_17_bin\", \"ps_calc_19_bin\", \"ps_car_08_cat\", \"ps_ind_09_bin\", \"ps_ind_08_bin\", \"ps_car_11\", \"ps_car_05_cat\", \"ps_calc_04\", \"ps_calc_06\", \"ps_car_09_cat\", \"ps_car_02_cat\", \"ps_calc_09\", \"ps_calc_12\", \"ps_calc_08\", \"ps_calc_05\", \"ps_ind_02_cat\", \"ps_calc_07\", \"ps_calc_03\", \"ps_calc_13\", \"ps_calc_01\", \"ps_calc_02\", \"ps_car_06_cat\", \"ps_ind_16_bin\", \"ps_calc_11\", \"ps_reg_01\", \"ps_ind_01\", \"ps_car_11_cat\", \"ps_calc_14\", \"ps_car_15\", \"ps_calc_10\", \"ps_ind_04_cat\", \"ps_ind_06_bin\", \"ps_car_03_cat\", \"ps_ind_07_bin\", \"ps_car_01_cat\", \"ps_ind_15\", \"ps_car_12\", \"ps_car_14\", \"ps_car_04_cat\", \"ps_car_07_cat\", \"ps_ind_03\", \"ps_reg_02\", \"ps_ind_17_bin\", \"ps_reg_03\", \"ps_ind_05_cat\", \"ps_car_13\"]}],\n",
       "                        {\"height\": 2000, \"template\": {\"data\": {\"bar\": [{\"error_x\": {\"color\": \"#2a3f5f\"}, \"error_y\": {\"color\": \"#2a3f5f\"}, \"marker\": {\"line\": {\"color\": \"#E5ECF6\", \"width\": 0.5}}, \"type\": \"bar\"}], \"barpolar\": [{\"marker\": {\"line\": {\"color\": \"#E5ECF6\", \"width\": 0.5}}, \"type\": \"barpolar\"}], \"carpet\": [{\"aaxis\": {\"endlinecolor\": \"#2a3f5f\", \"gridcolor\": \"white\", \"linecolor\": \"white\", \"minorgridcolor\": \"white\", \"startlinecolor\": \"#2a3f5f\"}, \"baxis\": {\"endlinecolor\": \"#2a3f5f\", \"gridcolor\": \"white\", \"linecolor\": \"white\", \"minorgridcolor\": \"white\", \"startlinecolor\": \"#2a3f5f\"}, \"type\": \"carpet\"}], \"choropleth\": [{\"colorbar\": {\"outlinewidth\": 0, \"ticks\": \"\"}, \"type\": \"choropleth\"}], \"contour\": [{\"colorbar\": {\"outlinewidth\": 0, \"ticks\": \"\"}, \"colorscale\": [[0.0, \"#0d0887\"], [0.1111111111111111, \"#46039f\"], [0.2222222222222222, \"#7201a8\"], [0.3333333333333333, \"#9c179e\"], [0.4444444444444444, \"#bd3786\"], [0.5555555555555556, \"#d8576b\"], [0.6666666666666666, \"#ed7953\"], [0.7777777777777778, \"#fb9f3a\"], [0.8888888888888888, \"#fdca26\"], [1.0, \"#f0f921\"]], \"type\": \"contour\"}], \"contourcarpet\": [{\"colorbar\": {\"outlinewidth\": 0, \"ticks\": \"\"}, \"type\": \"contourcarpet\"}], \"heatmap\": [{\"colorbar\": {\"outlinewidth\": 0, \"ticks\": \"\"}, \"colorscale\": [[0.0, \"#0d0887\"], [0.1111111111111111, \"#46039f\"], [0.2222222222222222, \"#7201a8\"], [0.3333333333333333, \"#9c179e\"], [0.4444444444444444, \"#bd3786\"], [0.5555555555555556, \"#d8576b\"], [0.6666666666666666, \"#ed7953\"], [0.7777777777777778, \"#fb9f3a\"], [0.8888888888888888, \"#fdca26\"], [1.0, \"#f0f921\"]], \"type\": \"heatmap\"}], \"heatmapgl\": [{\"colorbar\": {\"outlinewidth\": 0, \"ticks\": \"\"}, \"colorscale\": [[0.0, \"#0d0887\"], [0.1111111111111111, \"#46039f\"], [0.2222222222222222, \"#7201a8\"], [0.3333333333333333, \"#9c179e\"], [0.4444444444444444, \"#bd3786\"], [0.5555555555555556, \"#d8576b\"], [0.6666666666666666, \"#ed7953\"], [0.7777777777777778, \"#fb9f3a\"], [0.8888888888888888, \"#fdca26\"], [1.0, \"#f0f921\"]], \"type\": \"heatmapgl\"}], \"histogram\": [{\"marker\": {\"colorbar\": {\"outlinewidth\": 0, \"ticks\": \"\"}}, \"type\": \"histogram\"}], \"histogram2d\": [{\"colorbar\": {\"outlinewidth\": 0, \"ticks\": \"\"}, \"colorscale\": [[0.0, \"#0d0887\"], [0.1111111111111111, \"#46039f\"], [0.2222222222222222, \"#7201a8\"], [0.3333333333333333, \"#9c179e\"], [0.4444444444444444, \"#bd3786\"], [0.5555555555555556, \"#d8576b\"], [0.6666666666666666, \"#ed7953\"], [0.7777777777777778, \"#fb9f3a\"], [0.8888888888888888, \"#fdca26\"], [1.0, \"#f0f921\"]], \"type\": \"histogram2d\"}], \"histogram2dcontour\": [{\"colorbar\": {\"outlinewidth\": 0, \"ticks\": \"\"}, \"colorscale\": [[0.0, \"#0d0887\"], [0.1111111111111111, \"#46039f\"], [0.2222222222222222, \"#7201a8\"], [0.3333333333333333, \"#9c179e\"], [0.4444444444444444, \"#bd3786\"], [0.5555555555555556, \"#d8576b\"], [0.6666666666666666, \"#ed7953\"], [0.7777777777777778, \"#fb9f3a\"], [0.8888888888888888, \"#fdca26\"], [1.0, \"#f0f921\"]], \"type\": \"histogram2dcontour\"}], \"mesh3d\": [{\"colorbar\": {\"outlinewidth\": 0, \"ticks\": \"\"}, \"type\": \"mesh3d\"}], \"parcoords\": [{\"line\": {\"colorbar\": {\"outlinewidth\": 0, \"ticks\": \"\"}}, \"type\": \"parcoords\"}], \"pie\": [{\"automargin\": true, \"type\": \"pie\"}], \"scatter\": [{\"marker\": {\"colorbar\": {\"outlinewidth\": 0, \"ticks\": \"\"}}, \"type\": \"scatter\"}], \"scatter3d\": [{\"line\": {\"colorbar\": {\"outlinewidth\": 0, \"ticks\": \"\"}}, \"marker\": {\"colorbar\": {\"outlinewidth\": 0, \"ticks\": \"\"}}, \"type\": \"scatter3d\"}], \"scattercarpet\": [{\"marker\": {\"colorbar\": {\"outlinewidth\": 0, \"ticks\": \"\"}}, \"type\": \"scattercarpet\"}], \"scattergeo\": [{\"marker\": {\"colorbar\": {\"outlinewidth\": 0, \"ticks\": \"\"}}, \"type\": \"scattergeo\"}], \"scattergl\": [{\"marker\": {\"colorbar\": {\"outlinewidth\": 0, \"ticks\": \"\"}}, \"type\": \"scattergl\"}], \"scattermapbox\": [{\"marker\": {\"colorbar\": {\"outlinewidth\": 0, \"ticks\": \"\"}}, \"type\": \"scattermapbox\"}], \"scatterpolar\": [{\"marker\": {\"colorbar\": {\"outlinewidth\": 0, \"ticks\": \"\"}}, \"type\": \"scatterpolar\"}], \"scatterpolargl\": [{\"marker\": {\"colorbar\": {\"outlinewidth\": 0, \"ticks\": \"\"}}, \"type\": \"scatterpolargl\"}], \"scatterternary\": [{\"marker\": {\"colorbar\": {\"outlinewidth\": 0, \"ticks\": \"\"}}, \"type\": \"scatterternary\"}], \"surface\": [{\"colorbar\": {\"outlinewidth\": 0, \"ticks\": \"\"}, \"colorscale\": [[0.0, \"#0d0887\"], [0.1111111111111111, \"#46039f\"], [0.2222222222222222, \"#7201a8\"], [0.3333333333333333, \"#9c179e\"], [0.4444444444444444, \"#bd3786\"], [0.5555555555555556, \"#d8576b\"], [0.6666666666666666, \"#ed7953\"], [0.7777777777777778, \"#fb9f3a\"], [0.8888888888888888, \"#fdca26\"], [1.0, \"#f0f921\"]], \"type\": \"surface\"}], \"table\": [{\"cells\": {\"fill\": {\"color\": \"#EBF0F8\"}, \"line\": {\"color\": \"white\"}}, \"header\": {\"fill\": {\"color\": \"#C8D4E3\"}, \"line\": {\"color\": \"white\"}}, \"type\": \"table\"}]}, \"layout\": {\"annotationdefaults\": {\"arrowcolor\": \"#2a3f5f\", \"arrowhead\": 0, \"arrowwidth\": 1}, \"coloraxis\": {\"colorbar\": {\"outlinewidth\": 0, \"ticks\": \"\"}}, \"colorscale\": {\"diverging\": [[0, \"#8e0152\"], [0.1, \"#c51b7d\"], [0.2, \"#de77ae\"], [0.3, \"#f1b6da\"], [0.4, \"#fde0ef\"], [0.5, \"#f7f7f7\"], [0.6, \"#e6f5d0\"], [0.7, \"#b8e186\"], [0.8, \"#7fbc41\"], [0.9, \"#4d9221\"], [1, \"#276419\"]], \"sequential\": [[0.0, \"#0d0887\"], [0.1111111111111111, \"#46039f\"], [0.2222222222222222, \"#7201a8\"], [0.3333333333333333, \"#9c179e\"], [0.4444444444444444, \"#bd3786\"], [0.5555555555555556, \"#d8576b\"], [0.6666666666666666, \"#ed7953\"], [0.7777777777777778, \"#fb9f3a\"], [0.8888888888888888, \"#fdca26\"], [1.0, \"#f0f921\"]], \"sequentialminus\": [[0.0, \"#0d0887\"], [0.1111111111111111, \"#46039f\"], [0.2222222222222222, \"#7201a8\"], [0.3333333333333333, \"#9c179e\"], [0.4444444444444444, \"#bd3786\"], [0.5555555555555556, \"#d8576b\"], [0.6666666666666666, \"#ed7953\"], [0.7777777777777778, \"#fb9f3a\"], [0.8888888888888888, \"#fdca26\"], [1.0, \"#f0f921\"]]}, \"colorway\": [\"#636efa\", \"#EF553B\", \"#00cc96\", \"#ab63fa\", \"#FFA15A\", \"#19d3f3\", \"#FF6692\", \"#B6E880\", \"#FF97FF\", \"#FECB52\"], \"font\": {\"color\": \"#2a3f5f\"}, \"geo\": {\"bgcolor\": \"white\", \"lakecolor\": \"white\", \"landcolor\": \"#E5ECF6\", \"showlakes\": true, \"showland\": true, \"subunitcolor\": \"white\"}, \"hoverlabel\": {\"align\": \"left\"}, \"hovermode\": \"closest\", \"mapbox\": {\"style\": \"light\"}, \"paper_bgcolor\": \"white\", \"plot_bgcolor\": \"#E5ECF6\", \"polar\": {\"angularaxis\": {\"gridcolor\": \"white\", \"linecolor\": \"white\", \"ticks\": \"\"}, \"bgcolor\": \"#E5ECF6\", \"radialaxis\": {\"gridcolor\": \"white\", \"linecolor\": \"white\", \"ticks\": \"\"}}, \"scene\": {\"xaxis\": {\"backgroundcolor\": \"#E5ECF6\", \"gridcolor\": \"white\", \"gridwidth\": 2, \"linecolor\": \"white\", \"showbackground\": true, \"ticks\": \"\", \"zerolinecolor\": \"white\"}, \"yaxis\": {\"backgroundcolor\": \"#E5ECF6\", \"gridcolor\": \"white\", \"gridwidth\": 2, \"linecolor\": \"white\", \"showbackground\": true, \"ticks\": \"\", \"zerolinecolor\": \"white\"}, \"zaxis\": {\"backgroundcolor\": \"#E5ECF6\", \"gridcolor\": \"white\", \"gridwidth\": 2, \"linecolor\": \"white\", \"showbackground\": true, \"ticks\": \"\", \"zerolinecolor\": \"white\"}}, \"shapedefaults\": {\"line\": {\"color\": \"#2a3f5f\"}}, \"ternary\": {\"aaxis\": {\"gridcolor\": \"white\", \"linecolor\": \"white\", \"ticks\": \"\"}, \"baxis\": {\"gridcolor\": \"white\", \"linecolor\": \"white\", \"ticks\": \"\"}, \"bgcolor\": \"#E5ECF6\", \"caxis\": {\"gridcolor\": \"white\", \"linecolor\": \"white\", \"ticks\": \"\"}}, \"title\": {\"x\": 0.05}, \"xaxis\": {\"automargin\": true, \"gridcolor\": \"white\", \"linecolor\": \"white\", \"ticks\": \"\", \"title\": {\"standoff\": 15}, \"zerolinecolor\": \"white\", \"zerolinewidth\": 2}, \"yaxis\": {\"automargin\": true, \"gridcolor\": \"white\", \"linecolor\": \"white\", \"ticks\": \"\", \"title\": {\"standoff\": 15}, \"zerolinecolor\": \"white\", \"zerolinewidth\": 2}}}, \"title\": {\"text\": \"Barplot of Feature importances\"}, \"width\": 900, \"yaxis\": {\"showgrid\": false, \"showline\": false, \"showticklabels\": true}},\n",
       "                        {\"responsive\": true}\n",
       "                    ).then(function(){\n",
       "                            \n",
       "var gd = document.getElementById('631b8ea1-ff95-4e3c-96e8-88ac530bdc62');\n",
       "var x = new MutationObserver(function (mutations, observer) {{\n",
       "        var display = window.getComputedStyle(gd).display;\n",
       "        if (!display || display === 'none') {{\n",
       "            console.log([gd, 'removed!']);\n",
       "            Plotly.purge(gd);\n",
       "            observer.disconnect();\n",
       "        }}\n",
       "}});\n",
       "\n",
       "// Listen for the removal of the full notebook cells\n",
       "var notebookContainer = gd.closest('#notebook-container');\n",
       "if (notebookContainer) {{\n",
       "    x.observe(notebookContainer, {childList: true});\n",
       "}}\n",
       "\n",
       "// Listen for the clearing of the current output cell\n",
       "var outputEl = gd.closest('.output');\n",
       "if (outputEl) {{\n",
       "    x.observe(outputEl, {childList: true});\n",
       "}}\n",
       "\n",
       "                        })\n",
       "                };\n",
       "                });\n",
       "            </script>\n",
       "        </div>"
      ]
     },
     "metadata": {},
     "output_type": "display_data"
    }
   ],
   "source": [
    "x, y = (list(x) for x in zip(*sorted(zip(rf.feature_importances_, features), \n",
    "                                                            reverse = False)))\n",
    "trace2 = go.Bar(\n",
    "    x=x ,\n",
    "    y=y,\n",
    "    marker=dict(\n",
    "        color=x,\n",
    "        colorscale = 'Viridis',\n",
    "        reversescale = True\n",
    "    ),\n",
    "    name='Random Forest Feature importance',\n",
    "    orientation='h',\n",
    ")\n",
    "\n",
    "layout = dict(\n",
    "    title='Barplot of Feature importances',\n",
    "     width = 900, height = 2000,\n",
    "    yaxis=dict(\n",
    "        showgrid=False,\n",
    "        showline=False,\n",
    "        showticklabels=True,\n",
    "#         domain=[0, 0.85],\n",
    "    ))\n",
    "\n",
    "fig1 = go.Figure(data=[trace2])\n",
    "fig1['layout'].update(layout)\n",
    "py.iplot(fig1, filename='plots')"
   ]
  },
  {
   "cell_type": "code",
   "execution_count": 21,
   "metadata": {},
   "outputs": [
    {
     "ename": "ModuleNotFoundError",
     "evalue": "No module named 'Ipython'",
     "output_type": "error",
     "traceback": [
      "\u001b[0;31m---------------------------------------------------------------------------\u001b[0m",
      "\u001b[0;31mModuleNotFoundError\u001b[0m                       Traceback (most recent call last)",
      "\u001b[0;32m<ipython-input-21-4e29debfa747>\u001b[0m in \u001b[0;36m<module>\u001b[0;34m\u001b[0m\n\u001b[1;32m      1\u001b[0m \u001b[0;32mfrom\u001b[0m \u001b[0msklearn\u001b[0m \u001b[0;32mimport\u001b[0m \u001b[0mtree\u001b[0m\u001b[0;34m\u001b[0m\u001b[0m\n\u001b[0;32m----> 2\u001b[0;31m \u001b[0;32mfrom\u001b[0m \u001b[0mIpython\u001b[0m\u001b[0;34m.\u001b[0m\u001b[0mdisplay\u001b[0m \u001b[0;32mimport\u001b[0m \u001b[0mImage\u001b[0m \u001b[0;32mas\u001b[0m \u001b[0mPImage\u001b[0m\u001b[0;34m\u001b[0m\u001b[0m\n\u001b[0m\u001b[1;32m      3\u001b[0m \u001b[0;32mfrom\u001b[0m \u001b[0msubporcess\u001b[0m \u001b[0;32mimport\u001b[0m \u001b[0mcheck_call\u001b[0m\u001b[0;34m\u001b[0m\u001b[0m\n\u001b[1;32m      4\u001b[0m \u001b[0;32mfrom\u001b[0m \u001b[0mPIL\u001b[0m \u001b[0;32mimport\u001b[0m \u001b[0mImage\u001b[0m\u001b[0;34m,\u001b[0m \u001b[0mImageDraw\u001b[0m\u001b[0;34m,\u001b[0m \u001b[0mImageFont\u001b[0m\u001b[0;34m\u001b[0m\u001b[0m\n\u001b[1;32m      5\u001b[0m \u001b[0;32mimport\u001b[0m \u001b[0mre\u001b[0m\u001b[0;34m\u001b[0m\u001b[0m\n",
      "\u001b[0;31mModuleNotFoundError\u001b[0m: No module named 'Ipython'"
     ]
    }
   ],
   "source": [
    "from sklearn import tree\n",
    "from Ipython.display import Image as PImage\n",
    "from subporcess import check_call\n",
    "from PIL import Image, ImageDraw, ImageFont\n",
    "import re\n",
    "\n",
    "decision_tree = tree.DecisionTreeClassifier(max_depth = 3)\n",
    "decision_tree.fit(train.drop(['id', 'target'], axis=1), train.target)\n",
    "\n",
    "with open(\"tree1.dot\", 'w') as f:\n",
    "        f = tree.export_graphviz(decision_tree,\n",
    "                                 out_file=f,\n",
    "                                 max_depth=4,\n",
    "                                 impurity=False,\n",
    "                                 feature_names=train.drop(['id', 'target'], axis=1).columns.values,\n",
    "                                 class_names=['No', 'Yes'],\n",
    "                                 rounded=True,\n",
    "                                 filled=True)\n",
    "        \n",
    "check_call(['dot', '-Tpng', 'tree1.dot', '-o', 'tree1.png'])\n",
    "\n",
    "img = Image.open(\"tree1.png\")\n",
    "draw = ImageDraw.Draw(img)\n",
    "img.save('sample-out.png')\n",
    "PImanage(\"sample-out.png\",)"
   ]
  },
  {
   "cell_type": "code",
   "execution_count": 22,
   "metadata": {},
   "outputs": [
    {
     "name": "stdout",
     "output_type": "stream",
     "text": [
      "----- Training Done -----\n"
     ]
    }
   ],
   "source": [
    "from sklearn.ensemble import GradientBoostingClassifier\n",
    "gb = GradientBoostingClassifier(n_estimators=100, max_depth=3, min_samples_leaf=4, max_features=0.2, random_state=0)\n",
    "gb.fit(train.drop(['id', 'target'],axis=1), train.target)\n",
    "features = train.drop(['id', 'target'],axis=1).columns.values\n",
    "print(\"----- Training Done -----\")"
   ]
  },
  {
   "cell_type": "code",
   "execution_count": 23,
   "metadata": {},
   "outputs": [
    {
     "data": {
      "application/vnd.plotly.v1+json": {
       "config": {
        "linkText": "Export to plot.ly",
        "plotlyServerURL": "https://plot.ly",
        "showLink": false
       },
       "data": [
        {
         "marker": {
          "color": [
           0.01894279918997209,
           0.011492630889899495,
           0.08412006019644626,
           0.028183264407558174,
           0.10950125606193988,
           0.030900863764452644,
           0.04377810614289992,
           0.009773282285033578,
           0.0037264924582135,
           0.0,
           0.0003235177277046906,
           0.0004158197093611648,
           0.0,
           0.0019647053728029805,
           0.034674344390072366,
           0.014794297800166983,
           0.09752492931017576,
           0.0014496142448738242,
           0.01543754116748263,
           0.02437241648700609,
           0.08109077353454619,
           0.02654031099201767,
           0.008584258166762839,
           0.04030089230958374,
           0.041795313036401355,
           0.0008965365535279337,
           0.0065653224216813,
           0.06202171413603907,
           0.0012708234367790757,
           0.004174057835046524,
           0.0,
           0.004576751074031917,
           0.005278045277053339,
           0.012609145090832267,
           0.13478741361671298,
           0.00948392967176426,
           0.01537420156043186,
           0.0002860484011805191,
           0.00044605935176162754,
           0.000714819549643962,
           0.00016537611511270817,
           0.0017603955775374596,
           0.0017492380387520356,
           0.001538504287226292,
           0.0007187894334273433,
           0.0001616534784558466,
           0.000727895011493184,
           0.001149860849484405,
           0.0014995491166220245,
           0.0006197188695040144,
           0.00019130097873266586,
           0.0001620348318540298,
           0.0003523577306017715,
           0.0,
           0.0007963520664254459,
           0.00023461599291039478,
           0.0
          ],
          "colorscale": [
           [
            0.0,
            "rgb(12,51,131)"
           ],
           [
            0.25,
            "rgb(10,136,186)"
           ],
           [
            0.5,
            "rgb(242,211,56)"
           ],
           [
            0.75,
            "rgb(242,143,56)"
           ],
           [
            1.0,
            "rgb(217,30,30)"
           ]
          ],
          "showscale": true,
          "size": 13,
          "sizemode": "diameter",
          "sizeref": 1
         },
         "mode": "markers",
         "text": [
          "ps_ind_01",
          "ps_ind_02_cat",
          "ps_ind_03",
          "ps_ind_04_cat",
          "ps_ind_05_cat",
          "ps_ind_06_bin",
          "ps_ind_07_bin",
          "ps_ind_08_bin",
          "ps_ind_09_bin",
          "ps_ind_10_bin",
          "ps_ind_11_bin",
          "ps_ind_12_bin",
          "ps_ind_13_bin",
          "ps_ind_14",
          "ps_ind_15",
          "ps_ind_16_bin",
          "ps_ind_17_bin",
          "ps_ind_18_bin",
          "ps_reg_01",
          "ps_reg_02",
          "ps_reg_03",
          "ps_car_01_cat",
          "ps_car_02_cat",
          "ps_car_03_cat",
          "ps_car_04_cat",
          "ps_car_05_cat",
          "ps_car_06_cat",
          "ps_car_07_cat",
          "ps_car_08_cat",
          "ps_car_09_cat",
          "ps_car_10_cat",
          "ps_car_11_cat",
          "ps_car_11",
          "ps_car_12",
          "ps_car_13",
          "ps_car_14",
          "ps_car_15",
          "ps_calc_01",
          "ps_calc_02",
          "ps_calc_03",
          "ps_calc_04",
          "ps_calc_05",
          "ps_calc_06",
          "ps_calc_07",
          "ps_calc_08",
          "ps_calc_09",
          "ps_calc_10",
          "ps_calc_11",
          "ps_calc_12",
          "ps_calc_13",
          "ps_calc_14",
          "ps_calc_15_bin",
          "ps_calc_16_bin",
          "ps_calc_17_bin",
          "ps_calc_18_bin",
          "ps_calc_19_bin",
          "ps_calc_20_bin"
         ],
         "type": "scatter",
         "x": [
          "ps_ind_01",
          "ps_ind_02_cat",
          "ps_ind_03",
          "ps_ind_04_cat",
          "ps_ind_05_cat",
          "ps_ind_06_bin",
          "ps_ind_07_bin",
          "ps_ind_08_bin",
          "ps_ind_09_bin",
          "ps_ind_10_bin",
          "ps_ind_11_bin",
          "ps_ind_12_bin",
          "ps_ind_13_bin",
          "ps_ind_14",
          "ps_ind_15",
          "ps_ind_16_bin",
          "ps_ind_17_bin",
          "ps_ind_18_bin",
          "ps_reg_01",
          "ps_reg_02",
          "ps_reg_03",
          "ps_car_01_cat",
          "ps_car_02_cat",
          "ps_car_03_cat",
          "ps_car_04_cat",
          "ps_car_05_cat",
          "ps_car_06_cat",
          "ps_car_07_cat",
          "ps_car_08_cat",
          "ps_car_09_cat",
          "ps_car_10_cat",
          "ps_car_11_cat",
          "ps_car_11",
          "ps_car_12",
          "ps_car_13",
          "ps_car_14",
          "ps_car_15",
          "ps_calc_01",
          "ps_calc_02",
          "ps_calc_03",
          "ps_calc_04",
          "ps_calc_05",
          "ps_calc_06",
          "ps_calc_07",
          "ps_calc_08",
          "ps_calc_09",
          "ps_calc_10",
          "ps_calc_11",
          "ps_calc_12",
          "ps_calc_13",
          "ps_calc_14",
          "ps_calc_15_bin",
          "ps_calc_16_bin",
          "ps_calc_17_bin",
          "ps_calc_18_bin",
          "ps_calc_19_bin",
          "ps_calc_20_bin"
         ],
         "y": [
          0.01894279918997209,
          0.011492630889899495,
          0.08412006019644626,
          0.028183264407558174,
          0.10950125606193988,
          0.030900863764452644,
          0.04377810614289992,
          0.009773282285033578,
          0.0037264924582135,
          0.0,
          0.0003235177277046906,
          0.0004158197093611648,
          0.0,
          0.0019647053728029805,
          0.034674344390072366,
          0.014794297800166983,
          0.09752492931017576,
          0.0014496142448738242,
          0.01543754116748263,
          0.02437241648700609,
          0.08109077353454619,
          0.02654031099201767,
          0.008584258166762839,
          0.04030089230958374,
          0.041795313036401355,
          0.0008965365535279337,
          0.0065653224216813,
          0.06202171413603907,
          0.0012708234367790757,
          0.004174057835046524,
          0.0,
          0.004576751074031917,
          0.005278045277053339,
          0.012609145090832267,
          0.13478741361671298,
          0.00948392967176426,
          0.01537420156043186,
          0.0002860484011805191,
          0.00044605935176162754,
          0.000714819549643962,
          0.00016537611511270817,
          0.0017603955775374596,
          0.0017492380387520356,
          0.001538504287226292,
          0.0007187894334273433,
          0.0001616534784558466,
          0.000727895011493184,
          0.001149860849484405,
          0.0014995491166220245,
          0.0006197188695040144,
          0.00019130097873266586,
          0.0001620348318540298,
          0.0003523577306017715,
          0.0,
          0.0007963520664254459,
          0.00023461599291039478,
          0.0
         ]
        }
       ],
       "layout": {
        "autosize": true,
        "hovermode": "closest",
        "showlegend": false,
        "template": {
         "data": {
          "bar": [
           {
            "error_x": {
             "color": "#2a3f5f"
            },
            "error_y": {
             "color": "#2a3f5f"
            },
            "marker": {
             "line": {
              "color": "#E5ECF6",
              "width": 0.5
             }
            },
            "type": "bar"
           }
          ],
          "barpolar": [
           {
            "marker": {
             "line": {
              "color": "#E5ECF6",
              "width": 0.5
             }
            },
            "type": "barpolar"
           }
          ],
          "carpet": [
           {
            "aaxis": {
             "endlinecolor": "#2a3f5f",
             "gridcolor": "white",
             "linecolor": "white",
             "minorgridcolor": "white",
             "startlinecolor": "#2a3f5f"
            },
            "baxis": {
             "endlinecolor": "#2a3f5f",
             "gridcolor": "white",
             "linecolor": "white",
             "minorgridcolor": "white",
             "startlinecolor": "#2a3f5f"
            },
            "type": "carpet"
           }
          ],
          "choropleth": [
           {
            "colorbar": {
             "outlinewidth": 0,
             "ticks": ""
            },
            "type": "choropleth"
           }
          ],
          "contour": [
           {
            "colorbar": {
             "outlinewidth": 0,
             "ticks": ""
            },
            "colorscale": [
             [
              0.0,
              "#0d0887"
             ],
             [
              0.1111111111111111,
              "#46039f"
             ],
             [
              0.2222222222222222,
              "#7201a8"
             ],
             [
              0.3333333333333333,
              "#9c179e"
             ],
             [
              0.4444444444444444,
              "#bd3786"
             ],
             [
              0.5555555555555556,
              "#d8576b"
             ],
             [
              0.6666666666666666,
              "#ed7953"
             ],
             [
              0.7777777777777778,
              "#fb9f3a"
             ],
             [
              0.8888888888888888,
              "#fdca26"
             ],
             [
              1.0,
              "#f0f921"
             ]
            ],
            "type": "contour"
           }
          ],
          "contourcarpet": [
           {
            "colorbar": {
             "outlinewidth": 0,
             "ticks": ""
            },
            "type": "contourcarpet"
           }
          ],
          "heatmap": [
           {
            "colorbar": {
             "outlinewidth": 0,
             "ticks": ""
            },
            "colorscale": [
             [
              0.0,
              "#0d0887"
             ],
             [
              0.1111111111111111,
              "#46039f"
             ],
             [
              0.2222222222222222,
              "#7201a8"
             ],
             [
              0.3333333333333333,
              "#9c179e"
             ],
             [
              0.4444444444444444,
              "#bd3786"
             ],
             [
              0.5555555555555556,
              "#d8576b"
             ],
             [
              0.6666666666666666,
              "#ed7953"
             ],
             [
              0.7777777777777778,
              "#fb9f3a"
             ],
             [
              0.8888888888888888,
              "#fdca26"
             ],
             [
              1.0,
              "#f0f921"
             ]
            ],
            "type": "heatmap"
           }
          ],
          "heatmapgl": [
           {
            "colorbar": {
             "outlinewidth": 0,
             "ticks": ""
            },
            "colorscale": [
             [
              0.0,
              "#0d0887"
             ],
             [
              0.1111111111111111,
              "#46039f"
             ],
             [
              0.2222222222222222,
              "#7201a8"
             ],
             [
              0.3333333333333333,
              "#9c179e"
             ],
             [
              0.4444444444444444,
              "#bd3786"
             ],
             [
              0.5555555555555556,
              "#d8576b"
             ],
             [
              0.6666666666666666,
              "#ed7953"
             ],
             [
              0.7777777777777778,
              "#fb9f3a"
             ],
             [
              0.8888888888888888,
              "#fdca26"
             ],
             [
              1.0,
              "#f0f921"
             ]
            ],
            "type": "heatmapgl"
           }
          ],
          "histogram": [
           {
            "marker": {
             "colorbar": {
              "outlinewidth": 0,
              "ticks": ""
             }
            },
            "type": "histogram"
           }
          ],
          "histogram2d": [
           {
            "colorbar": {
             "outlinewidth": 0,
             "ticks": ""
            },
            "colorscale": [
             [
              0.0,
              "#0d0887"
             ],
             [
              0.1111111111111111,
              "#46039f"
             ],
             [
              0.2222222222222222,
              "#7201a8"
             ],
             [
              0.3333333333333333,
              "#9c179e"
             ],
             [
              0.4444444444444444,
              "#bd3786"
             ],
             [
              0.5555555555555556,
              "#d8576b"
             ],
             [
              0.6666666666666666,
              "#ed7953"
             ],
             [
              0.7777777777777778,
              "#fb9f3a"
             ],
             [
              0.8888888888888888,
              "#fdca26"
             ],
             [
              1.0,
              "#f0f921"
             ]
            ],
            "type": "histogram2d"
           }
          ],
          "histogram2dcontour": [
           {
            "colorbar": {
             "outlinewidth": 0,
             "ticks": ""
            },
            "colorscale": [
             [
              0.0,
              "#0d0887"
             ],
             [
              0.1111111111111111,
              "#46039f"
             ],
             [
              0.2222222222222222,
              "#7201a8"
             ],
             [
              0.3333333333333333,
              "#9c179e"
             ],
             [
              0.4444444444444444,
              "#bd3786"
             ],
             [
              0.5555555555555556,
              "#d8576b"
             ],
             [
              0.6666666666666666,
              "#ed7953"
             ],
             [
              0.7777777777777778,
              "#fb9f3a"
             ],
             [
              0.8888888888888888,
              "#fdca26"
             ],
             [
              1.0,
              "#f0f921"
             ]
            ],
            "type": "histogram2dcontour"
           }
          ],
          "mesh3d": [
           {
            "colorbar": {
             "outlinewidth": 0,
             "ticks": ""
            },
            "type": "mesh3d"
           }
          ],
          "parcoords": [
           {
            "line": {
             "colorbar": {
              "outlinewidth": 0,
              "ticks": ""
             }
            },
            "type": "parcoords"
           }
          ],
          "pie": [
           {
            "automargin": true,
            "type": "pie"
           }
          ],
          "scatter": [
           {
            "marker": {
             "colorbar": {
              "outlinewidth": 0,
              "ticks": ""
             }
            },
            "type": "scatter"
           }
          ],
          "scatter3d": [
           {
            "line": {
             "colorbar": {
              "outlinewidth": 0,
              "ticks": ""
             }
            },
            "marker": {
             "colorbar": {
              "outlinewidth": 0,
              "ticks": ""
             }
            },
            "type": "scatter3d"
           }
          ],
          "scattercarpet": [
           {
            "marker": {
             "colorbar": {
              "outlinewidth": 0,
              "ticks": ""
             }
            },
            "type": "scattercarpet"
           }
          ],
          "scattergeo": [
           {
            "marker": {
             "colorbar": {
              "outlinewidth": 0,
              "ticks": ""
             }
            },
            "type": "scattergeo"
           }
          ],
          "scattergl": [
           {
            "marker": {
             "colorbar": {
              "outlinewidth": 0,
              "ticks": ""
             }
            },
            "type": "scattergl"
           }
          ],
          "scattermapbox": [
           {
            "marker": {
             "colorbar": {
              "outlinewidth": 0,
              "ticks": ""
             }
            },
            "type": "scattermapbox"
           }
          ],
          "scatterpolar": [
           {
            "marker": {
             "colorbar": {
              "outlinewidth": 0,
              "ticks": ""
             }
            },
            "type": "scatterpolar"
           }
          ],
          "scatterpolargl": [
           {
            "marker": {
             "colorbar": {
              "outlinewidth": 0,
              "ticks": ""
             }
            },
            "type": "scatterpolargl"
           }
          ],
          "scatterternary": [
           {
            "marker": {
             "colorbar": {
              "outlinewidth": 0,
              "ticks": ""
             }
            },
            "type": "scatterternary"
           }
          ],
          "surface": [
           {
            "colorbar": {
             "outlinewidth": 0,
             "ticks": ""
            },
            "colorscale": [
             [
              0.0,
              "#0d0887"
             ],
             [
              0.1111111111111111,
              "#46039f"
             ],
             [
              0.2222222222222222,
              "#7201a8"
             ],
             [
              0.3333333333333333,
              "#9c179e"
             ],
             [
              0.4444444444444444,
              "#bd3786"
             ],
             [
              0.5555555555555556,
              "#d8576b"
             ],
             [
              0.6666666666666666,
              "#ed7953"
             ],
             [
              0.7777777777777778,
              "#fb9f3a"
             ],
             [
              0.8888888888888888,
              "#fdca26"
             ],
             [
              1.0,
              "#f0f921"
             ]
            ],
            "type": "surface"
           }
          ],
          "table": [
           {
            "cells": {
             "fill": {
              "color": "#EBF0F8"
             },
             "line": {
              "color": "white"
             }
            },
            "header": {
             "fill": {
              "color": "#C8D4E3"
             },
             "line": {
              "color": "white"
             }
            },
            "type": "table"
           }
          ]
         },
         "layout": {
          "annotationdefaults": {
           "arrowcolor": "#2a3f5f",
           "arrowhead": 0,
           "arrowwidth": 1
          },
          "coloraxis": {
           "colorbar": {
            "outlinewidth": 0,
            "ticks": ""
           }
          },
          "colorscale": {
           "diverging": [
            [
             0,
             "#8e0152"
            ],
            [
             0.1,
             "#c51b7d"
            ],
            [
             0.2,
             "#de77ae"
            ],
            [
             0.3,
             "#f1b6da"
            ],
            [
             0.4,
             "#fde0ef"
            ],
            [
             0.5,
             "#f7f7f7"
            ],
            [
             0.6,
             "#e6f5d0"
            ],
            [
             0.7,
             "#b8e186"
            ],
            [
             0.8,
             "#7fbc41"
            ],
            [
             0.9,
             "#4d9221"
            ],
            [
             1,
             "#276419"
            ]
           ],
           "sequential": [
            [
             0.0,
             "#0d0887"
            ],
            [
             0.1111111111111111,
             "#46039f"
            ],
            [
             0.2222222222222222,
             "#7201a8"
            ],
            [
             0.3333333333333333,
             "#9c179e"
            ],
            [
             0.4444444444444444,
             "#bd3786"
            ],
            [
             0.5555555555555556,
             "#d8576b"
            ],
            [
             0.6666666666666666,
             "#ed7953"
            ],
            [
             0.7777777777777778,
             "#fb9f3a"
            ],
            [
             0.8888888888888888,
             "#fdca26"
            ],
            [
             1.0,
             "#f0f921"
            ]
           ],
           "sequentialminus": [
            [
             0.0,
             "#0d0887"
            ],
            [
             0.1111111111111111,
             "#46039f"
            ],
            [
             0.2222222222222222,
             "#7201a8"
            ],
            [
             0.3333333333333333,
             "#9c179e"
            ],
            [
             0.4444444444444444,
             "#bd3786"
            ],
            [
             0.5555555555555556,
             "#d8576b"
            ],
            [
             0.6666666666666666,
             "#ed7953"
            ],
            [
             0.7777777777777778,
             "#fb9f3a"
            ],
            [
             0.8888888888888888,
             "#fdca26"
            ],
            [
             1.0,
             "#f0f921"
            ]
           ]
          },
          "colorway": [
           "#636efa",
           "#EF553B",
           "#00cc96",
           "#ab63fa",
           "#FFA15A",
           "#19d3f3",
           "#FF6692",
           "#B6E880",
           "#FF97FF",
           "#FECB52"
          ],
          "font": {
           "color": "#2a3f5f"
          },
          "geo": {
           "bgcolor": "white",
           "lakecolor": "white",
           "landcolor": "#E5ECF6",
           "showlakes": true,
           "showland": true,
           "subunitcolor": "white"
          },
          "hoverlabel": {
           "align": "left"
          },
          "hovermode": "closest",
          "mapbox": {
           "style": "light"
          },
          "paper_bgcolor": "white",
          "plot_bgcolor": "#E5ECF6",
          "polar": {
           "angularaxis": {
            "gridcolor": "white",
            "linecolor": "white",
            "ticks": ""
           },
           "bgcolor": "#E5ECF6",
           "radialaxis": {
            "gridcolor": "white",
            "linecolor": "white",
            "ticks": ""
           }
          },
          "scene": {
           "xaxis": {
            "backgroundcolor": "#E5ECF6",
            "gridcolor": "white",
            "gridwidth": 2,
            "linecolor": "white",
            "showbackground": true,
            "ticks": "",
            "zerolinecolor": "white"
           },
           "yaxis": {
            "backgroundcolor": "#E5ECF6",
            "gridcolor": "white",
            "gridwidth": 2,
            "linecolor": "white",
            "showbackground": true,
            "ticks": "",
            "zerolinecolor": "white"
           },
           "zaxis": {
            "backgroundcolor": "#E5ECF6",
            "gridcolor": "white",
            "gridwidth": 2,
            "linecolor": "white",
            "showbackground": true,
            "ticks": "",
            "zerolinecolor": "white"
           }
          },
          "shapedefaults": {
           "line": {
            "color": "#2a3f5f"
           }
          },
          "ternary": {
           "aaxis": {
            "gridcolor": "white",
            "linecolor": "white",
            "ticks": ""
           },
           "baxis": {
            "gridcolor": "white",
            "linecolor": "white",
            "ticks": ""
           },
           "bgcolor": "#E5ECF6",
           "caxis": {
            "gridcolor": "white",
            "linecolor": "white",
            "ticks": ""
           }
          },
          "title": {
           "x": 0.05
          },
          "xaxis": {
           "automargin": true,
           "gridcolor": "white",
           "linecolor": "white",
           "ticks": "",
           "title": {
            "standoff": 15
           },
           "zerolinecolor": "white",
           "zerolinewidth": 2
          },
          "yaxis": {
           "automargin": true,
           "gridcolor": "white",
           "linecolor": "white",
           "ticks": "",
           "title": {
            "standoff": 15
           },
           "zerolinecolor": "white",
           "zerolinewidth": 2
          }
         }
        },
        "title": {
         "text": "Gradient Boosting Machine Feature Importance"
        },
        "xaxis": {
         "showgrid": false,
         "showline": false,
         "ticklen": 5,
         "zeroline": false
        },
        "yaxis": {
         "gridwidth": 2,
         "showgrid": false,
         "ticklen": 5,
         "title": {
          "text": "Feature Importance"
         },
         "zeroline": false
        }
       }
      },
      "text/html": [
       "<div>\n",
       "        \n",
       "        \n",
       "            <div id=\"8e997ebb-6155-4d5c-ad5e-1f19003bb72d\" class=\"plotly-graph-div\" style=\"height:525px; width:100%;\"></div>\n",
       "            <script type=\"text/javascript\">\n",
       "                require([\"plotly\"], function(Plotly) {\n",
       "                    window.PLOTLYENV=window.PLOTLYENV || {};\n",
       "                    \n",
       "                if (document.getElementById(\"8e997ebb-6155-4d5c-ad5e-1f19003bb72d\")) {\n",
       "                    Plotly.newPlot(\n",
       "                        '8e997ebb-6155-4d5c-ad5e-1f19003bb72d',\n",
       "                        [{\"marker\": {\"color\": [0.01894279918997209, 0.011492630889899495, 0.08412006019644626, 0.028183264407558174, 0.10950125606193988, 0.030900863764452644, 0.04377810614289992, 0.009773282285033578, 0.0037264924582135, 0.0, 0.0003235177277046906, 0.0004158197093611648, 0.0, 0.0019647053728029805, 0.034674344390072366, 0.014794297800166983, 0.09752492931017576, 0.0014496142448738242, 0.01543754116748263, 0.02437241648700609, 0.08109077353454619, 0.02654031099201767, 0.008584258166762839, 0.04030089230958374, 0.041795313036401355, 0.0008965365535279337, 0.0065653224216813, 0.06202171413603907, 0.0012708234367790757, 0.004174057835046524, 0.0, 0.004576751074031917, 0.005278045277053339, 0.012609145090832267, 0.13478741361671298, 0.00948392967176426, 0.01537420156043186, 0.0002860484011805191, 0.00044605935176162754, 0.000714819549643962, 0.00016537611511270817, 0.0017603955775374596, 0.0017492380387520356, 0.001538504287226292, 0.0007187894334273433, 0.0001616534784558466, 0.000727895011493184, 0.001149860849484405, 0.0014995491166220245, 0.0006197188695040144, 0.00019130097873266586, 0.0001620348318540298, 0.0003523577306017715, 0.0, 0.0007963520664254459, 0.00023461599291039478, 0.0], \"colorscale\": [[0.0, \"rgb(12,51,131)\"], [0.25, \"rgb(10,136,186)\"], [0.5, \"rgb(242,211,56)\"], [0.75, \"rgb(242,143,56)\"], [1.0, \"rgb(217,30,30)\"]], \"showscale\": true, \"size\": 13, \"sizemode\": \"diameter\", \"sizeref\": 1}, \"mode\": \"markers\", \"text\": [\"ps_ind_01\", \"ps_ind_02_cat\", \"ps_ind_03\", \"ps_ind_04_cat\", \"ps_ind_05_cat\", \"ps_ind_06_bin\", \"ps_ind_07_bin\", \"ps_ind_08_bin\", \"ps_ind_09_bin\", \"ps_ind_10_bin\", \"ps_ind_11_bin\", \"ps_ind_12_bin\", \"ps_ind_13_bin\", \"ps_ind_14\", \"ps_ind_15\", \"ps_ind_16_bin\", \"ps_ind_17_bin\", \"ps_ind_18_bin\", \"ps_reg_01\", \"ps_reg_02\", \"ps_reg_03\", \"ps_car_01_cat\", \"ps_car_02_cat\", \"ps_car_03_cat\", \"ps_car_04_cat\", \"ps_car_05_cat\", \"ps_car_06_cat\", \"ps_car_07_cat\", \"ps_car_08_cat\", \"ps_car_09_cat\", \"ps_car_10_cat\", \"ps_car_11_cat\", \"ps_car_11\", \"ps_car_12\", \"ps_car_13\", \"ps_car_14\", \"ps_car_15\", \"ps_calc_01\", \"ps_calc_02\", \"ps_calc_03\", \"ps_calc_04\", \"ps_calc_05\", \"ps_calc_06\", \"ps_calc_07\", \"ps_calc_08\", \"ps_calc_09\", \"ps_calc_10\", \"ps_calc_11\", \"ps_calc_12\", \"ps_calc_13\", \"ps_calc_14\", \"ps_calc_15_bin\", \"ps_calc_16_bin\", \"ps_calc_17_bin\", \"ps_calc_18_bin\", \"ps_calc_19_bin\", \"ps_calc_20_bin\"], \"type\": \"scatter\", \"x\": [\"ps_ind_01\", \"ps_ind_02_cat\", \"ps_ind_03\", \"ps_ind_04_cat\", \"ps_ind_05_cat\", \"ps_ind_06_bin\", \"ps_ind_07_bin\", \"ps_ind_08_bin\", \"ps_ind_09_bin\", \"ps_ind_10_bin\", \"ps_ind_11_bin\", \"ps_ind_12_bin\", \"ps_ind_13_bin\", \"ps_ind_14\", \"ps_ind_15\", \"ps_ind_16_bin\", \"ps_ind_17_bin\", \"ps_ind_18_bin\", \"ps_reg_01\", \"ps_reg_02\", \"ps_reg_03\", \"ps_car_01_cat\", \"ps_car_02_cat\", \"ps_car_03_cat\", \"ps_car_04_cat\", \"ps_car_05_cat\", \"ps_car_06_cat\", \"ps_car_07_cat\", \"ps_car_08_cat\", \"ps_car_09_cat\", \"ps_car_10_cat\", \"ps_car_11_cat\", \"ps_car_11\", \"ps_car_12\", \"ps_car_13\", \"ps_car_14\", \"ps_car_15\", \"ps_calc_01\", \"ps_calc_02\", \"ps_calc_03\", \"ps_calc_04\", \"ps_calc_05\", \"ps_calc_06\", \"ps_calc_07\", \"ps_calc_08\", \"ps_calc_09\", \"ps_calc_10\", \"ps_calc_11\", \"ps_calc_12\", \"ps_calc_13\", \"ps_calc_14\", \"ps_calc_15_bin\", \"ps_calc_16_bin\", \"ps_calc_17_bin\", \"ps_calc_18_bin\", \"ps_calc_19_bin\", \"ps_calc_20_bin\"], \"y\": [0.01894279918997209, 0.011492630889899495, 0.08412006019644626, 0.028183264407558174, 0.10950125606193988, 0.030900863764452644, 0.04377810614289992, 0.009773282285033578, 0.0037264924582135, 0.0, 0.0003235177277046906, 0.0004158197093611648, 0.0, 0.0019647053728029805, 0.034674344390072366, 0.014794297800166983, 0.09752492931017576, 0.0014496142448738242, 0.01543754116748263, 0.02437241648700609, 0.08109077353454619, 0.02654031099201767, 0.008584258166762839, 0.04030089230958374, 0.041795313036401355, 0.0008965365535279337, 0.0065653224216813, 0.06202171413603907, 0.0012708234367790757, 0.004174057835046524, 0.0, 0.004576751074031917, 0.005278045277053339, 0.012609145090832267, 0.13478741361671298, 0.00948392967176426, 0.01537420156043186, 0.0002860484011805191, 0.00044605935176162754, 0.000714819549643962, 0.00016537611511270817, 0.0017603955775374596, 0.0017492380387520356, 0.001538504287226292, 0.0007187894334273433, 0.0001616534784558466, 0.000727895011493184, 0.001149860849484405, 0.0014995491166220245, 0.0006197188695040144, 0.00019130097873266586, 0.0001620348318540298, 0.0003523577306017715, 0.0, 0.0007963520664254459, 0.00023461599291039478, 0.0]}],\n",
       "                        {\"autosize\": true, \"hovermode\": \"closest\", \"showlegend\": false, \"template\": {\"data\": {\"bar\": [{\"error_x\": {\"color\": \"#2a3f5f\"}, \"error_y\": {\"color\": \"#2a3f5f\"}, \"marker\": {\"line\": {\"color\": \"#E5ECF6\", \"width\": 0.5}}, \"type\": \"bar\"}], \"barpolar\": [{\"marker\": {\"line\": {\"color\": \"#E5ECF6\", \"width\": 0.5}}, \"type\": \"barpolar\"}], \"carpet\": [{\"aaxis\": {\"endlinecolor\": \"#2a3f5f\", \"gridcolor\": \"white\", \"linecolor\": \"white\", \"minorgridcolor\": \"white\", \"startlinecolor\": \"#2a3f5f\"}, \"baxis\": {\"endlinecolor\": \"#2a3f5f\", \"gridcolor\": \"white\", \"linecolor\": \"white\", \"minorgridcolor\": \"white\", \"startlinecolor\": \"#2a3f5f\"}, \"type\": \"carpet\"}], \"choropleth\": [{\"colorbar\": {\"outlinewidth\": 0, \"ticks\": \"\"}, \"type\": \"choropleth\"}], \"contour\": [{\"colorbar\": {\"outlinewidth\": 0, \"ticks\": \"\"}, \"colorscale\": [[0.0, \"#0d0887\"], [0.1111111111111111, \"#46039f\"], [0.2222222222222222, \"#7201a8\"], [0.3333333333333333, \"#9c179e\"], [0.4444444444444444, \"#bd3786\"], [0.5555555555555556, \"#d8576b\"], [0.6666666666666666, \"#ed7953\"], [0.7777777777777778, \"#fb9f3a\"], [0.8888888888888888, \"#fdca26\"], [1.0, \"#f0f921\"]], \"type\": \"contour\"}], \"contourcarpet\": [{\"colorbar\": {\"outlinewidth\": 0, \"ticks\": \"\"}, \"type\": \"contourcarpet\"}], \"heatmap\": [{\"colorbar\": {\"outlinewidth\": 0, \"ticks\": \"\"}, \"colorscale\": [[0.0, \"#0d0887\"], [0.1111111111111111, \"#46039f\"], [0.2222222222222222, \"#7201a8\"], [0.3333333333333333, \"#9c179e\"], [0.4444444444444444, \"#bd3786\"], [0.5555555555555556, \"#d8576b\"], [0.6666666666666666, \"#ed7953\"], [0.7777777777777778, \"#fb9f3a\"], [0.8888888888888888, \"#fdca26\"], [1.0, \"#f0f921\"]], \"type\": \"heatmap\"}], \"heatmapgl\": [{\"colorbar\": {\"outlinewidth\": 0, \"ticks\": \"\"}, \"colorscale\": [[0.0, \"#0d0887\"], [0.1111111111111111, \"#46039f\"], [0.2222222222222222, \"#7201a8\"], [0.3333333333333333, \"#9c179e\"], [0.4444444444444444, \"#bd3786\"], [0.5555555555555556, \"#d8576b\"], [0.6666666666666666, \"#ed7953\"], [0.7777777777777778, \"#fb9f3a\"], [0.8888888888888888, \"#fdca26\"], [1.0, \"#f0f921\"]], \"type\": \"heatmapgl\"}], \"histogram\": [{\"marker\": {\"colorbar\": {\"outlinewidth\": 0, \"ticks\": \"\"}}, \"type\": \"histogram\"}], \"histogram2d\": [{\"colorbar\": {\"outlinewidth\": 0, \"ticks\": \"\"}, \"colorscale\": [[0.0, \"#0d0887\"], [0.1111111111111111, \"#46039f\"], [0.2222222222222222, \"#7201a8\"], [0.3333333333333333, \"#9c179e\"], [0.4444444444444444, \"#bd3786\"], [0.5555555555555556, \"#d8576b\"], [0.6666666666666666, \"#ed7953\"], [0.7777777777777778, \"#fb9f3a\"], [0.8888888888888888, \"#fdca26\"], [1.0, \"#f0f921\"]], \"type\": \"histogram2d\"}], \"histogram2dcontour\": [{\"colorbar\": {\"outlinewidth\": 0, \"ticks\": \"\"}, \"colorscale\": [[0.0, \"#0d0887\"], [0.1111111111111111, \"#46039f\"], [0.2222222222222222, \"#7201a8\"], [0.3333333333333333, \"#9c179e\"], [0.4444444444444444, \"#bd3786\"], [0.5555555555555556, \"#d8576b\"], [0.6666666666666666, \"#ed7953\"], [0.7777777777777778, \"#fb9f3a\"], [0.8888888888888888, \"#fdca26\"], [1.0, \"#f0f921\"]], \"type\": \"histogram2dcontour\"}], \"mesh3d\": [{\"colorbar\": {\"outlinewidth\": 0, \"ticks\": \"\"}, \"type\": \"mesh3d\"}], \"parcoords\": [{\"line\": {\"colorbar\": {\"outlinewidth\": 0, \"ticks\": \"\"}}, \"type\": \"parcoords\"}], \"pie\": [{\"automargin\": true, \"type\": \"pie\"}], \"scatter\": [{\"marker\": {\"colorbar\": {\"outlinewidth\": 0, \"ticks\": \"\"}}, \"type\": \"scatter\"}], \"scatter3d\": [{\"line\": {\"colorbar\": {\"outlinewidth\": 0, \"ticks\": \"\"}}, \"marker\": {\"colorbar\": {\"outlinewidth\": 0, \"ticks\": \"\"}}, \"type\": \"scatter3d\"}], \"scattercarpet\": [{\"marker\": {\"colorbar\": {\"outlinewidth\": 0, \"ticks\": \"\"}}, \"type\": \"scattercarpet\"}], \"scattergeo\": [{\"marker\": {\"colorbar\": {\"outlinewidth\": 0, \"ticks\": \"\"}}, \"type\": \"scattergeo\"}], \"scattergl\": [{\"marker\": {\"colorbar\": {\"outlinewidth\": 0, \"ticks\": \"\"}}, \"type\": \"scattergl\"}], \"scattermapbox\": [{\"marker\": {\"colorbar\": {\"outlinewidth\": 0, \"ticks\": \"\"}}, \"type\": \"scattermapbox\"}], \"scatterpolar\": [{\"marker\": {\"colorbar\": {\"outlinewidth\": 0, \"ticks\": \"\"}}, \"type\": \"scatterpolar\"}], \"scatterpolargl\": [{\"marker\": {\"colorbar\": {\"outlinewidth\": 0, \"ticks\": \"\"}}, \"type\": \"scatterpolargl\"}], \"scatterternary\": [{\"marker\": {\"colorbar\": {\"outlinewidth\": 0, \"ticks\": \"\"}}, \"type\": \"scatterternary\"}], \"surface\": [{\"colorbar\": {\"outlinewidth\": 0, \"ticks\": \"\"}, \"colorscale\": [[0.0, \"#0d0887\"], [0.1111111111111111, \"#46039f\"], [0.2222222222222222, \"#7201a8\"], [0.3333333333333333, \"#9c179e\"], [0.4444444444444444, \"#bd3786\"], [0.5555555555555556, \"#d8576b\"], [0.6666666666666666, \"#ed7953\"], [0.7777777777777778, \"#fb9f3a\"], [0.8888888888888888, \"#fdca26\"], [1.0, \"#f0f921\"]], \"type\": \"surface\"}], \"table\": [{\"cells\": {\"fill\": {\"color\": \"#EBF0F8\"}, \"line\": {\"color\": \"white\"}}, \"header\": {\"fill\": {\"color\": \"#C8D4E3\"}, \"line\": {\"color\": \"white\"}}, \"type\": \"table\"}]}, \"layout\": {\"annotationdefaults\": {\"arrowcolor\": \"#2a3f5f\", \"arrowhead\": 0, \"arrowwidth\": 1}, \"coloraxis\": {\"colorbar\": {\"outlinewidth\": 0, \"ticks\": \"\"}}, \"colorscale\": {\"diverging\": [[0, \"#8e0152\"], [0.1, \"#c51b7d\"], [0.2, \"#de77ae\"], [0.3, \"#f1b6da\"], [0.4, \"#fde0ef\"], [0.5, \"#f7f7f7\"], [0.6, \"#e6f5d0\"], [0.7, \"#b8e186\"], [0.8, \"#7fbc41\"], [0.9, \"#4d9221\"], [1, \"#276419\"]], \"sequential\": [[0.0, \"#0d0887\"], [0.1111111111111111, \"#46039f\"], [0.2222222222222222, \"#7201a8\"], [0.3333333333333333, \"#9c179e\"], [0.4444444444444444, \"#bd3786\"], [0.5555555555555556, \"#d8576b\"], [0.6666666666666666, \"#ed7953\"], [0.7777777777777778, \"#fb9f3a\"], [0.8888888888888888, \"#fdca26\"], [1.0, \"#f0f921\"]], \"sequentialminus\": [[0.0, \"#0d0887\"], [0.1111111111111111, \"#46039f\"], [0.2222222222222222, \"#7201a8\"], [0.3333333333333333, \"#9c179e\"], [0.4444444444444444, \"#bd3786\"], [0.5555555555555556, \"#d8576b\"], [0.6666666666666666, \"#ed7953\"], [0.7777777777777778, \"#fb9f3a\"], [0.8888888888888888, \"#fdca26\"], [1.0, \"#f0f921\"]]}, \"colorway\": [\"#636efa\", \"#EF553B\", \"#00cc96\", \"#ab63fa\", \"#FFA15A\", \"#19d3f3\", \"#FF6692\", \"#B6E880\", \"#FF97FF\", \"#FECB52\"], \"font\": {\"color\": \"#2a3f5f\"}, \"geo\": {\"bgcolor\": \"white\", \"lakecolor\": \"white\", \"landcolor\": \"#E5ECF6\", \"showlakes\": true, \"showland\": true, \"subunitcolor\": \"white\"}, \"hoverlabel\": {\"align\": \"left\"}, \"hovermode\": \"closest\", \"mapbox\": {\"style\": \"light\"}, \"paper_bgcolor\": \"white\", \"plot_bgcolor\": \"#E5ECF6\", \"polar\": {\"angularaxis\": {\"gridcolor\": \"white\", \"linecolor\": \"white\", \"ticks\": \"\"}, \"bgcolor\": \"#E5ECF6\", \"radialaxis\": {\"gridcolor\": \"white\", \"linecolor\": \"white\", \"ticks\": \"\"}}, \"scene\": {\"xaxis\": {\"backgroundcolor\": \"#E5ECF6\", \"gridcolor\": \"white\", \"gridwidth\": 2, \"linecolor\": \"white\", \"showbackground\": true, \"ticks\": \"\", \"zerolinecolor\": \"white\"}, \"yaxis\": {\"backgroundcolor\": \"#E5ECF6\", \"gridcolor\": \"white\", \"gridwidth\": 2, \"linecolor\": \"white\", \"showbackground\": true, \"ticks\": \"\", \"zerolinecolor\": \"white\"}, \"zaxis\": {\"backgroundcolor\": \"#E5ECF6\", \"gridcolor\": \"white\", \"gridwidth\": 2, \"linecolor\": \"white\", \"showbackground\": true, \"ticks\": \"\", \"zerolinecolor\": \"white\"}}, \"shapedefaults\": {\"line\": {\"color\": \"#2a3f5f\"}}, \"ternary\": {\"aaxis\": {\"gridcolor\": \"white\", \"linecolor\": \"white\", \"ticks\": \"\"}, \"baxis\": {\"gridcolor\": \"white\", \"linecolor\": \"white\", \"ticks\": \"\"}, \"bgcolor\": \"#E5ECF6\", \"caxis\": {\"gridcolor\": \"white\", \"linecolor\": \"white\", \"ticks\": \"\"}}, \"title\": {\"x\": 0.05}, \"xaxis\": {\"automargin\": true, \"gridcolor\": \"white\", \"linecolor\": \"white\", \"ticks\": \"\", \"title\": {\"standoff\": 15}, \"zerolinecolor\": \"white\", \"zerolinewidth\": 2}, \"yaxis\": {\"automargin\": true, \"gridcolor\": \"white\", \"linecolor\": \"white\", \"ticks\": \"\", \"title\": {\"standoff\": 15}, \"zerolinecolor\": \"white\", \"zerolinewidth\": 2}}}, \"title\": {\"text\": \"Gradient Boosting Machine Feature Importance\"}, \"xaxis\": {\"showgrid\": false, \"showline\": false, \"ticklen\": 5, \"zeroline\": false}, \"yaxis\": {\"gridwidth\": 2, \"showgrid\": false, \"ticklen\": 5, \"title\": {\"text\": \"Feature Importance\"}, \"zeroline\": false}},\n",
       "                        {\"responsive\": true}\n",
       "                    ).then(function(){\n",
       "                            \n",
       "var gd = document.getElementById('8e997ebb-6155-4d5c-ad5e-1f19003bb72d');\n",
       "var x = new MutationObserver(function (mutations, observer) {{\n",
       "        var display = window.getComputedStyle(gd).display;\n",
       "        if (!display || display === 'none') {{\n",
       "            console.log([gd, 'removed!']);\n",
       "            Plotly.purge(gd);\n",
       "            observer.disconnect();\n",
       "        }}\n",
       "}});\n",
       "\n",
       "// Listen for the removal of the full notebook cells\n",
       "var notebookContainer = gd.closest('#notebook-container');\n",
       "if (notebookContainer) {{\n",
       "    x.observe(notebookContainer, {childList: true});\n",
       "}}\n",
       "\n",
       "// Listen for the clearing of the current output cell\n",
       "var outputEl = gd.closest('.output');\n",
       "if (outputEl) {{\n",
       "    x.observe(outputEl, {childList: true});\n",
       "}}\n",
       "\n",
       "                        })\n",
       "                };\n",
       "                });\n",
       "            </script>\n",
       "        </div>"
      ]
     },
     "metadata": {},
     "output_type": "display_data"
    }
   ],
   "source": [
    "trace = go.Scatter(\n",
    "    y = gb.feature_importances_,\n",
    "    x = features,\n",
    "    mode='markers',\n",
    "    marker=dict(\n",
    "        sizemode = 'diameter',\n",
    "        sizeref = 1,\n",
    "        size = 13,\n",
    "        #size= rf.feature_importances_,\n",
    "        #color = np.random.randn(500), #set color equal to a variable\n",
    "        color = gb.feature_importances_,\n",
    "        colorscale='Portland',\n",
    "        showscale=True\n",
    "    ),\n",
    "    text = features\n",
    ")\n",
    "data = [trace]\n",
    "\n",
    "layout= go.Layout(\n",
    "    autosize= True,\n",
    "    title= 'Gradient Boosting Machine Feature Importance',\n",
    "    hovermode= 'closest',\n",
    "     xaxis= dict(\n",
    "         ticklen= 5,\n",
    "         showgrid=False,\n",
    "        zeroline=False,\n",
    "        showline=False\n",
    "     ),\n",
    "    yaxis=dict(\n",
    "        title= 'Feature Importance',\n",
    "        showgrid=False,\n",
    "        zeroline=False,\n",
    "        ticklen= 5,\n",
    "        gridwidth= 2\n",
    "    ),\n",
    "    showlegend= False\n",
    ")\n",
    "fig = go.Figure(data=data, layout=layout)\n",
    "py.iplot(fig,filename='scatter2010')"
   ]
  },
  {
   "cell_type": "code",
   "execution_count": 24,
   "metadata": {},
   "outputs": [
    {
     "data": {
      "application/vnd.plotly.v1+json": {
       "config": {
        "linkText": "Export to plot.ly",
        "plotlyServerURL": "https://plot.ly",
        "showLink": false
       },
       "data": [
        {
         "marker": {
          "color": [
           0.0,
           0.0,
           0.0,
           0.0,
           0.0,
           0.0001616534784558466,
           0.0001620348318540298,
           0.00016537611511270817,
           0.00019130097873266586,
           0.00023461599291039478,
           0.0002860484011805191,
           0.0003235177277046906,
           0.0003523577306017715,
           0.0004158197093611648,
           0.00044605935176162754,
           0.0006197188695040144,
           0.000714819549643962,
           0.0007187894334273433,
           0.000727895011493184,
           0.0007963520664254459,
           0.0008965365535279337,
           0.001149860849484405,
           0.0012708234367790757,
           0.0014496142448738242,
           0.0014995491166220245,
           0.001538504287226292,
           0.0017492380387520356,
           0.0017603955775374596,
           0.0019647053728029805,
           0.0037264924582135,
           0.004174057835046524,
           0.004576751074031917,
           0.005278045277053339,
           0.0065653224216813,
           0.008584258166762839,
           0.00948392967176426,
           0.009773282285033578,
           0.011492630889899495,
           0.012609145090832267,
           0.014794297800166983,
           0.01537420156043186,
           0.01543754116748263,
           0.01894279918997209,
           0.02437241648700609,
           0.02654031099201767,
           0.028183264407558174,
           0.030900863764452644,
           0.034674344390072366,
           0.04030089230958374,
           0.041795313036401355,
           0.04377810614289992,
           0.06202171413603907,
           0.08109077353454619,
           0.08412006019644626,
           0.09752492931017576,
           0.10950125606193988,
           0.13478741361671298
          ],
          "colorscale": [
           [
            0.0,
            "#440154"
           ],
           [
            0.1111111111111111,
            "#482878"
           ],
           [
            0.2222222222222222,
            "#3e4989"
           ],
           [
            0.3333333333333333,
            "#31688e"
           ],
           [
            0.4444444444444444,
            "#26828e"
           ],
           [
            0.5555555555555556,
            "#1f9e89"
           ],
           [
            0.6666666666666666,
            "#35b779"
           ],
           [
            0.7777777777777778,
            "#6ece58"
           ],
           [
            0.8888888888888888,
            "#b5de2b"
           ],
           [
            1.0,
            "#fde725"
           ]
          ],
          "reversescale": true
         },
         "name": "Gradient Boosting Classifer Feature importance",
         "orientation": "h",
         "type": "bar",
         "x": [
          0.0,
          0.0,
          0.0,
          0.0,
          0.0,
          0.0001616534784558466,
          0.0001620348318540298,
          0.00016537611511270817,
          0.00019130097873266586,
          0.00023461599291039478,
          0.0002860484011805191,
          0.0003235177277046906,
          0.0003523577306017715,
          0.0004158197093611648,
          0.00044605935176162754,
          0.0006197188695040144,
          0.000714819549643962,
          0.0007187894334273433,
          0.000727895011493184,
          0.0007963520664254459,
          0.0008965365535279337,
          0.001149860849484405,
          0.0012708234367790757,
          0.0014496142448738242,
          0.0014995491166220245,
          0.001538504287226292,
          0.0017492380387520356,
          0.0017603955775374596,
          0.0019647053728029805,
          0.0037264924582135,
          0.004174057835046524,
          0.004576751074031917,
          0.005278045277053339,
          0.0065653224216813,
          0.008584258166762839,
          0.00948392967176426,
          0.009773282285033578,
          0.011492630889899495,
          0.012609145090832267,
          0.014794297800166983,
          0.01537420156043186,
          0.01543754116748263,
          0.01894279918997209,
          0.02437241648700609,
          0.02654031099201767,
          0.028183264407558174,
          0.030900863764452644,
          0.034674344390072366,
          0.04030089230958374,
          0.041795313036401355,
          0.04377810614289992,
          0.06202171413603907,
          0.08109077353454619,
          0.08412006019644626,
          0.09752492931017576,
          0.10950125606193988,
          0.13478741361671298
         ],
         "y": [
          "ps_calc_17_bin",
          "ps_calc_20_bin",
          "ps_car_10_cat",
          "ps_ind_10_bin",
          "ps_ind_13_bin",
          "ps_calc_09",
          "ps_calc_15_bin",
          "ps_calc_04",
          "ps_calc_14",
          "ps_calc_19_bin",
          "ps_calc_01",
          "ps_ind_11_bin",
          "ps_calc_16_bin",
          "ps_ind_12_bin",
          "ps_calc_02",
          "ps_calc_13",
          "ps_calc_03",
          "ps_calc_08",
          "ps_calc_10",
          "ps_calc_18_bin",
          "ps_car_05_cat",
          "ps_calc_11",
          "ps_car_08_cat",
          "ps_ind_18_bin",
          "ps_calc_12",
          "ps_calc_07",
          "ps_calc_06",
          "ps_calc_05",
          "ps_ind_14",
          "ps_ind_09_bin",
          "ps_car_09_cat",
          "ps_car_11_cat",
          "ps_car_11",
          "ps_car_06_cat",
          "ps_car_02_cat",
          "ps_car_14",
          "ps_ind_08_bin",
          "ps_ind_02_cat",
          "ps_car_12",
          "ps_ind_16_bin",
          "ps_car_15",
          "ps_reg_01",
          "ps_ind_01",
          "ps_reg_02",
          "ps_car_01_cat",
          "ps_ind_04_cat",
          "ps_ind_06_bin",
          "ps_ind_15",
          "ps_car_03_cat",
          "ps_car_04_cat",
          "ps_ind_07_bin",
          "ps_car_07_cat",
          "ps_reg_03",
          "ps_ind_03",
          "ps_ind_17_bin",
          "ps_ind_05_cat",
          "ps_car_13"
         ]
        }
       ],
       "layout": {
        "height": 2000,
        "template": {
         "data": {
          "bar": [
           {
            "error_x": {
             "color": "#2a3f5f"
            },
            "error_y": {
             "color": "#2a3f5f"
            },
            "marker": {
             "line": {
              "color": "#E5ECF6",
              "width": 0.5
             }
            },
            "type": "bar"
           }
          ],
          "barpolar": [
           {
            "marker": {
             "line": {
              "color": "#E5ECF6",
              "width": 0.5
             }
            },
            "type": "barpolar"
           }
          ],
          "carpet": [
           {
            "aaxis": {
             "endlinecolor": "#2a3f5f",
             "gridcolor": "white",
             "linecolor": "white",
             "minorgridcolor": "white",
             "startlinecolor": "#2a3f5f"
            },
            "baxis": {
             "endlinecolor": "#2a3f5f",
             "gridcolor": "white",
             "linecolor": "white",
             "minorgridcolor": "white",
             "startlinecolor": "#2a3f5f"
            },
            "type": "carpet"
           }
          ],
          "choropleth": [
           {
            "colorbar": {
             "outlinewidth": 0,
             "ticks": ""
            },
            "type": "choropleth"
           }
          ],
          "contour": [
           {
            "colorbar": {
             "outlinewidth": 0,
             "ticks": ""
            },
            "colorscale": [
             [
              0.0,
              "#0d0887"
             ],
             [
              0.1111111111111111,
              "#46039f"
             ],
             [
              0.2222222222222222,
              "#7201a8"
             ],
             [
              0.3333333333333333,
              "#9c179e"
             ],
             [
              0.4444444444444444,
              "#bd3786"
             ],
             [
              0.5555555555555556,
              "#d8576b"
             ],
             [
              0.6666666666666666,
              "#ed7953"
             ],
             [
              0.7777777777777778,
              "#fb9f3a"
             ],
             [
              0.8888888888888888,
              "#fdca26"
             ],
             [
              1.0,
              "#f0f921"
             ]
            ],
            "type": "contour"
           }
          ],
          "contourcarpet": [
           {
            "colorbar": {
             "outlinewidth": 0,
             "ticks": ""
            },
            "type": "contourcarpet"
           }
          ],
          "heatmap": [
           {
            "colorbar": {
             "outlinewidth": 0,
             "ticks": ""
            },
            "colorscale": [
             [
              0.0,
              "#0d0887"
             ],
             [
              0.1111111111111111,
              "#46039f"
             ],
             [
              0.2222222222222222,
              "#7201a8"
             ],
             [
              0.3333333333333333,
              "#9c179e"
             ],
             [
              0.4444444444444444,
              "#bd3786"
             ],
             [
              0.5555555555555556,
              "#d8576b"
             ],
             [
              0.6666666666666666,
              "#ed7953"
             ],
             [
              0.7777777777777778,
              "#fb9f3a"
             ],
             [
              0.8888888888888888,
              "#fdca26"
             ],
             [
              1.0,
              "#f0f921"
             ]
            ],
            "type": "heatmap"
           }
          ],
          "heatmapgl": [
           {
            "colorbar": {
             "outlinewidth": 0,
             "ticks": ""
            },
            "colorscale": [
             [
              0.0,
              "#0d0887"
             ],
             [
              0.1111111111111111,
              "#46039f"
             ],
             [
              0.2222222222222222,
              "#7201a8"
             ],
             [
              0.3333333333333333,
              "#9c179e"
             ],
             [
              0.4444444444444444,
              "#bd3786"
             ],
             [
              0.5555555555555556,
              "#d8576b"
             ],
             [
              0.6666666666666666,
              "#ed7953"
             ],
             [
              0.7777777777777778,
              "#fb9f3a"
             ],
             [
              0.8888888888888888,
              "#fdca26"
             ],
             [
              1.0,
              "#f0f921"
             ]
            ],
            "type": "heatmapgl"
           }
          ],
          "histogram": [
           {
            "marker": {
             "colorbar": {
              "outlinewidth": 0,
              "ticks": ""
             }
            },
            "type": "histogram"
           }
          ],
          "histogram2d": [
           {
            "colorbar": {
             "outlinewidth": 0,
             "ticks": ""
            },
            "colorscale": [
             [
              0.0,
              "#0d0887"
             ],
             [
              0.1111111111111111,
              "#46039f"
             ],
             [
              0.2222222222222222,
              "#7201a8"
             ],
             [
              0.3333333333333333,
              "#9c179e"
             ],
             [
              0.4444444444444444,
              "#bd3786"
             ],
             [
              0.5555555555555556,
              "#d8576b"
             ],
             [
              0.6666666666666666,
              "#ed7953"
             ],
             [
              0.7777777777777778,
              "#fb9f3a"
             ],
             [
              0.8888888888888888,
              "#fdca26"
             ],
             [
              1.0,
              "#f0f921"
             ]
            ],
            "type": "histogram2d"
           }
          ],
          "histogram2dcontour": [
           {
            "colorbar": {
             "outlinewidth": 0,
             "ticks": ""
            },
            "colorscale": [
             [
              0.0,
              "#0d0887"
             ],
             [
              0.1111111111111111,
              "#46039f"
             ],
             [
              0.2222222222222222,
              "#7201a8"
             ],
             [
              0.3333333333333333,
              "#9c179e"
             ],
             [
              0.4444444444444444,
              "#bd3786"
             ],
             [
              0.5555555555555556,
              "#d8576b"
             ],
             [
              0.6666666666666666,
              "#ed7953"
             ],
             [
              0.7777777777777778,
              "#fb9f3a"
             ],
             [
              0.8888888888888888,
              "#fdca26"
             ],
             [
              1.0,
              "#f0f921"
             ]
            ],
            "type": "histogram2dcontour"
           }
          ],
          "mesh3d": [
           {
            "colorbar": {
             "outlinewidth": 0,
             "ticks": ""
            },
            "type": "mesh3d"
           }
          ],
          "parcoords": [
           {
            "line": {
             "colorbar": {
              "outlinewidth": 0,
              "ticks": ""
             }
            },
            "type": "parcoords"
           }
          ],
          "pie": [
           {
            "automargin": true,
            "type": "pie"
           }
          ],
          "scatter": [
           {
            "marker": {
             "colorbar": {
              "outlinewidth": 0,
              "ticks": ""
             }
            },
            "type": "scatter"
           }
          ],
          "scatter3d": [
           {
            "line": {
             "colorbar": {
              "outlinewidth": 0,
              "ticks": ""
             }
            },
            "marker": {
             "colorbar": {
              "outlinewidth": 0,
              "ticks": ""
             }
            },
            "type": "scatter3d"
           }
          ],
          "scattercarpet": [
           {
            "marker": {
             "colorbar": {
              "outlinewidth": 0,
              "ticks": ""
             }
            },
            "type": "scattercarpet"
           }
          ],
          "scattergeo": [
           {
            "marker": {
             "colorbar": {
              "outlinewidth": 0,
              "ticks": ""
             }
            },
            "type": "scattergeo"
           }
          ],
          "scattergl": [
           {
            "marker": {
             "colorbar": {
              "outlinewidth": 0,
              "ticks": ""
             }
            },
            "type": "scattergl"
           }
          ],
          "scattermapbox": [
           {
            "marker": {
             "colorbar": {
              "outlinewidth": 0,
              "ticks": ""
             }
            },
            "type": "scattermapbox"
           }
          ],
          "scatterpolar": [
           {
            "marker": {
             "colorbar": {
              "outlinewidth": 0,
              "ticks": ""
             }
            },
            "type": "scatterpolar"
           }
          ],
          "scatterpolargl": [
           {
            "marker": {
             "colorbar": {
              "outlinewidth": 0,
              "ticks": ""
             }
            },
            "type": "scatterpolargl"
           }
          ],
          "scatterternary": [
           {
            "marker": {
             "colorbar": {
              "outlinewidth": 0,
              "ticks": ""
             }
            },
            "type": "scatterternary"
           }
          ],
          "surface": [
           {
            "colorbar": {
             "outlinewidth": 0,
             "ticks": ""
            },
            "colorscale": [
             [
              0.0,
              "#0d0887"
             ],
             [
              0.1111111111111111,
              "#46039f"
             ],
             [
              0.2222222222222222,
              "#7201a8"
             ],
             [
              0.3333333333333333,
              "#9c179e"
             ],
             [
              0.4444444444444444,
              "#bd3786"
             ],
             [
              0.5555555555555556,
              "#d8576b"
             ],
             [
              0.6666666666666666,
              "#ed7953"
             ],
             [
              0.7777777777777778,
              "#fb9f3a"
             ],
             [
              0.8888888888888888,
              "#fdca26"
             ],
             [
              1.0,
              "#f0f921"
             ]
            ],
            "type": "surface"
           }
          ],
          "table": [
           {
            "cells": {
             "fill": {
              "color": "#EBF0F8"
             },
             "line": {
              "color": "white"
             }
            },
            "header": {
             "fill": {
              "color": "#C8D4E3"
             },
             "line": {
              "color": "white"
             }
            },
            "type": "table"
           }
          ]
         },
         "layout": {
          "annotationdefaults": {
           "arrowcolor": "#2a3f5f",
           "arrowhead": 0,
           "arrowwidth": 1
          },
          "coloraxis": {
           "colorbar": {
            "outlinewidth": 0,
            "ticks": ""
           }
          },
          "colorscale": {
           "diverging": [
            [
             0,
             "#8e0152"
            ],
            [
             0.1,
             "#c51b7d"
            ],
            [
             0.2,
             "#de77ae"
            ],
            [
             0.3,
             "#f1b6da"
            ],
            [
             0.4,
             "#fde0ef"
            ],
            [
             0.5,
             "#f7f7f7"
            ],
            [
             0.6,
             "#e6f5d0"
            ],
            [
             0.7,
             "#b8e186"
            ],
            [
             0.8,
             "#7fbc41"
            ],
            [
             0.9,
             "#4d9221"
            ],
            [
             1,
             "#276419"
            ]
           ],
           "sequential": [
            [
             0.0,
             "#0d0887"
            ],
            [
             0.1111111111111111,
             "#46039f"
            ],
            [
             0.2222222222222222,
             "#7201a8"
            ],
            [
             0.3333333333333333,
             "#9c179e"
            ],
            [
             0.4444444444444444,
             "#bd3786"
            ],
            [
             0.5555555555555556,
             "#d8576b"
            ],
            [
             0.6666666666666666,
             "#ed7953"
            ],
            [
             0.7777777777777778,
             "#fb9f3a"
            ],
            [
             0.8888888888888888,
             "#fdca26"
            ],
            [
             1.0,
             "#f0f921"
            ]
           ],
           "sequentialminus": [
            [
             0.0,
             "#0d0887"
            ],
            [
             0.1111111111111111,
             "#46039f"
            ],
            [
             0.2222222222222222,
             "#7201a8"
            ],
            [
             0.3333333333333333,
             "#9c179e"
            ],
            [
             0.4444444444444444,
             "#bd3786"
            ],
            [
             0.5555555555555556,
             "#d8576b"
            ],
            [
             0.6666666666666666,
             "#ed7953"
            ],
            [
             0.7777777777777778,
             "#fb9f3a"
            ],
            [
             0.8888888888888888,
             "#fdca26"
            ],
            [
             1.0,
             "#f0f921"
            ]
           ]
          },
          "colorway": [
           "#636efa",
           "#EF553B",
           "#00cc96",
           "#ab63fa",
           "#FFA15A",
           "#19d3f3",
           "#FF6692",
           "#B6E880",
           "#FF97FF",
           "#FECB52"
          ],
          "font": {
           "color": "#2a3f5f"
          },
          "geo": {
           "bgcolor": "white",
           "lakecolor": "white",
           "landcolor": "#E5ECF6",
           "showlakes": true,
           "showland": true,
           "subunitcolor": "white"
          },
          "hoverlabel": {
           "align": "left"
          },
          "hovermode": "closest",
          "mapbox": {
           "style": "light"
          },
          "paper_bgcolor": "white",
          "plot_bgcolor": "#E5ECF6",
          "polar": {
           "angularaxis": {
            "gridcolor": "white",
            "linecolor": "white",
            "ticks": ""
           },
           "bgcolor": "#E5ECF6",
           "radialaxis": {
            "gridcolor": "white",
            "linecolor": "white",
            "ticks": ""
           }
          },
          "scene": {
           "xaxis": {
            "backgroundcolor": "#E5ECF6",
            "gridcolor": "white",
            "gridwidth": 2,
            "linecolor": "white",
            "showbackground": true,
            "ticks": "",
            "zerolinecolor": "white"
           },
           "yaxis": {
            "backgroundcolor": "#E5ECF6",
            "gridcolor": "white",
            "gridwidth": 2,
            "linecolor": "white",
            "showbackground": true,
            "ticks": "",
            "zerolinecolor": "white"
           },
           "zaxis": {
            "backgroundcolor": "#E5ECF6",
            "gridcolor": "white",
            "gridwidth": 2,
            "linecolor": "white",
            "showbackground": true,
            "ticks": "",
            "zerolinecolor": "white"
           }
          },
          "shapedefaults": {
           "line": {
            "color": "#2a3f5f"
           }
          },
          "ternary": {
           "aaxis": {
            "gridcolor": "white",
            "linecolor": "white",
            "ticks": ""
           },
           "baxis": {
            "gridcolor": "white",
            "linecolor": "white",
            "ticks": ""
           },
           "bgcolor": "#E5ECF6",
           "caxis": {
            "gridcolor": "white",
            "linecolor": "white",
            "ticks": ""
           }
          },
          "title": {
           "x": 0.05
          },
          "xaxis": {
           "automargin": true,
           "gridcolor": "white",
           "linecolor": "white",
           "ticks": "",
           "title": {
            "standoff": 15
           },
           "zerolinecolor": "white",
           "zerolinewidth": 2
          },
          "yaxis": {
           "automargin": true,
           "gridcolor": "white",
           "linecolor": "white",
           "ticks": "",
           "title": {
            "standoff": 15
           },
           "zerolinecolor": "white",
           "zerolinewidth": 2
          }
         }
        },
        "title": {
         "text": "Barplot of Feature importances"
        },
        "width": 900,
        "yaxis": {
         "showgrid": false,
         "showline": false,
         "showticklabels": true
        }
       }
      },
      "text/html": [
       "<div>\n",
       "        \n",
       "        \n",
       "            <div id=\"d41923ad-6c54-4faa-9046-70d63199f34b\" class=\"plotly-graph-div\" style=\"height:2000px; width:900px;\"></div>\n",
       "            <script type=\"text/javascript\">\n",
       "                require([\"plotly\"], function(Plotly) {\n",
       "                    window.PLOTLYENV=window.PLOTLYENV || {};\n",
       "                    \n",
       "                if (document.getElementById(\"d41923ad-6c54-4faa-9046-70d63199f34b\")) {\n",
       "                    Plotly.newPlot(\n",
       "                        'd41923ad-6c54-4faa-9046-70d63199f34b',\n",
       "                        [{\"marker\": {\"color\": [0.0, 0.0, 0.0, 0.0, 0.0, 0.0001616534784558466, 0.0001620348318540298, 0.00016537611511270817, 0.00019130097873266586, 0.00023461599291039478, 0.0002860484011805191, 0.0003235177277046906, 0.0003523577306017715, 0.0004158197093611648, 0.00044605935176162754, 0.0006197188695040144, 0.000714819549643962, 0.0007187894334273433, 0.000727895011493184, 0.0007963520664254459, 0.0008965365535279337, 0.001149860849484405, 0.0012708234367790757, 0.0014496142448738242, 0.0014995491166220245, 0.001538504287226292, 0.0017492380387520356, 0.0017603955775374596, 0.0019647053728029805, 0.0037264924582135, 0.004174057835046524, 0.004576751074031917, 0.005278045277053339, 0.0065653224216813, 0.008584258166762839, 0.00948392967176426, 0.009773282285033578, 0.011492630889899495, 0.012609145090832267, 0.014794297800166983, 0.01537420156043186, 0.01543754116748263, 0.01894279918997209, 0.02437241648700609, 0.02654031099201767, 0.028183264407558174, 0.030900863764452644, 0.034674344390072366, 0.04030089230958374, 0.041795313036401355, 0.04377810614289992, 0.06202171413603907, 0.08109077353454619, 0.08412006019644626, 0.09752492931017576, 0.10950125606193988, 0.13478741361671298], \"colorscale\": [[0.0, \"#440154\"], [0.1111111111111111, \"#482878\"], [0.2222222222222222, \"#3e4989\"], [0.3333333333333333, \"#31688e\"], [0.4444444444444444, \"#26828e\"], [0.5555555555555556, \"#1f9e89\"], [0.6666666666666666, \"#35b779\"], [0.7777777777777778, \"#6ece58\"], [0.8888888888888888, \"#b5de2b\"], [1.0, \"#fde725\"]], \"reversescale\": true}, \"name\": \"Gradient Boosting Classifer Feature importance\", \"orientation\": \"h\", \"type\": \"bar\", \"x\": [0.0, 0.0, 0.0, 0.0, 0.0, 0.0001616534784558466, 0.0001620348318540298, 0.00016537611511270817, 0.00019130097873266586, 0.00023461599291039478, 0.0002860484011805191, 0.0003235177277046906, 0.0003523577306017715, 0.0004158197093611648, 0.00044605935176162754, 0.0006197188695040144, 0.000714819549643962, 0.0007187894334273433, 0.000727895011493184, 0.0007963520664254459, 0.0008965365535279337, 0.001149860849484405, 0.0012708234367790757, 0.0014496142448738242, 0.0014995491166220245, 0.001538504287226292, 0.0017492380387520356, 0.0017603955775374596, 0.0019647053728029805, 0.0037264924582135, 0.004174057835046524, 0.004576751074031917, 0.005278045277053339, 0.0065653224216813, 0.008584258166762839, 0.00948392967176426, 0.009773282285033578, 0.011492630889899495, 0.012609145090832267, 0.014794297800166983, 0.01537420156043186, 0.01543754116748263, 0.01894279918997209, 0.02437241648700609, 0.02654031099201767, 0.028183264407558174, 0.030900863764452644, 0.034674344390072366, 0.04030089230958374, 0.041795313036401355, 0.04377810614289992, 0.06202171413603907, 0.08109077353454619, 0.08412006019644626, 0.09752492931017576, 0.10950125606193988, 0.13478741361671298], \"y\": [\"ps_calc_17_bin\", \"ps_calc_20_bin\", \"ps_car_10_cat\", \"ps_ind_10_bin\", \"ps_ind_13_bin\", \"ps_calc_09\", \"ps_calc_15_bin\", \"ps_calc_04\", \"ps_calc_14\", \"ps_calc_19_bin\", \"ps_calc_01\", \"ps_ind_11_bin\", \"ps_calc_16_bin\", \"ps_ind_12_bin\", \"ps_calc_02\", \"ps_calc_13\", \"ps_calc_03\", \"ps_calc_08\", \"ps_calc_10\", \"ps_calc_18_bin\", \"ps_car_05_cat\", \"ps_calc_11\", \"ps_car_08_cat\", \"ps_ind_18_bin\", \"ps_calc_12\", \"ps_calc_07\", \"ps_calc_06\", \"ps_calc_05\", \"ps_ind_14\", \"ps_ind_09_bin\", \"ps_car_09_cat\", \"ps_car_11_cat\", \"ps_car_11\", \"ps_car_06_cat\", \"ps_car_02_cat\", \"ps_car_14\", \"ps_ind_08_bin\", \"ps_ind_02_cat\", \"ps_car_12\", \"ps_ind_16_bin\", \"ps_car_15\", \"ps_reg_01\", \"ps_ind_01\", \"ps_reg_02\", \"ps_car_01_cat\", \"ps_ind_04_cat\", \"ps_ind_06_bin\", \"ps_ind_15\", \"ps_car_03_cat\", \"ps_car_04_cat\", \"ps_ind_07_bin\", \"ps_car_07_cat\", \"ps_reg_03\", \"ps_ind_03\", \"ps_ind_17_bin\", \"ps_ind_05_cat\", \"ps_car_13\"]}],\n",
       "                        {\"height\": 2000, \"template\": {\"data\": {\"bar\": [{\"error_x\": {\"color\": \"#2a3f5f\"}, \"error_y\": {\"color\": \"#2a3f5f\"}, \"marker\": {\"line\": {\"color\": \"#E5ECF6\", \"width\": 0.5}}, \"type\": \"bar\"}], \"barpolar\": [{\"marker\": {\"line\": {\"color\": \"#E5ECF6\", \"width\": 0.5}}, \"type\": \"barpolar\"}], \"carpet\": [{\"aaxis\": {\"endlinecolor\": \"#2a3f5f\", \"gridcolor\": \"white\", \"linecolor\": \"white\", \"minorgridcolor\": \"white\", \"startlinecolor\": \"#2a3f5f\"}, \"baxis\": {\"endlinecolor\": \"#2a3f5f\", \"gridcolor\": \"white\", \"linecolor\": \"white\", \"minorgridcolor\": \"white\", \"startlinecolor\": \"#2a3f5f\"}, \"type\": \"carpet\"}], \"choropleth\": [{\"colorbar\": {\"outlinewidth\": 0, \"ticks\": \"\"}, \"type\": \"choropleth\"}], \"contour\": [{\"colorbar\": {\"outlinewidth\": 0, \"ticks\": \"\"}, \"colorscale\": [[0.0, \"#0d0887\"], [0.1111111111111111, \"#46039f\"], [0.2222222222222222, \"#7201a8\"], [0.3333333333333333, \"#9c179e\"], [0.4444444444444444, \"#bd3786\"], [0.5555555555555556, \"#d8576b\"], [0.6666666666666666, \"#ed7953\"], [0.7777777777777778, \"#fb9f3a\"], [0.8888888888888888, \"#fdca26\"], [1.0, \"#f0f921\"]], \"type\": \"contour\"}], \"contourcarpet\": [{\"colorbar\": {\"outlinewidth\": 0, \"ticks\": \"\"}, \"type\": \"contourcarpet\"}], \"heatmap\": [{\"colorbar\": {\"outlinewidth\": 0, \"ticks\": \"\"}, \"colorscale\": [[0.0, \"#0d0887\"], [0.1111111111111111, \"#46039f\"], [0.2222222222222222, \"#7201a8\"], [0.3333333333333333, \"#9c179e\"], [0.4444444444444444, \"#bd3786\"], [0.5555555555555556, \"#d8576b\"], [0.6666666666666666, \"#ed7953\"], [0.7777777777777778, \"#fb9f3a\"], [0.8888888888888888, \"#fdca26\"], [1.0, \"#f0f921\"]], \"type\": \"heatmap\"}], \"heatmapgl\": [{\"colorbar\": {\"outlinewidth\": 0, \"ticks\": \"\"}, \"colorscale\": [[0.0, \"#0d0887\"], [0.1111111111111111, \"#46039f\"], [0.2222222222222222, \"#7201a8\"], [0.3333333333333333, \"#9c179e\"], [0.4444444444444444, \"#bd3786\"], [0.5555555555555556, \"#d8576b\"], [0.6666666666666666, \"#ed7953\"], [0.7777777777777778, \"#fb9f3a\"], [0.8888888888888888, \"#fdca26\"], [1.0, \"#f0f921\"]], \"type\": \"heatmapgl\"}], \"histogram\": [{\"marker\": {\"colorbar\": {\"outlinewidth\": 0, \"ticks\": \"\"}}, \"type\": \"histogram\"}], \"histogram2d\": [{\"colorbar\": {\"outlinewidth\": 0, \"ticks\": \"\"}, \"colorscale\": [[0.0, \"#0d0887\"], [0.1111111111111111, \"#46039f\"], [0.2222222222222222, \"#7201a8\"], [0.3333333333333333, \"#9c179e\"], [0.4444444444444444, \"#bd3786\"], [0.5555555555555556, \"#d8576b\"], [0.6666666666666666, \"#ed7953\"], [0.7777777777777778, \"#fb9f3a\"], [0.8888888888888888, \"#fdca26\"], [1.0, \"#f0f921\"]], \"type\": \"histogram2d\"}], \"histogram2dcontour\": [{\"colorbar\": {\"outlinewidth\": 0, \"ticks\": \"\"}, \"colorscale\": [[0.0, \"#0d0887\"], [0.1111111111111111, \"#46039f\"], [0.2222222222222222, \"#7201a8\"], [0.3333333333333333, \"#9c179e\"], [0.4444444444444444, \"#bd3786\"], [0.5555555555555556, \"#d8576b\"], [0.6666666666666666, \"#ed7953\"], [0.7777777777777778, \"#fb9f3a\"], [0.8888888888888888, \"#fdca26\"], [1.0, \"#f0f921\"]], \"type\": \"histogram2dcontour\"}], \"mesh3d\": [{\"colorbar\": {\"outlinewidth\": 0, \"ticks\": \"\"}, \"type\": \"mesh3d\"}], \"parcoords\": [{\"line\": {\"colorbar\": {\"outlinewidth\": 0, \"ticks\": \"\"}}, \"type\": \"parcoords\"}], \"pie\": [{\"automargin\": true, \"type\": \"pie\"}], \"scatter\": [{\"marker\": {\"colorbar\": {\"outlinewidth\": 0, \"ticks\": \"\"}}, \"type\": \"scatter\"}], \"scatter3d\": [{\"line\": {\"colorbar\": {\"outlinewidth\": 0, \"ticks\": \"\"}}, \"marker\": {\"colorbar\": {\"outlinewidth\": 0, \"ticks\": \"\"}}, \"type\": \"scatter3d\"}], \"scattercarpet\": [{\"marker\": {\"colorbar\": {\"outlinewidth\": 0, \"ticks\": \"\"}}, \"type\": \"scattercarpet\"}], \"scattergeo\": [{\"marker\": {\"colorbar\": {\"outlinewidth\": 0, \"ticks\": \"\"}}, \"type\": \"scattergeo\"}], \"scattergl\": [{\"marker\": {\"colorbar\": {\"outlinewidth\": 0, \"ticks\": \"\"}}, \"type\": \"scattergl\"}], \"scattermapbox\": [{\"marker\": {\"colorbar\": {\"outlinewidth\": 0, \"ticks\": \"\"}}, \"type\": \"scattermapbox\"}], \"scatterpolar\": [{\"marker\": {\"colorbar\": {\"outlinewidth\": 0, \"ticks\": \"\"}}, \"type\": \"scatterpolar\"}], \"scatterpolargl\": [{\"marker\": {\"colorbar\": {\"outlinewidth\": 0, \"ticks\": \"\"}}, \"type\": \"scatterpolargl\"}], \"scatterternary\": [{\"marker\": {\"colorbar\": {\"outlinewidth\": 0, \"ticks\": \"\"}}, \"type\": \"scatterternary\"}], \"surface\": [{\"colorbar\": {\"outlinewidth\": 0, \"ticks\": \"\"}, \"colorscale\": [[0.0, \"#0d0887\"], [0.1111111111111111, \"#46039f\"], [0.2222222222222222, \"#7201a8\"], [0.3333333333333333, \"#9c179e\"], [0.4444444444444444, \"#bd3786\"], [0.5555555555555556, \"#d8576b\"], [0.6666666666666666, \"#ed7953\"], [0.7777777777777778, \"#fb9f3a\"], [0.8888888888888888, \"#fdca26\"], [1.0, \"#f0f921\"]], \"type\": \"surface\"}], \"table\": [{\"cells\": {\"fill\": {\"color\": \"#EBF0F8\"}, \"line\": {\"color\": \"white\"}}, \"header\": {\"fill\": {\"color\": \"#C8D4E3\"}, \"line\": {\"color\": \"white\"}}, \"type\": \"table\"}]}, \"layout\": {\"annotationdefaults\": {\"arrowcolor\": \"#2a3f5f\", \"arrowhead\": 0, \"arrowwidth\": 1}, \"coloraxis\": {\"colorbar\": {\"outlinewidth\": 0, \"ticks\": \"\"}}, \"colorscale\": {\"diverging\": [[0, \"#8e0152\"], [0.1, \"#c51b7d\"], [0.2, \"#de77ae\"], [0.3, \"#f1b6da\"], [0.4, \"#fde0ef\"], [0.5, \"#f7f7f7\"], [0.6, \"#e6f5d0\"], [0.7, \"#b8e186\"], [0.8, \"#7fbc41\"], [0.9, \"#4d9221\"], [1, \"#276419\"]], \"sequential\": [[0.0, \"#0d0887\"], [0.1111111111111111, \"#46039f\"], [0.2222222222222222, \"#7201a8\"], [0.3333333333333333, \"#9c179e\"], [0.4444444444444444, \"#bd3786\"], [0.5555555555555556, \"#d8576b\"], [0.6666666666666666, \"#ed7953\"], [0.7777777777777778, \"#fb9f3a\"], [0.8888888888888888, \"#fdca26\"], [1.0, \"#f0f921\"]], \"sequentialminus\": [[0.0, \"#0d0887\"], [0.1111111111111111, \"#46039f\"], [0.2222222222222222, \"#7201a8\"], [0.3333333333333333, \"#9c179e\"], [0.4444444444444444, \"#bd3786\"], [0.5555555555555556, \"#d8576b\"], [0.6666666666666666, \"#ed7953\"], [0.7777777777777778, \"#fb9f3a\"], [0.8888888888888888, \"#fdca26\"], [1.0, \"#f0f921\"]]}, \"colorway\": [\"#636efa\", \"#EF553B\", \"#00cc96\", \"#ab63fa\", \"#FFA15A\", \"#19d3f3\", \"#FF6692\", \"#B6E880\", \"#FF97FF\", \"#FECB52\"], \"font\": {\"color\": \"#2a3f5f\"}, \"geo\": {\"bgcolor\": \"white\", \"lakecolor\": \"white\", \"landcolor\": \"#E5ECF6\", \"showlakes\": true, \"showland\": true, \"subunitcolor\": \"white\"}, \"hoverlabel\": {\"align\": \"left\"}, \"hovermode\": \"closest\", \"mapbox\": {\"style\": \"light\"}, \"paper_bgcolor\": \"white\", \"plot_bgcolor\": \"#E5ECF6\", \"polar\": {\"angularaxis\": {\"gridcolor\": \"white\", \"linecolor\": \"white\", \"ticks\": \"\"}, \"bgcolor\": \"#E5ECF6\", \"radialaxis\": {\"gridcolor\": \"white\", \"linecolor\": \"white\", \"ticks\": \"\"}}, \"scene\": {\"xaxis\": {\"backgroundcolor\": \"#E5ECF6\", \"gridcolor\": \"white\", \"gridwidth\": 2, \"linecolor\": \"white\", \"showbackground\": true, \"ticks\": \"\", \"zerolinecolor\": \"white\"}, \"yaxis\": {\"backgroundcolor\": \"#E5ECF6\", \"gridcolor\": \"white\", \"gridwidth\": 2, \"linecolor\": \"white\", \"showbackground\": true, \"ticks\": \"\", \"zerolinecolor\": \"white\"}, \"zaxis\": {\"backgroundcolor\": \"#E5ECF6\", \"gridcolor\": \"white\", \"gridwidth\": 2, \"linecolor\": \"white\", \"showbackground\": true, \"ticks\": \"\", \"zerolinecolor\": \"white\"}}, \"shapedefaults\": {\"line\": {\"color\": \"#2a3f5f\"}}, \"ternary\": {\"aaxis\": {\"gridcolor\": \"white\", \"linecolor\": \"white\", \"ticks\": \"\"}, \"baxis\": {\"gridcolor\": \"white\", \"linecolor\": \"white\", \"ticks\": \"\"}, \"bgcolor\": \"#E5ECF6\", \"caxis\": {\"gridcolor\": \"white\", \"linecolor\": \"white\", \"ticks\": \"\"}}, \"title\": {\"x\": 0.05}, \"xaxis\": {\"automargin\": true, \"gridcolor\": \"white\", \"linecolor\": \"white\", \"ticks\": \"\", \"title\": {\"standoff\": 15}, \"zerolinecolor\": \"white\", \"zerolinewidth\": 2}, \"yaxis\": {\"automargin\": true, \"gridcolor\": \"white\", \"linecolor\": \"white\", \"ticks\": \"\", \"title\": {\"standoff\": 15}, \"zerolinecolor\": \"white\", \"zerolinewidth\": 2}}}, \"title\": {\"text\": \"Barplot of Feature importances\"}, \"width\": 900, \"yaxis\": {\"showgrid\": false, \"showline\": false, \"showticklabels\": true}},\n",
       "                        {\"responsive\": true}\n",
       "                    ).then(function(){\n",
       "                            \n",
       "var gd = document.getElementById('d41923ad-6c54-4faa-9046-70d63199f34b');\n",
       "var x = new MutationObserver(function (mutations, observer) {{\n",
       "        var display = window.getComputedStyle(gd).display;\n",
       "        if (!display || display === 'none') {{\n",
       "            console.log([gd, 'removed!']);\n",
       "            Plotly.purge(gd);\n",
       "            observer.disconnect();\n",
       "        }}\n",
       "}});\n",
       "\n",
       "// Listen for the removal of the full notebook cells\n",
       "var notebookContainer = gd.closest('#notebook-container');\n",
       "if (notebookContainer) {{\n",
       "    x.observe(notebookContainer, {childList: true});\n",
       "}}\n",
       "\n",
       "// Listen for the clearing of the current output cell\n",
       "var outputEl = gd.closest('.output');\n",
       "if (outputEl) {{\n",
       "    x.observe(outputEl, {childList: true});\n",
       "}}\n",
       "\n",
       "                        })\n",
       "                };\n",
       "                });\n",
       "            </script>\n",
       "        </div>"
      ]
     },
     "metadata": {},
     "output_type": "display_data"
    }
   ],
   "source": [
    "x, y = (list(x) for x in zip(*sorted(zip(gb.feature_importances_, features), \n",
    "                                                            reverse = False)))\n",
    "trace2 = go.Bar(\n",
    "    x=x ,\n",
    "    y=y,\n",
    "    marker=dict(\n",
    "        color=x,\n",
    "        colorscale = 'Viridis',\n",
    "        reversescale = True\n",
    "    ),\n",
    "    name='Gradient Boosting Classifer Feature importance',\n",
    "    orientation='h',\n",
    ")\n",
    "\n",
    "layout = dict(\n",
    "    title='Barplot of Feature importances',\n",
    "     width = 900, height = 2000,\n",
    "    yaxis=dict(\n",
    "        showgrid=False,\n",
    "        showline=False,\n",
    "        showticklabels=True,\n",
    "    ))\n",
    "\n",
    "fig1 = go.Figure(data=[trace2])\n",
    "fig1['layout'].update(layout)\n",
    "py.iplot(fig1, filename='plots')"
   ]
  },
  {
   "cell_type": "code",
   "execution_count": null,
   "metadata": {},
   "outputs": [],
   "source": []
  },
  {
   "cell_type": "code",
   "execution_count": null,
   "metadata": {},
   "outputs": [],
   "source": []
  },
  {
   "cell_type": "code",
   "execution_count": null,
   "metadata": {},
   "outputs": [],
   "source": []
  },
  {
   "cell_type": "code",
   "execution_count": null,
   "metadata": {},
   "outputs": [],
   "source": []
  },
  {
   "cell_type": "code",
   "execution_count": null,
   "metadata": {},
   "outputs": [],
   "source": []
  },
  {
   "cell_type": "code",
   "execution_count": null,
   "metadata": {},
   "outputs": [],
   "source": []
  },
  {
   "cell_type": "code",
   "execution_count": null,
   "metadata": {},
   "outputs": [],
   "source": []
  },
  {
   "cell_type": "code",
   "execution_count": null,
   "metadata": {},
   "outputs": [],
   "source": []
  },
  {
   "cell_type": "code",
   "execution_count": null,
   "metadata": {},
   "outputs": [],
   "source": []
  },
  {
   "cell_type": "code",
   "execution_count": null,
   "metadata": {},
   "outputs": [],
   "source": []
  },
  {
   "cell_type": "code",
   "execution_count": null,
   "metadata": {},
   "outputs": [],
   "source": []
  },
  {
   "cell_type": "code",
   "execution_count": null,
   "metadata": {},
   "outputs": [],
   "source": []
  },
  {
   "cell_type": "code",
   "execution_count": null,
   "metadata": {},
   "outputs": [],
   "source": []
  },
  {
   "cell_type": "code",
   "execution_count": null,
   "metadata": {},
   "outputs": [],
   "source": []
  },
  {
   "cell_type": "code",
   "execution_count": null,
   "metadata": {},
   "outputs": [],
   "source": []
  },
  {
   "cell_type": "code",
   "execution_count": null,
   "metadata": {},
   "outputs": [],
   "source": []
  },
  {
   "cell_type": "code",
   "execution_count": null,
   "metadata": {},
   "outputs": [],
   "source": []
  },
  {
   "cell_type": "code",
   "execution_count": null,
   "metadata": {},
   "outputs": [],
   "source": []
  },
  {
   "cell_type": "code",
   "execution_count": null,
   "metadata": {},
   "outputs": [],
   "source": []
  },
  {
   "cell_type": "code",
   "execution_count": null,
   "metadata": {},
   "outputs": [],
   "source": []
  },
  {
   "cell_type": "code",
   "execution_count": null,
   "metadata": {},
   "outputs": [],
   "source": []
  },
  {
   "cell_type": "code",
   "execution_count": null,
   "metadata": {},
   "outputs": [],
   "source": []
  },
  {
   "cell_type": "code",
   "execution_count": null,
   "metadata": {},
   "outputs": [],
   "source": []
  },
  {
   "cell_type": "code",
   "execution_count": null,
   "metadata": {},
   "outputs": [],
   "source": []
  },
  {
   "cell_type": "code",
   "execution_count": null,
   "metadata": {},
   "outputs": [],
   "source": []
  },
  {
   "cell_type": "code",
   "execution_count": null,
   "metadata": {},
   "outputs": [],
   "source": []
  },
  {
   "cell_type": "code",
   "execution_count": null,
   "metadata": {},
   "outputs": [],
   "source": []
  },
  {
   "cell_type": "code",
   "execution_count": null,
   "metadata": {},
   "outputs": [],
   "source": []
  },
  {
   "cell_type": "code",
   "execution_count": null,
   "metadata": {},
   "outputs": [],
   "source": []
  },
  {
   "cell_type": "code",
   "execution_count": null,
   "metadata": {},
   "outputs": [],
   "source": []
  },
  {
   "cell_type": "code",
   "execution_count": null,
   "metadata": {},
   "outputs": [],
   "source": []
  },
  {
   "cell_type": "code",
   "execution_count": null,
   "metadata": {},
   "outputs": [],
   "source": []
  },
  {
   "cell_type": "code",
   "execution_count": null,
   "metadata": {},
   "outputs": [],
   "source": []
  },
  {
   "cell_type": "code",
   "execution_count": null,
   "metadata": {},
   "outputs": [],
   "source": []
  },
  {
   "cell_type": "code",
   "execution_count": null,
   "metadata": {},
   "outputs": [],
   "source": []
  },
  {
   "cell_type": "code",
   "execution_count": null,
   "metadata": {},
   "outputs": [],
   "source": []
  },
  {
   "cell_type": "code",
   "execution_count": null,
   "metadata": {},
   "outputs": [],
   "source": []
  },
  {
   "cell_type": "code",
   "execution_count": null,
   "metadata": {},
   "outputs": [],
   "source": []
  },
  {
   "cell_type": "code",
   "execution_count": null,
   "metadata": {},
   "outputs": [],
   "source": []
  },
  {
   "cell_type": "code",
   "execution_count": null,
   "metadata": {},
   "outputs": [],
   "source": []
  },
  {
   "cell_type": "code",
   "execution_count": null,
   "metadata": {},
   "outputs": [],
   "source": []
  },
  {
   "cell_type": "code",
   "execution_count": null,
   "metadata": {},
   "outputs": [],
   "source": []
  },
  {
   "cell_type": "code",
   "execution_count": null,
   "metadata": {},
   "outputs": [],
   "source": []
  },
  {
   "cell_type": "code",
   "execution_count": null,
   "metadata": {},
   "outputs": [],
   "source": []
  },
  {
   "cell_type": "code",
   "execution_count": null,
   "metadata": {},
   "outputs": [],
   "source": []
  },
  {
   "cell_type": "code",
   "execution_count": null,
   "metadata": {},
   "outputs": [],
   "source": []
  },
  {
   "cell_type": "code",
   "execution_count": null,
   "metadata": {},
   "outputs": [],
   "source": []
  },
  {
   "cell_type": "code",
   "execution_count": null,
   "metadata": {},
   "outputs": [],
   "source": []
  },
  {
   "cell_type": "code",
   "execution_count": null,
   "metadata": {},
   "outputs": [],
   "source": []
  },
  {
   "cell_type": "code",
   "execution_count": null,
   "metadata": {},
   "outputs": [],
   "source": []
  },
  {
   "cell_type": "code",
   "execution_count": null,
   "metadata": {},
   "outputs": [],
   "source": []
  },
  {
   "cell_type": "code",
   "execution_count": null,
   "metadata": {},
   "outputs": [],
   "source": []
  }
 ],
 "metadata": {
  "kernelspec": {
   "display_name": "Python 3",
   "language": "python",
   "name": "python3"
  },
  "language_info": {
   "codemirror_mode": {
    "name": "ipython",
    "version": 3
   },
   "file_extension": ".py",
   "mimetype": "text/x-python",
   "name": "python",
   "nbconvert_exporter": "python",
   "pygments_lexer": "ipython3",
   "version": "3.6.6"
  }
 },
 "nbformat": 4,
 "nbformat_minor": 4
}
